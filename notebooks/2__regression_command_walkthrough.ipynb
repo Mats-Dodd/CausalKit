{
 "cells": [
  {
   "cell_type": "code",
   "execution_count": 1,
   "id": "initial_id",
   "metadata": {
    "collapsed": true,
    "ExecuteTime": {
     "end_time": "2024-01-17T06:11:46.605808Z",
     "start_time": "2024-01-17T06:11:45.716117Z"
    }
   },
   "outputs": [],
   "source": [
    "from src.models.linreg import LinReg\n",
    "import numpy as np\n",
    "import pandas as pd"
   ]
  },
  {
   "cell_type": "code",
   "execution_count": 2,
   "outputs": [
    {
     "data": {
      "text/plain": "      outcome         x         z         a\n0   22.506012  0.000000  3.000000  0.915507\n1    9.464646  0.102041  3.102041 -0.603542\n2   22.680584  0.204082  3.204082  1.162295\n3   13.606557  0.306122  3.306122 -0.601400\n4   11.393511  0.408163  3.408163 -1.597486\n5   23.797214  0.510204  3.510204  0.397726\n6   24.293080  0.612245  3.612245  1.205865\n7   29.648945  0.714286  3.714286  1.056299\n8   28.989986  0.816327  3.816327  0.852544\n9   22.516997  0.918367  3.918367  0.689391\n10  22.009257  1.020408  4.020408 -0.224737\n11  23.151016  1.122449  4.122449 -0.522182\n12  25.885139  1.224490  4.224490 -0.840072\n13  29.932157  1.326531  4.326531  1.180583\n14  22.377025  1.428571  4.428571 -1.328841\n15  24.342650  1.530612  4.530612 -0.124397\n16  22.859790  1.632653  4.632653 -0.497481\n17  23.559301  1.734694  4.734694 -1.947123\n18  21.958062  1.836735  4.836735 -1.848655\n19  32.266913  1.938776  4.938776  0.264660\n20  35.665055  2.040816  5.040816  0.934572\n21  28.147247  2.142857  5.142857 -1.169964\n22  39.938190  2.244898  5.244898  0.739605\n23  29.482670  2.346939  5.346939 -1.112155\n24  29.248079  2.448980  5.448980 -1.981927\n25  34.579035  2.551020  5.551020 -1.193872\n26  39.648832  2.653061  5.653061  0.168626\n27  27.298032  2.755102  5.755102 -2.098613\n28  40.140955  2.857143  5.857143  0.019155\n29  39.209395  2.959184  5.959184  0.302186\n30  39.520226  3.061224  6.061224 -0.960382\n31  50.862924  3.163265  6.163265  1.591763\n32  44.334475  3.265306  6.265306  0.352333\n33  44.127692  3.367347  6.367347 -0.651946\n34  42.674800  3.469388  6.469388 -1.162002\n35  38.326934  3.571429  6.571429 -2.283038\n36  44.324424  3.673469  6.673469 -0.662735\n37  44.254486  3.775510  6.775510 -0.274120\n38  49.559816  3.877551  6.877551  1.375766\n39  47.793127  3.979592  6.979592 -0.190233\n40  48.398925  4.081633  7.081633 -0.157569\n41  45.815167  4.183673  7.183673 -1.380935\n42  49.185196  4.285714  7.285714 -0.184673\n43  52.485116  4.387755  7.387755 -0.104170\n44  56.497226  4.489796  7.489796  0.084453\n45  57.649793  4.591837  7.591837  0.773760\n46  47.358230  4.693878  7.693878 -1.574905\n47  49.008029  4.795918  7.795918 -1.415369\n48  55.921257  4.897959  7.897959  0.930646\n49  57.008135  5.000000  8.000000  0.395932",
      "text/html": "<div>\n<style scoped>\n    .dataframe tbody tr th:only-of-type {\n        vertical-align: middle;\n    }\n\n    .dataframe tbody tr th {\n        vertical-align: top;\n    }\n\n    .dataframe thead th {\n        text-align: right;\n    }\n</style>\n<table border=\"1\" class=\"dataframe\">\n  <thead>\n    <tr style=\"text-align: right;\">\n      <th></th>\n      <th>outcome</th>\n      <th>x</th>\n      <th>z</th>\n      <th>a</th>\n    </tr>\n  </thead>\n  <tbody>\n    <tr>\n      <th>0</th>\n      <td>22.506012</td>\n      <td>0.000000</td>\n      <td>3.000000</td>\n      <td>0.915507</td>\n    </tr>\n    <tr>\n      <th>1</th>\n      <td>9.464646</td>\n      <td>0.102041</td>\n      <td>3.102041</td>\n      <td>-0.603542</td>\n    </tr>\n    <tr>\n      <th>2</th>\n      <td>22.680584</td>\n      <td>0.204082</td>\n      <td>3.204082</td>\n      <td>1.162295</td>\n    </tr>\n    <tr>\n      <th>3</th>\n      <td>13.606557</td>\n      <td>0.306122</td>\n      <td>3.306122</td>\n      <td>-0.601400</td>\n    </tr>\n    <tr>\n      <th>4</th>\n      <td>11.393511</td>\n      <td>0.408163</td>\n      <td>3.408163</td>\n      <td>-1.597486</td>\n    </tr>\n    <tr>\n      <th>5</th>\n      <td>23.797214</td>\n      <td>0.510204</td>\n      <td>3.510204</td>\n      <td>0.397726</td>\n    </tr>\n    <tr>\n      <th>6</th>\n      <td>24.293080</td>\n      <td>0.612245</td>\n      <td>3.612245</td>\n      <td>1.205865</td>\n    </tr>\n    <tr>\n      <th>7</th>\n      <td>29.648945</td>\n      <td>0.714286</td>\n      <td>3.714286</td>\n      <td>1.056299</td>\n    </tr>\n    <tr>\n      <th>8</th>\n      <td>28.989986</td>\n      <td>0.816327</td>\n      <td>3.816327</td>\n      <td>0.852544</td>\n    </tr>\n    <tr>\n      <th>9</th>\n      <td>22.516997</td>\n      <td>0.918367</td>\n      <td>3.918367</td>\n      <td>0.689391</td>\n    </tr>\n    <tr>\n      <th>10</th>\n      <td>22.009257</td>\n      <td>1.020408</td>\n      <td>4.020408</td>\n      <td>-0.224737</td>\n    </tr>\n    <tr>\n      <th>11</th>\n      <td>23.151016</td>\n      <td>1.122449</td>\n      <td>4.122449</td>\n      <td>-0.522182</td>\n    </tr>\n    <tr>\n      <th>12</th>\n      <td>25.885139</td>\n      <td>1.224490</td>\n      <td>4.224490</td>\n      <td>-0.840072</td>\n    </tr>\n    <tr>\n      <th>13</th>\n      <td>29.932157</td>\n      <td>1.326531</td>\n      <td>4.326531</td>\n      <td>1.180583</td>\n    </tr>\n    <tr>\n      <th>14</th>\n      <td>22.377025</td>\n      <td>1.428571</td>\n      <td>4.428571</td>\n      <td>-1.328841</td>\n    </tr>\n    <tr>\n      <th>15</th>\n      <td>24.342650</td>\n      <td>1.530612</td>\n      <td>4.530612</td>\n      <td>-0.124397</td>\n    </tr>\n    <tr>\n      <th>16</th>\n      <td>22.859790</td>\n      <td>1.632653</td>\n      <td>4.632653</td>\n      <td>-0.497481</td>\n    </tr>\n    <tr>\n      <th>17</th>\n      <td>23.559301</td>\n      <td>1.734694</td>\n      <td>4.734694</td>\n      <td>-1.947123</td>\n    </tr>\n    <tr>\n      <th>18</th>\n      <td>21.958062</td>\n      <td>1.836735</td>\n      <td>4.836735</td>\n      <td>-1.848655</td>\n    </tr>\n    <tr>\n      <th>19</th>\n      <td>32.266913</td>\n      <td>1.938776</td>\n      <td>4.938776</td>\n      <td>0.264660</td>\n    </tr>\n    <tr>\n      <th>20</th>\n      <td>35.665055</td>\n      <td>2.040816</td>\n      <td>5.040816</td>\n      <td>0.934572</td>\n    </tr>\n    <tr>\n      <th>21</th>\n      <td>28.147247</td>\n      <td>2.142857</td>\n      <td>5.142857</td>\n      <td>-1.169964</td>\n    </tr>\n    <tr>\n      <th>22</th>\n      <td>39.938190</td>\n      <td>2.244898</td>\n      <td>5.244898</td>\n      <td>0.739605</td>\n    </tr>\n    <tr>\n      <th>23</th>\n      <td>29.482670</td>\n      <td>2.346939</td>\n      <td>5.346939</td>\n      <td>-1.112155</td>\n    </tr>\n    <tr>\n      <th>24</th>\n      <td>29.248079</td>\n      <td>2.448980</td>\n      <td>5.448980</td>\n      <td>-1.981927</td>\n    </tr>\n    <tr>\n      <th>25</th>\n      <td>34.579035</td>\n      <td>2.551020</td>\n      <td>5.551020</td>\n      <td>-1.193872</td>\n    </tr>\n    <tr>\n      <th>26</th>\n      <td>39.648832</td>\n      <td>2.653061</td>\n      <td>5.653061</td>\n      <td>0.168626</td>\n    </tr>\n    <tr>\n      <th>27</th>\n      <td>27.298032</td>\n      <td>2.755102</td>\n      <td>5.755102</td>\n      <td>-2.098613</td>\n    </tr>\n    <tr>\n      <th>28</th>\n      <td>40.140955</td>\n      <td>2.857143</td>\n      <td>5.857143</td>\n      <td>0.019155</td>\n    </tr>\n    <tr>\n      <th>29</th>\n      <td>39.209395</td>\n      <td>2.959184</td>\n      <td>5.959184</td>\n      <td>0.302186</td>\n    </tr>\n    <tr>\n      <th>30</th>\n      <td>39.520226</td>\n      <td>3.061224</td>\n      <td>6.061224</td>\n      <td>-0.960382</td>\n    </tr>\n    <tr>\n      <th>31</th>\n      <td>50.862924</td>\n      <td>3.163265</td>\n      <td>6.163265</td>\n      <td>1.591763</td>\n    </tr>\n    <tr>\n      <th>32</th>\n      <td>44.334475</td>\n      <td>3.265306</td>\n      <td>6.265306</td>\n      <td>0.352333</td>\n    </tr>\n    <tr>\n      <th>33</th>\n      <td>44.127692</td>\n      <td>3.367347</td>\n      <td>6.367347</td>\n      <td>-0.651946</td>\n    </tr>\n    <tr>\n      <th>34</th>\n      <td>42.674800</td>\n      <td>3.469388</td>\n      <td>6.469388</td>\n      <td>-1.162002</td>\n    </tr>\n    <tr>\n      <th>35</th>\n      <td>38.326934</td>\n      <td>3.571429</td>\n      <td>6.571429</td>\n      <td>-2.283038</td>\n    </tr>\n    <tr>\n      <th>36</th>\n      <td>44.324424</td>\n      <td>3.673469</td>\n      <td>6.673469</td>\n      <td>-0.662735</td>\n    </tr>\n    <tr>\n      <th>37</th>\n      <td>44.254486</td>\n      <td>3.775510</td>\n      <td>6.775510</td>\n      <td>-0.274120</td>\n    </tr>\n    <tr>\n      <th>38</th>\n      <td>49.559816</td>\n      <td>3.877551</td>\n      <td>6.877551</td>\n      <td>1.375766</td>\n    </tr>\n    <tr>\n      <th>39</th>\n      <td>47.793127</td>\n      <td>3.979592</td>\n      <td>6.979592</td>\n      <td>-0.190233</td>\n    </tr>\n    <tr>\n      <th>40</th>\n      <td>48.398925</td>\n      <td>4.081633</td>\n      <td>7.081633</td>\n      <td>-0.157569</td>\n    </tr>\n    <tr>\n      <th>41</th>\n      <td>45.815167</td>\n      <td>4.183673</td>\n      <td>7.183673</td>\n      <td>-1.380935</td>\n    </tr>\n    <tr>\n      <th>42</th>\n      <td>49.185196</td>\n      <td>4.285714</td>\n      <td>7.285714</td>\n      <td>-0.184673</td>\n    </tr>\n    <tr>\n      <th>43</th>\n      <td>52.485116</td>\n      <td>4.387755</td>\n      <td>7.387755</td>\n      <td>-0.104170</td>\n    </tr>\n    <tr>\n      <th>44</th>\n      <td>56.497226</td>\n      <td>4.489796</td>\n      <td>7.489796</td>\n      <td>0.084453</td>\n    </tr>\n    <tr>\n      <th>45</th>\n      <td>57.649793</td>\n      <td>4.591837</td>\n      <td>7.591837</td>\n      <td>0.773760</td>\n    </tr>\n    <tr>\n      <th>46</th>\n      <td>47.358230</td>\n      <td>4.693878</td>\n      <td>7.693878</td>\n      <td>-1.574905</td>\n    </tr>\n    <tr>\n      <th>47</th>\n      <td>49.008029</td>\n      <td>4.795918</td>\n      <td>7.795918</td>\n      <td>-1.415369</td>\n    </tr>\n    <tr>\n      <th>48</th>\n      <td>55.921257</td>\n      <td>4.897959</td>\n      <td>7.897959</td>\n      <td>0.930646</td>\n    </tr>\n    <tr>\n      <th>49</th>\n      <td>57.008135</td>\n      <td>5.000000</td>\n      <td>8.000000</td>\n      <td>0.395932</td>\n    </tr>\n  </tbody>\n</table>\n</div>"
     },
     "execution_count": 2,
     "metadata": {},
     "output_type": "execute_result"
    }
   ],
   "source": [
    "\n",
    "np.random.seed(69)\n",
    "x = np.linspace(0, 5, 50)\n",
    "z = np.linspace(3, 8, 50)\n",
    "a = np.random.normal(0, 1, 50)\n",
    "y = 1 + 3 * x + 5*z + 4*a + np.random.normal(0, 2, 50)\n",
    "data = pd.DataFrame({'outcome': y,\n",
    "                     'x': x,\n",
    "                     'z': z,\n",
    "                     'a': a})\n",
    "\n",
    "data"
   ],
   "metadata": {
    "collapsed": false,
    "ExecuteTime": {
     "end_time": "2024-01-17T06:11:46.625851Z",
     "start_time": "2024-01-17T06:11:46.611374Z"
    }
   },
   "id": "5fd9f34d81c5937b"
  },
  {
   "cell_type": "code",
   "execution_count": 3,
   "outputs": [
    {
     "data": {
      "text/plain": "<IPython.core.display.HTML object>",
      "text/html": "<h1 style='text-align:center;'>Regression Results</h1><pre style='text-align:center; font-family:monospace;'>Dep. Variable:          outcome    AIC:                    231.411\nObservations:                50    BIC:                    239.059\nStandard Error Type: non-robust    Adj. AIC:               232.299\nR-squared:                0.968    Adj. BIC:               240.797\nAdj. R-squared:           0.966    F-statistic:            463.694\nLog-Likelihood:        -111.705    Prob (F-statistic):         0.0\n\n            Variable Coefficient Std-Error T-Statistic P>|t| Conf. Interval          \n           ----------------------------------------------------------------          \n           Intercept    0.581      0.175      3.319    0.002 0.229 - 0.934           \n               x        3.275      0.371      8.826     0.0  2.528 - 4.022           \n               z        5.019      0.162      31.068    0.0  4.694 - 5.344           \n               a        3.982      0.327      12.19     0.0   3.324 - 4.64           \n</pre>"
     },
     "metadata": {},
     "output_type": "display_data"
    }
   ],
   "source": [
    "\"\"\"Regression with full Dataset\"\"\"\n",
    "\n",
    "linreg = LinReg(df=data, outcome=\"outcome\", independent=[\".\"])\n",
    "linreg.summary(content_type=\"html\")"
   ],
   "metadata": {
    "collapsed": false,
    "ExecuteTime": {
     "end_time": "2024-01-17T06:11:46.639946Z",
     "start_time": "2024-01-17T06:11:46.629853Z"
    }
   },
   "id": "478ae99a244edbb8"
  },
  {
   "cell_type": "code",
   "execution_count": 4,
   "outputs": [
    {
     "data": {
      "text/plain": "<IPython.core.display.HTML object>",
      "text/html": "<h1 style='text-align:center;'>Regression Results</h1><pre style='text-align:center; font-family:monospace;'>Dep. Variable:          outcome    AIC:                    301.452\nObservations:                50    BIC:                    307.188\nStandard Error Type: non-robust    Adj. AIC:               301.974\nR-squared:                0.865    Adj. BIC:               308.209\nAdj. R-squared:           0.859    F-statistic:            150.037\nLog-Likelihood:        -147.726    Prob (F-statistic):         0.0\n\n            Variable Coefficient Std-Error T-Statistic P>|t| Conf. Interval          \n           ----------------------------------------------------------------          \n           Intercept    0.631      0.356      1.771    0.083 -0.086 - 1.347          \n               x        3.035      0.754      4.024     0.0  1.518 - 4.552           \n               z        4.927      0.328      15.004    0.0  4.266 - 5.587           \n</pre>"
     },
     "metadata": {},
     "output_type": "display_data"
    }
   ],
   "source": [
    "\"\"\"Regression with only x and z\"\"\"\n",
    "\n",
    "linreg = LinReg(df=data, outcome=\"outcome\", independent=[\"!a\"])\n",
    "linreg.summary(content_type=\"html\")"
   ],
   "metadata": {
    "collapsed": false,
    "ExecuteTime": {
     "end_time": "2024-01-17T06:11:57.982802Z",
     "start_time": "2024-01-17T06:11:57.968375Z"
    }
   },
   "id": "ee8abe11450d754f"
  },
  {
   "cell_type": "code",
   "execution_count": 5,
   "outputs": [
    {
     "data": {
      "text/plain": "<IPython.core.display.HTML object>",
      "text/html": "<h1 style='text-align:center;'>Regression Results</h1><pre style='text-align:center; font-family:monospace;'>Dep. Variable:          outcome    AIC:                    301.837\nObservations:                50    BIC:                    309.485\nStandard Error Type: non-robust    Adj. AIC:               302.726\nR-squared:                0.869    Adj. BIC:               311.224\nAdj. R-squared:           0.861    F-statistic:             101.79\nLog-Likelihood:        -146.918    Prob (F-statistic):         0.0\n\n           Variable Coefficient Std-Error T-Statistic P>|t|  Conf. Interval           \n          -----------------------------------------------------------------           \n          Intercept    18.03      2.501       7.21     0.0  12.996 - 23.063           \n             x^1        3.19      4.375      0.729     0.47 -5.617 - 11.997           \n             x^2        1.88      2.045      0.919    0.363  -2.237 - 5.996           \n             x^3       -0.204     0.269      -0.76    0.451  -0.745 - 0.337           \n</pre>"
     },
     "metadata": {},
     "output_type": "display_data"
    }
   ],
   "source": [
    "\"\"\"Polynomial Regression of degree 3\"\"\"\n",
    "\n",
    "linreg = LinReg(df=data, outcome=\"outcome\", independent=[\"x^3\"])\n",
    "linreg.summary(content_type=\"html\")"
   ],
   "metadata": {
    "collapsed": false,
    "ExecuteTime": {
     "end_time": "2024-01-17T06:12:03.562830Z",
     "start_time": "2024-01-17T06:12:03.542671Z"
    }
   },
   "id": "fe46b33eb08eec6a"
  },
  {
   "cell_type": "code",
   "execution_count": 6,
   "outputs": [
    {
     "data": {
      "text/plain": "<IPython.core.display.HTML object>",
      "text/html": "<h1 style='text-align:center;'>Regression Results</h1><pre style='text-align:center; font-family:monospace;'>Dep. Variable:          outcome    AIC:                    234.354\nObservations:                50    BIC:                    247.738\nStandard Error Type: non-robust    Adj. AIC:               237.021\nR-squared:                 0.97    Adj. BIC:               252.954\nAdj. R-squared:           0.966    F-statistic:            232.617\nLog-Likelihood:        -110.177    Prob (F-statistic):         0.0\n\n            Variable Coefficient Std-Error T-Statistic P>|t| Conf. Interval          \n           ----------------------------------------------------------------          \n           Intercept    1.202      0.796       1.51    0.138 -0.403 - 2.806          \n              x^3       -0.192     0.133      -1.448   0.155 -0.46 - 0.076           \n              z^2       1.009      0.278      3.629    0.001 0.448 - 1.571           \n               a        4.059      0.337      12.056    0.0   3.38 - 4.738           \n              x^1       -1.677     1.443      -1.162   0.251 -4.588 - 1.233          \n              x^2       0.261      1.279      0.204     0.84 -2.319 - 2.84           \n              z^1       1.927      0.948      2.032    0.048 0.015 - 3.839           \n</pre>"
     },
     "metadata": {},
     "output_type": "display_data"
    }
   ],
   "source": [
    "\"\"\"Polynomial Regression of degree 3\"\"\"\n",
    "\n",
    "linreg = LinReg(df=data, outcome=\"outcome\", independent=[\"x^3\", \"z^2\", \"a\"])\n",
    "linreg.summary(content_type=\"html\")"
   ],
   "metadata": {
    "collapsed": false,
    "ExecuteTime": {
     "end_time": "2024-01-17T06:12:08.239421Z",
     "start_time": "2024-01-17T06:12:08.222419Z"
    }
   },
   "id": "18856665ba607a79"
  },
  {
   "cell_type": "code",
   "execution_count": 7,
   "outputs": [
    {
     "data": {
      "text/plain": "<IPython.core.display.HTML object>",
      "text/html": "<h1 style='text-align:center;'>Regression Results</h1><pre style='text-align:center; font-family:monospace;'>Dep. Variable:          outcome    AIC:                    263.026\nObservations:                50    BIC:                    268.762\nStandard Error Type: non-robust    Adj. AIC:               263.548\nR-squared:                0.937    Adj. BIC:               269.783\nAdj. R-squared:           0.935    F-statistic:            350.746\nLog-Likelihood:        -128.513    Prob (F-statistic):         0.0\n\n           Variable Coefficient Std-Error T-Statistic P>|t|  Conf. Interval           \n          -----------------------------------------------------------------           \n          Intercept    20.293     0.771      26.307    0.0  18.741 - 21.845           \n             x:z       1.002      0.039      25.869    0.0    0.924 - 1.08            \n              a        3.475      0.451       7.71     0.0   2.568 - 4.382            \n</pre>"
     },
     "metadata": {},
     "output_type": "display_data"
    }
   ],
   "source": [
    "\"\"\"Regression with basic interaction between x and z\"\"\"\n",
    "\n",
    "linreg = LinReg(df=data, outcome=\"outcome\", independent=[\"x:z\", \"a\"])\n",
    "linreg.summary(content_type=\"html\")"
   ],
   "metadata": {
    "collapsed": false,
    "ExecuteTime": {
     "end_time": "2024-01-17T06:12:19.002447Z",
     "start_time": "2024-01-17T06:12:18.990288Z"
    }
   },
   "id": "8791d7807df95c97"
  },
  {
   "cell_type": "code",
   "execution_count": 8,
   "outputs": [
    {
     "data": {
      "text/plain": "<IPython.core.display.HTML object>",
      "text/html": "<h1 style='text-align:center;'>Regression Results</h1><pre style='text-align:center; font-family:monospace;'>Dep. Variable:          outcome    AIC:                    232.462\nObservations:                50    BIC:                    242.022\nStandard Error Type: non-robust    Adj. AIC:               233.825\nR-squared:                0.969    Adj. BIC:               244.689\nAdj. R-squared:           0.966    F-statistic:            347.653\nLog-Likelihood:        -111.231    Prob (F-statistic):         0.0\n\n            Variable Coefficient Std-Error T-Statistic P>|t| Conf. Interval          \n           ----------------------------------------------------------------          \n           Intercept    0.075      0.547      0.137    0.892 -1.028 - 1.177          \n               x        4.729      1.535      3.081    0.004 1.638 - 7.821           \n               a        4.062      0.337      12.054    0.0  3.383 - 4.741           \n              x*z       -0.173     0.177      -0.976   0.334 -0.529 - 0.184          \n               z        4.954      0.175      28.351    0.0  4.602 - 5.306           \n</pre>"
     },
     "metadata": {},
     "output_type": "display_data"
    }
   ],
   "source": [
    "\"\"\"Regression with advanced interaction between x and z\"\"\"\n",
    "\n",
    "linreg = LinReg(df=data, outcome=\"outcome\", independent=[\"x*z\", \"a\"])\n",
    "linreg.summary(content_type=\"html\")"
   ],
   "metadata": {
    "collapsed": false,
    "ExecuteTime": {
     "end_time": "2024-01-17T06:12:22.774583Z",
     "start_time": "2024-01-17T06:12:22.760434Z"
    }
   },
   "id": "946b19a589a34a2f"
  },
  {
   "cell_type": "code",
   "execution_count": 9,
   "outputs": [
    {
     "data": {
      "text/plain": "<IPython.core.display.HTML object>",
      "text/html": "<h1 style='text-align:center;'>Regression Results</h1><pre style='text-align:center; font-family:monospace;'>Dep. Variable:          outcome    AIC:                    227.999\nObservations:                50    BIC:                    235.647\nStandard Error Type: non-robust    Adj. AIC:               228.888\nR-squared:                 0.97    Adj. BIC:               237.386\nAdj. R-squared:           0.968    F-statistic:            497.518\nLog-Likelihood:          -110.0    Prob (F-statistic):         0.0\n\n           Variable Coefficient Std-Error T-Statistic P>|t|  Conf. Interval           \n          -----------------------------------------------------------------           \n          Intercept    16.182      0.79      20.496    0.0  14.593 - 17.771           \n            x:z^2      -0.208     0.029      -7.114    0.0  -0.267 - -0.149           \n            x:z^1       2.64      0.232      11.386    0.0   2.173 - 3.107            \n              a        4.056      0.325      12.487    0.0    3.402 - 4.71            \n</pre>"
     },
     "metadata": {},
     "output_type": "display_data"
    }
   ],
   "source": [
    "\"\"\"Basic interaction with polynomial regression\"\"\"\n",
    "\n",
    "linreg = LinReg(df=data, outcome=\"outcome\", independent=[\"x:z^2\", \"a\"])\n",
    "linreg.summary(content_type=\"html\")\n"
   ],
   "metadata": {
    "collapsed": false,
    "ExecuteTime": {
     "end_time": "2024-01-17T06:12:31.863851Z",
     "start_time": "2024-01-17T06:12:31.853540Z"
    }
   },
   "id": "685b7e65be7fd88e"
  },
  {
   "cell_type": "code",
   "execution_count": 10,
   "outputs": [
    {
     "data": {
      "text/plain": "<IPython.core.display.HTML object>",
      "text/html": "<h1 style='text-align:center;'>Regression Results</h1><pre style='text-align:center; font-family:monospace;'>Dep. Variable:          outcome    AIC:                    232.205\nObservations:                50    BIC:                    243.677\nStandard Error Type: non-robust    Adj. AIC:               234.158\nR-squared:                 0.97    Adj. BIC:               247.498\nAdj. R-squared:           0.967    F-statistic:            285.632\nLog-Likelihood:        -110.102    Prob (F-statistic):         0.0\n\n           Variable Coefficient Std-Error T-Statistic P>|t|  Conf. Interval           \n          -----------------------------------------------------------------           \n          Intercept    2.713       1.88      1.443    0.156  -1.077 - 6.502           \n            x*z^2      -0.192     0.131      -1.465    0.15  -0.457 - 0.072           \n              a        4.059      0.333      12.195    0.0   3.388 - 4.729            \n              x        -3.686     5.942      -0.62    0.538 -15.662 - 8.289           \n            x*z^1      2.424      1.781      1.361    0.181  -1.166 - 6.014           \n              z        4.452      0.384      11.598    0.0   3.678 - 5.225            \n</pre>"
     },
     "metadata": {},
     "output_type": "display_data"
    }
   ],
   "source": [
    "\"\"\"Advanced interaction with polynomial regression\"\"\"\n",
    "\n",
    "linreg = LinReg(df=data, outcome=\"outcome\", independent=[\"x*z^2\", \"a\"])\n",
    "linreg.summary(content_type=\"html\")"
   ],
   "metadata": {
    "collapsed": false,
    "ExecuteTime": {
     "end_time": "2024-01-17T06:12:36.583497Z",
     "start_time": "2024-01-17T06:12:36.573286Z"
    }
   },
   "id": "b6ea6dbf57aa4bdc"
  },
  {
   "cell_type": "code",
   "execution_count": null,
   "outputs": [],
   "source": [],
   "metadata": {
    "collapsed": false
   },
   "id": "22cebc21f094b99e"
  }
 ],
 "metadata": {
  "kernelspec": {
   "display_name": "Python 3",
   "language": "python",
   "name": "python3"
  },
  "language_info": {
   "codemirror_mode": {
    "name": "ipython",
    "version": 2
   },
   "file_extension": ".py",
   "mimetype": "text/x-python",
   "name": "python",
   "nbconvert_exporter": "python",
   "pygments_lexer": "ipython2",
   "version": "2.7.6"
  }
 },
 "nbformat": 4,
 "nbformat_minor": 5
}
