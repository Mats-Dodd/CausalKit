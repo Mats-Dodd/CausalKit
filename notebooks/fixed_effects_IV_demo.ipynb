{
 "cells": [
  {
   "cell_type": "code",
   "execution_count": 9,
   "id": "initial_id",
   "metadata": {
    "collapsed": true,
    "ExecuteTime": {
     "end_time": "2024-01-02T13:00:45.805553Z",
     "start_time": "2024-01-02T13:00:45.793669Z"
    }
   },
   "outputs": [],
   "source": [
    "import pandas as pd\n",
    "from src.models.panel import FixedEffects\n",
    "from src.models.linreg import LinReg\n",
    "from src.displays.display_linear import display_models"
   ]
  },
  {
   "cell_type": "code",
   "execution_count": 18,
   "outputs": [
    {
     "name": "stdout",
     "output_type": "stream",
     "text": [
      "The dataset has 736 rows and 10 columns \n"
     ]
    },
    {
     "data": {
      "text/plain": "    vid  year  witch_murders  oth_murders  any_rain  any_disease  famine  \\\n0  3192  1992              0            0         0            0       0   \n1  3153  1992              0            0         0            0       0   \n2  1041  1992              1            0         1            0       1   \n3  1063  1992              0            0         0            0       0   \n4  2092  1992              0            0         0            1       0   \n\n     educat   norelig  tot_m  \n0  3.250000  0.900000      0  \n1  4.781250  0.781250      0  \n2  4.666666  0.625000      1  \n3  4.750000  0.687500      0  \n4  4.200000  0.666667      0  ",
      "text/html": "<div>\n<style scoped>\n    .dataframe tbody tr th:only-of-type {\n        vertical-align: middle;\n    }\n\n    .dataframe tbody tr th {\n        vertical-align: top;\n    }\n\n    .dataframe thead th {\n        text-align: right;\n    }\n</style>\n<table border=\"1\" class=\"dataframe\">\n  <thead>\n    <tr style=\"text-align: right;\">\n      <th></th>\n      <th>vid</th>\n      <th>year</th>\n      <th>witch_murders</th>\n      <th>oth_murders</th>\n      <th>any_rain</th>\n      <th>any_disease</th>\n      <th>famine</th>\n      <th>educat</th>\n      <th>norelig</th>\n      <th>tot_m</th>\n    </tr>\n  </thead>\n  <tbody>\n    <tr>\n      <th>0</th>\n      <td>3192</td>\n      <td>1992</td>\n      <td>0</td>\n      <td>0</td>\n      <td>0</td>\n      <td>0</td>\n      <td>0</td>\n      <td>3.250000</td>\n      <td>0.900000</td>\n      <td>0</td>\n    </tr>\n    <tr>\n      <th>1</th>\n      <td>3153</td>\n      <td>1992</td>\n      <td>0</td>\n      <td>0</td>\n      <td>0</td>\n      <td>0</td>\n      <td>0</td>\n      <td>4.781250</td>\n      <td>0.781250</td>\n      <td>0</td>\n    </tr>\n    <tr>\n      <th>2</th>\n      <td>1041</td>\n      <td>1992</td>\n      <td>1</td>\n      <td>0</td>\n      <td>1</td>\n      <td>0</td>\n      <td>1</td>\n      <td>4.666666</td>\n      <td>0.625000</td>\n      <td>1</td>\n    </tr>\n    <tr>\n      <th>3</th>\n      <td>1063</td>\n      <td>1992</td>\n      <td>0</td>\n      <td>0</td>\n      <td>0</td>\n      <td>0</td>\n      <td>0</td>\n      <td>4.750000</td>\n      <td>0.687500</td>\n      <td>0</td>\n    </tr>\n    <tr>\n      <th>4</th>\n      <td>2092</td>\n      <td>1992</td>\n      <td>0</td>\n      <td>0</td>\n      <td>0</td>\n      <td>1</td>\n      <td>0</td>\n      <td>4.200000</td>\n      <td>0.666667</td>\n      <td>0</td>\n    </tr>\n  </tbody>\n</table>\n</div>"
     },
     "execution_count": 18,
     "metadata": {},
     "output_type": "execute_result"
    }
   ],
   "source": [
    "witch = pd.read_csv('../data/witch_killing.csv')\n",
    "\n",
    "witch['tot_m'] = witch['witch_murders'] + witch['oth_murders']\n",
    "print(f\"The dataset has {witch.shape[0]} rows and {witch.shape[1]} columns \")\n",
    "witch.head()"
   ],
   "metadata": {
    "collapsed": false,
    "ExecuteTime": {
     "end_time": "2024-01-02T13:10:00.362961Z",
     "start_time": "2024-01-02T13:10:00.343808Z"
    }
   },
   "id": "a999d3a6a867bc02"
  },
  {
   "cell_type": "markdown",
   "source": [
    "This dataset was taken from the very interesting paper by Edward Miguel \"Poverty and Witch killing\" (http://emiguel.econ.berkeley.edu/wordpress/wp-content/uploads/2021/03/Paper__Poverty_and_Witch_Killing.pdf).\n",
    "\n",
    "The dataset is a panel dataset containing  information on witch killings in Tanzania from 1992 to 2002. It aggregates data at the village level and captures covariates of interest for the village. Specifically, witch murders in a year, total other murders, an indicator for drought or flood, and indicator for the precense of disease and an indicator for the famine.  It also collected information on the average number of years of schooling in a population and the percent practicing traditional religions.\n",
    "\n",
    "While we will not be replicating the full study here, we will use this dataset to explore a causal inference technique called \"Fixed Effects\". "
   ],
   "metadata": {
    "collapsed": false
   },
   "id": "28ff7e308bb893aa"
  },
  {
   "cell_type": "markdown",
   "source": [
    "\n",
    "\n"
   ],
   "metadata": {
    "collapsed": false
   },
   "id": "60aeca52bee92110"
  },
  {
   "cell_type": "code",
   "execution_count": 19,
   "outputs": [
    {
     "data": {
      "text/plain": "<IPython.core.display.HTML object>",
      "text/html": "<div style='text-align: center; font-family: monospace;'><span style='display: inline-block; width: 100px;'>Variable</span><span style='display: inline-block; width: 70px;'>Model 1</span><span style='display: inline-block; width: 70px;'>Model 2</span><span style='display: inline-block; width: 70px;'>Model 3</span></div><div style='text-align: center; font-family: monospace;'><span style='display: inline-block; width: 310px; border-bottom: 1px dotted;'>&nbsp;</span></div><div style='text-align: center; font-family: monospace;'><span style='display: inline-block; width: 100px;'>Intercept</span><span style='display: inline-block; width: 70px; text-align: center;'>0.174***<br><span style='font-size: 0.8em;'>(0.021)</span></span><span style='display: inline-block; width: 70px; text-align: center;'>0.029<br><span style='font-size: 0.8em;'>(0.063)</span></span><span style='display: inline-block; width: 70px; text-align: center;'>0.029***<br><span style='font-size: 0.8em;'>(0.004)</span></span></div><div style='text-align: center; font-family: monospace;'><span style='display: inline-block; width: 100px;'>any_rain</span><span style='display: inline-block; width: 70px; text-align: center;'>0.048<br><span style='font-size: 0.8em;'>(0.05)</span></span><span style='display: inline-block; width: 70px; text-align: center;'>0.011<br><span style='font-size: 0.8em;'>(0.053)</span></span><span style='display: inline-block; width: 70px; text-align: center;'>0.011<br><span style='font-size: 0.8em;'>(0.04)</span></span></div><div style='text-align: center; font-family: monospace;'><span style='display: inline-block; width: 310px; border-bottom: 1px dotted;'>&nbsp;</span></div><div style='text-align: center; font-family: monospace;'><span style='display: inline-block; width: 100px;'>Outcome</span><span style='display: inline-block; width: 70px; text-align: center;'>tot_m</span><span style='display: inline-block; width: 70px; text-align: center;'>tot_m</span><span style='display: inline-block; width: 70px; text-align: center;'>tot_m</span></div><div style='text-align: center; font-family: monospace;'><span style='display: inline-block; width: 310px; border-bottom: 1px dotted;'>&nbsp;</span></div><div style='text-align: center; font-family: monospace;'><span style='display: inline-block; width: 100px;'>Observations</span><span style='display: inline-block; width: 70px; text-align: center;'>736</span><span style='display: inline-block; width: 70px; text-align: center;'>736</span><span style='display: inline-block; width: 70px; text-align: center;'>736</span></div><div style='text-align: center; font-family: monospace;'><span style='display: inline-block; width: 100px;'>R^2</span><span style='display: inline-block; width: 70px; text-align: center;'>0.001</span><span style='display: inline-block; width: 70px; text-align: center;'>0.022</span><span style='display: inline-block; width: 70px; text-align: center;'>0.022</span></div><div style='text-align: center; font-family: monospace;'><span style='display: inline-block; width: 100px;'>Adj. R^2</span><span style='display: inline-block; width: 70px; text-align: center;'>-0.0</span><span style='display: inline-block; width: 70px; text-align: center;'>0.021</span><span style='display: inline-block; width: 70px; text-align: center;'>0.021</span></div><div style='text-align: center; font-family: monospace;'><span style='display: inline-block; width: 100px;'>F-statistic</span><span style='display: inline-block; width: 70px; text-align: center;'>0.921</span><span style='display: inline-block; width: 70px; text-align: center;'>16.471</span><span style='display: inline-block; width: 70px; text-align: center;'>16.471</span></div><div style='text-align: center; font-family: monospace;'><span style='display: inline-block; width: 100px;'>Prob (F)</span><span style='display: inline-block; width: 70px; text-align: center;'>0.338</span><span style='display: inline-block; width: 70px; text-align: center;'>0.0</span><span style='display: inline-block; width: 70px; text-align: center;'>0.0</span></div><div style='text-align: center; font-family: monospace;'><span style='display: inline-block; width: 310px; border-bottom: 1px dotted;'>&nbsp;</span></div><div style='text-align: center; font-family: monospace; font-size: 0.8em;'>* p < 0.1, ** p < 0.05, *** p < 0.01</div>"
     },
     "metadata": {},
     "output_type": "display_data"
    }
   ],
   "source": [
    "\"\"\"\n",
    "Lets start by considering the causes of total murders in a village.  We will start with a naive model and compare it to one with year level fixed effects and one with these effects and clustered standard errors. \n",
    "\n",
    "\"\"\"\n",
    "\n",
    "base = LinReg(df = witch,\n",
    "              outcome='tot_m',\n",
    "              independent=['any_rain'])\n",
    "fe1 = FixedEffects(df = witch,\n",
    "                   outcome='tot_m',\n",
    "                   independent=['any_rain'],\n",
    "                   fixed = ['year'])\n",
    "\n",
    "fe1_robust = FixedEffects(df = witch,\n",
    "                          outcome='tot_m',\n",
    "                          independent=['any_rain'],\n",
    "                          fixed = ['year'],\n",
    "                          standard_error_type='clustered')\n",
    "\n",
    "display_models([base, fe1, fe1_robust])"
   ],
   "metadata": {
    "collapsed": false,
    "ExecuteTime": {
     "end_time": "2024-01-02T13:10:06.379801Z",
     "start_time": "2024-01-02T13:10:06.292068Z"
    }
   },
   "id": "ee1a4603a28e5b98"
  },
  {
   "cell_type": "markdown",
   "source": [
    "Looking at the above table we dont see any statistically relevent relationship between rainfall and annual murders. However, we see that by allowing for village level year fixed effects and computing cluster robust standard errors we get more efficient and less biased estimates for the coefficients and their standard errors.  Lets add some more covariates. "
   ],
   "metadata": {
    "collapsed": false
   },
   "id": "b39a667b7c70e999"
  },
  {
   "cell_type": "code",
   "execution_count": 23,
   "outputs": [
    {
     "data": {
      "text/plain": "<IPython.core.display.HTML object>",
      "text/html": "<div style='text-align: center; font-family: monospace;'><span style='display: inline-block; width: 100px;'>Variable</span><span style='display: inline-block; width: 70px;'>Model 1</span></div><div style='text-align: center; font-family: monospace;'><span style='display: inline-block; width: 170px; border-bottom: 1px dotted;'>&nbsp;</span></div><div style='text-align: center; font-family: monospace;'><span style='display: inline-block; width: 100px;'>Intercept</span><span style='display: inline-block; width: 70px; text-align: center;'>0.186**<br><span style='font-size: 0.8em;'>(0.085)</span></span></div><div style='text-align: center; font-family: monospace;'><span style='display: inline-block; width: 100px;'>any_rain</span><span style='display: inline-block; width: 70px; text-align: center;'>0.001<br><span style='font-size: 0.8em;'>(0.037)</span></span></div><div style='text-align: center; font-family: monospace;'><span style='display: inline-block; width: 100px;'>educat</span><span style='display: inline-block; width: 70px; text-align: center;'>-0.039**<br><span style='font-size: 0.8em;'>(0.018)</span></span></div><div style='text-align: center; font-family: monospace;'><span style='display: inline-block; width: 100px;'>norelig</span><span style='display: inline-block; width: 70px; text-align: center;'>0.001<br><span style='font-size: 0.8em;'>(0.092)</span></span></div><div style='text-align: center; font-family: monospace;'><span style='display: inline-block; width: 170px; border-bottom: 1px dotted;'>&nbsp;</span></div><div style='text-align: center; font-family: monospace;'><span style='display: inline-block; width: 100px;'>Outcome</span><span style='display: inline-block; width: 70px; text-align: center;'>tot_m</span></div><div style='text-align: center; font-family: monospace;'><span style='display: inline-block; width: 170px; border-bottom: 1px dotted;'>&nbsp;</span></div><div style='text-align: center; font-family: monospace;'><span style='display: inline-block; width: 100px;'>Observations</span><span style='display: inline-block; width: 70px; text-align: center;'>736</span></div><div style='text-align: center; font-family: monospace;'><span style='display: inline-block; width: 100px;'>R^2</span><span style='display: inline-block; width: 70px; text-align: center;'>0.028</span></div><div style='text-align: center; font-family: monospace;'><span style='display: inline-block; width: 100px;'>Adj. R^2</span><span style='display: inline-block; width: 70px; text-align: center;'>0.024</span></div><div style='text-align: center; font-family: monospace;'><span style='display: inline-block; width: 100px;'>F-statistic</span><span style='display: inline-block; width: 70px; text-align: center;'>7.134</span></div><div style='text-align: center; font-family: monospace;'><span style='display: inline-block; width: 100px;'>Prob (F)</span><span style='display: inline-block; width: 70px; text-align: center;'>0.0</span></div><div style='text-align: center; font-family: monospace;'><span style='display: inline-block; width: 170px; border-bottom: 1px dotted;'>&nbsp;</span></div><div style='text-align: center; font-family: monospace; font-size: 0.8em;'>* p < 0.1, ** p < 0.05, *** p < 0.01</div>"
     },
     "metadata": {},
     "output_type": "display_data"
    }
   ],
   "source": [
    "\n",
    "\n",
    "fe2_robust = FixedEffects(df = witch,\n",
    "                          outcome='tot_m',\n",
    "                          independent=['any_rain', \n",
    "                                       \"educat\",\n",
    "                                       \"norelig\"],\n",
    "                          fixed = ['year'],\n",
    "                          standard_error_type='clustered')\n",
    "\n",
    "display_models([fe2_robust])"
   ],
   "metadata": {
    "collapsed": false,
    "ExecuteTime": {
     "end_time": "2024-01-02T13:15:28.665853Z",
     "start_time": "2024-01-02T13:15:28.580651Z"
    }
   },
   "id": "7eca6fc4e22a0a25"
  },
  {
   "cell_type": "markdown",
   "source": [
    "when we now control for both village education levels as well as if they adhere to traditional religions we see that again any rain does not seem to be statistically significantly related to total murders in a village.  Interestingly, while traditional religion adhereance also doesnt seem to be statistically significantly related to a villages murders, education does."
   ],
   "metadata": {
    "collapsed": false
   },
   "id": "1e06cae6855f3dbe"
  },
  {
   "cell_type": "code",
   "execution_count": 24,
   "outputs": [
    {
     "data": {
      "text/plain": "<IPython.core.display.HTML object>",
      "text/html": "<div style='text-align: center; font-family: monospace;'><span style='display: inline-block; width: 100px;'>Variable</span><span style='display: inline-block; width: 70px;'>Model 1</span><span style='display: inline-block; width: 70px;'>Model 2</span><span style='display: inline-block; width: 70px;'>Model 3</span></div><div style='text-align: center; font-family: monospace;'><span style='display: inline-block; width: 310px; border-bottom: 1px dotted;'>&nbsp;</span></div><div style='text-align: center; font-family: monospace;'><span style='display: inline-block; width: 100px;'>Intercept</span><span style='display: inline-block; width: 70px; text-align: center;'>0.186**<br><span style='font-size: 0.8em;'>(0.085)</span></span><span style='display: inline-block; width: 70px; text-align: center;'>0.016<br><span style='font-size: 0.8em;'>(0.014)</span></span><span style='display: inline-block; width: 70px; text-align: center;'>0.173**<br><span style='font-size: 0.8em;'>(0.086)</span></span></div><div style='text-align: center; font-family: monospace;'><span style='display: inline-block; width: 100px;'>any_disease</span><span style='display: inline-block; width: 70px; text-align: center;'>-<br><span style='font-size: 0.8em;'></span></span><span style='display: inline-block; width: 70px; text-align: center;'>0.046<br><span style='font-size: 0.8em;'>(0.045)</span></span><span style='display: inline-block; width: 70px; text-align: center;'>0.053<br><span style='font-size: 0.8em;'>(0.045)</span></span></div><div style='text-align: center; font-family: monospace;'><span style='display: inline-block; width: 100px;'>any_rain</span><span style='display: inline-block; width: 70px; text-align: center;'>0.001<br><span style='font-size: 0.8em;'>(0.037)</span></span><span style='display: inline-block; width: 70px; text-align: center;'>-<br><span style='font-size: 0.8em;'></span></span><span style='display: inline-block; width: 70px; text-align: center;'>-<br><span style='font-size: 0.8em;'></span></span></div><div style='text-align: center; font-family: monospace;'><span style='display: inline-block; width: 100px;'>educat</span><span style='display: inline-block; width: 70px; text-align: center;'>-0.039**<br><span style='font-size: 0.8em;'>(0.018)</span></span><span style='display: inline-block; width: 70px; text-align: center;'>-<br><span style='font-size: 0.8em;'></span></span><span style='display: inline-block; width: 70px; text-align: center;'>-0.04**<br><span style='font-size: 0.8em;'>(0.018)</span></span></div><div style='text-align: center; font-family: monospace;'><span style='display: inline-block; width: 100px;'>norelig</span><span style='display: inline-block; width: 70px; text-align: center;'>0.001<br><span style='font-size: 0.8em;'>(0.092)</span></span><span style='display: inline-block; width: 70px; text-align: center;'>-<br><span style='font-size: 0.8em;'></span></span><span style='display: inline-block; width: 70px; text-align: center;'>0.001<br><span style='font-size: 0.8em;'>(0.092)</span></span></div><div style='text-align: center; font-family: monospace;'><span style='display: inline-block; width: 310px; border-bottom: 1px dotted;'>&nbsp;</span></div><div style='text-align: center; font-family: monospace;'><span style='display: inline-block; width: 100px;'>Outcome</span><span style='display: inline-block; width: 70px; text-align: center;'>tot_m</span><span style='display: inline-block; width: 70px; text-align: center;'>tot_m</span><span style='display: inline-block; width: 70px; text-align: center;'>tot_m</span></div><div style='text-align: center; font-family: monospace;'><span style='display: inline-block; width: 310px; border-bottom: 1px dotted;'>&nbsp;</span></div><div style='text-align: center; font-family: monospace;'><span style='display: inline-block; width: 100px;'>Observations</span><span style='display: inline-block; width: 70px; text-align: center;'>736</span><span style='display: inline-block; width: 70px; text-align: center;'>736</span><span style='display: inline-block; width: 70px; text-align: center;'>736</span></div><div style='text-align: center; font-family: monospace;'><span style='display: inline-block; width: 100px;'>R^2</span><span style='display: inline-block; width: 70px; text-align: center;'>0.028</span><span style='display: inline-block; width: 70px; text-align: center;'>0.023</span><span style='display: inline-block; width: 70px; text-align: center;'>0.029</span></div><div style='text-align: center; font-family: monospace;'><span style='display: inline-block; width: 100px;'>Adj. R^2</span><span style='display: inline-block; width: 70px; text-align: center;'>0.024</span><span style='display: inline-block; width: 70px; text-align: center;'>0.021</span><span style='display: inline-block; width: 70px; text-align: center;'>0.025</span></div><div style='text-align: center; font-family: monospace;'><span style='display: inline-block; width: 100px;'>F-statistic</span><span style='display: inline-block; width: 70px; text-align: center;'>7.134</span><span style='display: inline-block; width: 70px; text-align: center;'>16.926</span><span style='display: inline-block; width: 70px; text-align: center;'>7.351</span></div><div style='text-align: center; font-family: monospace;'><span style='display: inline-block; width: 100px;'>Prob (F)</span><span style='display: inline-block; width: 70px; text-align: center;'>0.0</span><span style='display: inline-block; width: 70px; text-align: center;'>0.0</span><span style='display: inline-block; width: 70px; text-align: center;'>0.0</span></div><div style='text-align: center; font-family: monospace;'><span style='display: inline-block; width: 310px; border-bottom: 1px dotted;'>&nbsp;</span></div><div style='text-align: center; font-family: monospace; font-size: 0.8em;'>* p < 0.1, ** p < 0.05, *** p < 0.01</div>"
     },
     "metadata": {},
     "output_type": "display_data"
    }
   ],
   "source": [
    "\"\"\"Lets run the same analysis for the prescence of disease\"\"\"\n",
    "\n",
    "fe3_robust = FixedEffects(df = witch,\n",
    "                          outcome='tot_m',\n",
    "                          independent=['any_disease'],\n",
    "                          fixed = ['year'],\n",
    "                          standard_error_type='clustered')\n",
    "\n",
    "fe4_robust = FixedEffects(df = witch,\n",
    "                          outcome='tot_m',\n",
    "                          independent=['any_disease',\n",
    "                                       \"educat\",\n",
    "                                       \"norelig\"],\n",
    "                          fixed = ['year'],\n",
    "                          standard_error_type='clustered')\n",
    "\n",
    "display_models([fe2_robust, fe3_robust, fe4_robust])"
   ],
   "metadata": {
    "collapsed": false,
    "ExecuteTime": {
     "end_time": "2024-01-02T13:20:24.006329Z",
     "start_time": "2024-01-02T13:20:23.933219Z"
    }
   },
   "id": "de422df368f1b254"
  },
  {
   "cell_type": "code",
   "execution_count": null,
   "outputs": [],
   "source": [],
   "metadata": {
    "collapsed": false
   },
   "id": "73d0232eb0d3a530"
  }
 ],
 "metadata": {
  "kernelspec": {
   "display_name": "Python 3",
   "language": "python",
   "name": "python3"
  },
  "language_info": {
   "codemirror_mode": {
    "name": "ipython",
    "version": 2
   },
   "file_extension": ".py",
   "mimetype": "text/x-python",
   "name": "python",
   "nbconvert_exporter": "python",
   "pygments_lexer": "ipython2",
   "version": "2.7.6"
  }
 },
 "nbformat": 4,
 "nbformat_minor": 5
}
