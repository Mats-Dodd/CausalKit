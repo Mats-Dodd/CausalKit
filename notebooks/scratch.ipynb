{
 "cells": [
  {
   "cell_type": "code",
   "execution_count": 2,
   "id": "initial_id",
   "metadata": {
    "collapsed": true,
    "ExecuteTime": {
     "end_time": "2024-01-30T05:30:31.370482Z",
     "start_time": "2024-01-30T05:30:29.377585Z"
    }
   },
   "outputs": [],
   "source": [
    "import pandas as pd\n",
    "import numpy as np\n",
    "from src.models.linreg import LinReg\n",
    "from src.displays.display_linear import display_models"
   ]
  },
  {
   "cell_type": "code",
   "outputs": [
    {
     "data": {
      "text/plain": "<IPython.core.display.HTML object>",
      "text/html": "<div style='text-align: center; font-family: monospace;'><span style='display: inline-block; width: 100px;'>Variable</span><span style='display: inline-block; width: 70px;'>Model 1</span><span style='display: inline-block; width: 70px;'>Model 2</span></div><div style='text-align: center; font-family: monospace;'><span style='display: inline-block; width: 240px; border-bottom: 1px dotted;'>&nbsp;</span></div><div style='text-align: center; font-family: monospace;'><span style='display: inline-block; width: 100px;'>Intercept</span><span style='display: inline-block; width: 70px; text-align: center;'>0.608<br><span style='font-size: 0.8em;'>(0.779)</span></span><span style='display: inline-block; width: 70px; text-align: center;'>-0.095<br><span style='font-size: 0.8em;'>(0.094)</span></span></div><div style='text-align: center; font-family: monospace;'><span style='display: inline-block; width: 100px;'>col1</span><span style='display: inline-block; width: 70px; text-align: center;'>1.953***<br><span style='font-size: 0.8em;'>(0.683)</span></span><span style='display: inline-block; width: 70px; text-align: center;'>1.989***<br><span style='font-size: 0.8em;'>(0.096)</span></span></div><div style='text-align: center; font-family: monospace;'><span style='display: inline-block; width: 100px;'>col2</span><span style='display: inline-block; width: 70px; text-align: center;'>3.409***<br><span style='font-size: 0.8em;'>(0.751)</span></span><span style='display: inline-block; width: 70px; text-align: center;'>3.96***<br><span style='font-size: 0.8em;'>(0.105)</span></span></div><div style='text-align: center; font-family: monospace;'><span style='display: inline-block; width: 100px;'>col3</span><span style='display: inline-block; width: 70px; text-align: center;'>-<br><span style='font-size: 0.8em;'></span></span><span style='display: inline-block; width: 70px; text-align: center;'>8.071***<br><span style='font-size: 0.8em;'>(0.09)</span></span></div><div style='text-align: center; font-family: monospace;'><span style='display: inline-block; width: 240px; border-bottom: 1px dotted;'>&nbsp;</span></div><div style='text-align: center; font-family: monospace;'><span style='display: inline-block; width: 100px;'>Outcome</span><span style='display: inline-block; width: 70px; text-align: center;'>outcome</span><span style='display: inline-block; width: 70px; text-align: center;'>outcome</span></div><div style='text-align: center; font-family: monospace;'><span style='display: inline-block; width: 240px; border-bottom: 1px dotted;'>&nbsp;</span></div><div style='text-align: center; font-family: monospace;'><span style='display: inline-block; width: 100px;'>Observations</span><span style='display: inline-block; width: 70px; text-align: center;'>100</span><span style='display: inline-block; width: 70px; text-align: center;'>100</span></div><div style='text-align: center; font-family: monospace;'><span style='display: inline-block; width: 100px;'>R^2</span><span style='display: inline-block; width: 70px; text-align: center;'>0.227</span><span style='display: inline-block; width: 70px; text-align: center;'>0.989</span></div><div style='text-align: center; font-family: monospace;'><span style='display: inline-block; width: 100px;'>Adj. R^2</span><span style='display: inline-block; width: 70px; text-align: center;'>0.211</span><span style='display: inline-block; width: 70px; text-align: center;'>0.988</span></div><div style='text-align: center; font-family: monospace;'><span style='display: inline-block; width: 100px;'>F-statistic</span><span style='display: inline-block; width: 70px; text-align: center;'>14.27</span><span style='display: inline-block; width: 70px; text-align: center;'>2768.691</span></div><div style='text-align: center; font-family: monospace;'><span style='display: inline-block; width: 100px;'>Prob (F)</span><span style='display: inline-block; width: 70px; text-align: center;'>0.0</span><span style='display: inline-block; width: 70px; text-align: center;'>0.0</span></div><div style='text-align: center; font-family: monospace;'><span style='display: inline-block; width: 240px; border-bottom: 1px dotted;'>&nbsp;</span></div><div style='text-align: center; font-family: monospace; font-size: 0.8em;'>* p < 0.1, ** p < 0.05, *** p < 0.01</div>"
     },
     "metadata": {},
     "output_type": "display_data"
    }
   ],
   "source": [
    "col1 = np.random.normal(0, 1, 100)\n",
    "col2 = np.random.normal(0, 1, 100)\n",
    "col3 = np.random.normal(0, 1, 100)\n",
    "outcome = np.random.normal(0, 1, 100) + 2*independant_col1 + 4* independant_col2 + 8*independant_col3\n",
    "\n",
    "data = pd.DataFrame({'col1': independant_col1,\n",
    "                     'col2': independant_col2,\n",
    "                     'col3': independant_col3,\n",
    "                     'outcome': outcome})\n",
    "model = LinReg(df=data,\n",
    "               outcome=\"outcome\",\n",
    "               independent=[\"col1\",\n",
    "                            \"col2\"],\n",
    "               standard_error_type='hc0')\n",
    "model_2 = LinReg(df=data,\n",
    "                 outcome=\"outcome\",\n",
    "                 independent=[\"col1\",\n",
    "                              \"col2\",\n",
    "                              \"col3\"],\n",
    "                 standard_error_type='hc0')\n",
    "\n",
    "display_models([model, model_2])"
   ],
   "metadata": {
    "collapsed": false,
    "ExecuteTime": {
     "end_time": "2024-01-30T05:41:37.219128Z",
     "start_time": "2024-01-30T05:41:37.193186Z"
    }
   },
   "id": "4de92a3f5e575dc4",
   "execution_count": 7
  },
  {
   "cell_type": "code",
   "outputs": [],
   "source": [],
   "metadata": {
    "collapsed": false
   },
   "id": "da3f63d768fa0142"
  }
 ],
 "metadata": {
  "kernelspec": {
   "display_name": "Python 3",
   "language": "python",
   "name": "python3"
  },
  "language_info": {
   "codemirror_mode": {
    "name": "ipython",
    "version": 2
   },
   "file_extension": ".py",
   "mimetype": "text/x-python",
   "name": "python",
   "nbconvert_exporter": "python",
   "pygments_lexer": "ipython2",
   "version": "2.7.6"
  }
 },
 "nbformat": 4,
 "nbformat_minor": 5
}
