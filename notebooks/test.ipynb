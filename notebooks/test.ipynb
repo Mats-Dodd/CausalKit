{
 "cells": [
  {
   "cell_type": "code",
   "execution_count": 37,
   "id": "initial_id",
   "metadata": {
    "collapsed": true,
    "ExecuteTime": {
     "end_time": "2024-01-02T12:40:18.097543Z",
     "start_time": "2024-01-02T12:40:18.086747Z"
    }
   },
   "outputs": [],
   "source": [
    "from src.models.linreg import LinReg\n",
    "from src.models.panel import FixedEffects\n",
    "\n",
    "import numpy as np\n",
    "import matplotlib.pyplot as plt\n",
    "import pandas as pd\n",
    "import statsmodels.api as sm\n",
    "\n",
    "from linearmodels import PanelOLS\n"
   ]
  },
  {
   "cell_type": "code",
   "execution_count": 38,
   "outputs": [
    {
     "data": {
      "text/plain": "      id  year     industry   region       outcome  independent\n0      1  2010       Health    South  21238.555995     2.962492\n1      1  2011       Health    South  21301.147099     7.894093\n2      1  2012       Health    South  21285.228472     5.613490\n3      1  2013       Health    South  21245.280654     0.584607\n4      1  2014       Health    South  21319.468677     6.732924\n...   ..   ...          ...      ...           ...          ...\n1084  99  2016  Agriculture  Central  24222.137447     1.025061\n1085  99  2017  Agriculture  Central  24296.017354     7.574430\n1086  99  2018  Agriculture  Central  24263.123866     3.284386\n1087  99  2019  Agriculture  Central  24274.810459     4.047789\n1088  99  2020  Agriculture  Central  24321.406314     7.244393\n\n[1089 rows x 6 columns]",
      "text/html": "<div>\n<style scoped>\n    .dataframe tbody tr th:only-of-type {\n        vertical-align: middle;\n    }\n\n    .dataframe tbody tr th {\n        vertical-align: top;\n    }\n\n    .dataframe thead th {\n        text-align: right;\n    }\n</style>\n<table border=\"1\" class=\"dataframe\">\n  <thead>\n    <tr style=\"text-align: right;\">\n      <th></th>\n      <th>id</th>\n      <th>year</th>\n      <th>industry</th>\n      <th>region</th>\n      <th>outcome</th>\n      <th>independent</th>\n    </tr>\n  </thead>\n  <tbody>\n    <tr>\n      <th>0</th>\n      <td>1</td>\n      <td>2010</td>\n      <td>Health</td>\n      <td>South</td>\n      <td>21238.555995</td>\n      <td>2.962492</td>\n    </tr>\n    <tr>\n      <th>1</th>\n      <td>1</td>\n      <td>2011</td>\n      <td>Health</td>\n      <td>South</td>\n      <td>21301.147099</td>\n      <td>7.894093</td>\n    </tr>\n    <tr>\n      <th>2</th>\n      <td>1</td>\n      <td>2012</td>\n      <td>Health</td>\n      <td>South</td>\n      <td>21285.228472</td>\n      <td>5.613490</td>\n    </tr>\n    <tr>\n      <th>3</th>\n      <td>1</td>\n      <td>2013</td>\n      <td>Health</td>\n      <td>South</td>\n      <td>21245.280654</td>\n      <td>0.584607</td>\n    </tr>\n    <tr>\n      <th>4</th>\n      <td>1</td>\n      <td>2014</td>\n      <td>Health</td>\n      <td>South</td>\n      <td>21319.468677</td>\n      <td>6.732924</td>\n    </tr>\n    <tr>\n      <th>...</th>\n      <td>...</td>\n      <td>...</td>\n      <td>...</td>\n      <td>...</td>\n      <td>...</td>\n      <td>...</td>\n    </tr>\n    <tr>\n      <th>1084</th>\n      <td>99</td>\n      <td>2016</td>\n      <td>Agriculture</td>\n      <td>Central</td>\n      <td>24222.137447</td>\n      <td>1.025061</td>\n    </tr>\n    <tr>\n      <th>1085</th>\n      <td>99</td>\n      <td>2017</td>\n      <td>Agriculture</td>\n      <td>Central</td>\n      <td>24296.017354</td>\n      <td>7.574430</td>\n    </tr>\n    <tr>\n      <th>1086</th>\n      <td>99</td>\n      <td>2018</td>\n      <td>Agriculture</td>\n      <td>Central</td>\n      <td>24263.123866</td>\n      <td>3.284386</td>\n    </tr>\n    <tr>\n      <th>1087</th>\n      <td>99</td>\n      <td>2019</td>\n      <td>Agriculture</td>\n      <td>Central</td>\n      <td>24274.810459</td>\n      <td>4.047789</td>\n    </tr>\n    <tr>\n      <th>1088</th>\n      <td>99</td>\n      <td>2020</td>\n      <td>Agriculture</td>\n      <td>Central</td>\n      <td>24321.406314</td>\n      <td>7.244393</td>\n    </tr>\n  </tbody>\n</table>\n<p>1089 rows × 6 columns</p>\n</div>"
     },
     "execution_count": 38,
     "metadata": {},
     "output_type": "execute_result"
    }
   ],
   "source": [
    "def create_panel_data():\n",
    "    np.random.seed(69)\n",
    "    ids = range(1, 100) \n",
    "    years = range(2010, 2021)  \n",
    "    industries = ['Tech', 'Health', 'Finance', 'Education', 'Retail', 'Energy', 'Manufacturing', 'Transport', 'Services', 'Agriculture']  \n",
    "    regions = ['North', 'South', 'East', 'West', 'Central']  \n",
    "\n",
    "    industry_effects = {'Tech': 3, 'Health': 2, 'Finance': 4, 'Education': 1, 'Retail': 2, 'Energy': 5, 'Manufacturing': 3, 'Transport': 4, 'Services': 2, 'Agriculture': 3}\n",
    "    region_effects = {'North': 1, 'South': 2, 'East': 1, 'West': 3, 'Central': 2}\n",
    "\n",
    "    data_list = []\n",
    "    for id in ids:\n",
    "        industry = industries[id % len(industries)]  \n",
    "        region = regions[id % len(regions)]  \n",
    "        for year in years:\n",
    "            x = np.random.uniform(0, 10)\n",
    "            industry_effect = industry_effects[industry]\n",
    "            region_effect = region_effects[region]\n",
    "            y = 1000 + 10* x + 10 * year + 30 * id + 40* region_effect + np.random.normal(0, 2)  \n",
    "            data_list.append({'id': id, 'year': year, 'industry': industry, 'region': region, 'outcome': y, 'independent': x})\n",
    "\n",
    "    panel_data = pd.DataFrame(data_list)\n",
    "    return panel_data\n",
    "\n",
    "panel_data = create_panel_data()\n",
    "panel_data"
   ],
   "metadata": {
    "collapsed": false,
    "ExecuteTime": {
     "end_time": "2024-01-02T12:40:18.518299Z",
     "start_time": "2024-01-02T12:40:18.506765Z"
    }
   },
   "id": "dfd44d311bc333e1"
  },
  {
   "cell_type": "code",
   "execution_count": 39,
   "outputs": [
    {
     "data": {
      "text/plain": "<IPython.core.display.HTML object>",
      "text/html": "<h1 style='text-align:center;'>Regression Results</h1><pre style='text-align:center; font-family:monospace;'>Dep. Variable:          outcome    AIC:                  17807.639\nObservations:              1089    BIC:                  17817.625\nStandard Error Type: non-robust    Adj. AIC:              17807.65\nR-squared:                  0.0    Adj. BIC:             17817.663\nAdj. R-squared:            -0.0    F-statistic:              0.497\nLog-Likelihood:       -8901.819    Prob (F-statistic):       0.481\n\n            Variable  Coefficient Std-Error T-Statistic P>|t|     Conf. Interval              \n          -------------------------------------------------------------------------           \n           Intercept   22740.378    51.632    440.431    0.0  22639.068 - 22841.688           \n          independent    6.328      8.975      0.705    0.481    -11.282 - 23.939             \n</pre>"
     },
     "metadata": {},
     "output_type": "display_data"
    }
   ],
   "source": [
    "\n",
    "base = LinReg(df = panel_data,\n",
    "       outcome='outcome',\n",
    "       independent=['independent']).summary(content_type='html')"
   ],
   "metadata": {
    "collapsed": false,
    "ExecuteTime": {
     "end_time": "2024-01-02T12:40:19.494898Z",
     "start_time": "2024-01-02T12:40:19.480080Z"
    }
   },
   "id": "cc5ae09530e3e6df"
  },
  {
   "cell_type": "code",
   "execution_count": 40,
   "outputs": [
    {
     "data": {
      "text/plain": "<IPython.core.display.HTML object>",
      "text/html": "<div style='text-align:center; font-family:monospace;'>Regression Results</div>\n<div style='text-align:center; font-family:monospace;'>Model Type: Fixed Effects</div>\n<pre style='text-align:center; font-family:monospace;'>\nDep. Variable:          outcome    AIC:                   4472.259\nObservations:              1089    BIC:                   4482.245\nStandard Error Type:  clustered    Adj. AIC:               4472.27\nR-squared:                  1.0    Adj. BIC:              4482.283\nAdj. R-squared:             1.0    F-statistic:         226251414.862\nLog-Likelihood:       -2234.129    Prob (F-statistic):         0.0\n\n            Variable  Coefficient Std-Error T-Statistic P>|t|     Conf. Interval              \n          -------------------------------------------------------------------------           \n           Intercept    21209.86    0.564    37637.553   0.0  21208.754 - 21210.966           \n          independent    10.007      0.02     494.218    0.0      9.967 - 10.047              \n</pre>"
     },
     "metadata": {},
     "output_type": "display_data"
    }
   ],
   "source": [
    "fe1 = FixedEffects(df = panel_data,\n",
    "                   outcome='outcome',\n",
    "                   independent=['independent'],\n",
    "                   fixed=['year'],\n",
    "                   standard_error_type='clustered')\n",
    "\n",
    "fe2 = FixedEffects(df = panel_data,\n",
    "                   outcome='outcome',\n",
    "                   independent=['independent'],\n",
    "                   fixed=['year', 'id'],\n",
    "                   standard_error_type='clustered').summary(content_type='html')"
   ],
   "metadata": {
    "collapsed": false,
    "ExecuteTime": {
     "end_time": "2024-01-02T12:40:22.174530Z",
     "start_time": "2024-01-02T12:40:20.137806Z"
    }
   },
   "id": "55bb9edf9994b71d"
  },
  {
   "cell_type": "code",
   "execution_count": 35,
   "outputs": [
    {
     "data": {
      "text/plain": "array([0.6029342 , 0.02087762, 0.04463666, 0.04463666, 0.04465779,\n       0.04465779, 0.04466524, 0.04466524, 0.04470172, 0.04470172,\n       0.04463673, 0.04463673, 0.04463588, 0.04463588, 0.0446733 ,\n       0.0446733 , 0.04463558, 0.04463558, 0.04469785, 0.04469785,\n       0.04469504, 0.04469504, 0.1339096 , 0.1339096 , 0.13394894,\n       0.13394894, 0.13392631, 0.13392631, 0.13391008, 0.13391008,\n       0.13395727, 0.13395727, 0.13392573, 0.13392573, 0.13403012,\n       0.13403012, 0.13393567, 0.13393567, 0.13397794, 0.13397794,\n       0.13390977, 0.13390977, 0.1339068 , 0.1339068 , 0.13392421,\n       0.13392421, 0.13393196, 0.13393196, 0.13397348, 0.13397348,\n       0.13390766, 0.13390766, 0.13395652, 0.13395652, 0.13405153,\n       0.13405153, 0.13397692, 0.13397692, 0.13395606, 0.13395606,\n       0.13405578, 0.13405578, 0.13411572, 0.13411572, 0.13392616,\n       0.13392616, 0.133915  , 0.133915  , 0.13395601, 0.13395601,\n       0.13391068, 0.13391068, 0.13395498, 0.13395498, 0.13390673,\n       0.13390673, 0.13391473, 0.13391473, 0.13392136, 0.13392136,\n       0.13411342, 0.13411342, 0.13397279, 0.13397279, 0.13392691,\n       0.13392691, 0.13390813, 0.13390813, 0.13392346, 0.13392346,\n       0.13390794, 0.13390794, 0.13393674, 0.13393674, 0.13420052,\n       0.13420052, 0.13390688, 0.13390688, 0.13392712, 0.13392712,\n       0.13392409, 0.13392409, 0.1339264 , 0.1339264 , 0.13400702,\n       0.13400702, 0.13393111, 0.13393111, 0.13402829, 0.13402829,\n       0.13391026, 0.13391026, 0.13398174, 0.13398174, 0.13397153,\n       0.13397153, 0.13390901, 0.13390901, 0.13400153, 0.13400153,\n       0.13390688, 0.13390688, 0.13397407, 0.13397407, 0.13392816,\n       0.13392816, 0.13405653, 0.13405653, 0.13390686, 0.13390686,\n       0.13394567, 0.13394567, 0.13392675, 0.13392675, 0.1339145 ,\n       0.1339145 , 0.13395073, 0.13395073, 0.13395512, 0.13395512,\n       0.13395257, 0.13395257, 0.13393012, 0.13393012, 0.13394937,\n       0.13394937, 0.13391149, 0.13391149, 0.13397936, 0.13397936,\n       0.134028  , 0.134028  , 0.13394451, 0.13394451, 0.13391407,\n       0.13391407, 0.13392137, 0.13392137, 0.13394215, 0.13394215,\n       0.13390732, 0.13390732, 0.13394916, 0.13394916, 0.13402224,\n       0.13402224, 0.13390744, 0.13390744, 0.13390679, 0.13390679,\n       0.13390679, 0.13390679, 0.13393149, 0.13393149, 0.13390885,\n       0.13390885, 0.1339852 , 0.1339852 , 0.13393593, 0.13393593,\n       0.13394517, 0.13394517, 0.13390673, 0.13390673, 0.13390675,\n       0.13390675, 0.13390705, 0.13390705, 0.13391704, 0.13391704,\n       0.13395917, 0.13395917, 0.1339267 , 0.1339267 , 0.13420925,\n       0.13420925, 0.1339527 , 0.1339527 , 0.13391407, 0.13391407,\n       0.13398653, 0.13398653, 0.13394043, 0.13394043, 0.13394195,\n       0.13394195, 0.13401824, 0.13401824, 0.1339155 , 0.1339155 ,\n       0.13391382, 0.13391382, 0.13390703, 0.13390703, 0.13391076,\n       0.13391076, 0.1339069 , 0.1339069 , 0.04463666, 0.04463666,\n       0.04465779, 0.04465779, 0.04466524, 0.04466524, 0.04470172,\n       0.04470172, 0.04463673, 0.04463673, 0.04463588, 0.04463588,\n       0.0446733 , 0.0446733 , 0.04463558, 0.04463558, 0.04469785,\n       0.04469785, 0.04469504, 0.04469504, 0.1339096 , 0.1339096 ,\n       0.13394894, 0.13394894, 0.13392631, 0.13392631, 0.13391008,\n       0.13391008, 0.13395727, 0.13395727, 0.13392573, 0.13392573,\n       0.13403012, 0.13403012, 0.13393567, 0.13393567, 0.13397794,\n       0.13397794, 0.13390977, 0.13390977, 0.1339068 , 0.1339068 ,\n       0.13392421, 0.13392421, 0.13393196, 0.13393196, 0.13397348,\n       0.13397348, 0.13390766, 0.13390766, 0.13395652, 0.13395652,\n       0.13405153, 0.13405153, 0.13397692, 0.13397692, 0.13395606,\n       0.13395606, 0.13405578, 0.13405578, 0.13411572, 0.13411572,\n       0.13392616, 0.13392616, 0.133915  , 0.133915  , 0.13395601,\n       0.13395601, 0.13391068, 0.13391068, 0.13395498, 0.13395498,\n       0.13390673, 0.13390673, 0.13391473, 0.13391473, 0.13392136,\n       0.13392136, 0.13411342, 0.13411342, 0.13397279, 0.13397279,\n       0.13392691, 0.13392691, 0.13390813, 0.13390813, 0.13392346,\n       0.13392346, 0.13390794, 0.13390794, 0.13393674, 0.13393674,\n       0.13420052, 0.13420052, 0.13390688, 0.13390688, 0.13392712,\n       0.13392712, 0.13392409, 0.13392409, 0.1339264 , 0.1339264 ,\n       0.13400702, 0.13400702, 0.13393111, 0.13393111, 0.13402829,\n       0.13402829, 0.13391026, 0.13391026, 0.13398174, 0.13398174,\n       0.13397153, 0.13397153, 0.13390901, 0.13390901, 0.13400153,\n       0.13400153, 0.13390688, 0.13390688, 0.13397407, 0.13397407,\n       0.13392816, 0.13392816, 0.13405653, 0.13405653, 0.13390686,\n       0.13390686, 0.13394567, 0.13394567, 0.13392675, 0.13392675,\n       0.1339145 , 0.1339145 , 0.13395073, 0.13395073, 0.13395512,\n       0.13395512, 0.13395257, 0.13395257, 0.13393012, 0.13393012,\n       0.13394937, 0.13394937, 0.13391149, 0.13391149, 0.13397936,\n       0.13397936, 0.134028  , 0.134028  , 0.13394451, 0.13394451,\n       0.13391407, 0.13391407, 0.13392137, 0.13392137, 0.13394215,\n       0.13394215, 0.13390732, 0.13390732, 0.13394916, 0.13394916,\n       0.13402224, 0.13402224, 0.13390744, 0.13390744, 0.13390679,\n       0.13390679, 0.13390679, 0.13390679, 0.13393149, 0.13393149,\n       0.13390885, 0.13390885, 0.1339852 , 0.1339852 , 0.13393593,\n       0.13393593, 0.13394517, 0.13394517, 0.13390673, 0.13390673,\n       0.13390675, 0.13390675, 0.13390705, 0.13390705, 0.13391704,\n       0.13391704, 0.13395917, 0.13395917, 0.1339267 , 0.1339267 ,\n       0.13420925, 0.13420925, 0.1339527 , 0.1339527 , 0.13391407,\n       0.13391407, 0.13398653, 0.13398653, 0.13394043, 0.13394043,\n       0.13394195, 0.13394195, 0.13401824, 0.13401824, 0.1339155 ,\n       0.1339155 , 0.13391382, 0.13391382, 0.13390703, 0.13390703,\n       0.13391076, 0.13391076, 0.1339069 , 0.1339069 , 0.04463666,\n       0.04463666, 0.04465779, 0.04465779, 0.04466524, 0.04466524,\n       0.04470172, 0.04470172, 0.04463673, 0.04463673, 0.04463588,\n       0.04463588, 0.0446733 , 0.0446733 , 0.04463558, 0.04463558,\n       0.04469785, 0.04469785, 0.04469504, 0.04469504, 0.1339096 ,\n       0.1339096 , 0.13394894, 0.13394894, 0.13392631, 0.13392631,\n       0.13391008, 0.13391008, 0.13395727, 0.13395727, 0.13392573,\n       0.13392573, 0.13403012, 0.13403012, 0.13393567, 0.13393567,\n       0.13397794, 0.13397794, 0.13390977, 0.13390977, 0.1339068 ,\n       0.1339068 , 0.13392421, 0.13392421, 0.13393196, 0.13393196,\n       0.13397348, 0.13397348, 0.13390766, 0.13390766, 0.13395652,\n       0.13395652, 0.13405153, 0.13405153, 0.13397692, 0.13397692,\n       0.13395606, 0.13395606, 0.13405578, 0.13405578, 0.13411572,\n       0.13411572, 0.13392616, 0.13392616, 0.133915  , 0.133915  ,\n       0.13395601, 0.13395601, 0.13391068, 0.13391068, 0.13395498,\n       0.13395498, 0.13390673, 0.13390673, 0.13391473, 0.13391473,\n       0.13392136, 0.13392136, 0.13411342, 0.13411342, 0.13397279,\n       0.13397279, 0.13392691, 0.13392691, 0.13390813, 0.13390813,\n       0.13392346, 0.13392346, 0.13390794, 0.13390794, 0.13393674,\n       0.13393674, 0.13420052, 0.13420052, 0.13390688, 0.13390688,\n       0.13392712, 0.13392712, 0.13392409, 0.13392409, 0.1339264 ,\n       0.1339264 , 0.13400702, 0.13400702, 0.13393111, 0.13393111,\n       0.13402829, 0.13402829, 0.13391026, 0.13391026, 0.13398174,\n       0.13398174, 0.13397153, 0.13397153, 0.13390901, 0.13390901,\n       0.13400153, 0.13400153, 0.13390688, 0.13390688, 0.13397407,\n       0.13397407, 0.13392816, 0.13392816, 0.13405653, 0.13405653,\n       0.13390686, 0.13390686, 0.13394567, 0.13394567, 0.13392675,\n       0.13392675, 0.1339145 , 0.1339145 , 0.13395073, 0.13395073,\n       0.13395512, 0.13395512, 0.13395257, 0.13395257, 0.13393012,\n       0.13393012, 0.13394937, 0.13394937, 0.13391149, 0.13391149,\n       0.13397936, 0.13397936, 0.134028  , 0.134028  , 0.13394451,\n       0.13394451, 0.13391407, 0.13391407, 0.13392137, 0.13392137,\n       0.13394215, 0.13394215, 0.13390732, 0.13390732, 0.13394916,\n       0.13394916, 0.13402224, 0.13402224, 0.13390744, 0.13390744,\n       0.13390679, 0.13390679, 0.13390679, 0.13390679, 0.13393149,\n       0.13393149, 0.13390885, 0.13390885, 0.1339852 , 0.1339852 ,\n       0.13393593, 0.13393593, 0.13394517, 0.13394517, 0.13390673,\n       0.13390673, 0.13390675, 0.13390675, 0.13390705, 0.13390705,\n       0.13391704, 0.13391704, 0.13395917, 0.13395917, 0.1339267 ,\n       0.1339267 , 0.13420925, 0.13420925, 0.1339527 , 0.1339527 ,\n       0.13391407, 0.13391407, 0.13398653, 0.13398653, 0.13394043,\n       0.13394043, 0.13394195, 0.13394195, 0.13401824, 0.13401824,\n       0.1339155 , 0.1339155 , 0.13391382, 0.13391382, 0.13390703,\n       0.13390703, 0.13391076, 0.13391076, 0.1339069 , 0.1339069 ])"
     },
     "execution_count": 35,
     "metadata": {},
     "output_type": "execute_result"
    }
   ],
   "source": [
    "fe2.standard_errors"
   ],
   "metadata": {
    "collapsed": false,
    "ExecuteTime": {
     "end_time": "2024-01-02T12:37:35.895538Z",
     "start_time": "2024-01-02T12:37:35.889138Z"
    }
   },
   "id": "6ffcad926f842fbb"
  },
  {
   "cell_type": "code",
   "execution_count": 25,
   "outputs": [
    {
     "name": "stdout",
     "output_type": "stream",
     "text": [
      "                          PanelOLS Estimation Summary                           \n",
      "================================================================================\n",
      "Dep. Variable:                outcome   R-squared:                        0.0004\n",
      "Estimator:                   PanelOLS   R-squared (Between):              0.0025\n",
      "No. Observations:                1089   R-squared (Within):               0.3623\n",
      "Date:                Tue, Jan 02 2024   R-squared (Overall):              0.0025\n",
      "Time:                        13:35:18   Log-likelihood                   -8901.0\n",
      "Cov. Estimator:             Clustered                                           \n",
      "                                        F-statistic:                      0.3867\n",
      "Entities:                          99   P-value                           0.5341\n",
      "Avg Obs:                       11.000   Distribution:                  F(1,1077)\n",
      "Min Obs:                       11.000                                           \n",
      "Max Obs:                       11.000   F-statistic (robust):             0.3390\n",
      "                                        P-value                           0.5605\n",
      "Time periods:                      11   Distribution:                  F(1,1077)\n",
      "Avg Obs:                       99.000                                           \n",
      "Min Obs:                       99.000                                           \n",
      "Max Obs:                       99.000                                           \n",
      "                                                                                \n",
      "                              Parameter Estimates                              \n",
      "===============================================================================\n",
      "             Parameter  Std. Err.     T-stat    P-value    Lower CI    Upper CI\n",
      "-------------------------------------------------------------------------------\n",
      "independent     5.6473     9.6988     0.5823     0.5605     -13.383      24.678\n",
      "===============================================================================\n",
      "\n",
      "F-test for Poolability: 0.1521\n",
      "P-value: 0.9989\n",
      "Distribution: F(10,1077)\n",
      "\n",
      "Included effects: Time\n"
     ]
    }
   ],
   "source": [
    "panel_data = panel_data.set_index(['id', 'year'])\n",
    "\n",
    "# Define the model with year-level fixed effects\n",
    "# The 'TimeEffects' term accounts for year-specific fixed effects\n",
    "model = PanelOLS.from_formula('outcome ~ independent + TimeEffects', data=panel_data)\n",
    "\n",
    "# Fit the model\n",
    "results = model.fit(cov_type='clustered', cluster_time=True)\n",
    "\n",
    "# Print the results\n",
    "print(results)"
   ],
   "metadata": {
    "collapsed": false,
    "ExecuteTime": {
     "end_time": "2024-01-02T12:35:18.326936Z",
     "start_time": "2024-01-02T12:35:18.272895Z"
    }
   },
   "id": "b34aea369a1fac8c"
  },
  {
   "cell_type": "code",
   "execution_count": 27,
   "outputs": [
    {
     "data": {
      "text/plain": "9.69880848581809"
     },
     "execution_count": 27,
     "metadata": {},
     "output_type": "execute_result"
    }
   ],
   "source": [
    "results.std_errors.iloc[0]"
   ],
   "metadata": {
    "collapsed": false,
    "ExecuteTime": {
     "end_time": "2024-01-02T12:35:37.964239Z",
     "start_time": "2024-01-02T12:35:37.955596Z"
    }
   },
   "id": "62cfee3c0423bc48"
  },
  {
   "cell_type": "code",
   "execution_count": 41,
   "outputs": [
    {
     "name": "stdout",
     "output_type": "stream",
     "text": [
      "                          PanelOLS Estimation Summary                           \n",
      "================================================================================\n",
      "Dep. Variable:                outcome   R-squared:                        0.9953\n",
      "Estimator:                   PanelOLS   R-squared (Between):              0.0044\n",
      "No. Observations:                1089   R-squared (Within):               0.4640\n",
      "Date:                Tue, Jan 02 2024   R-squared (Overall):              0.0044\n",
      "Time:                        13:40:35   Log-likelihood                   -2234.1\n",
      "Cov. Estimator:             Clustered                                           \n",
      "                                        F-statistic:                   2.069e+05\n",
      "Entities:                          99   P-value                           0.0000\n",
      "Avg Obs:                       11.000   Distribution:                   F(1,979)\n",
      "Min Obs:                       11.000                                           \n",
      "Max Obs:                       11.000   F-statistic (robust):          3.113e+05\n",
      "                                        P-value                           0.0000\n",
      "Time periods:                      11   Distribution:                   F(1,979)\n",
      "Avg Obs:                       99.000                                           \n",
      "Min Obs:                       99.000                                           \n",
      "Max Obs:                       99.000                                           \n",
      "                                                                                \n",
      "                              Parameter Estimates                              \n",
      "===============================================================================\n",
      "             Parameter  Std. Err.     T-stat    P-value    Lower CI    Upper CI\n",
      "-------------------------------------------------------------------------------\n",
      "independent     10.007     0.0179     557.92     0.0000      9.9717      10.042\n",
      "===============================================================================\n",
      "\n",
      "F-test for Poolability: 1.886e+06\n",
      "P-value: 0.0000\n",
      "Distribution: F(108,979)\n",
      "\n",
      "Included effects: Entity, Time\n"
     ]
    }
   ],
   "source": [
    "panel_data = panel_data.set_index(['id', 'year'])\n",
    "\n",
    "# Define the model with both time and id level fixed effects\n",
    "# The 'EntityEffects' term accounts for id-specific fixed effects\n",
    "# The 'TimeEffects' term accounts for year-specific fixed effects\n",
    "model = PanelOLS.from_formula('outcome ~ independent + EntityEffects + TimeEffects', data=panel_data)\n",
    "\n",
    "# Fit the model\n",
    "results = model.fit(cov_type='clustered', cluster_entity=True, cluster_time=True)\n",
    "\n",
    "# Print the results\n",
    "print(results)"
   ],
   "metadata": {
    "collapsed": false,
    "ExecuteTime": {
     "end_time": "2024-01-02T12:40:35.153576Z",
     "start_time": "2024-01-02T12:40:35.066915Z"
    }
   },
   "id": "4261e45fe7dbb1a4"
  },
  {
   "cell_type": "code",
   "execution_count": 8,
   "outputs": [
    {
     "data": {
      "text/plain": "<IPython.core.display.HTML object>",
      "text/html": "<div style='text-align:center; font-family:monospace;'>Regression Results</div>\n<div style='text-align:center; font-family:monospace;'>Model Type: Fixed Effects</div>\n<pre style='text-align:center; font-family:monospace;'>\nDep. Variable:          outcome    AIC:                   4472.259\nObservations:              1089    BIC:                   4482.245\nStandard Error Type:  clustered    Adj. AIC:               4472.27\nR-squared:                  1.0    Adj. BIC:              4482.283\nAdj. R-squared:             1.0    F-statistic:         226251414.862\nLog-Likelihood:       -2234.129    Prob (F-statistic):         0.0\n\n            Variable  Coefficient Std-Error T-Statistic P>|t|     Conf. Interval              \n          -------------------------------------------------------------------------           \n           Intercept    21209.86    0.564    37637.553   0.0  21208.754 - 21210.966           \n          independent    10.007      0.02     494.218    0.0      9.967 - 10.047              \n</pre>"
     },
     "metadata": {},
     "output_type": "display_data"
    }
   ],
   "source": [
    "fe22 = FixedEffects(df = panel_data,\n",
    "                   outcome='outcome',\n",
    "                   independent=['independent'],\n",
    "                   fixed=['year', 'id'],\n",
    "                    standard_error_type='clustered').summary(content_type='html')\n"
   ],
   "metadata": {
    "collapsed": false,
    "ExecuteTime": {
     "end_time": "2024-01-01T23:37:31.330946Z",
     "start_time": "2024-01-01T23:37:29.122579Z"
    }
   },
   "id": "c646e59ab97f8adb"
  },
  {
   "cell_type": "code",
   "execution_count": 27,
   "outputs": [
    {
     "data": {
      "text/plain": "<IPython.core.display.HTML object>",
      "text/html": "<div style='text-align:center; font-family:monospace;'>Regression Results</div>\n<div style='text-align:center; font-family:monospace;'>Model Type: Fixed Effects</div>\n<pre style='text-align:center; font-family:monospace;'>\nDep. Variable:          outcome    AIC:                   4472.259\nObservations:              1089    BIC:                   4482.245\nStandard Error Type: non-robust    Adj. AIC:               4472.27\nR-squared:                  1.0    Adj. BIC:              4482.283\nAdj. R-squared:             1.0    F-statistic:         226251414.862\nLog-Likelihood:       -2234.129    Prob (F-statistic):         0.0\n\n            Variable  Coefficient Std-Error T-Statistic P>|t|     Conf. Interval              \n          -------------------------------------------------------------------------           \n           Intercept   18101.402    0.187    96932.949   0.0  18101.035 - 18101.768           \n          independent    10.007     0.021      479.31    0.0      9.966 - 10.048              \n</pre>"
     },
     "metadata": {},
     "output_type": "display_data"
    }
   ],
   "source": [
    "\"\"\"Year, id and region level fixed effects\"\"\"\n",
    "\n",
    "fe3 = FixedEffects(df = panel_data,\n",
    "                   outcome='outcome',\n",
    "                   independent=['independent'],\n",
    "                   fixed=['year', 'id', 'region']).summary(content_type='html')\n"
   ],
   "metadata": {
    "collapsed": false,
    "ExecuteTime": {
     "end_time": "2024-01-01T23:17:16.308870Z",
     "start_time": "2024-01-01T23:17:15.755847Z"
    }
   },
   "id": "52defccdd3fac709"
  },
  {
   "cell_type": "code",
   "execution_count": null,
   "outputs": [],
   "source": [],
   "metadata": {
    "collapsed": false
   },
   "id": "3bd9f9d1a23f5eb5"
  }
 ],
 "metadata": {
  "kernelspec": {
   "display_name": "Python 3",
   "language": "python",
   "name": "python3"
  },
  "language_info": {
   "codemirror_mode": {
    "name": "ipython",
    "version": 2
   },
   "file_extension": ".py",
   "mimetype": "text/x-python",
   "name": "python",
   "nbconvert_exporter": "python",
   "pygments_lexer": "ipython2",
   "version": "2.7.6"
  }
 },
 "nbformat": 4,
 "nbformat_minor": 5
}
