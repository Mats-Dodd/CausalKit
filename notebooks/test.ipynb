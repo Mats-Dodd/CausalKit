{
 "cells": [
  {
   "cell_type": "code",
   "execution_count": 1,
   "id": "initial_id",
   "metadata": {
    "collapsed": true,
    "ExecuteTime": {
     "end_time": "2024-01-04T20:12:28.885440Z",
     "start_time": "2024-01-04T20:12:27.339445Z"
    }
   },
   "outputs": [],
   "source": [
    "from src.models.linreg import LinReg\n",
    "from src.models.panel import FixedEffects\n",
    "\n",
    "import numpy as np\n",
    "import matplotlib.pyplot as plt\n",
    "import pandas as pd\n",
    "import statsmodels.api as sm\n",
    "\n",
    "from linearmodels import PanelOLS\n",
    "\n",
    "f = 0.1173"
   ]
  },
  {
   "cell_type": "code",
   "execution_count": 2,
   "outputs": [
    {
     "data": {
      "text/plain": "      id  year     industry   region       outcome  independent  independent2\n0      1  2010       Health    South  21307.402892     2.962492     13.090677\n1      1  2011       Health    South  21312.611545     5.613490      7.535890\n2      1  2012       Health    South  21270.832476     1.049771      5.584607\n3      1  2013       Health    South  21379.784622     7.327832     12.878741\n4      1  2014       Health    South  21296.841519     0.763763      8.176806\n...   ..   ...          ...      ...           ...          ...           ...\n1084  99  2016  Agriculture  Central  24277.151056     4.086341      5.774107\n1085  99  2017  Agriculture  Central  24344.327657     6.180384     11.904614\n1086  99  2018  Agriculture  Central  24368.832440     7.168238     13.833236\n1087  99  2019  Agriculture  Central  24287.456063     2.143771      5.177190\n1088  99  2020  Agriculture  Central  24351.344330     5.226932      9.948119\n\n[1089 rows x 7 columns]",
      "text/html": "<div>\n<style scoped>\n    .dataframe tbody tr th:only-of-type {\n        vertical-align: middle;\n    }\n\n    .dataframe tbody tr th {\n        vertical-align: top;\n    }\n\n    .dataframe thead th {\n        text-align: right;\n    }\n</style>\n<table border=\"1\" class=\"dataframe\">\n  <thead>\n    <tr style=\"text-align: right;\">\n      <th></th>\n      <th>id</th>\n      <th>year</th>\n      <th>industry</th>\n      <th>region</th>\n      <th>outcome</th>\n      <th>independent</th>\n      <th>independent2</th>\n    </tr>\n  </thead>\n  <tbody>\n    <tr>\n      <th>0</th>\n      <td>1</td>\n      <td>2010</td>\n      <td>Health</td>\n      <td>South</td>\n      <td>21307.402892</td>\n      <td>2.962492</td>\n      <td>13.090677</td>\n    </tr>\n    <tr>\n      <th>1</th>\n      <td>1</td>\n      <td>2011</td>\n      <td>Health</td>\n      <td>South</td>\n      <td>21312.611545</td>\n      <td>5.613490</td>\n      <td>7.535890</td>\n    </tr>\n    <tr>\n      <th>2</th>\n      <td>1</td>\n      <td>2012</td>\n      <td>Health</td>\n      <td>South</td>\n      <td>21270.832476</td>\n      <td>1.049771</td>\n      <td>5.584607</td>\n    </tr>\n    <tr>\n      <th>3</th>\n      <td>1</td>\n      <td>2013</td>\n      <td>Health</td>\n      <td>South</td>\n      <td>21379.784622</td>\n      <td>7.327832</td>\n      <td>12.878741</td>\n    </tr>\n    <tr>\n      <th>4</th>\n      <td>1</td>\n      <td>2014</td>\n      <td>Health</td>\n      <td>South</td>\n      <td>21296.841519</td>\n      <td>0.763763</td>\n      <td>8.176806</td>\n    </tr>\n    <tr>\n      <th>...</th>\n      <td>...</td>\n      <td>...</td>\n      <td>...</td>\n      <td>...</td>\n      <td>...</td>\n      <td>...</td>\n      <td>...</td>\n    </tr>\n    <tr>\n      <th>1084</th>\n      <td>99</td>\n      <td>2016</td>\n      <td>Agriculture</td>\n      <td>Central</td>\n      <td>24277.151056</td>\n      <td>4.086341</td>\n      <td>5.774107</td>\n    </tr>\n    <tr>\n      <th>1085</th>\n      <td>99</td>\n      <td>2017</td>\n      <td>Agriculture</td>\n      <td>Central</td>\n      <td>24344.327657</td>\n      <td>6.180384</td>\n      <td>11.904614</td>\n    </tr>\n    <tr>\n      <th>1086</th>\n      <td>99</td>\n      <td>2018</td>\n      <td>Agriculture</td>\n      <td>Central</td>\n      <td>24368.832440</td>\n      <td>7.168238</td>\n      <td>13.833236</td>\n    </tr>\n    <tr>\n      <th>1087</th>\n      <td>99</td>\n      <td>2019</td>\n      <td>Agriculture</td>\n      <td>Central</td>\n      <td>24287.456063</td>\n      <td>2.143771</td>\n      <td>5.177190</td>\n    </tr>\n    <tr>\n      <th>1088</th>\n      <td>99</td>\n      <td>2020</td>\n      <td>Agriculture</td>\n      <td>Central</td>\n      <td>24351.344330</td>\n      <td>5.226932</td>\n      <td>9.948119</td>\n    </tr>\n  </tbody>\n</table>\n<p>1089 rows × 7 columns</p>\n</div>"
     },
     "execution_count": 2,
     "metadata": {},
     "output_type": "execute_result"
    }
   ],
   "source": [
    "def create_panel_data():\n",
    "    np.random.seed(69)\n",
    "    ids = range(1, 100) \n",
    "    years = range(2010, 2021)  \n",
    "    industries = ['Tech', 'Health', 'Finance', 'Education', 'Retail', 'Energy', 'Manufacturing', 'Transport', 'Services', 'Agriculture']  \n",
    "    regions = ['North', 'South', 'East', 'West', 'Central']  \n",
    "\n",
    "    industry_effects = {'Tech': 3, 'Health': 2, 'Finance': 4, 'Education': 1, 'Retail': 2, 'Energy': 5, 'Manufacturing': 3, 'Transport': 4, 'Services': 2, 'Agriculture': 3}\n",
    "    region_effects = {'North': 1, 'South': 2, 'East': 1, 'West': 3, 'Central': 2}\n",
    "\n",
    "    data_list = []\n",
    "    for id in ids:\n",
    "        industry = industries[id % len(industries)]  \n",
    "        region = regions[id % len(regions)]  \n",
    "        for year in years:\n",
    "            x = np.random.uniform(0, 10)\n",
    "            z = np.random.uniform(5, 15)\n",
    "            industry_effect = industry_effects[industry]\n",
    "            region_effect = region_effects[region]\n",
    "            y = 1000 + 10* x + 5*z +10 * year + 30 * id + 40* region_effect + np.random.normal(0, 2)  \n",
    "            data_list.append({'id': id, 'year': year, 'industry': industry, 'region': region, 'outcome': y, 'independent': x, 'independent2': z})\n",
    "\n",
    "    panel_data = pd.DataFrame(data_list)\n",
    "    return panel_data\n",
    "\n",
    "panel_data = create_panel_data()\n",
    "panel_data"
   ],
   "metadata": {
    "collapsed": false,
    "ExecuteTime": {
     "end_time": "2024-01-04T20:12:28.908480Z",
     "start_time": "2024-01-04T20:12:28.900786Z"
    }
   },
   "id": "dfd44d311bc333e1"
  },
  {
   "cell_type": "code",
   "execution_count": 3,
   "outputs": [
    {
     "data": {
      "text/plain": "<IPython.core.display.HTML object>",
      "text/html": "<h1 style='text-align:center;'>Regression Results</h1><pre style='text-align:center; font-family:monospace;'>Dep. Variable:          outcome    AIC:                  17809.252\nObservations:              1089    BIC:                  17824.231\nStandard Error Type: non-robust    Adj. AIC:             17809.274\nR-squared:                0.003    Adj. BIC:             17824.308\nAdj. R-squared:           0.002    F-statistic:              1.898\nLog-Likelihood:       -8901.626    Prob (F-statistic):        0.15\n\n             Variable   Coefficient Std-Error T-Statistic P>|t|     Conf. Interval             \n           --------------------------------------------------------------------------          \n            Intercept    22645.729   103.057     219.74    0.0  22443.516 - 22847.942          \n           independent     13.956     9.265      1.506    0.132    -4.224 - 32.137             \n           independent2    10.662     8.927      1.194    0.233    -6.854 - 28.178             \n</pre>"
     },
     "metadata": {},
     "output_type": "display_data"
    }
   ],
   "source": [
    "\n",
    "base = LinReg(df = panel_data,\n",
    "       outcome='outcome',\n",
    "       independent=['independent',\"independent2\" ]).summary(content_type='html')"
   ],
   "metadata": {
    "collapsed": false,
    "ExecuteTime": {
     "end_time": "2024-01-04T20:12:29.524772Z",
     "start_time": "2024-01-04T20:12:29.510412Z"
    }
   },
   "id": "cc5ae09530e3e6df"
  },
  {
   "cell_type": "code",
   "execution_count": 4,
   "outputs": [
    {
     "data": {
      "text/plain": "<IPython.core.display.HTML object>",
      "text/html": "<div style='text-align:center; font-family:monospace;'>Regression Results</div>\n<div style='text-align:center; font-family:monospace;'>Model Type: Fixed Effects</div>\n<pre style='text-align:center; font-family:monospace;'>\nDep. Variable:          outcome    AIC:                  17807.083\nObservations:              1089    BIC:                  17817.069\nStandard Error Type:  clustered    Adj. AIC:             17807.094\nR-squared:                0.004    Adj. BIC:             17817.107\nAdj. R-squared:           0.003    F-statistic:              3.967\nLog-Likelihood:       -8901.541    Prob (F-statistic):       0.047\n\n            Variable  Coefficient Std-Error T-Statistic P>|t|     Conf. Interval              \n          -------------------------------------------------------------------------           \n           Intercept   22696.786    51.581    440.018    0.0  22595.575 - 22797.996           \n          independent    14.967     10.13      1.477     0.14     -4.91 - 34.843              \n</pre>"
     },
     "metadata": {},
     "output_type": "display_data"
    }
   ],
   "source": [
    "fe1 = FixedEffects(df = panel_data,\n",
    "                   outcome='outcome',\n",
    "                   independent=['independent'],\n",
    "                   fixed=['year'],\n",
    "                   standard_error_type='clustered')\n",
    "\n",
    "fe1.summary(content_type='html')\n"
   ],
   "metadata": {
    "collapsed": false,
    "ExecuteTime": {
     "end_time": "2024-01-04T20:12:30.268756Z",
     "start_time": "2024-01-04T20:12:30.232353Z"
    }
   },
   "id": "55bb9edf9994b71d"
  },
  {
   "cell_type": "code",
   "execution_count": 5,
   "outputs": [
    {
     "data": {
      "text/plain": "['independent',\n 'dummy_year_2011',\n 'dummy_year_2012',\n 'dummy_year_2013',\n 'dummy_year_2014',\n 'dummy_year_2015',\n 'dummy_year_2016',\n 'dummy_year_2017',\n 'dummy_year_2018',\n 'dummy_year_2019',\n 'dummy_year_2020']"
     },
     "execution_count": 5,
     "metadata": {},
     "output_type": "execute_result"
    }
   ],
   "source": [
    "fe1.independent_vars"
   ],
   "metadata": {
    "collapsed": false,
    "ExecuteTime": {
     "end_time": "2024-01-04T20:12:39.942693Z",
     "start_time": "2024-01-04T20:12:39.933506Z"
    }
   },
   "id": "d923cdcf054e68d1"
  },
  {
   "cell_type": "code",
   "execution_count": 10,
   "outputs": [
    {
     "name": "stdout",
     "output_type": "stream",
     "text": [
      "                          PanelOLS Estimation Summary                           \n",
      "================================================================================\n",
      "Dep. Variable:                outcome   R-squared:                        0.0004\n",
      "Estimator:                   PanelOLS   R-squared (Between):              0.0025\n",
      "No. Observations:                1089   R-squared (Within):               0.3623\n",
      "Date:                Thu, Jan 04 2024   R-squared (Overall):              0.0025\n",
      "Time:                        17:14:29   Log-likelihood                   -8901.0\n",
      "Cov. Estimator:             Clustered                                           \n",
      "                                        F-statistic:                      0.3867\n",
      "Entities:                          99   P-value                           0.5341\n",
      "Avg Obs:                       11.000   Distribution:                  F(1,1077)\n",
      "Min Obs:                       11.000                                           \n",
      "Max Obs:                       11.000   F-statistic (robust):             0.3390\n",
      "                                        P-value                           0.5605\n",
      "Time periods:                      11   Distribution:                  F(1,1077)\n",
      "Avg Obs:                       99.000                                           \n",
      "Min Obs:                       99.000                                           \n",
      "Max Obs:                       99.000                                           \n",
      "                                                                                \n",
      "                              Parameter Estimates                              \n",
      "===============================================================================\n",
      "             Parameter  Std. Err.     T-stat    P-value    Lower CI    Upper CI\n",
      "-------------------------------------------------------------------------------\n",
      "independent     5.6473     9.6988     0.5823     0.5605     -13.383      24.678\n",
      "===============================================================================\n",
      "\n",
      "F-test for Poolability: 0.1521\n",
      "P-value: 0.9989\n",
      "Distribution: F(10,1077)\n",
      "\n",
      "Included effects: Time\n"
     ]
    }
   ],
   "source": [
    "panel_data = panel_data.set_index(['id', 'year'])\n",
    "\n",
    "# Define the model with year-level fixed effects\n",
    "# The 'TimeEffects' term accounts for year-specific fixed effects\n",
    "model = PanelOLS.from_formula('outcome ~ independent + TimeEffects', data=panel_data)\n",
    "\n",
    "# Fit the model\n",
    "results = model.fit(cov_type='clustered', cluster_time=True)\n",
    "\n",
    "# Print the results\n",
    "print(results)"
   ],
   "metadata": {
    "collapsed": false,
    "ExecuteTime": {
     "end_time": "2024-01-04T16:14:29.756838Z",
     "start_time": "2024-01-04T16:14:29.658970Z"
    }
   },
   "id": "b34aea369a1fac8c"
  },
  {
   "cell_type": "code",
   "execution_count": 5,
   "outputs": [
    {
     "name": "stdout",
     "output_type": "stream",
     "text": [
      "getting se\n",
      "getting se\n"
     ]
    },
    {
     "data": {
      "text/plain": "<IPython.core.display.HTML object>",
      "text/html": "<div style='text-align:center; font-family:monospace;'>Regression Results</div>\n<div style='text-align:center; font-family:monospace;'>Model Type: Fixed Effects</div>\n<pre style='text-align:center; font-family:monospace;'>\nDep. Variable:          outcome    AIC:                   4472.259\nObservations:              1089    BIC:                   4482.245\nStandard Error Type: two-way-clustered    Adj. AIC:               4472.27\nR-squared:                  1.0    Adj. BIC:              4482.283\nAdj. R-squared:             1.0    F-statistic:         226251414.862\nLog-Likelihood:       -2234.129    Prob (F-statistic):         0.0\n\n            Variable  Coefficient Std-Error T-Statistic P>|t|     Conf. Interval              \n          -------------------------------------------------------------------------           \n           Intercept    21209.86    2.728     7773.956   0.0  21204.507 - 21215.213           \n          independent    10.007     0.017     586.564    0.0      9.973 - 10.04               \n</pre>"
     },
     "metadata": {},
     "output_type": "display_data"
    }
   ],
   "source": [
    "fe2 = FixedEffects(df = panel_data,\n",
    "                   outcome='outcome',\n",
    "                   independent=['independent'],\n",
    "                   fixed=['year', 'id'],\n",
    "                   standard_error_type='two-way-clustered')\n",
    "\n",
    "fe2.summary(content_type='html')"
   ],
   "metadata": {
    "collapsed": false,
    "ExecuteTime": {
     "end_time": "2024-01-04T16:32:17.607585Z",
     "start_time": "2024-01-04T16:32:17.024250Z"
    }
   },
   "id": "ba878098762af4c9"
  },
  {
   "cell_type": "code",
   "execution_count": 6,
   "outputs": [
    {
     "name": "stdout",
     "output_type": "stream",
     "text": [
      "                          PanelOLS Estimation Summary                           \n",
      "================================================================================\n",
      "Dep. Variable:                outcome   R-squared:                        0.9953\n",
      "Estimator:                   PanelOLS   R-squared (Between):              0.0044\n",
      "No. Observations:                1089   R-squared (Within):               0.4640\n",
      "Date:                Thu, Jan 04 2024   R-squared (Overall):              0.0044\n",
      "Time:                        17:22:39   Log-likelihood                   -2234.1\n",
      "Cov. Estimator:             Clustered                                           \n",
      "                                        F-statistic:                   2.069e+05\n",
      "Entities:                          99   P-value                           0.0000\n",
      "Avg Obs:                       11.000   Distribution:                   F(1,979)\n",
      "Min Obs:                       11.000                                           \n",
      "Max Obs:                       11.000   F-statistic (robust):          3.113e+05\n",
      "                                        P-value                           0.0000\n",
      "Time periods:                      11   Distribution:                   F(1,979)\n",
      "Avg Obs:                       99.000                                           \n",
      "Min Obs:                       99.000                                           \n",
      "Max Obs:                       99.000                                           \n",
      "                                                                                \n",
      "                              Parameter Estimates                              \n",
      "===============================================================================\n",
      "             Parameter  Std. Err.     T-stat    P-value    Lower CI    Upper CI\n",
      "-------------------------------------------------------------------------------\n",
      "independent     10.007     0.0179     557.92     0.0000      9.9717      10.042\n",
      "===============================================================================\n",
      "\n",
      "F-test for Poolability: 1.886e+06\n",
      "P-value: 0.0000\n",
      "Distribution: F(108,979)\n",
      "\n",
      "Included effects: Entity, Time\n"
     ]
    }
   ],
   "source": [
    "panel_data = panel_data.set_index(['id', 'year'])\n",
    "\n",
    "# Define the model with both time and id level fixed effects\n",
    "# The 'EntityEffects' term accounts for id-specific fixed effects\n",
    "# The 'TimeEffects' term accounts for year-specific fixed effects\n",
    "model = PanelOLS.from_formula('outcome ~ independent + EntityEffects + TimeEffects', data=panel_data)\n",
    "\n",
    "# Fit the model\n",
    "results = model.fit(cov_type='clustered', cluster_entity=True, cluster_time=True)\n",
    "\n",
    "# Print the results\n",
    "print(results)"
   ],
   "metadata": {
    "collapsed": false,
    "ExecuteTime": {
     "end_time": "2024-01-04T16:22:39.276895Z",
     "start_time": "2024-01-04T16:22:39.198381Z"
    }
   },
   "id": "4261e45fe7dbb1a4"
  },
  {
   "cell_type": "code",
   "execution_count": null,
   "outputs": [],
   "source": [],
   "metadata": {
    "collapsed": false,
    "ExecuteTime": {
     "start_time": "2024-01-04T16:14:29.930278Z"
    }
   },
   "id": "c646e59ab97f8adb"
  },
  {
   "cell_type": "code",
   "execution_count": null,
   "outputs": [],
   "source": [
    "\"\"\"Year, id and region level fixed effects\"\"\"\n",
    "\n",
    "fe3 = FixedEffects(df = panel_data,\n",
    "                   outcome='outcome',\n",
    "                   independent=['independent'],\n",
    "                   fixed=['year', 'id', 'region']).summary(content_type='html')\n"
   ],
   "metadata": {
    "collapsed": false,
    "ExecuteTime": {
     "start_time": "2024-01-04T16:14:29.931756Z"
    }
   },
   "id": "52defccdd3fac709"
  },
  {
   "cell_type": "code",
   "execution_count": null,
   "outputs": [],
   "source": [],
   "metadata": {
    "collapsed": false,
    "ExecuteTime": {
     "start_time": "2024-01-04T16:14:29.932840Z"
    }
   },
   "id": "3bd9f9d1a23f5eb5"
  },
  {
   "cell_type": "code",
   "execution_count": null,
   "outputs": [],
   "source": [],
   "metadata": {
    "collapsed": false,
    "ExecuteTime": {
     "start_time": "2024-01-04T16:14:29.933684Z"
    }
   },
   "id": "3c6008402f811c77"
  }
 ],
 "metadata": {
  "kernelspec": {
   "display_name": "Python 3",
   "language": "python",
   "name": "python3"
  },
  "language_info": {
   "codemirror_mode": {
    "name": "ipython",
    "version": 2
   },
   "file_extension": ".py",
   "mimetype": "text/x-python",
   "name": "python",
   "nbconvert_exporter": "python",
   "pygments_lexer": "ipython2",
   "version": "2.7.6"
  }
 },
 "nbformat": 4,
 "nbformat_minor": 5
}
