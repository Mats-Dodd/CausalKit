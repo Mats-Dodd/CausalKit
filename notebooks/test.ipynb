{
 "cells": [
  {
   "cell_type": "code",
   "execution_count": 1,
   "id": "initial_id",
   "metadata": {
    "collapsed": true,
    "ExecuteTime": {
     "end_time": "2024-01-01T23:15:03.036984Z",
     "start_time": "2024-01-01T23:15:01.670281Z"
    }
   },
   "outputs": [],
   "source": [
    "from src.models.linreg import LinReg\n",
    "from src.models.panel import FixedEffects\n",
    "\n",
    "import numpy as np\n",
    "import matplotlib.pyplot as plt\n",
    "import pandas as pd\n",
    "import statsmodels.api as sm\n",
    "\n"
   ]
  },
  {
   "cell_type": "code",
   "execution_count": 23,
   "outputs": [
    {
     "data": {
      "text/plain": "      id  year     industry   region       outcome  independent\n0      1  2010       Health    South  21238.555995     2.962492\n1      1  2011       Health    South  21301.147099     7.894093\n2      1  2012       Health    South  21285.228472     5.613490\n3      1  2013       Health    South  21245.280654     0.584607\n4      1  2014       Health    South  21319.468677     6.732924\n...   ..   ...          ...      ...           ...          ...\n1084  99  2016  Agriculture  Central  24222.137447     1.025061\n1085  99  2017  Agriculture  Central  24296.017354     7.574430\n1086  99  2018  Agriculture  Central  24263.123866     3.284386\n1087  99  2019  Agriculture  Central  24274.810459     4.047789\n1088  99  2020  Agriculture  Central  24321.406314     7.244393\n\n[1089 rows x 6 columns]",
      "text/html": "<div>\n<style scoped>\n    .dataframe tbody tr th:only-of-type {\n        vertical-align: middle;\n    }\n\n    .dataframe tbody tr th {\n        vertical-align: top;\n    }\n\n    .dataframe thead th {\n        text-align: right;\n    }\n</style>\n<table border=\"1\" class=\"dataframe\">\n  <thead>\n    <tr style=\"text-align: right;\">\n      <th></th>\n      <th>id</th>\n      <th>year</th>\n      <th>industry</th>\n      <th>region</th>\n      <th>outcome</th>\n      <th>independent</th>\n    </tr>\n  </thead>\n  <tbody>\n    <tr>\n      <th>0</th>\n      <td>1</td>\n      <td>2010</td>\n      <td>Health</td>\n      <td>South</td>\n      <td>21238.555995</td>\n      <td>2.962492</td>\n    </tr>\n    <tr>\n      <th>1</th>\n      <td>1</td>\n      <td>2011</td>\n      <td>Health</td>\n      <td>South</td>\n      <td>21301.147099</td>\n      <td>7.894093</td>\n    </tr>\n    <tr>\n      <th>2</th>\n      <td>1</td>\n      <td>2012</td>\n      <td>Health</td>\n      <td>South</td>\n      <td>21285.228472</td>\n      <td>5.613490</td>\n    </tr>\n    <tr>\n      <th>3</th>\n      <td>1</td>\n      <td>2013</td>\n      <td>Health</td>\n      <td>South</td>\n      <td>21245.280654</td>\n      <td>0.584607</td>\n    </tr>\n    <tr>\n      <th>4</th>\n      <td>1</td>\n      <td>2014</td>\n      <td>Health</td>\n      <td>South</td>\n      <td>21319.468677</td>\n      <td>6.732924</td>\n    </tr>\n    <tr>\n      <th>...</th>\n      <td>...</td>\n      <td>...</td>\n      <td>...</td>\n      <td>...</td>\n      <td>...</td>\n      <td>...</td>\n    </tr>\n    <tr>\n      <th>1084</th>\n      <td>99</td>\n      <td>2016</td>\n      <td>Agriculture</td>\n      <td>Central</td>\n      <td>24222.137447</td>\n      <td>1.025061</td>\n    </tr>\n    <tr>\n      <th>1085</th>\n      <td>99</td>\n      <td>2017</td>\n      <td>Agriculture</td>\n      <td>Central</td>\n      <td>24296.017354</td>\n      <td>7.574430</td>\n    </tr>\n    <tr>\n      <th>1086</th>\n      <td>99</td>\n      <td>2018</td>\n      <td>Agriculture</td>\n      <td>Central</td>\n      <td>24263.123866</td>\n      <td>3.284386</td>\n    </tr>\n    <tr>\n      <th>1087</th>\n      <td>99</td>\n      <td>2019</td>\n      <td>Agriculture</td>\n      <td>Central</td>\n      <td>24274.810459</td>\n      <td>4.047789</td>\n    </tr>\n    <tr>\n      <th>1088</th>\n      <td>99</td>\n      <td>2020</td>\n      <td>Agriculture</td>\n      <td>Central</td>\n      <td>24321.406314</td>\n      <td>7.244393</td>\n    </tr>\n  </tbody>\n</table>\n<p>1089 rows × 6 columns</p>\n</div>"
     },
     "execution_count": 23,
     "metadata": {},
     "output_type": "execute_result"
    }
   ],
   "source": [
    "def create_panel_data():\n",
    "    np.random.seed(69)\n",
    "    ids = range(1, 100) \n",
    "    years = range(2010, 2021)  \n",
    "    industries = ['Tech', 'Health', 'Finance', 'Education', 'Retail', 'Energy', 'Manufacturing', 'Transport', 'Services', 'Agriculture']  \n",
    "    regions = ['North', 'South', 'East', 'West', 'Central']  \n",
    "\n",
    "    industry_effects = {'Tech': 3, 'Health': 2, 'Finance': 4, 'Education': 1, 'Retail': 2, 'Energy': 5, 'Manufacturing': 3, 'Transport': 4, 'Services': 2, 'Agriculture': 3}\n",
    "    region_effects = {'North': 1, 'South': 2, 'East': 1, 'West': 3, 'Central': 2}\n",
    "\n",
    "    data_list = []\n",
    "    for id in ids:\n",
    "        industry = industries[id % len(industries)]  \n",
    "        region = regions[id % len(regions)]  \n",
    "        for year in years:\n",
    "            x = np.random.uniform(0, 10)\n",
    "            industry_effect = industry_effects[industry]\n",
    "            region_effect = region_effects[region]\n",
    "            y = 1000 + 10* x + 10 * year + 30 * id + 40* region_effect + np.random.normal(0, 2)  \n",
    "            data_list.append({'id': id, 'year': year, 'industry': industry, 'region': region, 'outcome': y, 'independent': x})\n",
    "\n",
    "    panel_data = pd.DataFrame(data_list)\n",
    "    return panel_data\n",
    "\n",
    "panel_data = create_panel_data()\n",
    "panel_data"
   ],
   "metadata": {
    "collapsed": false,
    "ExecuteTime": {
     "end_time": "2024-01-01T23:17:03.113920Z",
     "start_time": "2024-01-01T23:17:03.106599Z"
    }
   },
   "id": "dfd44d311bc333e1"
  },
  {
   "cell_type": "code",
   "execution_count": 24,
   "outputs": [
    {
     "data": {
      "text/plain": "<IPython.core.display.HTML object>",
      "text/html": "<h1 style='text-align:center;'>Regression Results</h1><pre style='text-align:center; font-family:monospace;'>Dep. Variable:          outcome    AIC:                  17807.639\nObservations:              1089    BIC:                  17817.625\nStandard Error Type: non-robust    Adj. AIC:              17807.65\nR-squared:                  0.0    Adj. BIC:             17817.663\nAdj. R-squared:            -0.0    F-statistic:              0.497\nLog-Likelihood:       -8901.819    Prob (F-statistic):       0.481\n\n            Variable  Coefficient Std-Error T-Statistic P>|t|     Conf. Interval              \n          -------------------------------------------------------------------------           \n           Intercept   22740.378    51.632    440.431    0.0  22639.068 - 22841.688           \n          independent    6.328      8.975      0.705    0.481    -11.282 - 23.939             \n</pre>"
     },
     "metadata": {},
     "output_type": "display_data"
    }
   ],
   "source": [
    "\n",
    "base = LinReg(df = panel_data,\n",
    "       outcome='outcome',\n",
    "       independent=['independent']).summary(content_type='html')"
   ],
   "metadata": {
    "collapsed": false,
    "ExecuteTime": {
     "end_time": "2024-01-01T23:17:04.442718Z",
     "start_time": "2024-01-01T23:17:04.404157Z"
    }
   },
   "id": "cc5ae09530e3e6df"
  },
  {
   "cell_type": "code",
   "execution_count": 25,
   "outputs": [
    {
     "data": {
      "text/plain": "<IPython.core.display.HTML object>",
      "text/html": "<div style='text-align:center; font-family:monospace;'>Regression Results</div>\n<div style='text-align:center; font-family:monospace;'>Model Type: Fixed Effects</div>\n<pre style='text-align:center; font-family:monospace;'>\nDep. Variable:          outcome    AIC:                  17806.102\nObservations:              1089    BIC:                  17816.088\nStandard Error Type: non-robust    Adj. AIC:             17806.113\nR-squared:                0.002    Adj. BIC:             17816.126\nAdj. R-squared:           0.001    F-statistic:              2.033\nLog-Likelihood:       -8901.051    Prob (F-statistic):       0.154\n\n            Variable  Coefficient Std-Error T-Statistic P>|t|     Conf. Interval              \n          -------------------------------------------------------------------------           \n           Intercept   22692.691    96.314    235.611    0.0  22503.708 - 22881.674           \n          independent    5.647      9.039      0.625    0.532    -12.089 - 23.383             \n</pre>"
     },
     "metadata": {},
     "output_type": "display_data"
    }
   ],
   "source": [
    "\"\"\"Year level fixed effects\"\"\"\n",
    "\n",
    "fe1 = FixedEffects(df = panel_data,\n",
    "       outcome='outcome',\n",
    "       independent=['independent'],\n",
    "       fixed=['year']).summary(content_type='html')"
   ],
   "metadata": {
    "collapsed": false,
    "ExecuteTime": {
     "end_time": "2024-01-01T23:17:06.779254Z",
     "start_time": "2024-01-01T23:17:06.724360Z"
    }
   },
   "id": "bb87933bdb0c004b"
  },
  {
   "cell_type": "code",
   "execution_count": 26,
   "outputs": [
    {
     "data": {
      "text/plain": "<IPython.core.display.HTML object>",
      "text/html": "<div style='text-align:center; font-family:monospace;'>Regression Results</div>\n<div style='text-align:center; font-family:monospace;'>Model Type: Fixed Effects</div>\n<pre style='text-align:center; font-family:monospace;'>\nDep. Variable:          outcome    AIC:                   4472.259\nObservations:              1089    BIC:                   4482.245\nStandard Error Type: non-robust    Adj. AIC:               4472.27\nR-squared:                  1.0    Adj. BIC:              4482.283\nAdj. R-squared:             1.0    F-statistic:         226251414.862\nLog-Likelihood:       -2234.129    Prob (F-statistic):         0.0\n\n            Variable  Coefficient Std-Error T-Statistic P>|t|     Conf. Interval              \n          -------------------------------------------------------------------------           \n           Intercept    21209.86    0.603    35177.736   0.0  21208.677 - 21211.043           \n          independent    10.007     0.021      479.31    0.0      9.966 - 10.048              \n</pre>"
     },
     "metadata": {},
     "output_type": "display_data"
    }
   ],
   "source": [
    "\"\"\"Year and id level fixed effects\"\"\"\n",
    "\n",
    "fe2 = FixedEffects(df = panel_data,\n",
    "                   outcome='outcome',\n",
    "                   independent=['independent'],\n",
    "                   fixed=['year', 'id']).summary(content_type='html')\n"
   ],
   "metadata": {
    "collapsed": false,
    "ExecuteTime": {
     "end_time": "2024-01-01T23:17:10.311108Z",
     "start_time": "2024-01-01T23:17:09.790194Z"
    }
   },
   "id": "cdfe4bc5afebf181"
  },
  {
   "cell_type": "code",
   "execution_count": 27,
   "outputs": [
    {
     "data": {
      "text/plain": "<IPython.core.display.HTML object>",
      "text/html": "<div style='text-align:center; font-family:monospace;'>Regression Results</div>\n<div style='text-align:center; font-family:monospace;'>Model Type: Fixed Effects</div>\n<pre style='text-align:center; font-family:monospace;'>\nDep. Variable:          outcome    AIC:                   4472.259\nObservations:              1089    BIC:                   4482.245\nStandard Error Type: non-robust    Adj. AIC:               4472.27\nR-squared:                  1.0    Adj. BIC:              4482.283\nAdj. R-squared:             1.0    F-statistic:         226251414.862\nLog-Likelihood:       -2234.129    Prob (F-statistic):         0.0\n\n            Variable  Coefficient Std-Error T-Statistic P>|t|     Conf. Interval              \n          -------------------------------------------------------------------------           \n           Intercept   18101.402    0.187    96932.949   0.0  18101.035 - 18101.768           \n          independent    10.007     0.021      479.31    0.0      9.966 - 10.048              \n</pre>"
     },
     "metadata": {},
     "output_type": "display_data"
    }
   ],
   "source": [
    "\"\"\"Year, id and region level fixed effects\"\"\"\n",
    "\n",
    "fe3 = FixedEffects(df = panel_data,\n",
    "                   outcome='outcome',\n",
    "                   independent=['independent'],\n",
    "                   fixed=['year', 'id', 'region']).summary(content_type='html')\n"
   ],
   "metadata": {
    "collapsed": false,
    "ExecuteTime": {
     "end_time": "2024-01-01T23:17:16.308870Z",
     "start_time": "2024-01-01T23:17:15.755847Z"
    }
   },
   "id": "52defccdd3fac709"
  },
  {
   "cell_type": "code",
   "execution_count": null,
   "outputs": [],
   "source": [],
   "metadata": {
    "collapsed": false
   },
   "id": "3bd9f9d1a23f5eb5"
  }
 ],
 "metadata": {
  "kernelspec": {
   "display_name": "Python 3",
   "language": "python",
   "name": "python3"
  },
  "language_info": {
   "codemirror_mode": {
    "name": "ipython",
    "version": 2
   },
   "file_extension": ".py",
   "mimetype": "text/x-python",
   "name": "python",
   "nbconvert_exporter": "python",
   "pygments_lexer": "ipython2",
   "version": "2.7.6"
  }
 },
 "nbformat": 4,
 "nbformat_minor": 5
}
