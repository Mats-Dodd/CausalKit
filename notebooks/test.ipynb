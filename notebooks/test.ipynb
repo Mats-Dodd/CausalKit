{
 "cells": [
  {
   "cell_type": "code",
   "execution_count": 1,
   "id": "initial_id",
   "metadata": {
    "collapsed": true,
    "ExecuteTime": {
     "end_time": "2023-12-30T16:53:56.428615Z",
     "start_time": "2023-12-30T16:53:55.038933Z"
    }
   },
   "outputs": [],
   "source": [
    "from src.models.linreg import LinReg\n",
    "\n",
    "import numpy as np\n",
    "import matplotlib.pyplot as plt\n",
    "import pandas as pd\n",
    "import statsmodels.api as sm"
   ]
  },
  {
   "cell_type": "code",
   "execution_count": 2,
   "outputs": [],
   "source": [
    "np.random.seed(69)\n",
    "x = np.linspace(0, 5, 50)\n",
    "z = np.linspace(3, 8, 50)\n",
    "y = 1 + 3 * x + 5*z + np.random.normal(0, 2, 50)\n",
    "data = pd.DataFrame({'outcome': y,\n",
    "                     'independent1': x,\n",
    "                     'independent2': z})"
   ],
   "metadata": {
    "collapsed": false,
    "ExecuteTime": {
     "end_time": "2023-12-30T16:53:56.944674Z",
     "start_time": "2023-12-30T16:53:56.939722Z"
    }
   },
   "id": "dfd44d311bc333e1"
  },
  {
   "cell_type": "code",
   "execution_count": 3,
   "outputs": [
    {
     "name": "stdout",
     "output_type": "stream",
     "text": [
      "['~independent2']\n",
      "using ~ operator\n",
      "['~independent2']\n"
     ]
    }
   ],
   "source": [
    "linreg = LinReg(df=data, outcome=\"outcome\", independent=[\"~independent2\"])\n",
    "\n",
    "x = data['independent1']\n",
    "y = data['outcome']\n",
    "x = sm.add_constant(x)\n",
    "sm = sm.OLS(y, x).fit()"
   ],
   "metadata": {
    "collapsed": false,
    "ExecuteTime": {
     "end_time": "2023-12-30T16:53:57.536508Z",
     "start_time": "2023-12-30T16:53:57.530405Z"
    }
   },
   "id": "799bed87bc86ebc1"
  },
  {
   "cell_type": "code",
   "execution_count": 4,
   "outputs": [
    {
     "data": {
      "text/plain": "['independent1']"
     },
     "execution_count": 4,
     "metadata": {},
     "output_type": "execute_result"
    }
   ],
   "source": [
    "linreg.independent_vars"
   ],
   "metadata": {
    "collapsed": false,
    "ExecuteTime": {
     "end_time": "2023-12-30T16:54:03.456985Z",
     "start_time": "2023-12-30T16:54:03.445570Z"
    }
   },
   "id": "bdab83a1c6ae35e7"
  },
  {
   "cell_type": "code",
   "execution_count": 5,
   "outputs": [
    {
     "data": {
      "text/plain": "const           15.885937\nindependent1     7.832811\ndtype: float64"
     },
     "execution_count": 5,
     "metadata": {},
     "output_type": "execute_result"
    }
   ],
   "source": [
    "sm.params"
   ],
   "metadata": {
    "collapsed": false,
    "ExecuteTime": {
     "end_time": "2023-12-30T16:54:04.847261Z",
     "start_time": "2023-12-30T16:54:04.840510Z"
    }
   },
   "id": "8f26308d331243a9"
  },
  {
   "cell_type": "code",
   "execution_count": 6,
   "outputs": [
    {
     "data": {
      "text/plain": "<IPython.core.display.HTML object>",
      "text/html": "<h1 style='text-align:center;'>Regression Results</h1><pre style='text-align:center; font-family:monospace;'>Dep. Variable:          outcome    AIC:                    217.052\nObservations:                50    BIC:                    220.876\nStandard Error Type: non-robust    Adj. AIC:               217.308\nR-squared:                 0.97    Adj. BIC:               221.376\nAdj. R-squared:           0.969    F-statistic:             1539.9\nLog-Likelihood:        -106.526    Prob (F-statistic):         0.0\n\n            Variable   Coefficient Std-Error T-Statistic P>|t| Conf. Interval           \n          -------------------------------------------------------------------           \n           Intercept      15.886     0.579      27.43     0.0  14.721 - 17.05           \n          independent1    7.833       0.2       39.242    0.0  7.431 - 8.234            \n</pre>"
     },
     "metadata": {},
     "output_type": "display_data"
    }
   ],
   "source": [
    "linreg.summary(content_type='simple')"
   ],
   "metadata": {
    "collapsed": false,
    "ExecuteTime": {
     "end_time": "2023-12-30T16:54:07.205417Z",
     "start_time": "2023-12-30T16:54:07.186764Z"
    }
   },
   "id": "473705ad203bb2a9"
  },
  {
   "cell_type": "code",
   "execution_count": 5,
   "outputs": [
    {
     "data": {
      "text/plain": "True"
     },
     "execution_count": 5,
     "metadata": {},
     "output_type": "execute_result"
    }
   ],
   "source": [
    "string = '~1'\n",
    "\n",
    "'~' in string"
   ],
   "metadata": {
    "collapsed": false,
    "ExecuteTime": {
     "end_time": "2023-12-30T16:43:07.639140Z",
     "start_time": "2023-12-30T16:43:07.631666Z"
    }
   },
   "id": "d26e025381efa35a"
  },
  {
   "cell_type": "code",
   "execution_count": null,
   "outputs": [],
   "source": [],
   "metadata": {
    "collapsed": false
   },
   "id": "e8e9923da41be5f0"
  }
 ],
 "metadata": {
  "kernelspec": {
   "display_name": "Python 3",
   "language": "python",
   "name": "python3"
  },
  "language_info": {
   "codemirror_mode": {
    "name": "ipython",
    "version": 2
   },
   "file_extension": ".py",
   "mimetype": "text/x-python",
   "name": "python",
   "nbconvert_exporter": "python",
   "pygments_lexer": "ipython2",
   "version": "2.7.6"
  }
 },
 "nbformat": 4,
 "nbformat_minor": 5
}
