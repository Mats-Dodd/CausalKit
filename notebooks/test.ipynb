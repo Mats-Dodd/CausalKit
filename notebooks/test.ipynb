{
 "cells": [
  {
   "cell_type": "code",
   "execution_count": 1,
   "id": "initial_id",
   "metadata": {
    "collapsed": true,
    "ExecuteTime": {
     "end_time": "2024-01-02T20:30:13.189504Z",
     "start_time": "2024-01-02T20:30:12.609345Z"
    }
   },
   "outputs": [],
   "source": [
    "from src.models.linreg import LinReg\n",
    "from src.models.panel import FixedEffects\n",
    "\n",
    "import numpy as np\n",
    "import matplotlib.pyplot as plt\n",
    "import pandas as pd\n",
    "import statsmodels.api as sm\n",
    "\n",
    "from linearmodels import PanelOLS\n"
   ]
  },
  {
   "cell_type": "code",
   "execution_count": 2,
   "outputs": [
    {
     "data": {
      "text/plain": "      id  year     industry   region       outcome  independent\n0      1  2010       Health    South  21238.555995     2.962492\n1      1  2011       Health    South  21301.147099     7.894093\n2      1  2012       Health    South  21285.228472     5.613490\n3      1  2013       Health    South  21245.280654     0.584607\n4      1  2014       Health    South  21319.468677     6.732924\n...   ..   ...          ...      ...           ...          ...\n1084  99  2016  Agriculture  Central  24222.137447     1.025061\n1085  99  2017  Agriculture  Central  24296.017354     7.574430\n1086  99  2018  Agriculture  Central  24263.123866     3.284386\n1087  99  2019  Agriculture  Central  24274.810459     4.047789\n1088  99  2020  Agriculture  Central  24321.406314     7.244393\n\n[1089 rows x 6 columns]",
      "text/html": "<div>\n<style scoped>\n    .dataframe tbody tr th:only-of-type {\n        vertical-align: middle;\n    }\n\n    .dataframe tbody tr th {\n        vertical-align: top;\n    }\n\n    .dataframe thead th {\n        text-align: right;\n    }\n</style>\n<table border=\"1\" class=\"dataframe\">\n  <thead>\n    <tr style=\"text-align: right;\">\n      <th></th>\n      <th>id</th>\n      <th>year</th>\n      <th>industry</th>\n      <th>region</th>\n      <th>outcome</th>\n      <th>independent</th>\n    </tr>\n  </thead>\n  <tbody>\n    <tr>\n      <th>0</th>\n      <td>1</td>\n      <td>2010</td>\n      <td>Health</td>\n      <td>South</td>\n      <td>21238.555995</td>\n      <td>2.962492</td>\n    </tr>\n    <tr>\n      <th>1</th>\n      <td>1</td>\n      <td>2011</td>\n      <td>Health</td>\n      <td>South</td>\n      <td>21301.147099</td>\n      <td>7.894093</td>\n    </tr>\n    <tr>\n      <th>2</th>\n      <td>1</td>\n      <td>2012</td>\n      <td>Health</td>\n      <td>South</td>\n      <td>21285.228472</td>\n      <td>5.613490</td>\n    </tr>\n    <tr>\n      <th>3</th>\n      <td>1</td>\n      <td>2013</td>\n      <td>Health</td>\n      <td>South</td>\n      <td>21245.280654</td>\n      <td>0.584607</td>\n    </tr>\n    <tr>\n      <th>4</th>\n      <td>1</td>\n      <td>2014</td>\n      <td>Health</td>\n      <td>South</td>\n      <td>21319.468677</td>\n      <td>6.732924</td>\n    </tr>\n    <tr>\n      <th>...</th>\n      <td>...</td>\n      <td>...</td>\n      <td>...</td>\n      <td>...</td>\n      <td>...</td>\n      <td>...</td>\n    </tr>\n    <tr>\n      <th>1084</th>\n      <td>99</td>\n      <td>2016</td>\n      <td>Agriculture</td>\n      <td>Central</td>\n      <td>24222.137447</td>\n      <td>1.025061</td>\n    </tr>\n    <tr>\n      <th>1085</th>\n      <td>99</td>\n      <td>2017</td>\n      <td>Agriculture</td>\n      <td>Central</td>\n      <td>24296.017354</td>\n      <td>7.574430</td>\n    </tr>\n    <tr>\n      <th>1086</th>\n      <td>99</td>\n      <td>2018</td>\n      <td>Agriculture</td>\n      <td>Central</td>\n      <td>24263.123866</td>\n      <td>3.284386</td>\n    </tr>\n    <tr>\n      <th>1087</th>\n      <td>99</td>\n      <td>2019</td>\n      <td>Agriculture</td>\n      <td>Central</td>\n      <td>24274.810459</td>\n      <td>4.047789</td>\n    </tr>\n    <tr>\n      <th>1088</th>\n      <td>99</td>\n      <td>2020</td>\n      <td>Agriculture</td>\n      <td>Central</td>\n      <td>24321.406314</td>\n      <td>7.244393</td>\n    </tr>\n  </tbody>\n</table>\n<p>1089 rows × 6 columns</p>\n</div>"
     },
     "execution_count": 2,
     "metadata": {},
     "output_type": "execute_result"
    }
   ],
   "source": [
    "def create_panel_data():\n",
    "    np.random.seed(69)\n",
    "    ids = range(1, 100) \n",
    "    years = range(2010, 2021)  \n",
    "    industries = ['Tech', 'Health', 'Finance', 'Education', 'Retail', 'Energy', 'Manufacturing', 'Transport', 'Services', 'Agriculture']  \n",
    "    regions = ['North', 'South', 'East', 'West', 'Central']  \n",
    "\n",
    "    industry_effects = {'Tech': 3, 'Health': 2, 'Finance': 4, 'Education': 1, 'Retail': 2, 'Energy': 5, 'Manufacturing': 3, 'Transport': 4, 'Services': 2, 'Agriculture': 3}\n",
    "    region_effects = {'North': 1, 'South': 2, 'East': 1, 'West': 3, 'Central': 2}\n",
    "\n",
    "    data_list = []\n",
    "    for id in ids:\n",
    "        industry = industries[id % len(industries)]  \n",
    "        region = regions[id % len(regions)]  \n",
    "        for year in years:\n",
    "            x = np.random.uniform(0, 10)\n",
    "            industry_effect = industry_effects[industry]\n",
    "            region_effect = region_effects[region]\n",
    "            y = 1000 + 10* x + 10 * year + 30 * id + 40* region_effect + np.random.normal(0, 2)  \n",
    "            data_list.append({'id': id, 'year': year, 'industry': industry, 'region': region, 'outcome': y, 'independent': x})\n",
    "\n",
    "    panel_data = pd.DataFrame(data_list)\n",
    "    return panel_data\n",
    "\n",
    "panel_data = create_panel_data()\n",
    "panel_data"
   ],
   "metadata": {
    "collapsed": false,
    "ExecuteTime": {
     "end_time": "2024-01-02T20:30:13.221525Z",
     "start_time": "2024-01-02T20:30:13.201555Z"
    }
   },
   "id": "dfd44d311bc333e1"
  },
  {
   "cell_type": "code",
   "execution_count": 3,
   "outputs": [
    {
     "data": {
      "text/plain": "<IPython.core.display.HTML object>",
      "text/html": "<h1 style='text-align:center;'>Regression Results</h1><pre style='text-align:center; font-family:monospace;'>Dep. Variable:          outcome    AIC:                  17807.639\nObservations:              1089    BIC:                  17817.625\nStandard Error Type: non-robust    Adj. AIC:              17807.65\nR-squared:                  0.0    Adj. BIC:             17817.663\nAdj. R-squared:            -0.0    F-statistic:              0.497\nLog-Likelihood:       -8901.819    Prob (F-statistic):       0.481\n\n            Variable  Coefficient Std-Error T-Statistic P>|t|     Conf. Interval              \n          -------------------------------------------------------------------------           \n           Intercept   22740.378    51.632    440.431    0.0  22639.068 - 22841.688           \n          independent    6.328      8.975      0.705    0.481    -11.282 - 23.939             \n</pre>"
     },
     "metadata": {},
     "output_type": "display_data"
    }
   ],
   "source": [
    "\n",
    "base = LinReg(df = panel_data,\n",
    "       outcome='outcome',\n",
    "       independent=['independent']).summary(content_type='html')"
   ],
   "metadata": {
    "collapsed": false,
    "ExecuteTime": {
     "end_time": "2024-01-02T20:30:13.228762Z",
     "start_time": "2024-01-02T20:30:13.214984Z"
    }
   },
   "id": "cc5ae09530e3e6df"
  },
  {
   "cell_type": "code",
   "execution_count": 4,
   "outputs": [
    {
     "data": {
      "text/plain": "<IPython.core.display.HTML object>",
      "text/html": "<div style='text-align:center; font-family:monospace;'>Regression Results</div>\n<div style='text-align:center; font-family:monospace;'>Model Type: Fixed Effects</div>\n<pre style='text-align:center; font-family:monospace;'>\nDep. Variable:          outcome    AIC:                  17806.102\nObservations:              1089    BIC:                  17816.088\nStandard Error Type:  clustered    Adj. AIC:             17806.113\nR-squared:                0.002    Adj. BIC:             17816.126\nAdj. R-squared:           0.001    F-statistic:              2.033\nLog-Likelihood:       -8901.051    Prob (F-statistic):       0.154\n\n            Variable  Coefficient Std-Error T-Statistic P>|t|     Conf. Interval              \n          -------------------------------------------------------------------------           \n           Intercept   22692.691    45.829    495.163    0.0  22602.768 - 22782.614           \n          independent    5.647      9.694      0.583     0.56    -13.374 - 24.669             \n</pre>"
     },
     "metadata": {},
     "output_type": "display_data"
    }
   ],
   "source": [
    "fe1 = FixedEffects(df = panel_data,\n",
    "                   outcome='outcome',\n",
    "                   independent=['independent'],\n",
    "                   fixed=['year'],\n",
    "                   standard_error_type='clustered')\n",
    "\n",
    "fe1.summary(content_type='html')\n"
   ],
   "metadata": {
    "collapsed": false,
    "ExecuteTime": {
     "end_time": "2024-01-02T20:30:13.284885Z",
     "start_time": "2024-01-02T20:30:13.232057Z"
    }
   },
   "id": "55bb9edf9994b71d"
  },
  {
   "cell_type": "code",
   "execution_count": 5,
   "outputs": [
    {
     "name": "stdout",
     "output_type": "stream",
     "text": [
      "                          PanelOLS Estimation Summary                           \n",
      "================================================================================\n",
      "Dep. Variable:                outcome   R-squared:                        0.0004\n",
      "Estimator:                   PanelOLS   R-squared (Between):              0.0025\n",
      "No. Observations:                1089   R-squared (Within):               0.3623\n",
      "Date:                Tue, Jan 02 2024   R-squared (Overall):              0.0025\n",
      "Time:                        21:30:13   Log-likelihood                   -8901.0\n",
      "Cov. Estimator:             Clustered                                           \n",
      "                                        F-statistic:                      0.3867\n",
      "Entities:                          99   P-value                           0.5341\n",
      "Avg Obs:                       11.000   Distribution:                  F(1,1077)\n",
      "Min Obs:                       11.000                                           \n",
      "Max Obs:                       11.000   F-statistic (robust):             0.3390\n",
      "                                        P-value                           0.5605\n",
      "Time periods:                      11   Distribution:                  F(1,1077)\n",
      "Avg Obs:                       99.000                                           \n",
      "Min Obs:                       99.000                                           \n",
      "Max Obs:                       99.000                                           \n",
      "                                                                                \n",
      "                              Parameter Estimates                              \n",
      "===============================================================================\n",
      "             Parameter  Std. Err.     T-stat    P-value    Lower CI    Upper CI\n",
      "-------------------------------------------------------------------------------\n",
      "independent     5.6473     9.6988     0.5823     0.5605     -13.383      24.678\n",
      "===============================================================================\n",
      "\n",
      "F-test for Poolability: 0.1521\n",
      "P-value: 0.9989\n",
      "Distribution: F(10,1077)\n",
      "\n",
      "Included effects: Time\n"
     ]
    }
   ],
   "source": [
    "panel_data = panel_data.set_index(['id', 'year'])\n",
    "\n",
    "# Define the model with year-level fixed effects\n",
    "# The 'TimeEffects' term accounts for year-specific fixed effects\n",
    "model = PanelOLS.from_formula('outcome ~ independent + TimeEffects', data=panel_data)\n",
    "\n",
    "# Fit the model\n",
    "results = model.fit(cov_type='clustered', cluster_time=True)\n",
    "\n",
    "# Print the results\n",
    "print(results)"
   ],
   "metadata": {
    "collapsed": false,
    "ExecuteTime": {
     "end_time": "2024-01-02T20:30:13.334467Z",
     "start_time": "2024-01-02T20:30:13.257524Z"
    }
   },
   "id": "b34aea369a1fac8c"
  },
  {
   "cell_type": "code",
   "execution_count": 6,
   "outputs": [
    {
     "ename": "ValueError",
     "evalue": "year is not a column in the data provided.",
     "output_type": "error",
     "traceback": [
      "\u001B[0;31m---------------------------------------------------------------------------\u001B[0m",
      "\u001B[0;31mValueError\u001B[0m                                Traceback (most recent call last)",
      "\u001B[0;32m/var/folders/x8/h5h7bn_54gncqkrgpt4wmclc0000gn/T/ipykernel_15139/710757455.py\u001B[0m in \u001B[0;36m<cell line: 1>\u001B[0;34m()\u001B[0m\n\u001B[0;32m----> 1\u001B[0;31m fe2 = FixedEffects(df = panel_data,\n\u001B[0m\u001B[1;32m      2\u001B[0m                    \u001B[0moutcome\u001B[0m\u001B[0;34m=\u001B[0m\u001B[0;34m'outcome'\u001B[0m\u001B[0;34m,\u001B[0m\u001B[0;34m\u001B[0m\u001B[0;34m\u001B[0m\u001B[0m\n\u001B[1;32m      3\u001B[0m                    \u001B[0mindependent\u001B[0m\u001B[0;34m=\u001B[0m\u001B[0;34m[\u001B[0m\u001B[0;34m'independent'\u001B[0m\u001B[0;34m]\u001B[0m\u001B[0;34m,\u001B[0m\u001B[0;34m\u001B[0m\u001B[0;34m\u001B[0m\u001B[0m\n\u001B[1;32m      4\u001B[0m                    \u001B[0mfixed\u001B[0m\u001B[0;34m=\u001B[0m\u001B[0;34m[\u001B[0m\u001B[0;34m'year'\u001B[0m\u001B[0;34m,\u001B[0m \u001B[0;34m'id'\u001B[0m\u001B[0;34m]\u001B[0m\u001B[0;34m,\u001B[0m\u001B[0;34m\u001B[0m\u001B[0;34m\u001B[0m\u001B[0m\n\u001B[1;32m      5\u001B[0m                    standard_error_type='clustered')\n",
      "\u001B[0;32m~/Desktop/projects/CausalKit/causalkit/src/models/panel.py\u001B[0m in \u001B[0;36m__init__\u001B[0;34m(self, df, outcome, independent, fixed, intercept, standard_error_type)\u001B[0m\n\u001B[1;32m     35\u001B[0m         \u001B[0mself\u001B[0m\u001B[0;34m.\u001B[0m\u001B[0mdummy_cols\u001B[0m \u001B[0;34m=\u001B[0m \u001B[0;34m[\u001B[0m\u001B[0;34m]\u001B[0m\u001B[0;34m\u001B[0m\u001B[0;34m\u001B[0m\u001B[0m\n\u001B[1;32m     36\u001B[0m         \u001B[0mself\u001B[0m\u001B[0;34m.\u001B[0m\u001B[0mfixed_effects_added\u001B[0m \u001B[0;34m=\u001B[0m \u001B[0;32mFalse\u001B[0m\u001B[0;34m\u001B[0m\u001B[0;34m\u001B[0m\u001B[0m\n\u001B[0;32m---> 37\u001B[0;31m         \u001B[0msuper\u001B[0m\u001B[0;34m(\u001B[0m\u001B[0;34m)\u001B[0m\u001B[0;34m.\u001B[0m\u001B[0m__init__\u001B[0m\u001B[0;34m(\u001B[0m\u001B[0mdf\u001B[0m\u001B[0;34m,\u001B[0m \u001B[0moutcome\u001B[0m\u001B[0;34m,\u001B[0m \u001B[0mindependent\u001B[0m\u001B[0;34m,\u001B[0m \u001B[0mintercept\u001B[0m\u001B[0;34m,\u001B[0m \u001B[0mstandard_error_type\u001B[0m\u001B[0;34m)\u001B[0m\u001B[0;34m\u001B[0m\u001B[0;34m\u001B[0m\u001B[0m\n\u001B[0m\u001B[1;32m     38\u001B[0m \u001B[0;34m\u001B[0m\u001B[0m\n\u001B[1;32m     39\u001B[0m     \u001B[0;32mdef\u001B[0m \u001B[0m_add_fixed_effects\u001B[0m\u001B[0;34m(\u001B[0m\u001B[0mself\u001B[0m\u001B[0;34m)\u001B[0m\u001B[0;34m:\u001B[0m\u001B[0;34m\u001B[0m\u001B[0;34m\u001B[0m\u001B[0m\n",
      "\u001B[0;32m~/Desktop/projects/CausalKit/causalkit/src/models/linreg.py\u001B[0m in \u001B[0;36m__init__\u001B[0;34m(self, df, outcome, independent, intercept, standard_error_type)\u001B[0m\n\u001B[1;32m     30\u001B[0m \u001B[0;34m\u001B[0m\u001B[0m\n\u001B[1;32m     31\u001B[0m         \u001B[0mself\u001B[0m\u001B[0;34m.\u001B[0m\u001B[0mstandard_error_type\u001B[0m \u001B[0;34m=\u001B[0m \u001B[0mstandard_error_type\u001B[0m\u001B[0;34m\u001B[0m\u001B[0;34m\u001B[0m\u001B[0m\n\u001B[0;32m---> 32\u001B[0;31m         super().__init__(df,\n\u001B[0m\u001B[1;32m     33\u001B[0m                          \u001B[0moutcome\u001B[0m\u001B[0;34m,\u001B[0m\u001B[0;34m\u001B[0m\u001B[0;34m\u001B[0m\u001B[0m\n\u001B[1;32m     34\u001B[0m                          \u001B[0mindependent\u001B[0m\u001B[0;34m,\u001B[0m\u001B[0;34m\u001B[0m\u001B[0;34m\u001B[0m\u001B[0m\n",
      "\u001B[0;32m~/Desktop/projects/CausalKit/causalkit/src/models/linear_model.py\u001B[0m in \u001B[0;36m__init__\u001B[0;34m(self, df, outcome, independent, intercept)\u001B[0m\n\u001B[1;32m     19\u001B[0m         \u001B[0mself\u001B[0m\u001B[0;34m.\u001B[0m\u001B[0m_initialize_attributes\u001B[0m\u001B[0;34m(\u001B[0m\u001B[0;34m)\u001B[0m\u001B[0;34m\u001B[0m\u001B[0;34m\u001B[0m\u001B[0m\n\u001B[1;32m     20\u001B[0m         \u001B[0mself\u001B[0m\u001B[0;34m.\u001B[0m\u001B[0m_set_attributes\u001B[0m\u001B[0;34m(\u001B[0m\u001B[0;34m)\u001B[0m\u001B[0;34m\u001B[0m\u001B[0;34m\u001B[0m\u001B[0m\n\u001B[0;32m---> 21\u001B[0;31m         \u001B[0mself\u001B[0m\u001B[0;34m.\u001B[0m\u001B[0m_fit\u001B[0m\u001B[0;34m(\u001B[0m\u001B[0;34m)\u001B[0m\u001B[0;34m\u001B[0m\u001B[0;34m\u001B[0m\u001B[0m\n\u001B[0m\u001B[1;32m     22\u001B[0m \u001B[0;34m\u001B[0m\u001B[0m\n\u001B[1;32m     23\u001B[0m     \u001B[0;32mdef\u001B[0m \u001B[0m_initialize_attributes\u001B[0m\u001B[0;34m(\u001B[0m\u001B[0mself\u001B[0m\u001B[0;34m)\u001B[0m\u001B[0;34m:\u001B[0m\u001B[0;34m\u001B[0m\u001B[0;34m\u001B[0m\u001B[0m\n",
      "\u001B[0;32m~/Desktop/projects/CausalKit/causalkit/src/models/panel.py\u001B[0m in \u001B[0;36m_fit\u001B[0;34m(self)\u001B[0m\n\u001B[1;32m     60\u001B[0m             \u001B[0;32mif\u001B[0m \u001B[0mlen\u001B[0m\u001B[0;34m(\u001B[0m\u001B[0mself\u001B[0m\u001B[0;34m.\u001B[0m\u001B[0mfixed_vars\u001B[0m\u001B[0;34m)\u001B[0m \u001B[0;34m<\u001B[0m \u001B[0;36m1\u001B[0m\u001B[0;34m:\u001B[0m\u001B[0;34m\u001B[0m\u001B[0;34m\u001B[0m\u001B[0m\n\u001B[1;32m     61\u001B[0m                 \u001B[0;32mraise\u001B[0m \u001B[0mValueError\u001B[0m\u001B[0;34m(\u001B[0m\u001B[0;34m\"You have not specified any levels to fix by. Look at adding a 'fixed' parameter.\"\u001B[0m\u001B[0;34m)\u001B[0m\u001B[0;34m\u001B[0m\u001B[0;34m\u001B[0m\u001B[0m\n\u001B[0;32m---> 62\u001B[0;31m             \u001B[0mself\u001B[0m\u001B[0;34m.\u001B[0m\u001B[0m_add_fixed_effects\u001B[0m\u001B[0;34m(\u001B[0m\u001B[0;34m)\u001B[0m\u001B[0;34m\u001B[0m\u001B[0;34m\u001B[0m\u001B[0m\n\u001B[0m\u001B[1;32m     63\u001B[0m         \u001B[0msuper\u001B[0m\u001B[0;34m(\u001B[0m\u001B[0;34m)\u001B[0m\u001B[0;34m.\u001B[0m\u001B[0m_fit\u001B[0m\u001B[0;34m(\u001B[0m\u001B[0;34m)\u001B[0m\u001B[0;34m\u001B[0m\u001B[0;34m\u001B[0m\u001B[0m\n\u001B[1;32m     64\u001B[0m \u001B[0;34m\u001B[0m\u001B[0m\n",
      "\u001B[0;32m~/Desktop/projects/CausalKit/causalkit/src/models/panel.py\u001B[0m in \u001B[0;36m_add_fixed_effects\u001B[0;34m(self)\u001B[0m\n\u001B[1;32m     44\u001B[0m         \u001B[0;32mfor\u001B[0m \u001B[0mlevel\u001B[0m \u001B[0;32min\u001B[0m \u001B[0mself\u001B[0m\u001B[0;34m.\u001B[0m\u001B[0mfixed_vars\u001B[0m\u001B[0;34m:\u001B[0m\u001B[0;34m\u001B[0m\u001B[0;34m\u001B[0m\u001B[0m\n\u001B[1;32m     45\u001B[0m             \u001B[0;32mif\u001B[0m \u001B[0mlevel\u001B[0m \u001B[0;32mnot\u001B[0m \u001B[0;32min\u001B[0m \u001B[0mself\u001B[0m\u001B[0;34m.\u001B[0m\u001B[0mdata\u001B[0m\u001B[0;34m.\u001B[0m\u001B[0mcolumns\u001B[0m\u001B[0;34m:\u001B[0m\u001B[0;34m\u001B[0m\u001B[0;34m\u001B[0m\u001B[0m\n\u001B[0;32m---> 46\u001B[0;31m                 \u001B[0;32mraise\u001B[0m \u001B[0mValueError\u001B[0m\u001B[0;34m(\u001B[0m\u001B[0;34mf\"{level} is not a column in the data provided.\"\u001B[0m\u001B[0;34m)\u001B[0m\u001B[0;34m\u001B[0m\u001B[0;34m\u001B[0m\u001B[0m\n\u001B[0m\u001B[1;32m     47\u001B[0m \u001B[0;34m\u001B[0m\u001B[0m\n\u001B[1;32m     48\u001B[0m             \u001B[0mdummies\u001B[0m \u001B[0;34m=\u001B[0m \u001B[0mpd\u001B[0m\u001B[0;34m.\u001B[0m\u001B[0mget_dummies\u001B[0m\u001B[0;34m(\u001B[0m\u001B[0mself\u001B[0m\u001B[0;34m.\u001B[0m\u001B[0mdata\u001B[0m\u001B[0;34m[\u001B[0m\u001B[0mlevel\u001B[0m\u001B[0;34m]\u001B[0m\u001B[0;34m.\u001B[0m\u001B[0mastype\u001B[0m\u001B[0;34m(\u001B[0m\u001B[0;34m'string'\u001B[0m\u001B[0;34m)\u001B[0m\u001B[0;34m,\u001B[0m \u001B[0mprefix\u001B[0m\u001B[0;34m=\u001B[0m\u001B[0;34mf'dummy_{level}'\u001B[0m\u001B[0;34m,\u001B[0m \u001B[0mdrop_first\u001B[0m\u001B[0;34m=\u001B[0m\u001B[0;32mTrue\u001B[0m\u001B[0;34m)\u001B[0m\u001B[0;34m.\u001B[0m\u001B[0mastype\u001B[0m\u001B[0;34m(\u001B[0m\u001B[0mint\u001B[0m\u001B[0;34m)\u001B[0m\u001B[0;34m\u001B[0m\u001B[0;34m\u001B[0m\u001B[0m\n",
      "\u001B[0;31mValueError\u001B[0m: year is not a column in the data provided."
     ]
    }
   ],
   "source": [
    "fe2 = FixedEffects(df = panel_data,\n",
    "                   outcome='outcome',\n",
    "                   independent=['independent'],\n",
    "                   fixed=['year', 'id'],\n",
    "                   standard_error_type='clustered')\n",
    "\n",
    "fe2.summary(content_type='html')"
   ],
   "metadata": {
    "collapsed": false,
    "ExecuteTime": {
     "end_time": "2024-01-02T20:30:13.524267Z",
     "start_time": "2024-01-02T20:30:13.312805Z"
    }
   },
   "id": "ba878098762af4c9"
  },
  {
   "cell_type": "code",
   "execution_count": null,
   "outputs": [],
   "source": [
    "panel_data = panel_data.set_index(['id', 'year'])\n",
    "\n",
    "# Define the model with both time and id level fixed effects\n",
    "# The 'EntityEffects' term accounts for id-specific fixed effects\n",
    "# The 'TimeEffects' term accounts for year-specific fixed effects\n",
    "model = PanelOLS.from_formula('outcome ~ independent + EntityEffects + TimeEffects', data=panel_data)\n",
    "\n",
    "# Fit the model\n",
    "results = model.fit(cov_type='clustered', cluster_entity=True, cluster_time=True)\n",
    "\n",
    "# Print the results\n",
    "print(results)"
   ],
   "metadata": {
    "collapsed": false,
    "ExecuteTime": {
     "start_time": "2024-01-02T20:30:13.521542Z"
    }
   },
   "id": "4261e45fe7dbb1a4"
  },
  {
   "cell_type": "code",
   "execution_count": null,
   "outputs": [],
   "source": [],
   "metadata": {
    "collapsed": false,
    "ExecuteTime": {
     "end_time": "2024-01-02T20:30:13.524527Z",
     "start_time": "2024-01-02T20:30:13.524388Z"
    }
   },
   "id": "c646e59ab97f8adb"
  },
  {
   "cell_type": "code",
   "execution_count": null,
   "outputs": [],
   "source": [
    "\"\"\"Year, id and region level fixed effects\"\"\"\n",
    "\n",
    "fe3 = FixedEffects(df = panel_data,\n",
    "                   outcome='outcome',\n",
    "                   independent=['independent'],\n",
    "                   fixed=['year', 'id', 'region']).summary(content_type='html')\n"
   ],
   "metadata": {
    "collapsed": false,
    "ExecuteTime": {
     "start_time": "2024-01-02T20:30:13.525955Z"
    }
   },
   "id": "52defccdd3fac709"
  },
  {
   "cell_type": "code",
   "execution_count": 6,
   "outputs": [],
   "source": [],
   "metadata": {
    "collapsed": false,
    "ExecuteTime": {
     "end_time": "2024-01-02T20:30:13.626892Z",
     "start_time": "2024-01-02T20:30:13.592953Z"
    }
   },
   "id": "3bd9f9d1a23f5eb5"
  },
  {
   "cell_type": "code",
   "execution_count": null,
   "outputs": [],
   "source": [],
   "metadata": {
    "collapsed": false
   },
   "id": "3c6008402f811c77"
  }
 ],
 "metadata": {
  "kernelspec": {
   "display_name": "Python 3",
   "language": "python",
   "name": "python3"
  },
  "language_info": {
   "codemirror_mode": {
    "name": "ipython",
    "version": 2
   },
   "file_extension": ".py",
   "mimetype": "text/x-python",
   "name": "python",
   "nbconvert_exporter": "python",
   "pygments_lexer": "ipython2",
   "version": "2.7.6"
  }
 },
 "nbformat": 4,
 "nbformat_minor": 5
}
