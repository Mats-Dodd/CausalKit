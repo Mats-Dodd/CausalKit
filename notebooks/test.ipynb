{
 "cells": [
  {
   "cell_type": "code",
   "execution_count": 1,
   "id": "initial_id",
   "metadata": {
    "collapsed": true,
    "ExecuteTime": {
     "end_time": "2023-12-30T20:11:49.146049Z",
     "start_time": "2023-12-30T20:11:47.707131Z"
    }
   },
   "outputs": [],
   "source": [
    "from src.models.linreg import LinReg\n",
    "\n",
    "import numpy as np\n",
    "import matplotlib.pyplot as plt\n",
    "import pandas as pd\n",
    "import statsmodels.api as sm"
   ]
  },
  {
   "cell_type": "code",
   "execution_count": 5,
   "outputs": [],
   "source": [
    "np.random.seed(69)\n",
    "x = np.linspace(0, 5, 50)\n",
    "z = np.linspace(3, 8, 50)\n",
    "y = 1 + 3 * x + 5*z + np.random.normal(0, 2, 50)\n",
    "data = pd.DataFrame({'outcome': y,\n",
    "                     'x': x,\n",
    "                     'z': z})"
   ],
   "metadata": {
    "collapsed": false,
    "ExecuteTime": {
     "end_time": "2023-12-30T20:12:02.563719Z",
     "start_time": "2023-12-30T20:12:02.557405Z"
    }
   },
   "id": "dfd44d311bc333e1"
  },
  {
   "cell_type": "code",
   "execution_count": 10,
   "outputs": [
    {
     "data": {
      "text/plain": "['z', 'z*x^2', 'z*x^1', 'x', 'z*x^3']"
     },
     "execution_count": 10,
     "metadata": {},
     "output_type": "execute_result"
    }
   ],
   "source": [
    "linreg = LinReg(df=data, outcome=\"outcome\", independent=[\"z*x^3\"])\n",
    "linreg.independent_vars"
   ],
   "metadata": {
    "collapsed": false,
    "ExecuteTime": {
     "end_time": "2023-12-30T20:12:37.350720Z",
     "start_time": "2023-12-30T20:12:37.326882Z"
    }
   },
   "id": "799bed87bc86ebc1"
  },
  {
   "cell_type": "code",
   "execution_count": 11,
   "outputs": [
    {
     "data": {
      "text/plain": "      outcome         x         z      z*x^1       z*x^2        z*x^3\n0   17.831014  0.000000  3.000000   0.000000    0.000000     0.000000\n1   15.609243  0.102041  3.102041   0.316535    0.032299     0.003296\n2   19.957243  0.204082  3.204082   0.653894    0.133448     0.027234\n3   17.246179  0.306122  3.306122   1.012078    0.309820     0.094843\n4   16.070335  0.408163  3.408163   1.391087    0.567791     0.231751\n5   20.877085  0.510204  3.510204   1.790920    0.913735     0.466191\n6   23.309690  0.612245  3.612245   2.211579    1.354028     0.828997\n7   23.826884  0.714286  3.714286   2.653061    1.895044     1.353603\n8   24.235700  0.816327  3.816327   3.115369    2.543158     2.076047\n9   24.725722  0.918367  3.918367   3.598501    3.304745     3.034970\n10  23.713791  1.020408  4.020408   4.102457    4.186181     4.271613\n11  23.935228  1.122449  4.122449   4.627239    5.193839     5.829820\n12  24.115775  1.224490  4.224490   5.172845    6.334095     7.756035\n13  28.973411  1.326531  4.326531   5.739275    7.613324    10.099308\n14  24.770890  1.428571  4.428571   6.326531    9.037901    12.911287\n15  27.996104  1.530612  4.530612   6.934611   10.614200    16.246224\n16  28.066262  1.632653  4.632653   7.563515   12.348596    20.160973\n17  25.983304  1.734694  4.734694   8.213244   14.247465    24.714990\n18  26.996568  1.836735  4.836735   8.883798   16.317181    29.970332\n19  32.039525  1.938776  4.938776   9.575177   18.564119    35.991659\n20  34.195674  2.040816  5.040816  10.287380   20.994654    42.846232\n21  30.802928  2.142857  5.142857  11.020408   23.615160    50.603915\n22  35.438394  2.244898  5.244898  11.774261   26.432014    59.337174\n23  32.551201  2.346939  5.346939  12.548938   29.451589    69.121076\n24  31.627983  2.448980  5.448980  13.344440   32.680261    80.033292\n25  34.020420  2.551020  5.551020  14.160766   36.124404    92.154092\n26  37.561743  2.653061  5.653061  14.997918   39.790393   105.566350\n27  33.843590  2.755102  5.755102  15.855893   43.684604   120.355542\n28  38.895454  2.857143  5.857143  16.734694   47.813411   136.609746\n29  40.277841  2.959184  5.959184  17.634319   52.183189   154.419641\n30  38.569031  3.061224  6.061224  18.554769   56.800313   173.878509\n31  44.489649  3.163265  6.163265  19.496043   61.671157   195.082233\n32  42.827115  3.265306  6.265306  20.458142   66.802098   218.129299\n33  41.634884  3.367347  6.367347  21.441066   72.199509   243.120795\n34  41.431099  3.469388  6.469388  22.444815   77.869765   270.160410\n35  40.005353  3.571429  6.571429  23.469388   83.819242   299.354436\n36  44.062285  3.673469  6.673469  24.514786   90.054314   330.811766\n37  45.655841  3.775510  6.775510  25.581008   96.581356   364.643897\n38  49.771941  3.877551  6.877551  26.668055  103.406744   400.964925\n39  47.456268  3.979592  6.979592  27.775927  110.536851   439.891550\n40  48.337924  4.081633  7.081633  28.904623  117.978053   481.543075\n41  46.707517  4.183673  7.183673  30.054144  125.736725   526.041402\n42  49.916368  4.285714  7.285714  31.224490  133.819242   573.511037\n43  50.893700  4.387755  7.387755  32.415660  142.231978   624.079088\n44  52.087273  4.489796  7.489796  33.627655  150.981309   677.875264\n45  54.282215  4.591837  7.591837  34.860475  160.073609   735.031877\n46  50.401211  4.693878  7.693878  36.114119  169.515253   795.683841\n47  51.536609  4.795918  7.795918  37.388588  179.312616   859.968670\n48  57.044965  4.897959  7.897959  38.683882  189.472074   928.026483\n49  56.791864  5.000000  8.000000  40.000000  200.000000  1000.000000",
      "text/html": "<div>\n<style scoped>\n    .dataframe tbody tr th:only-of-type {\n        vertical-align: middle;\n    }\n\n    .dataframe tbody tr th {\n        vertical-align: top;\n    }\n\n    .dataframe thead th {\n        text-align: right;\n    }\n</style>\n<table border=\"1\" class=\"dataframe\">\n  <thead>\n    <tr style=\"text-align: right;\">\n      <th></th>\n      <th>outcome</th>\n      <th>x</th>\n      <th>z</th>\n      <th>z*x^1</th>\n      <th>z*x^2</th>\n      <th>z*x^3</th>\n    </tr>\n  </thead>\n  <tbody>\n    <tr>\n      <th>0</th>\n      <td>17.831014</td>\n      <td>0.000000</td>\n      <td>3.000000</td>\n      <td>0.000000</td>\n      <td>0.000000</td>\n      <td>0.000000</td>\n    </tr>\n    <tr>\n      <th>1</th>\n      <td>15.609243</td>\n      <td>0.102041</td>\n      <td>3.102041</td>\n      <td>0.316535</td>\n      <td>0.032299</td>\n      <td>0.003296</td>\n    </tr>\n    <tr>\n      <th>2</th>\n      <td>19.957243</td>\n      <td>0.204082</td>\n      <td>3.204082</td>\n      <td>0.653894</td>\n      <td>0.133448</td>\n      <td>0.027234</td>\n    </tr>\n    <tr>\n      <th>3</th>\n      <td>17.246179</td>\n      <td>0.306122</td>\n      <td>3.306122</td>\n      <td>1.012078</td>\n      <td>0.309820</td>\n      <td>0.094843</td>\n    </tr>\n    <tr>\n      <th>4</th>\n      <td>16.070335</td>\n      <td>0.408163</td>\n      <td>3.408163</td>\n      <td>1.391087</td>\n      <td>0.567791</td>\n      <td>0.231751</td>\n    </tr>\n    <tr>\n      <th>5</th>\n      <td>20.877085</td>\n      <td>0.510204</td>\n      <td>3.510204</td>\n      <td>1.790920</td>\n      <td>0.913735</td>\n      <td>0.466191</td>\n    </tr>\n    <tr>\n      <th>6</th>\n      <td>23.309690</td>\n      <td>0.612245</td>\n      <td>3.612245</td>\n      <td>2.211579</td>\n      <td>1.354028</td>\n      <td>0.828997</td>\n    </tr>\n    <tr>\n      <th>7</th>\n      <td>23.826884</td>\n      <td>0.714286</td>\n      <td>3.714286</td>\n      <td>2.653061</td>\n      <td>1.895044</td>\n      <td>1.353603</td>\n    </tr>\n    <tr>\n      <th>8</th>\n      <td>24.235700</td>\n      <td>0.816327</td>\n      <td>3.816327</td>\n      <td>3.115369</td>\n      <td>2.543158</td>\n      <td>2.076047</td>\n    </tr>\n    <tr>\n      <th>9</th>\n      <td>24.725722</td>\n      <td>0.918367</td>\n      <td>3.918367</td>\n      <td>3.598501</td>\n      <td>3.304745</td>\n      <td>3.034970</td>\n    </tr>\n    <tr>\n      <th>10</th>\n      <td>23.713791</td>\n      <td>1.020408</td>\n      <td>4.020408</td>\n      <td>4.102457</td>\n      <td>4.186181</td>\n      <td>4.271613</td>\n    </tr>\n    <tr>\n      <th>11</th>\n      <td>23.935228</td>\n      <td>1.122449</td>\n      <td>4.122449</td>\n      <td>4.627239</td>\n      <td>5.193839</td>\n      <td>5.829820</td>\n    </tr>\n    <tr>\n      <th>12</th>\n      <td>24.115775</td>\n      <td>1.224490</td>\n      <td>4.224490</td>\n      <td>5.172845</td>\n      <td>6.334095</td>\n      <td>7.756035</td>\n    </tr>\n    <tr>\n      <th>13</th>\n      <td>28.973411</td>\n      <td>1.326531</td>\n      <td>4.326531</td>\n      <td>5.739275</td>\n      <td>7.613324</td>\n      <td>10.099308</td>\n    </tr>\n    <tr>\n      <th>14</th>\n      <td>24.770890</td>\n      <td>1.428571</td>\n      <td>4.428571</td>\n      <td>6.326531</td>\n      <td>9.037901</td>\n      <td>12.911287</td>\n    </tr>\n    <tr>\n      <th>15</th>\n      <td>27.996104</td>\n      <td>1.530612</td>\n      <td>4.530612</td>\n      <td>6.934611</td>\n      <td>10.614200</td>\n      <td>16.246224</td>\n    </tr>\n    <tr>\n      <th>16</th>\n      <td>28.066262</td>\n      <td>1.632653</td>\n      <td>4.632653</td>\n      <td>7.563515</td>\n      <td>12.348596</td>\n      <td>20.160973</td>\n    </tr>\n    <tr>\n      <th>17</th>\n      <td>25.983304</td>\n      <td>1.734694</td>\n      <td>4.734694</td>\n      <td>8.213244</td>\n      <td>14.247465</td>\n      <td>24.714990</td>\n    </tr>\n    <tr>\n      <th>18</th>\n      <td>26.996568</td>\n      <td>1.836735</td>\n      <td>4.836735</td>\n      <td>8.883798</td>\n      <td>16.317181</td>\n      <td>29.970332</td>\n    </tr>\n    <tr>\n      <th>19</th>\n      <td>32.039525</td>\n      <td>1.938776</td>\n      <td>4.938776</td>\n      <td>9.575177</td>\n      <td>18.564119</td>\n      <td>35.991659</td>\n    </tr>\n    <tr>\n      <th>20</th>\n      <td>34.195674</td>\n      <td>2.040816</td>\n      <td>5.040816</td>\n      <td>10.287380</td>\n      <td>20.994654</td>\n      <td>42.846232</td>\n    </tr>\n    <tr>\n      <th>21</th>\n      <td>30.802928</td>\n      <td>2.142857</td>\n      <td>5.142857</td>\n      <td>11.020408</td>\n      <td>23.615160</td>\n      <td>50.603915</td>\n    </tr>\n    <tr>\n      <th>22</th>\n      <td>35.438394</td>\n      <td>2.244898</td>\n      <td>5.244898</td>\n      <td>11.774261</td>\n      <td>26.432014</td>\n      <td>59.337174</td>\n    </tr>\n    <tr>\n      <th>23</th>\n      <td>32.551201</td>\n      <td>2.346939</td>\n      <td>5.346939</td>\n      <td>12.548938</td>\n      <td>29.451589</td>\n      <td>69.121076</td>\n    </tr>\n    <tr>\n      <th>24</th>\n      <td>31.627983</td>\n      <td>2.448980</td>\n      <td>5.448980</td>\n      <td>13.344440</td>\n      <td>32.680261</td>\n      <td>80.033292</td>\n    </tr>\n    <tr>\n      <th>25</th>\n      <td>34.020420</td>\n      <td>2.551020</td>\n      <td>5.551020</td>\n      <td>14.160766</td>\n      <td>36.124404</td>\n      <td>92.154092</td>\n    </tr>\n    <tr>\n      <th>26</th>\n      <td>37.561743</td>\n      <td>2.653061</td>\n      <td>5.653061</td>\n      <td>14.997918</td>\n      <td>39.790393</td>\n      <td>105.566350</td>\n    </tr>\n    <tr>\n      <th>27</th>\n      <td>33.843590</td>\n      <td>2.755102</td>\n      <td>5.755102</td>\n      <td>15.855893</td>\n      <td>43.684604</td>\n      <td>120.355542</td>\n    </tr>\n    <tr>\n      <th>28</th>\n      <td>38.895454</td>\n      <td>2.857143</td>\n      <td>5.857143</td>\n      <td>16.734694</td>\n      <td>47.813411</td>\n      <td>136.609746</td>\n    </tr>\n    <tr>\n      <th>29</th>\n      <td>40.277841</td>\n      <td>2.959184</td>\n      <td>5.959184</td>\n      <td>17.634319</td>\n      <td>52.183189</td>\n      <td>154.419641</td>\n    </tr>\n    <tr>\n      <th>30</th>\n      <td>38.569031</td>\n      <td>3.061224</td>\n      <td>6.061224</td>\n      <td>18.554769</td>\n      <td>56.800313</td>\n      <td>173.878509</td>\n    </tr>\n    <tr>\n      <th>31</th>\n      <td>44.489649</td>\n      <td>3.163265</td>\n      <td>6.163265</td>\n      <td>19.496043</td>\n      <td>61.671157</td>\n      <td>195.082233</td>\n    </tr>\n    <tr>\n      <th>32</th>\n      <td>42.827115</td>\n      <td>3.265306</td>\n      <td>6.265306</td>\n      <td>20.458142</td>\n      <td>66.802098</td>\n      <td>218.129299</td>\n    </tr>\n    <tr>\n      <th>33</th>\n      <td>41.634884</td>\n      <td>3.367347</td>\n      <td>6.367347</td>\n      <td>21.441066</td>\n      <td>72.199509</td>\n      <td>243.120795</td>\n    </tr>\n    <tr>\n      <th>34</th>\n      <td>41.431099</td>\n      <td>3.469388</td>\n      <td>6.469388</td>\n      <td>22.444815</td>\n      <td>77.869765</td>\n      <td>270.160410</td>\n    </tr>\n    <tr>\n      <th>35</th>\n      <td>40.005353</td>\n      <td>3.571429</td>\n      <td>6.571429</td>\n      <td>23.469388</td>\n      <td>83.819242</td>\n      <td>299.354436</td>\n    </tr>\n    <tr>\n      <th>36</th>\n      <td>44.062285</td>\n      <td>3.673469</td>\n      <td>6.673469</td>\n      <td>24.514786</td>\n      <td>90.054314</td>\n      <td>330.811766</td>\n    </tr>\n    <tr>\n      <th>37</th>\n      <td>45.655841</td>\n      <td>3.775510</td>\n      <td>6.775510</td>\n      <td>25.581008</td>\n      <td>96.581356</td>\n      <td>364.643897</td>\n    </tr>\n    <tr>\n      <th>38</th>\n      <td>49.771941</td>\n      <td>3.877551</td>\n      <td>6.877551</td>\n      <td>26.668055</td>\n      <td>103.406744</td>\n      <td>400.964925</td>\n    </tr>\n    <tr>\n      <th>39</th>\n      <td>47.456268</td>\n      <td>3.979592</td>\n      <td>6.979592</td>\n      <td>27.775927</td>\n      <td>110.536851</td>\n      <td>439.891550</td>\n    </tr>\n    <tr>\n      <th>40</th>\n      <td>48.337924</td>\n      <td>4.081633</td>\n      <td>7.081633</td>\n      <td>28.904623</td>\n      <td>117.978053</td>\n      <td>481.543075</td>\n    </tr>\n    <tr>\n      <th>41</th>\n      <td>46.707517</td>\n      <td>4.183673</td>\n      <td>7.183673</td>\n      <td>30.054144</td>\n      <td>125.736725</td>\n      <td>526.041402</td>\n    </tr>\n    <tr>\n      <th>42</th>\n      <td>49.916368</td>\n      <td>4.285714</td>\n      <td>7.285714</td>\n      <td>31.224490</td>\n      <td>133.819242</td>\n      <td>573.511037</td>\n    </tr>\n    <tr>\n      <th>43</th>\n      <td>50.893700</td>\n      <td>4.387755</td>\n      <td>7.387755</td>\n      <td>32.415660</td>\n      <td>142.231978</td>\n      <td>624.079088</td>\n    </tr>\n    <tr>\n      <th>44</th>\n      <td>52.087273</td>\n      <td>4.489796</td>\n      <td>7.489796</td>\n      <td>33.627655</td>\n      <td>150.981309</td>\n      <td>677.875264</td>\n    </tr>\n    <tr>\n      <th>45</th>\n      <td>54.282215</td>\n      <td>4.591837</td>\n      <td>7.591837</td>\n      <td>34.860475</td>\n      <td>160.073609</td>\n      <td>735.031877</td>\n    </tr>\n    <tr>\n      <th>46</th>\n      <td>50.401211</td>\n      <td>4.693878</td>\n      <td>7.693878</td>\n      <td>36.114119</td>\n      <td>169.515253</td>\n      <td>795.683841</td>\n    </tr>\n    <tr>\n      <th>47</th>\n      <td>51.536609</td>\n      <td>4.795918</td>\n      <td>7.795918</td>\n      <td>37.388588</td>\n      <td>179.312616</td>\n      <td>859.968670</td>\n    </tr>\n    <tr>\n      <th>48</th>\n      <td>57.044965</td>\n      <td>4.897959</td>\n      <td>7.897959</td>\n      <td>38.683882</td>\n      <td>189.472074</td>\n      <td>928.026483</td>\n    </tr>\n    <tr>\n      <th>49</th>\n      <td>56.791864</td>\n      <td>5.000000</td>\n      <td>8.000000</td>\n      <td>40.000000</td>\n      <td>200.000000</td>\n      <td>1000.000000</td>\n    </tr>\n  </tbody>\n</table>\n</div>"
     },
     "execution_count": 11,
     "metadata": {},
     "output_type": "execute_result"
    }
   ],
   "source": [
    "linreg.data"
   ],
   "metadata": {
    "collapsed": false,
    "ExecuteTime": {
     "end_time": "2023-12-30T20:12:38.137961Z",
     "start_time": "2023-12-30T20:12:38.126239Z"
    }
   },
   "id": "bdab83a1c6ae35e7"
  },
  {
   "cell_type": "code",
   "execution_count": 12,
   "outputs": [
    {
     "data": {
      "text/plain": "<IPython.core.display.HTML object>",
      "text/html": "<h2 style='text-align: center;'>Regression Results</h2><div class='model-container'><div class='model-column'>\n                    <div class='model-row'>\n                        <div class=\"model-header\">\n                            <div class=\"hover-box\">\n                                Dep. Variable:\n                                <div class=\"hover-content\">\n                The dependent variable/outcome is the main variable of interest you are trying to \n                explain or predict. It is the outcome that changes in response to the independent variables. In a \n                regression model, this is what you are modeling as a function of other variables.</div>\n                            </div>\n                        </div>\n                        <div class='model-data'>outcome</div>\n                    </div>\n                    \n                    <div class='model-row'>\n                        <div class=\"model-header\">\n                            <div class=\"hover-box\">\n                                Observations:\n                                <div class=\"hover-content\">\n                This refers to the number of data points or individual records used in your regression to estimate the \n                model parameters. A higher number of observations can provide more information, but it's also important \n                that these observations are representative of the population.</div>\n                            </div>\n                        </div>\n                        <div class='model-data'>50</div>\n                    </div>\n                    \n                    <div class='model-row'>\n                        <div class=\"model-header\">\n                            <div class=\"hover-box\">\n                                Standard Error Type:\n                                <div class=\"hover-content\">\n                The standard error type indicates the measurement of variability for coefficient estimates. Different \n                types (like robust standard errors) can be chosen based on data characteristics. In practice, if \n                there's suspicion of heteroskedasticity, using robust standard errors is a common approach</div>\n                            </div>\n                        </div>\n                        <div class='model-data'>non-robust</div>\n                    </div>\n                    \n                    <div class='model-row'>\n                        <div class=\"model-header\">\n                            <div class=\"hover-box\">\n                                R-squared:\n                                <div class=\"hover-content\">\n                R-squared is a statistical measure that represents the proportion of the variance in the dependent \n                variable that is predictable from the independent variables. It ranges from 0 to 1, with higher values \n                indicating a better fit of the model. It's a quick way to see how well your model explains the \n                variation in the data.</div>\n                            </div>\n                        </div>\n                        <div class='model-data'>0.972</div>\n                    </div>\n                    \n                    <div class='model-row'>\n                        <div class=\"model-header\">\n                            <div class=\"hover-box\">\n                                Adj. R-squared:\n                                <div class=\"hover-content\">\n                Adjusted for the number of predictors, it provides a more accurate measure of the model's explanatory \n                power. It's lower than R-squared, penalizing excessive use of unhelpful predictors. Ideally,\n                 Adj. R-squared should be close to the R-squared value for a well-specified model.</div>\n                            </div>\n                        </div>\n                        <div class='model-data'>0.969</div>\n                    </div>\n                    \n                    <div class='model-row'>\n                        <div class=\"model-header\">\n                            <div class=\"hover-box\">\n                                Log-Likelihood:\n                                <div class=\"hover-content\">\n                Reflects the likelihood of observing the given data under the model. Higher values \n                indicate better model fit. In model comparisons, a higher log-likelihood generally signifies a better \n                model, especially when comparing models with a similar number of parameters.</div>\n                            </div>\n                        </div>\n                        <div class='model-data'>-105.039</div>\n                    </div>\n                    </div><div class='model-column'>\n                    <div class='model-row'>\n                        <div class=\"model-header\">\n                            <div class=\"hover-box\">\n                                AIC:\n                                <div class=\"hover-content\">\n                Balances model fit and complexity, penalizing extra parameters. Lower AIC suggests a better model. \n                A rule of thumb is that a difference in AIC values of more than 2 indicates a noticeable difference in\n                 model quality.</div>\n                            </div>\n                        </div>\n                        <div class='model-data'>222.077</div>\n                    </div>\n                    \n                    <div class='model-row'>\n                        <div class=\"model-header\">\n                            <div class=\"hover-box\">\n                                BIC:\n                                <div class=\"hover-content\">\n                Similar to AIC, but with a stricter penalty for model complexity. Lower BIC values indicate a \n                better model. BIC is particularly useful in larger datasets and when comparing models with different \n                numbers of parameters.</div>\n                            </div>\n                        </div>\n                        <div class='model-data'>233.549</div>\n                    </div>\n                    \n                    <div class='model-row'>\n                        <div class=\"model-header\">\n                            <div class=\"hover-box\">\n                                Adj. AIC:\n                                <div class=\"hover-content\">\n            Adjusts AIC for sample size. Like AIC, lower values suggest a better model. This adjustment is especially \n            important in smaller samples or when comparing models with vastly different numbers of observations.</div>\n                            </div>\n                        </div>\n                        <div class='model-data'>224.031</div>\n                    </div>\n                    \n                    <div class='model-row'>\n                        <div class=\"model-header\">\n                            <div class=\"hover-box\">\n                                Adj. BIC:\n                                <div class=\"hover-content\">\n            Adjusts BIC for sample size, useful in smaller datasets. Lower values indicate a better \n            model. Adjusted BIC is crucial for small sample sizes, providing a more accurate comparison of models.</div>\n                            </div>\n                        </div>\n                        <div class='model-data'>237.37</div>\n                    </div>\n                    \n                    <div class='model-row'>\n                        <div class=\"model-header\">\n                            <div class=\"hover-box\">\n                                F-statistic:\n                                <div class=\"hover-content\">\n            Tests the overall significance of the model. A higher value indicates a better model. As a rule of thumb,\n             an F-statistic greater than 10 is often considered indicative of a strong relationship between the \n             dependent and independent variables.</div>\n                            </div>\n                        </div>\n                        <div class='model-data'>302.335</div>\n                    </div>\n                    \n                    <div class='model-row'>\n                        <div class=\"model-header\">\n                            <div class=\"hover-box\">\n                                Prob (F-statistic):\n                                <div class=\"hover-content\">Indicates the probability of observing the given F-statistic if no independent \n            variables affect the dependent variable. Lower values suggest significant model fit. Typically, a \n            Prob (F-statistic) less than 0.05 indicates that the model is statistically significant.</div>\n                            </div>\n                        </div>\n                        <div class='model-data'>0.0</div>\n                    </div>\n                    </div></div></div><hr style='border-style: dashed;'>\n            <style>\n                .model-container {\n                    display: flex;\n                    justify-content: center;\n                    margin-bottom: 20px;\n                }\n            \n                .model-column {\n                    display: flex;\n                    flex-direction: column;\n                    margin-right: 10px;\n                }\n            \n                .model-row {\n                    display: flex;\n                    align-items: center;\n                    margin-bottom: 5px;\n                }\n            \n                .model-header {\n                    min-width: 150px; /* Adjust this value as needed for alignment */\n                }\n            \n                .model-header .hover-box {\n                    cursor: pointer;\n                    position: relative;\n                    display: inline-block;\n                }\n            \n                .model-header .hover-content {\n                    display: none;\n                    position: absolute;\n                    background-color: grey;\n                    border: 1px solid black;\n                    padding: 15px;\n                    width: 350px;\n                    z-index: 1;\n                    white-space: wrap;\n                }\n            \n                .model-header:hover .hover-content {\n                    display: block;\n                }\n            \n                .model-data {\n                    text-align: left;\n                }\n            \n                .model-spacer {\n                    width: 20px; /* Adjust this width to increase or decrease the space */\n                }\n            \n                .model-key {\n                    flex: 1;\n                    text-align: right;\n                    margin-right: 10px;\n                }\n            \n                .model-value {\n                    flex: 1;\n                    text-align: left;\n                }\n            \n                .model-header .hover-box {\n                    cursor: pointer;\n                    position: relative;\n                    display: inline-block;\n                }\n            \n                .model-header .hover-content {\n                    display: none;\n                    position: absolute;\n                    background-color: grey;\n                    border: 1px solid black;\n                    padding: 15px;\n                    width: 350px;\n                    z-index: 1;\n                    white-space: wrap;\n                }\n            \n                .model-header:hover .hover-content {\n                    display: block;\n                    }\n            \n            </style>\n            \n                        <style>\n                        .container {\n                            display: flex;\n                            justify-content: center;\n                            align-items: flex-start;\n                        }\n                        \n                        .column {\n                            display: flex;\n                            flex-direction: column;\n                            align-items: center;\n                            margin-right: 10px;\n                        }\n                        \n                        .header .hover-box {\n                            cursor: pointer;\n                            position: relative;\n                            display: inline-block;\n                        }\n                        \n                        .header .hover-content {\n                            display: none;\n                            position: absolute;\n                            background-color: grey;\n                            border: 1px solid black;\n                            padding: 15px;\n                            width: 350px;\n                            z-index: 1;\n                            white-space: wrap;\n                        }\n                        \n                        .header:hover .hover-content {\n                            display: block;\n                        }\n                        \n                        .data-cell {\n                            text-align: center;\n                            margin: 2px 0;\n                        }\n                        \n                        .red-light {\n                            color: red; /* Light shade for P>|t| < 0.05 */\n                        }\n                        \n                        .red-medium {\n                            color: darkred; /* Medium shade for P>|t| < 0.01 */\n                        }\n                        \n                        .red-deep {\n                            color: maroon; /* Deep shade for P>|t| < 0.001 */\n                        }\n                        </style>\n                        <div class='container'><div class='column'>\n                            <div class='header'>\n                                <div class=\"hover-box\">\n                                    Variable\n                                    <div class=\"hover-content\">\n                This is the independent variable in the regression model, which is the factor being manipulated \n                or changed to observe its effect on the dependent variable.\n                </div>\n                                </div>\n                            </div>\n                            <hr style='border-style: dashed; width: 100%;'><div class='data-cell'>Intercept</div><div class='data-cell'>z</div><div class='data-cell'>z*x^2</div><div class='data-cell'>z*x^1</div><div class='data-cell'>x</div><div class='data-cell'>z*x^3</div></div><div class='column'>\n                            <div class='header'>\n                                <div class=\"hover-box\">\n                                    Coefficient\n                                    <div class=\"hover-content\">\n                This represents the coefficient estimate of the variable, indicating how much the dependent variable \n                is expected to change when the independent variable changes by one unit.\n                </div>\n                                </div>\n                            </div>\n                            <hr style='border-style: dashed; width: 100%;'><div class='data-cell'>-1.443</div><div class='data-cell'>6.021</div><div class='data-cell'>0.565</div><div class='data-cell'>-2.795</div><div class='data-cell'>10.349</div><div class='data-cell'>-0.044</div></div><div class='column'>\n                            <div class='header'>\n                                <div class=\"hover-box\">\n                                    Std-Error\n                                    <div class=\"hover-content\">\n                This stands for the standard error of the coefficient estimate, which measures the average distance that\n                the estimated coefficients are from the actual average value of the coefficients.\n                </div>\n                                </div>\n                            </div>\n                            <hr style='border-style: dashed; width: 100%;'><div class='data-cell'>6.602</div><div class='data-cell'>1.916</div><div class='data-cell'>1.209</div><div class='data-cell'>6.686</div><div class='data-cell'>21.698</div><div class='data-cell'>0.093</div></div><div class='column'>\n                            <div class='header'>\n                                <div class=\"hover-box\">\n                                    T-Statistic\n                                    <div class=\"hover-content\">\n                The T- Statistic helps determining whether there \n                is a significant relationship between the independent and dependent variables by comparing the estimated \n                coefficient to its standard error.\n                </div>\n                                </div>\n                            </div>\n                            <hr style='border-style: dashed; width: 100%;'><div class='data-cell'>-0.218</div><div class='data-cell'>3.143</div><div class='data-cell'>0.467</div><div class='data-cell'>-0.418</div><div class='data-cell'>0.477</div><div class='data-cell'>-0.474</div></div><div class='column'>\n                            <div class='header'>\n                                <div class=\"hover-box\">\n                                    P>|t|\n                                    <div class=\"hover-content\">\n                This denotes the p-value, which indicates the probability of observing the data, or something more extreme,\n                assuming the null hypothesis is true. \n                </div>\n                                </div>\n                            </div>\n                            <hr style='border-style: dashed; width: 100%;'><div class='data-cell'>0.828</div><div class='data-cell red-medium'>0.003</div><div class='data-cell'>0.643</div><div class='data-cell'>0.678</div><div class='data-cell'>0.636</div><div class='data-cell'>0.638</div></div><div class='column'>\n                            <div class='header'>\n                                <div class=\"hover-box\">\n                                    Conf. Interval\n                                    <div class=\"hover-content\">\n                The 95% CI for the coefficient estimate. If we were to take many samples and build a \n                confidence interval from each of them, 95% of these intervals would contain the true coefficient value.\n                </div>\n                                </div>\n                            </div>\n                            <hr style='border-style: dashed; width: 100%;'><div class='data-cell'>-14.748 - 11.863</div><div class='data-cell'>2.161 - 9.882</div><div class='data-cell'>-1.873 - 3.002</div><div class='data-cell'>-16.27 - 10.68</div><div class='data-cell'>-33.381 - 54.079</div><div class='data-cell'>-0.23 - 0.143</div></div></div>"
     },
     "metadata": {},
     "output_type": "display_data"
    }
   ],
   "source": [
    "linreg.summary()"
   ],
   "metadata": {
    "collapsed": false,
    "ExecuteTime": {
     "end_time": "2023-12-30T20:12:38.724324Z",
     "start_time": "2023-12-30T20:12:38.716376Z"
    }
   },
   "id": "8f26308d331243a9"
  },
  {
   "cell_type": "code",
   "execution_count": null,
   "outputs": [],
   "source": [
    "linreg.summary(content_type='simple')"
   ],
   "metadata": {
    "collapsed": false,
    "ExecuteTime": {
     "start_time": "2023-12-30T17:40:43.885148Z"
    }
   },
   "id": "473705ad203bb2a9"
  },
  {
   "cell_type": "code",
   "execution_count": null,
   "outputs": [],
   "source": [
    "string = '~1'\n",
    "\n",
    "'~' in string"
   ],
   "metadata": {
    "collapsed": false,
    "ExecuteTime": {
     "start_time": "2023-12-30T17:40:43.887964Z"
    }
   },
   "id": "d26e025381efa35a"
  },
  {
   "cell_type": "code",
   "execution_count": null,
   "outputs": [],
   "source": [],
   "metadata": {
    "collapsed": false,
    "ExecuteTime": {
     "start_time": "2023-12-30T17:40:43.890904Z"
    }
   },
   "id": "e8e9923da41be5f0"
  }
 ],
 "metadata": {
  "kernelspec": {
   "display_name": "Python 3",
   "language": "python",
   "name": "python3"
  },
  "language_info": {
   "codemirror_mode": {
    "name": "ipython",
    "version": 2
   },
   "file_extension": ".py",
   "mimetype": "text/x-python",
   "name": "python",
   "nbconvert_exporter": "python",
   "pygments_lexer": "ipython2",
   "version": "2.7.6"
  }
 },
 "nbformat": 4,
 "nbformat_minor": 5
}
