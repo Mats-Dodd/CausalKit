{
 "cells": [
  {
   "cell_type": "code",
   "execution_count": 1,
   "id": "initial_id",
   "metadata": {
    "collapsed": true,
    "ExecuteTime": {
     "end_time": "2023-12-30T17:48:42.569611Z",
     "start_time": "2023-12-30T17:48:41.130398Z"
    }
   },
   "outputs": [],
   "source": [
    "from src.models.linreg import LinReg\n",
    "\n",
    "import numpy as np\n",
    "import matplotlib.pyplot as plt\n",
    "import pandas as pd\n",
    "import statsmodels.api as sm"
   ]
  },
  {
   "cell_type": "code",
   "execution_count": 2,
   "outputs": [],
   "source": [
    "np.random.seed(69)\n",
    "x = np.linspace(0, 5, 50)\n",
    "z = np.linspace(3, 8, 50)\n",
    "y = 1 + 3 * x + 5*z + np.random.normal(0, 2, 50)\n",
    "data = pd.DataFrame({'outcome': y,\n",
    "                     'x': x,\n",
    "                     'z': z})"
   ],
   "metadata": {
    "collapsed": false,
    "ExecuteTime": {
     "end_time": "2023-12-30T17:48:42.575530Z",
     "start_time": "2023-12-30T17:48:42.572989Z"
    }
   },
   "id": "dfd44d311bc333e1"
  },
  {
   "cell_type": "code",
   "execution_count": 3,
   "outputs": [
    {
     "name": "stdout",
     "output_type": "stream",
     "text": [
      "['z', 'x^4']\n"
     ]
    },
    {
     "data": {
      "text/plain": "['x^4', 'z', 'x^3', 'x^2']"
     },
     "execution_count": 3,
     "metadata": {},
     "output_type": "execute_result"
    }
   ],
   "source": [
    "linreg = LinReg(df=data, outcome=\"outcome\", independent=[\"z\", \"x^4\"])\n",
    "linreg.independent_vars"
   ],
   "metadata": {
    "collapsed": false,
    "ExecuteTime": {
     "end_time": "2023-12-30T17:48:42.591665Z",
     "start_time": "2023-12-30T17:48:42.575756Z"
    }
   },
   "id": "799bed87bc86ebc1"
  },
  {
   "cell_type": "code",
   "execution_count": 4,
   "outputs": [
    {
     "data": {
      "text/plain": "      outcome         x         z        x^2         x^3         x^4\n0   17.831014  0.000000  3.000000   0.000000    0.000000    0.000000\n1   15.609243  0.102041  3.102041   0.010412    0.001062    0.000108\n2   19.957243  0.204082  3.204082   0.041649    0.008500    0.001735\n3   17.246179  0.306122  3.306122   0.093711    0.028687    0.008782\n4   16.070335  0.408163  3.408163   0.166597    0.067999    0.027755\n5   20.877085  0.510204  3.510204   0.260308    0.132810    0.067760\n6   23.309690  0.612245  3.612245   0.374844    0.229496    0.140508\n7   23.826884  0.714286  3.714286   0.510204    0.364431    0.260308\n8   24.235700  0.816327  3.816327   0.666389    0.543991    0.444074\n9   24.725722  0.918367  3.918367   0.843399    0.774550    0.711321\n10  23.713791  1.020408  4.020408   1.041233    1.062482    1.084166\n11  23.935228  1.122449  4.122449   1.259892    1.414164    1.587327\n12  24.115775  1.224490  4.224490   1.499375    1.835970    2.248126\n13  28.973411  1.326531  4.326531   1.759683    2.334274    3.096486\n14  24.770890  1.428571  4.428571   2.040816    2.915452    4.164931\n15  27.996104  1.530612  4.530612   2.342774    3.585878    5.488589\n16  28.066262  1.632653  4.632653   2.665556    4.351928    7.105189\n17  25.983304  1.734694  4.734694   3.009163    5.219976    9.055061\n18  26.996568  1.836735  4.836735   3.373594    6.196398   11.381139\n19  32.039525  1.938776  4.938776   3.758850    7.287567   14.128957\n20  34.195674  2.040816  5.040816   4.164931    8.499860   17.346653\n21  30.802928  2.142857  5.142857   4.591837    9.839650   21.084965\n22  35.438394  2.244898  5.244898   5.039567   11.313313   25.397234\n23  32.551201  2.346939  5.346939   5.508122   12.927224   30.339404\n24  31.627983  2.448980  5.448980   5.997501   14.687758   35.970019\n25  34.020420  2.551020  5.551020   6.507705   16.601289   42.350226\n26  37.561743  2.653061  5.653061   7.038734   18.674192   49.543774\n27  33.843590  2.755102  5.755102   7.590587   20.912842   57.617015\n28  38.895454  2.857143  5.857143   8.163265   23.323615   66.638900\n29  40.277841  2.959184  5.959184   8.756768   25.912885   76.680986\n30  38.569031  3.061224  6.061224   9.371095   28.687027   87.817429\n31  44.489649  3.163265  6.163265  10.006247   31.652415  100.124987\n32  42.827115  3.265306  6.265306  10.662224   34.815426  113.683022\n33  41.634884  3.367347  6.367347  11.339025   38.182432  128.573497\n34  41.431099  3.469388  6.469388  12.036651   41.759811  144.880977\n35  40.005353  3.571429  6.571429  12.755102   45.553936  162.692628\n36  44.062285  3.673469  6.673469  13.494377   49.571182  182.098220\n37  45.655841  3.775510  6.775510  14.254477   53.817925  203.190123\n38  49.771941  3.877551  6.877551  15.035402   58.300538  226.063311\n39  47.456268  3.979592  6.979592  15.837151   63.025398  250.815358\n40  48.337924  4.081633  7.081633  16.659725   67.998878  277.546441\n41  46.707517  4.183673  7.183673  17.503124   73.227354  306.359339\n42  49.916368  4.285714  7.285714  18.367347   78.717201  337.359434\n43  50.893700  4.387755  7.387755  19.252395   84.474794  370.654707\n44  52.087273  4.489796  7.489796  20.158267   90.506507  406.355744\n45  54.282215  4.591837  7.591837  21.084965   96.818715  444.575732\n46  50.401211  4.693878  7.693878  22.032486  103.417794  485.430460\n47  51.536609  4.795918  7.795918  23.000833  110.310117  529.038318\n48  57.044965  4.897959  7.897959  23.990004  117.502061  575.520300\n49  56.791864  5.000000  8.000000  25.000000  125.000000  625.000000",
      "text/html": "<div>\n<style scoped>\n    .dataframe tbody tr th:only-of-type {\n        vertical-align: middle;\n    }\n\n    .dataframe tbody tr th {\n        vertical-align: top;\n    }\n\n    .dataframe thead th {\n        text-align: right;\n    }\n</style>\n<table border=\"1\" class=\"dataframe\">\n  <thead>\n    <tr style=\"text-align: right;\">\n      <th></th>\n      <th>outcome</th>\n      <th>x</th>\n      <th>z</th>\n      <th>x^2</th>\n      <th>x^3</th>\n      <th>x^4</th>\n    </tr>\n  </thead>\n  <tbody>\n    <tr>\n      <th>0</th>\n      <td>17.831014</td>\n      <td>0.000000</td>\n      <td>3.000000</td>\n      <td>0.000000</td>\n      <td>0.000000</td>\n      <td>0.000000</td>\n    </tr>\n    <tr>\n      <th>1</th>\n      <td>15.609243</td>\n      <td>0.102041</td>\n      <td>3.102041</td>\n      <td>0.010412</td>\n      <td>0.001062</td>\n      <td>0.000108</td>\n    </tr>\n    <tr>\n      <th>2</th>\n      <td>19.957243</td>\n      <td>0.204082</td>\n      <td>3.204082</td>\n      <td>0.041649</td>\n      <td>0.008500</td>\n      <td>0.001735</td>\n    </tr>\n    <tr>\n      <th>3</th>\n      <td>17.246179</td>\n      <td>0.306122</td>\n      <td>3.306122</td>\n      <td>0.093711</td>\n      <td>0.028687</td>\n      <td>0.008782</td>\n    </tr>\n    <tr>\n      <th>4</th>\n      <td>16.070335</td>\n      <td>0.408163</td>\n      <td>3.408163</td>\n      <td>0.166597</td>\n      <td>0.067999</td>\n      <td>0.027755</td>\n    </tr>\n    <tr>\n      <th>5</th>\n      <td>20.877085</td>\n      <td>0.510204</td>\n      <td>3.510204</td>\n      <td>0.260308</td>\n      <td>0.132810</td>\n      <td>0.067760</td>\n    </tr>\n    <tr>\n      <th>6</th>\n      <td>23.309690</td>\n      <td>0.612245</td>\n      <td>3.612245</td>\n      <td>0.374844</td>\n      <td>0.229496</td>\n      <td>0.140508</td>\n    </tr>\n    <tr>\n      <th>7</th>\n      <td>23.826884</td>\n      <td>0.714286</td>\n      <td>3.714286</td>\n      <td>0.510204</td>\n      <td>0.364431</td>\n      <td>0.260308</td>\n    </tr>\n    <tr>\n      <th>8</th>\n      <td>24.235700</td>\n      <td>0.816327</td>\n      <td>3.816327</td>\n      <td>0.666389</td>\n      <td>0.543991</td>\n      <td>0.444074</td>\n    </tr>\n    <tr>\n      <th>9</th>\n      <td>24.725722</td>\n      <td>0.918367</td>\n      <td>3.918367</td>\n      <td>0.843399</td>\n      <td>0.774550</td>\n      <td>0.711321</td>\n    </tr>\n    <tr>\n      <th>10</th>\n      <td>23.713791</td>\n      <td>1.020408</td>\n      <td>4.020408</td>\n      <td>1.041233</td>\n      <td>1.062482</td>\n      <td>1.084166</td>\n    </tr>\n    <tr>\n      <th>11</th>\n      <td>23.935228</td>\n      <td>1.122449</td>\n      <td>4.122449</td>\n      <td>1.259892</td>\n      <td>1.414164</td>\n      <td>1.587327</td>\n    </tr>\n    <tr>\n      <th>12</th>\n      <td>24.115775</td>\n      <td>1.224490</td>\n      <td>4.224490</td>\n      <td>1.499375</td>\n      <td>1.835970</td>\n      <td>2.248126</td>\n    </tr>\n    <tr>\n      <th>13</th>\n      <td>28.973411</td>\n      <td>1.326531</td>\n      <td>4.326531</td>\n      <td>1.759683</td>\n      <td>2.334274</td>\n      <td>3.096486</td>\n    </tr>\n    <tr>\n      <th>14</th>\n      <td>24.770890</td>\n      <td>1.428571</td>\n      <td>4.428571</td>\n      <td>2.040816</td>\n      <td>2.915452</td>\n      <td>4.164931</td>\n    </tr>\n    <tr>\n      <th>15</th>\n      <td>27.996104</td>\n      <td>1.530612</td>\n      <td>4.530612</td>\n      <td>2.342774</td>\n      <td>3.585878</td>\n      <td>5.488589</td>\n    </tr>\n    <tr>\n      <th>16</th>\n      <td>28.066262</td>\n      <td>1.632653</td>\n      <td>4.632653</td>\n      <td>2.665556</td>\n      <td>4.351928</td>\n      <td>7.105189</td>\n    </tr>\n    <tr>\n      <th>17</th>\n      <td>25.983304</td>\n      <td>1.734694</td>\n      <td>4.734694</td>\n      <td>3.009163</td>\n      <td>5.219976</td>\n      <td>9.055061</td>\n    </tr>\n    <tr>\n      <th>18</th>\n      <td>26.996568</td>\n      <td>1.836735</td>\n      <td>4.836735</td>\n      <td>3.373594</td>\n      <td>6.196398</td>\n      <td>11.381139</td>\n    </tr>\n    <tr>\n      <th>19</th>\n      <td>32.039525</td>\n      <td>1.938776</td>\n      <td>4.938776</td>\n      <td>3.758850</td>\n      <td>7.287567</td>\n      <td>14.128957</td>\n    </tr>\n    <tr>\n      <th>20</th>\n      <td>34.195674</td>\n      <td>2.040816</td>\n      <td>5.040816</td>\n      <td>4.164931</td>\n      <td>8.499860</td>\n      <td>17.346653</td>\n    </tr>\n    <tr>\n      <th>21</th>\n      <td>30.802928</td>\n      <td>2.142857</td>\n      <td>5.142857</td>\n      <td>4.591837</td>\n      <td>9.839650</td>\n      <td>21.084965</td>\n    </tr>\n    <tr>\n      <th>22</th>\n      <td>35.438394</td>\n      <td>2.244898</td>\n      <td>5.244898</td>\n      <td>5.039567</td>\n      <td>11.313313</td>\n      <td>25.397234</td>\n    </tr>\n    <tr>\n      <th>23</th>\n      <td>32.551201</td>\n      <td>2.346939</td>\n      <td>5.346939</td>\n      <td>5.508122</td>\n      <td>12.927224</td>\n      <td>30.339404</td>\n    </tr>\n    <tr>\n      <th>24</th>\n      <td>31.627983</td>\n      <td>2.448980</td>\n      <td>5.448980</td>\n      <td>5.997501</td>\n      <td>14.687758</td>\n      <td>35.970019</td>\n    </tr>\n    <tr>\n      <th>25</th>\n      <td>34.020420</td>\n      <td>2.551020</td>\n      <td>5.551020</td>\n      <td>6.507705</td>\n      <td>16.601289</td>\n      <td>42.350226</td>\n    </tr>\n    <tr>\n      <th>26</th>\n      <td>37.561743</td>\n      <td>2.653061</td>\n      <td>5.653061</td>\n      <td>7.038734</td>\n      <td>18.674192</td>\n      <td>49.543774</td>\n    </tr>\n    <tr>\n      <th>27</th>\n      <td>33.843590</td>\n      <td>2.755102</td>\n      <td>5.755102</td>\n      <td>7.590587</td>\n      <td>20.912842</td>\n      <td>57.617015</td>\n    </tr>\n    <tr>\n      <th>28</th>\n      <td>38.895454</td>\n      <td>2.857143</td>\n      <td>5.857143</td>\n      <td>8.163265</td>\n      <td>23.323615</td>\n      <td>66.638900</td>\n    </tr>\n    <tr>\n      <th>29</th>\n      <td>40.277841</td>\n      <td>2.959184</td>\n      <td>5.959184</td>\n      <td>8.756768</td>\n      <td>25.912885</td>\n      <td>76.680986</td>\n    </tr>\n    <tr>\n      <th>30</th>\n      <td>38.569031</td>\n      <td>3.061224</td>\n      <td>6.061224</td>\n      <td>9.371095</td>\n      <td>28.687027</td>\n      <td>87.817429</td>\n    </tr>\n    <tr>\n      <th>31</th>\n      <td>44.489649</td>\n      <td>3.163265</td>\n      <td>6.163265</td>\n      <td>10.006247</td>\n      <td>31.652415</td>\n      <td>100.124987</td>\n    </tr>\n    <tr>\n      <th>32</th>\n      <td>42.827115</td>\n      <td>3.265306</td>\n      <td>6.265306</td>\n      <td>10.662224</td>\n      <td>34.815426</td>\n      <td>113.683022</td>\n    </tr>\n    <tr>\n      <th>33</th>\n      <td>41.634884</td>\n      <td>3.367347</td>\n      <td>6.367347</td>\n      <td>11.339025</td>\n      <td>38.182432</td>\n      <td>128.573497</td>\n    </tr>\n    <tr>\n      <th>34</th>\n      <td>41.431099</td>\n      <td>3.469388</td>\n      <td>6.469388</td>\n      <td>12.036651</td>\n      <td>41.759811</td>\n      <td>144.880977</td>\n    </tr>\n    <tr>\n      <th>35</th>\n      <td>40.005353</td>\n      <td>3.571429</td>\n      <td>6.571429</td>\n      <td>12.755102</td>\n      <td>45.553936</td>\n      <td>162.692628</td>\n    </tr>\n    <tr>\n      <th>36</th>\n      <td>44.062285</td>\n      <td>3.673469</td>\n      <td>6.673469</td>\n      <td>13.494377</td>\n      <td>49.571182</td>\n      <td>182.098220</td>\n    </tr>\n    <tr>\n      <th>37</th>\n      <td>45.655841</td>\n      <td>3.775510</td>\n      <td>6.775510</td>\n      <td>14.254477</td>\n      <td>53.817925</td>\n      <td>203.190123</td>\n    </tr>\n    <tr>\n      <th>38</th>\n      <td>49.771941</td>\n      <td>3.877551</td>\n      <td>6.877551</td>\n      <td>15.035402</td>\n      <td>58.300538</td>\n      <td>226.063311</td>\n    </tr>\n    <tr>\n      <th>39</th>\n      <td>47.456268</td>\n      <td>3.979592</td>\n      <td>6.979592</td>\n      <td>15.837151</td>\n      <td>63.025398</td>\n      <td>250.815358</td>\n    </tr>\n    <tr>\n      <th>40</th>\n      <td>48.337924</td>\n      <td>4.081633</td>\n      <td>7.081633</td>\n      <td>16.659725</td>\n      <td>67.998878</td>\n      <td>277.546441</td>\n    </tr>\n    <tr>\n      <th>41</th>\n      <td>46.707517</td>\n      <td>4.183673</td>\n      <td>7.183673</td>\n      <td>17.503124</td>\n      <td>73.227354</td>\n      <td>306.359339</td>\n    </tr>\n    <tr>\n      <th>42</th>\n      <td>49.916368</td>\n      <td>4.285714</td>\n      <td>7.285714</td>\n      <td>18.367347</td>\n      <td>78.717201</td>\n      <td>337.359434</td>\n    </tr>\n    <tr>\n      <th>43</th>\n      <td>50.893700</td>\n      <td>4.387755</td>\n      <td>7.387755</td>\n      <td>19.252395</td>\n      <td>84.474794</td>\n      <td>370.654707</td>\n    </tr>\n    <tr>\n      <th>44</th>\n      <td>52.087273</td>\n      <td>4.489796</td>\n      <td>7.489796</td>\n      <td>20.158267</td>\n      <td>90.506507</td>\n      <td>406.355744</td>\n    </tr>\n    <tr>\n      <th>45</th>\n      <td>54.282215</td>\n      <td>4.591837</td>\n      <td>7.591837</td>\n      <td>21.084965</td>\n      <td>96.818715</td>\n      <td>444.575732</td>\n    </tr>\n    <tr>\n      <th>46</th>\n      <td>50.401211</td>\n      <td>4.693878</td>\n      <td>7.693878</td>\n      <td>22.032486</td>\n      <td>103.417794</td>\n      <td>485.430460</td>\n    </tr>\n    <tr>\n      <th>47</th>\n      <td>51.536609</td>\n      <td>4.795918</td>\n      <td>7.795918</td>\n      <td>23.000833</td>\n      <td>110.310117</td>\n      <td>529.038318</td>\n    </tr>\n    <tr>\n      <th>48</th>\n      <td>57.044965</td>\n      <td>4.897959</td>\n      <td>7.897959</td>\n      <td>23.990004</td>\n      <td>117.502061</td>\n      <td>575.520300</td>\n    </tr>\n    <tr>\n      <th>49</th>\n      <td>56.791864</td>\n      <td>5.000000</td>\n      <td>8.000000</td>\n      <td>25.000000</td>\n      <td>125.000000</td>\n      <td>625.000000</td>\n    </tr>\n  </tbody>\n</table>\n</div>"
     },
     "execution_count": 4,
     "metadata": {},
     "output_type": "execute_result"
    }
   ],
   "source": [
    "linreg.data"
   ],
   "metadata": {
    "collapsed": false,
    "ExecuteTime": {
     "end_time": "2023-12-30T17:48:43.419736Z",
     "start_time": "2023-12-30T17:48:43.403436Z"
    }
   },
   "id": "bdab83a1c6ae35e7"
  },
  {
   "cell_type": "code",
   "execution_count": 5,
   "outputs": [
    {
     "data": {
      "text/plain": "<IPython.core.display.HTML object>",
      "text/html": "<h2 style='text-align: center;'>Regression Results</h2><div class='model-container'><div class='model-column'>\n                    <div class='model-row'>\n                        <div class=\"model-header\">\n                            <div class=\"hover-box\">\n                                Dep. Variable:\n                                <div class=\"hover-content\">\n                The dependent variable/outcome is the main variable of interest you are trying to \n                explain or predict. It is the outcome that changes in response to the independent variables. In a \n                regression model, this is what you are modeling as a function of other variables.</div>\n                            </div>\n                        </div>\n                        <div class='model-data'>outcome</div>\n                    </div>\n                    \n                    <div class='model-row'>\n                        <div class=\"model-header\">\n                            <div class=\"hover-box\">\n                                Observations:\n                                <div class=\"hover-content\">\n                This refers to the number of data points or individual records used in your regression to estimate the \n                model parameters. A higher number of observations can provide more information, but it's also important \n                that these observations are representative of the population.</div>\n                            </div>\n                        </div>\n                        <div class='model-data'>50</div>\n                    </div>\n                    \n                    <div class='model-row'>\n                        <div class=\"model-header\">\n                            <div class=\"hover-box\">\n                                Standard Error Type:\n                                <div class=\"hover-content\">\n                The standard error type indicates the measurement of variability for coefficient estimates. Different \n                types (like robust standard errors) can be chosen based on data characteristics. In practice, if \n                there's suspicion of heteroskedasticity, using robust standard errors is a common approach</div>\n                            </div>\n                        </div>\n                        <div class='model-data'>non-robust</div>\n                    </div>\n                    \n                    <div class='model-row'>\n                        <div class=\"model-header\">\n                            <div class=\"hover-box\">\n                                R-squared:\n                                <div class=\"hover-content\">\n                R-squared is a statistical measure that represents the proportion of the variance in the dependent \n                variable that is predictable from the independent variables. It ranges from 0 to 1, with higher values \n                indicating a better fit of the model. It's a quick way to see how well your model explains the \n                variation in the data.</div>\n                            </div>\n                        </div>\n                        <div class='model-data'>0.972</div>\n                    </div>\n                    \n                    <div class='model-row'>\n                        <div class=\"model-header\">\n                            <div class=\"hover-box\">\n                                Adj. R-squared:\n                                <div class=\"hover-content\">\n                Adjusted for the number of predictors, it provides a more accurate measure of the model's explanatory \n                power. It's lower than R-squared, penalizing excessive use of unhelpful predictors. Ideally,\n                 Adj. R-squared should be close to the R-squared value for a well-specified model.</div>\n                            </div>\n                        </div>\n                        <div class='model-data'>0.969</div>\n                    </div>\n                    \n                    <div class='model-row'>\n                        <div class=\"model-header\">\n                            <div class=\"hover-box\">\n                                Log-Likelihood:\n                                <div class=\"hover-content\">\n                Reflects the likelihood of observing the given data under the model. Higher values \n                indicate better model fit. In model comparisons, a higher log-likelihood generally signifies a better \n                model, especially when comparing models with a similar number of parameters.</div>\n                            </div>\n                        </div>\n                        <div class='model-data'>-104.977</div>\n                    </div>\n                    </div><div class='model-column'>\n                    <div class='model-row'>\n                        <div class=\"model-header\">\n                            <div class=\"hover-box\">\n                                AIC:\n                                <div class=\"hover-content\">\n                Balances model fit and complexity, penalizing extra parameters. Lower AIC suggests a better model. \n                A rule of thumb is that a difference in AIC values of more than 2 indicates a noticeable difference in\n                 model quality.</div>\n                            </div>\n                        </div>\n                        <div class='model-data'>219.954</div>\n                    </div>\n                    \n                    <div class='model-row'>\n                        <div class=\"model-header\">\n                            <div class=\"hover-box\">\n                                BIC:\n                                <div class=\"hover-content\">\n                Similar to AIC, but with a stricter penalty for model complexity. Lower BIC values indicate a \n                better model. BIC is particularly useful in larger datasets and when comparing models with different \n                numbers of parameters.</div>\n                            </div>\n                        </div>\n                        <div class='model-data'>229.514</div>\n                    </div>\n                    \n                    <div class='model-row'>\n                        <div class=\"model-header\">\n                            <div class=\"hover-box\">\n                                Adj. AIC:\n                                <div class=\"hover-content\">\n            Adjusts AIC for sample size. Like AIC, lower values suggest a better model. This adjustment is especially \n            important in smaller samples or when comparing models with vastly different numbers of observations.</div>\n                            </div>\n                        </div>\n                        <div class='model-data'>221.317</div>\n                    </div>\n                    \n                    <div class='model-row'>\n                        <div class=\"model-header\">\n                            <div class=\"hover-box\">\n                                Adj. BIC:\n                                <div class=\"hover-content\">\n            Adjusts BIC for sample size, useful in smaller datasets. Lower values indicate a better \n            model. Adjusted BIC is crucial for small sample sizes, providing a more accurate comparison of models.</div>\n                            </div>\n                        </div>\n                        <div class='model-data'>232.181</div>\n                    </div>\n                    \n                    <div class='model-row'>\n                        <div class=\"model-header\">\n                            <div class=\"hover-box\">\n                                F-statistic:\n                                <div class=\"hover-content\">\n            Tests the overall significance of the model. A higher value indicates a better model. As a rule of thumb,\n             an F-statistic greater than 10 is often considered indicative of a strong relationship between the \n             dependent and independent variables.</div>\n                            </div>\n                        </div>\n                        <div class='model-data'>386.508</div>\n                    </div>\n                    \n                    <div class='model-row'>\n                        <div class=\"model-header\">\n                            <div class=\"hover-box\">\n                                Prob (F-statistic):\n                                <div class=\"hover-content\">Indicates the probability of observing the given F-statistic if no independent \n            variables affect the dependent variable. Lower values suggest significant model fit. Typically, a \n            Prob (F-statistic) less than 0.05 indicates that the model is statistically significant.</div>\n                            </div>\n                        </div>\n                        <div class='model-data'>0.0</div>\n                    </div>\n                    </div></div></div><hr style='border-style: dashed;'>\n            <style>\n                .model-container {\n                    display: flex;\n                    justify-content: center;\n                    margin-bottom: 20px;\n                }\n            \n                .model-column {\n                    display: flex;\n                    flex-direction: column;\n                    margin-right: 10px;\n                }\n            \n                .model-row {\n                    display: flex;\n                    align-items: center;\n                    margin-bottom: 5px;\n                }\n            \n                .model-header {\n                    min-width: 150px; /* Adjust this value as needed for alignment */\n                }\n            \n                .model-header .hover-box {\n                    cursor: pointer;\n                    position: relative;\n                    display: inline-block;\n                }\n            \n                .model-header .hover-content {\n                    display: none;\n                    position: absolute;\n                    background-color: grey;\n                    border: 1px solid black;\n                    padding: 15px;\n                    width: 350px;\n                    z-index: 1;\n                    white-space: wrap;\n                }\n            \n                .model-header:hover .hover-content {\n                    display: block;\n                }\n            \n                .model-data {\n                    text-align: left;\n                }\n            \n                .model-spacer {\n                    width: 20px; /* Adjust this width to increase or decrease the space */\n                }\n            \n                .model-key {\n                    flex: 1;\n                    text-align: right;\n                    margin-right: 10px;\n                }\n            \n                .model-value {\n                    flex: 1;\n                    text-align: left;\n                }\n            \n                .model-header .hover-box {\n                    cursor: pointer;\n                    position: relative;\n                    display: inline-block;\n                }\n            \n                .model-header .hover-content {\n                    display: none;\n                    position: absolute;\n                    background-color: grey;\n                    border: 1px solid black;\n                    padding: 15px;\n                    width: 350px;\n                    z-index: 1;\n                    white-space: wrap;\n                }\n            \n                .model-header:hover .hover-content {\n                    display: block;\n                    }\n            \n            </style>\n            \n                        <style>\n                        .container {\n                            display: flex;\n                            justify-content: center;\n                            align-items: flex-start;\n                        }\n                        \n                        .column {\n                            display: flex;\n                            flex-direction: column;\n                            align-items: center;\n                            margin-right: 10px;\n                        }\n                        \n                        .header .hover-box {\n                            cursor: pointer;\n                            position: relative;\n                            display: inline-block;\n                        }\n                        \n                        .header .hover-content {\n                            display: none;\n                            position: absolute;\n                            background-color: grey;\n                            border: 1px solid black;\n                            padding: 15px;\n                            width: 350px;\n                            z-index: 1;\n                            white-space: wrap;\n                        }\n                        \n                        .header:hover .hover-content {\n                            display: block;\n                        }\n                        \n                        .data-cell {\n                            text-align: center;\n                            margin: 2px 0;\n                        }\n                        \n                        .red-light {\n                            color: red; /* Light shade for P>|t| < 0.05 */\n                        }\n                        \n                        .red-medium {\n                            color: darkred; /* Medium shade for P>|t| < 0.01 */\n                        }\n                        \n                        .red-deep {\n                            color: maroon; /* Deep shade for P>|t| < 0.001 */\n                        }\n                        </style>\n                        <div class='container'><div class='column'>\n                            <div class='header'>\n                                <div class=\"hover-box\">\n                                    Variable\n                                    <div class=\"hover-content\">\n                This is the independent variable in the regression model, which is the factor being manipulated \n                or changed to observe its effect on the dependent variable.\n                </div>\n                                </div>\n                            </div>\n                            <hr style='border-style: dashed; width: 100%;'><div class='data-cell'>Intercept</div><div class='data-cell'>x^4</div><div class='data-cell'>z</div><div class='data-cell'>x^3</div><div class='data-cell'>x^2</div></div><div class='column'>\n                            <div class='header'>\n                                <div class=\"hover-box\">\n                                    Coefficient\n                                    <div class=\"hover-content\">\n                This represents the coefficient estimate of the variable, indicating how much the dependent variable \n                is expected to change when the independent variable changes by one unit.\n                </div>\n                                </div>\n                            </div>\n                            <hr style='border-style: dashed; width: 100%;'><div class='data-cell'>-7.334</div><div class='data-cell'>-0.044</div><div class='data-cell'>7.985</div><div class='data-cell'>0.433</div><div class='data-cell'>-1.101</div></div><div class='column'>\n                            <div class='header'>\n                                <div class=\"hover-box\">\n                                    Std-Error\n                                    <div class=\"hover-content\">\n                This stands for the standard error of the coefficient estimate, which measures the average distance that\n                the estimated coefficients are from the actual average value of the coefficients.\n                </div>\n                                </div>\n                            </div>\n                            <hr style='border-style: dashed; width: 100%;'><div class='data-cell'>12.227</div><div class='data-cell'>0.092</div><div class='data-cell'>3.704</div><div class='data-cell'>0.923</div><div class='data-cell'>3.057</div></div><div class='column'>\n                            <div class='header'>\n                                <div class=\"hover-box\">\n                                    T-Statistic\n                                    <div class=\"hover-content\">\n                The T- Statistic helps determining whether there \n                is a significant relationship between the independent and dependent variables by comparing the estimated \n                coefficient to its standard error.\n                </div>\n                                </div>\n                            </div>\n                            <hr style='border-style: dashed; width: 100%;'><div class='data-cell'>-0.6</div><div class='data-cell'>-0.479</div><div class='data-cell'>2.156</div><div class='data-cell'>0.469</div><div class='data-cell'>-0.36</div></div><div class='column'>\n                            <div class='header'>\n                                <div class=\"hover-box\">\n                                    P>|t|\n                                    <div class=\"hover-content\">\n                This denotes the p-value, which indicates the probability of observing the data, or something more extreme,\n                assuming the null hypothesis is true. \n                </div>\n                                </div>\n                            </div>\n                            <hr style='border-style: dashed; width: 100%;'><div class='data-cell'>0.552</div><div class='data-cell'>0.634</div><div class='data-cell red-light'>0.036</div><div class='data-cell'>0.641</div><div class='data-cell'>0.72</div></div><div class='column'>\n                            <div class='header'>\n                                <div class=\"hover-box\">\n                                    Conf. Interval\n                                    <div class=\"hover-content\">\n                The 95% CI for the coefficient estimate. If we were to take many samples and build a \n                confidence interval from each of them, 95% of these intervals would contain the true coefficient value.\n                </div>\n                                </div>\n                            </div>\n                            <hr style='border-style: dashed; width: 100%;'><div class='data-cell'>-31.96 - 17.292</div><div class='data-cell'>-0.228 - 0.141</div><div class='data-cell'>0.526 - 15.444</div><div class='data-cell'>-1.426 - 2.292</div><div class='data-cell'>-7.257 - 5.055</div></div></div>"
     },
     "metadata": {},
     "output_type": "display_data"
    }
   ],
   "source": [
    "linreg.summary()"
   ],
   "metadata": {
    "collapsed": false,
    "ExecuteTime": {
     "end_time": "2023-12-30T17:48:47.239195Z",
     "start_time": "2023-12-30T17:48:47.232523Z"
    }
   },
   "id": "8f26308d331243a9"
  },
  {
   "cell_type": "code",
   "execution_count": null,
   "outputs": [],
   "source": [
    "linreg.summary(content_type='simple')"
   ],
   "metadata": {
    "collapsed": false,
    "ExecuteTime": {
     "start_time": "2023-12-30T17:40:43.885148Z"
    }
   },
   "id": "473705ad203bb2a9"
  },
  {
   "cell_type": "code",
   "execution_count": null,
   "outputs": [],
   "source": [
    "string = '~1'\n",
    "\n",
    "'~' in string"
   ],
   "metadata": {
    "collapsed": false,
    "ExecuteTime": {
     "start_time": "2023-12-30T17:40:43.887964Z"
    }
   },
   "id": "d26e025381efa35a"
  },
  {
   "cell_type": "code",
   "execution_count": null,
   "outputs": [],
   "source": [],
   "metadata": {
    "collapsed": false,
    "ExecuteTime": {
     "start_time": "2023-12-30T17:40:43.890904Z"
    }
   },
   "id": "e8e9923da41be5f0"
  }
 ],
 "metadata": {
  "kernelspec": {
   "display_name": "Python 3",
   "language": "python",
   "name": "python3"
  },
  "language_info": {
   "codemirror_mode": {
    "name": "ipython",
    "version": 2
   },
   "file_extension": ".py",
   "mimetype": "text/x-python",
   "name": "python",
   "nbconvert_exporter": "python",
   "pygments_lexer": "ipython2",
   "version": "2.7.6"
  }
 },
 "nbformat": 4,
 "nbformat_minor": 5
}
