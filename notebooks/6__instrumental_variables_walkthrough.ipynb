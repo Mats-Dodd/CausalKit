{
 "cells": [
  {
   "cell_type": "code",
   "execution_count": 11,
   "id": "initial_id",
   "metadata": {
    "collapsed": true,
    "ExecuteTime": {
     "end_time": "2024-01-05T00:20:40.895318Z",
     "start_time": "2024-01-05T00:20:40.885779Z"
    }
   },
   "outputs": [],
   "source": [
    "import pandas as pd\n",
    "from src.models.linreg import LinReg\n",
    "from src.models.iv import IV\n",
    "from src.displays.display_linear import display_models\n",
    "from statsmodels.sandbox.regression.gmm import IV2SLS"
   ]
  },
  {
   "cell_type": "code",
   "execution_count": 12,
   "outputs": [
    {
     "data": {
      "text/plain": "           wage       educ     ability  fathereduc\n0    146.347807  18.053194  348.240021   17.158322\n1    147.599580  15.845486  181.160724   13.988533\n2    161.820228  15.105207  337.367725   15.994311\n3    105.082941  16.458131  106.458032   21.413172\n4    167.562196  18.793815  301.510006   16.457630\n..          ...        ...         ...         ...\n995  157.149509  14.883227  461.290475   11.446059\n996  166.003573  14.542572  292.700272   16.201575\n997  155.693604  18.022844  278.575512   16.739413\n998  199.074623  18.885769  346.645549   15.543786\n999  178.763810  18.889398  385.063904   17.756280\n\n[1000 rows x 4 columns]",
      "text/html": "<div>\n<style scoped>\n    .dataframe tbody tr th:only-of-type {\n        vertical-align: middle;\n    }\n\n    .dataframe tbody tr th {\n        vertical-align: top;\n    }\n\n    .dataframe thead th {\n        text-align: right;\n    }\n</style>\n<table border=\"1\" class=\"dataframe\">\n  <thead>\n    <tr style=\"text-align: right;\">\n      <th></th>\n      <th>wage</th>\n      <th>educ</th>\n      <th>ability</th>\n      <th>fathereduc</th>\n    </tr>\n  </thead>\n  <tbody>\n    <tr>\n      <th>0</th>\n      <td>146.347807</td>\n      <td>18.053194</td>\n      <td>348.240021</td>\n      <td>17.158322</td>\n    </tr>\n    <tr>\n      <th>1</th>\n      <td>147.599580</td>\n      <td>15.845486</td>\n      <td>181.160724</td>\n      <td>13.988533</td>\n    </tr>\n    <tr>\n      <th>2</th>\n      <td>161.820228</td>\n      <td>15.105207</td>\n      <td>337.367725</td>\n      <td>15.994311</td>\n    </tr>\n    <tr>\n      <th>3</th>\n      <td>105.082941</td>\n      <td>16.458131</td>\n      <td>106.458032</td>\n      <td>21.413172</td>\n    </tr>\n    <tr>\n      <th>4</th>\n      <td>167.562196</td>\n      <td>18.793815</td>\n      <td>301.510006</td>\n      <td>16.457630</td>\n    </tr>\n    <tr>\n      <th>...</th>\n      <td>...</td>\n      <td>...</td>\n      <td>...</td>\n      <td>...</td>\n    </tr>\n    <tr>\n      <th>995</th>\n      <td>157.149509</td>\n      <td>14.883227</td>\n      <td>461.290475</td>\n      <td>11.446059</td>\n    </tr>\n    <tr>\n      <th>996</th>\n      <td>166.003573</td>\n      <td>14.542572</td>\n      <td>292.700272</td>\n      <td>16.201575</td>\n    </tr>\n    <tr>\n      <th>997</th>\n      <td>155.693604</td>\n      <td>18.022844</td>\n      <td>278.575512</td>\n      <td>16.739413</td>\n    </tr>\n    <tr>\n      <th>998</th>\n      <td>199.074623</td>\n      <td>18.885769</td>\n      <td>346.645549</td>\n      <td>15.543786</td>\n    </tr>\n    <tr>\n      <th>999</th>\n      <td>178.763810</td>\n      <td>18.889398</td>\n      <td>385.063904</td>\n      <td>17.756280</td>\n    </tr>\n  </tbody>\n</table>\n<p>1000 rows × 4 columns</p>\n</div>"
     },
     "execution_count": 12,
     "metadata": {},
     "output_type": "execute_result"
    }
   ],
   "source": [
    "\n",
    "magic = pd.read_csv('../data/father_education.csv')\n",
    "magic"
   ],
   "metadata": {
    "collapsed": false,
    "ExecuteTime": {
     "end_time": "2024-01-05T00:20:54.214276Z",
     "start_time": "2024-01-05T00:20:54.194730Z"
    }
   },
   "id": "84468c5381309c8"
  },
  {
   "cell_type": "code",
   "execution_count": 3,
   "outputs": [
    {
     "data": {
      "text/plain": "<IPython.core.display.HTML object>",
      "text/html": "<h1 style='text-align:center;'>Regression Results</h1><pre style='text-align:center; font-family:monospace;'>Dep. Variable:             wage    AIC:                   9158.206\nObservations:              1000    BIC:                    9172.93\nStandard Error Type: non-robust    Adj. AIC:               9158.23\nR-squared:                0.726    Adj. BIC:              9173.013\nAdj. R-squared:           0.726    F-statistic:           1323.969\nLog-Likelihood:       -4576.103    Prob (F-statistic):         0.0\n\n           Variable Coefficient Std-Error T-Statistic P>|t|   Conf. Interval            \n          -------------------------------------------------------------------           \n          Intercept   -80.263     5.659     -14.184    0.0  -91.367 - -69.159           \n           ability     0.258      0.007      35.939    0.0    0.244 - 0.272             \n             educ      9.242      0.343      26.972    0.0     8.57 - 9.915             \n</pre>"
     },
     "metadata": {},
     "output_type": "display_data"
    }
   ],
   "source": [
    "\"\"\"Perfect world where we can measure individual ability\"\"\"\n",
    "perfect_model =  LinReg(df = magic,\n",
    "                        outcome='wage',\n",
    "                        independent=['ability', 'educ'])\n",
    "\n",
    "perfect_model.summary(content_type='html')"
   ],
   "metadata": {
    "collapsed": false,
    "ExecuteTime": {
     "end_time": "2024-01-04T23:55:40.110804Z",
     "start_time": "2024-01-04T23:55:40.063818Z"
    }
   },
   "id": "3284f2aa40bda7b1"
  },
  {
   "cell_type": "code",
   "execution_count": 4,
   "outputs": [
    {
     "data": {
      "text/plain": "<IPython.core.display.HTML object>",
      "text/html": "<h1 style='text-align:center;'>Regression Results</h1><pre style='text-align:center; font-family:monospace;'>Dep. Variable:             wage    AIC:                   9987.146\nObservations:              1000    BIC:                   9996.961\nStandard Error Type: non-robust    Adj. AIC:              9987.158\nR-squared:                0.372    Adj. BIC:              9997.003\nAdj. R-squared:           0.371    F-statistic:            591.469\nLog-Likelihood:       -4991.573    Prob (F-statistic):         0.0\n\n            Variable Coefficient Std-Error T-Statistic P>|t|  Conf. Interval           \n           ------------------------------------------------------------------          \n           Intercept   -53.085     8.492      -6.251    0.0  -69.75 - -36.421          \n              educ      12.24      0.503      24.32     0.0  11.253 - 13.228           \n</pre>"
     },
     "metadata": {},
     "output_type": "display_data"
    }
   ],
   "source": [
    "\"\"\"Naive model\"\"\"\n",
    "\n",
    "naive_model = LinReg(df = magic,\n",
    "                     outcome='wage',\n",
    "                     independent=['educ'])\n",
    "\n",
    "naive_model.summary(content_type='html')"
   ],
   "metadata": {
    "collapsed": false,
    "ExecuteTime": {
     "end_time": "2024-01-04T23:55:44.687861Z",
     "start_time": "2024-01-04T23:55:44.667069Z"
    }
   },
   "id": "e5279812cf0fbda2"
  },
  {
   "cell_type": "markdown",
   "source": [
    "To be a valid instrument, it must meet three criteria:\n",
    "\n",
    "Relevance: Instrument is correlated with policy variable\n",
    "Exclusion: Instrument is correlated with outcome only through the policy variable\n",
    "Exogeneity: Instrument isn’t correlated with anything else in the model (i.e. omitted variables)"
   ],
   "metadata": {
    "collapsed": false
   },
   "id": "3623bba61e94de40"
  },
  {
   "cell_type": "code",
   "execution_count": 5,
   "outputs": [
    {
     "data": {
      "text/plain": "<IPython.core.display.HTML object>",
      "text/html": "<h1 style='text-align:center;'>Regression Results</h1><pre style='text-align:center; font-family:monospace;'>Dep. Variable:             educ    AIC:                   3774.512\nObservations:              1000    BIC:                   3784.328\nStandard Error Type: non-robust    Adj. AIC:              3774.524\nR-squared:                0.493    Adj. BIC:              3784.369\nAdj. R-squared:           0.493    F-statistic:            971.956\nLog-Likelihood:       -1885.256    Prob (F-statistic):         0.0\n\n           Variable  Coefficient Std-Error T-Statistic P>|t| Conf. Interval           \n          -----------------------------------------------------------------           \n          Intercept     4.396      0.399      11.027    0.0  3.613 - 5.178            \n          fathereduc    0.757      0.024      31.176    0.0  0.709 - 0.805            \n</pre>"
     },
     "metadata": {},
     "output_type": "display_data"
    }
   ],
   "source": [
    "relevence = LinReg(df = magic,\n",
    "                     outcome='educ',\n",
    "                     independent=['fathereduc'])\n",
    "\n",
    "relevence.summary(content_type='html')"
   ],
   "metadata": {
    "collapsed": false,
    "ExecuteTime": {
     "end_time": "2024-01-04T23:55:53.459385Z",
     "start_time": "2024-01-04T23:55:53.441926Z"
    }
   },
   "id": "1030be158c4d2592"
  },
  {
   "cell_type": "code",
   "execution_count": 6,
   "outputs": [
    {
     "data": {
      "text/plain": "<IPython.core.display.HTML object>",
      "text/html": "<h1 style='text-align:center;'>Regression Results</h1><pre style='text-align:center; font-family:monospace;'>Dep. Variable:             wage    AIC:                  10341.737\nObservations:              1000    BIC:                  10351.553\nStandard Error Type: non-robust    Adj. AIC:              10341.75\nR-squared:                0.105    Adj. BIC:             10351.595\nAdj. R-squared:           0.104    F-statistic:            116.949\nLog-Likelihood:       -5168.869    Prob (F-statistic):         0.0\n\n            Variable  Coefficient Std-Error T-Statistic P>|t|  Conf. Interval          \n           ------------------------------------------------------------------          \n           Intercept     37.559     10.632     3.533     0.0  16.695 - 58.423          \n           fathereduc    7.003      0.648      10.814    0.0   5.732 - 8.274           \n</pre>"
     },
     "metadata": {},
     "output_type": "display_data"
    }
   ],
   "source": [
    "\"\"\"Exclusion\"\"\"\n",
    "\n",
    "exclusion = LinReg(df = magic,\n",
    "                     outcome='wage',\n",
    "                     independent=['fathereduc'])\n",
    "\n",
    "exclusion.summary(content_type='html')"
   ],
   "metadata": {
    "collapsed": false,
    "ExecuteTime": {
     "end_time": "2024-01-04T23:35:26.931216Z",
     "start_time": "2024-01-04T23:35:26.885176Z"
    }
   },
   "id": "2428d82b850d2699"
  },
  {
   "cell_type": "code",
   "execution_count": 7,
   "outputs": [
    {
     "data": {
      "text/plain": "<IPython.core.display.HTML object>",
      "text/html": "<h1 style='text-align:center;'>Regression Results</h1><pre style='text-align:center; font-family:monospace;'>Dep. Variable:          ability    AIC:                  12184.016\nObservations:              1000    BIC:                  12193.832\nStandard Error Type: non-robust    Adj. AIC:             12184.028\nR-squared:                0.001    Adj. BIC:             12193.873\nAdj. R-squared:             0.0    F-statistic:              1.185\nLog-Likelihood:       -6090.008    Prob (F-statistic):       0.277\n\n            Variable  Coefficient Std-Error T-Statistic P>|t|   Conf. Interval           \n           --------------------------------------------------------------------          \n           Intercept    270.735     26.71      10.136    0.0  218.322 - 323.149          \n           fathereduc    1.771      1.627      1.088    0.277   -1.422 - 4.963           \n</pre>"
     },
     "metadata": {},
     "output_type": "display_data"
    }
   ],
   "source": [
    "\"\"\"Luckily in this toy dataset we have ability\"\"\"\n",
    "\n",
    "exclusion = LinReg(df = magic,\n",
    "                     outcome='ability',\n",
    "                     independent=['fathereduc'])\n",
    "\n",
    "exclusion.summary(content_type='html')"
   ],
   "metadata": {
    "collapsed": false,
    "ExecuteTime": {
     "end_time": "2024-01-04T23:35:30.105453Z",
     "start_time": "2024-01-04T23:35:30.091682Z"
    }
   },
   "id": "83034b98d6faa72f"
  },
  {
   "cell_type": "code",
   "execution_count": 8,
   "outputs": [
    {
     "data": {
      "text/plain": "<IPython.core.display.HTML object>",
      "text/html": "<h1 style='text-align:center;'>Regression Results</h1><pre style='text-align:center; font-family:monospace;'>Dep. Variable:             educ    AIC:                   3774.512\nObservations:              1000    BIC:                   3784.328\nStandard Error Type: non-robust    Adj. AIC:              3774.524\nR-squared:                0.493    Adj. BIC:              3784.369\nAdj. R-squared:           0.493    F-statistic:            971.956\nLog-Likelihood:       -1885.256    Prob (F-statistic):         0.0\n\n           Variable  Coefficient Std-Error T-Statistic P>|t| Conf. Interval           \n          -----------------------------------------------------------------           \n          Intercept     4.396      0.399      11.027    0.0  3.613 - 5.178            \n          fathereduc    0.757      0.024      31.176    0.0  0.709 - 0.805            \n</pre>"
     },
     "metadata": {},
     "output_type": "display_data"
    }
   ],
   "source": [
    "\"\"\"first stage\"\"\"\n",
    "\n",
    "first_stage = LinReg(df = magic,\n",
    "                     outcome='educ',\n",
    "                     independent=['fathereduc'])\n",
    "\n",
    "first_stage.summary(content_type='html')    "
   ],
   "metadata": {
    "collapsed": false,
    "ExecuteTime": {
     "end_time": "2024-01-04T23:35:33.948336Z",
     "start_time": "2024-01-04T23:35:33.890921Z"
    }
   },
   "id": "ad2413cccf7be334"
  },
  {
   "cell_type": "code",
   "execution_count": 9,
   "outputs": [
    {
     "data": {
      "text/plain": "           wage       educ     ability  fathereduc  independent_hat\n0    146.347807  18.053194  348.240021   17.158322        17.382994\n1    147.599580  15.845486  181.160724   13.988533        14.983731\n2    161.820228  15.105207  337.367725   15.994311        16.501936\n3    105.082941  16.458131  106.458032   21.413172        20.603558\n4    167.562196  18.793815  301.510006   16.457630        16.852630\n..          ...        ...         ...         ...              ...\n995  157.149509  14.883227  461.290475   11.446059        13.059292\n996  166.003573  14.542572  292.700272   16.201575        16.658818\n997  155.693604  18.022844  278.575512   16.739413        17.065916\n998  199.074623  18.885769  346.645549   15.543786        16.160927\n999  178.763810  18.889398  385.063904   17.756280        17.835598\n\n[1000 rows x 5 columns]",
      "text/html": "<div>\n<style scoped>\n    .dataframe tbody tr th:only-of-type {\n        vertical-align: middle;\n    }\n\n    .dataframe tbody tr th {\n        vertical-align: top;\n    }\n\n    .dataframe thead th {\n        text-align: right;\n    }\n</style>\n<table border=\"1\" class=\"dataframe\">\n  <thead>\n    <tr style=\"text-align: right;\">\n      <th></th>\n      <th>wage</th>\n      <th>educ</th>\n      <th>ability</th>\n      <th>fathereduc</th>\n      <th>independent_hat</th>\n    </tr>\n  </thead>\n  <tbody>\n    <tr>\n      <th>0</th>\n      <td>146.347807</td>\n      <td>18.053194</td>\n      <td>348.240021</td>\n      <td>17.158322</td>\n      <td>17.382994</td>\n    </tr>\n    <tr>\n      <th>1</th>\n      <td>147.599580</td>\n      <td>15.845486</td>\n      <td>181.160724</td>\n      <td>13.988533</td>\n      <td>14.983731</td>\n    </tr>\n    <tr>\n      <th>2</th>\n      <td>161.820228</td>\n      <td>15.105207</td>\n      <td>337.367725</td>\n      <td>15.994311</td>\n      <td>16.501936</td>\n    </tr>\n    <tr>\n      <th>3</th>\n      <td>105.082941</td>\n      <td>16.458131</td>\n      <td>106.458032</td>\n      <td>21.413172</td>\n      <td>20.603558</td>\n    </tr>\n    <tr>\n      <th>4</th>\n      <td>167.562196</td>\n      <td>18.793815</td>\n      <td>301.510006</td>\n      <td>16.457630</td>\n      <td>16.852630</td>\n    </tr>\n    <tr>\n      <th>...</th>\n      <td>...</td>\n      <td>...</td>\n      <td>...</td>\n      <td>...</td>\n      <td>...</td>\n    </tr>\n    <tr>\n      <th>995</th>\n      <td>157.149509</td>\n      <td>14.883227</td>\n      <td>461.290475</td>\n      <td>11.446059</td>\n      <td>13.059292</td>\n    </tr>\n    <tr>\n      <th>996</th>\n      <td>166.003573</td>\n      <td>14.542572</td>\n      <td>292.700272</td>\n      <td>16.201575</td>\n      <td>16.658818</td>\n    </tr>\n    <tr>\n      <th>997</th>\n      <td>155.693604</td>\n      <td>18.022844</td>\n      <td>278.575512</td>\n      <td>16.739413</td>\n      <td>17.065916</td>\n    </tr>\n    <tr>\n      <th>998</th>\n      <td>199.074623</td>\n      <td>18.885769</td>\n      <td>346.645549</td>\n      <td>15.543786</td>\n      <td>16.160927</td>\n    </tr>\n    <tr>\n      <th>999</th>\n      <td>178.763810</td>\n      <td>18.889398</td>\n      <td>385.063904</td>\n      <td>17.756280</td>\n      <td>17.835598</td>\n    </tr>\n  </tbody>\n</table>\n<p>1000 rows × 5 columns</p>\n</div>"
     },
     "execution_count": 9,
     "metadata": {},
     "output_type": "execute_result"
    }
   ],
   "source": [
    "predicted_educ = first_stage.predict(magic['fathereduc'].values)\n",
    "magic = magic.assign(independent_hat = predicted_educ)\n",
    "magic"
   ],
   "metadata": {
    "collapsed": false,
    "ExecuteTime": {
     "end_time": "2024-01-04T23:35:36.380701Z",
     "start_time": "2024-01-04T23:35:36.337320Z"
    }
   },
   "id": "569e933a08a57c10"
  },
  {
   "cell_type": "code",
   "execution_count": 10,
   "outputs": [],
   "source": [
    "second_stage = LinReg(df = magic,\n",
    "                     outcome='wage',\n",
    "                     independent=['independent_hat',])\n",
    "\n",
    "\n",
    "\n"
   ],
   "metadata": {
    "collapsed": false,
    "ExecuteTime": {
     "end_time": "2024-01-04T23:35:37.397827Z",
     "start_time": "2024-01-04T23:35:37.391102Z"
    }
   },
   "id": "caa19b7941ac639a"
  },
  {
   "cell_type": "code",
   "execution_count": 13,
   "outputs": [
    {
     "data": {
      "text/plain": "<IPython.core.display.HTML object>",
      "text/html": "<p style='text-align:center; font-size:20px;'><strong>Instrumental Variables Regression Results</strong></p><p style='text-align:center;'>First Stage Equation: educ ~ fathereduc</p><p style='text-align:center;'>Second Stage Equation: wage ~ predicted_educ</p><pre style='text-align:center; font-family:monospace;'>Dep. Variable:             wage    AIC:                  10341.737\nObservations:              1000    BIC:                  10351.553\nStandard Error Type: non-robust    Adj. AIC:              10341.75\nR-squared:                0.105    Adj. BIC:             10351.595\nAdj. R-squared:           0.104    F-statistic:            116.949\nLog-Likelihood:       -5168.869    Prob (F-statistic):         0.0\n\n               Variable    Coefficient Std-Error T-Statistic P>|t|  Conf. Interval           \n           ------------------------------------------------------------------------          \n              Intercept       -3.108     14.37      -0.216   0.829 -31.307 - 25.092          \n           independent_hat    9.252      0.856      10.814    0.0   7.573 - 10.931           \n</pre>"
     },
     "metadata": {},
     "output_type": "display_data"
    }
   ],
   "source": [
    "iv = IV(df = magic,\n",
    "        outcome='wage',\n",
    "        independent=['educ'],\n",
    "        controls=[],\n",
    "        instruments=['fathereduc'])\n",
    "\n",
    "iv.summary()"
   ],
   "metadata": {
    "collapsed": false,
    "ExecuteTime": {
     "end_time": "2024-01-05T00:21:08.587186Z",
     "start_time": "2024-01-05T00:21:08.549254Z"
    }
   },
   "id": "3e5c9d2d0a2f566f"
  },
  {
   "cell_type": "code",
   "execution_count": 12,
   "outputs": [
    {
     "data": {
      "text/plain": "<IPython.core.display.HTML object>",
      "text/html": "<div style='text-align: center; font-family: monospace;'><span style='display: inline-block; width: 100px;'>Variable</span><span style='display: inline-block; width: 70px;'>Model 1</span><span style='display: inline-block; width: 70px;'>Model 2</span><span style='display: inline-block; width: 70px;'>Model 3</span><span style='display: inline-block; width: 70px;'>Model 4</span></div><div style='text-align: center; font-family: monospace;'><span style='display: inline-block; width: 380px; border-bottom: 1px dotted;'>&nbsp;</span></div><div style='text-align: center; font-family: monospace;'><span style='display: inline-block; width: 100px;'>Intercept</span><span style='display: inline-block; width: 70px; text-align: center;'>-80.263***<br><span style='font-size: 0.8em;'>(5.659)</span></span><span style='display: inline-block; width: 70px; text-align: center;'>-53.085***<br><span style='font-size: 0.8em;'>(8.492)</span></span><span style='display: inline-block; width: 70px; text-align: center;'>-3.108<br><span style='font-size: 0.8em;'>(14.37)</span></span><span style='display: inline-block; width: 70px; text-align: center;'>-3.108<br><span style='font-size: 0.8em;'>(14.37)</span></span></div><div style='text-align: center; font-family: monospace;'><span style='display: inline-block; width: 100px;'>ability</span><span style='display: inline-block; width: 70px; text-align: center;'>0.258***<br><span style='font-size: 0.8em;'>(0.007)</span></span><span style='display: inline-block; width: 70px; text-align: center;'>-<br><span style='font-size: 0.8em;'></span></span><span style='display: inline-block; width: 70px; text-align: center;'>-<br><span style='font-size: 0.8em;'></span></span><span style='display: inline-block; width: 70px; text-align: center;'>-<br><span style='font-size: 0.8em;'></span></span></div><div style='text-align: center; font-family: monospace;'><span style='display: inline-block; width: 100px;'>educ</span><span style='display: inline-block; width: 70px; text-align: center;'>9.242***<br><span style='font-size: 0.8em;'>(0.343)</span></span><span style='display: inline-block; width: 70px; text-align: center;'>12.24***<br><span style='font-size: 0.8em;'>(0.503)</span></span><span style='display: inline-block; width: 70px; text-align: center;'>-<br><span style='font-size: 0.8em;'></span></span><span style='display: inline-block; width: 70px; text-align: center;'>-<br><span style='font-size: 0.8em;'></span></span></div><div style='text-align: center; font-family: monospace;'><span style='display: inline-block; width: 100px;'>independent_hat</span><span style='display: inline-block; width: 70px; text-align: center;'>-<br><span style='font-size: 0.8em;'></span></span><span style='display: inline-block; width: 70px; text-align: center;'>-<br><span style='font-size: 0.8em;'></span></span><span style='display: inline-block; width: 70px; text-align: center;'>9.252***<br><span style='font-size: 0.8em;'>(0.856)</span></span><span style='display: inline-block; width: 70px; text-align: center;'>9.252***<br><span style='font-size: 0.8em;'>(0.856)</span></span></div><div style='text-align: center; font-family: monospace;'><span style='display: inline-block; width: 380px; border-bottom: 1px dotted;'>&nbsp;</span></div><div style='text-align: center; font-family: monospace;'><span style='display: inline-block; width: 100px;'>Outcome</span><span style='display: inline-block; width: 70px; text-align: center;'>wage</span><span style='display: inline-block; width: 70px; text-align: center;'>wage</span><span style='display: inline-block; width: 70px; text-align: center;'>wage</span><span style='display: inline-block; width: 70px; text-align: center;'>wage</span></div><div style='text-align: center; font-family: monospace;'><span style='display: inline-block; width: 380px; border-bottom: 1px dotted;'>&nbsp;</span></div><div style='text-align: center; font-family: monospace;'><span style='display: inline-block; width: 100px;'>Observations</span><span style='display: inline-block; width: 70px; text-align: center;'>1000</span><span style='display: inline-block; width: 70px; text-align: center;'>1000</span><span style='display: inline-block; width: 70px; text-align: center;'>1000</span><span style='display: inline-block; width: 70px; text-align: center;'>1000</span></div><div style='text-align: center; font-family: monospace;'><span style='display: inline-block; width: 100px;'>R^2</span><span style='display: inline-block; width: 70px; text-align: center;'>0.726</span><span style='display: inline-block; width: 70px; text-align: center;'>0.372</span><span style='display: inline-block; width: 70px; text-align: center;'>0.105</span><span style='display: inline-block; width: 70px; text-align: center;'>0.105</span></div><div style='text-align: center; font-family: monospace;'><span style='display: inline-block; width: 100px;'>Adj. R^2</span><span style='display: inline-block; width: 70px; text-align: center;'>0.726</span><span style='display: inline-block; width: 70px; text-align: center;'>0.371</span><span style='display: inline-block; width: 70px; text-align: center;'>0.104</span><span style='display: inline-block; width: 70px; text-align: center;'>0.104</span></div><div style='text-align: center; font-family: monospace;'><span style='display: inline-block; width: 100px;'>F-statistic</span><span style='display: inline-block; width: 70px; text-align: center;'>1323.969</span><span style='display: inline-block; width: 70px; text-align: center;'>591.469</span><span style='display: inline-block; width: 70px; text-align: center;'>116.949</span><span style='display: inline-block; width: 70px; text-align: center;'>116.949</span></div><div style='text-align: center; font-family: monospace;'><span style='display: inline-block; width: 100px;'>Prob (F)</span><span style='display: inline-block; width: 70px; text-align: center;'>0.0</span><span style='display: inline-block; width: 70px; text-align: center;'>0.0</span><span style='display: inline-block; width: 70px; text-align: center;'>0.0</span><span style='display: inline-block; width: 70px; text-align: center;'>0.0</span></div><div style='text-align: center; font-family: monospace;'><span style='display: inline-block; width: 380px; border-bottom: 1px dotted;'>&nbsp;</span></div><div style='text-align: center; font-family: monospace; font-size: 0.8em;'>* p < 0.1, ** p < 0.05, *** p < 0.01</div>"
     },
     "metadata": {},
     "output_type": "display_data"
    }
   ],
   "source": [
    "display_models([perfect_model, naive_model, second_stage, iv]) "
   ],
   "metadata": {
    "collapsed": false,
    "ExecuteTime": {
     "end_time": "2024-01-04T23:35:42.303784Z",
     "start_time": "2024-01-04T23:35:42.296066Z"
    }
   },
   "id": "60ac9c6ba9046bb7"
  },
  {
   "cell_type": "code",
   "execution_count": 16,
   "outputs": [
    {
     "ename": "AttributeError",
     "evalue": "'IV2SLS' object has no attribute 'pinv_wexog'",
     "output_type": "error",
     "traceback": [
      "\u001B[0;31m---------------------------------------------------------------------------\u001B[0m",
      "\u001B[0;31mAttributeError\u001B[0m                            Traceback (most recent call last)",
      "\u001B[0;32m/var/folders/x8/h5h7bn_54gncqkrgpt4wmclc0000gn/T/ipykernel_2148/4180332396.py\u001B[0m in \u001B[0;36m<cell line: 8>\u001B[0;34m()\u001B[0m\n\u001B[1;32m      6\u001B[0m \u001B[0;34m\u001B[0m\u001B[0m\n\u001B[1;32m      7\u001B[0m \u001B[0;31m# Get robust standard errors (HC0)\u001B[0m\u001B[0;34m\u001B[0m\u001B[0;34m\u001B[0m\u001B[0;34m\u001B[0m\u001B[0m\n\u001B[0;32m----> 8\u001B[0;31m \u001B[0mrobust_iv_model\u001B[0m \u001B[0;34m=\u001B[0m \u001B[0miv_model\u001B[0m\u001B[0;34m.\u001B[0m\u001B[0mget_robustcov_results\u001B[0m\u001B[0;34m(\u001B[0m\u001B[0mcov_type\u001B[0m\u001B[0;34m=\u001B[0m\u001B[0;34m'HC0'\u001B[0m\u001B[0;34m)\u001B[0m\u001B[0;34m\u001B[0m\u001B[0;34m\u001B[0m\u001B[0m\n\u001B[0m\u001B[1;32m      9\u001B[0m \u001B[0;34m\u001B[0m\u001B[0m\n\u001B[1;32m     10\u001B[0m \u001B[0;31m# View the results with robust standard errors\u001B[0m\u001B[0;34m\u001B[0m\u001B[0;34m\u001B[0m\u001B[0;34m\u001B[0m\u001B[0m\n",
      "\u001B[0;32m~/opt/anaconda3/lib/python3.8/site-packages/statsmodels/regression/linear_model.py\u001B[0m in \u001B[0;36mget_robustcov_results\u001B[0;34m(self, cov_type, use_t, **kwargs)\u001B[0m\n\u001B[1;32m   2564\u001B[0m                                  'does not use keywords')\n\u001B[1;32m   2565\u001B[0m             \u001B[0mres\u001B[0m\u001B[0;34m.\u001B[0m\u001B[0mcov_kwds\u001B[0m\u001B[0;34m[\u001B[0m\u001B[0;34m'description'\u001B[0m\u001B[0;34m]\u001B[0m \u001B[0;34m=\u001B[0m \u001B[0mdescriptions\u001B[0m\u001B[0;34m[\u001B[0m\u001B[0mcov_type\u001B[0m\u001B[0;34m.\u001B[0m\u001B[0mupper\u001B[0m\u001B[0;34m(\u001B[0m\u001B[0;34m)\u001B[0m\u001B[0;34m]\u001B[0m\u001B[0;34m\u001B[0m\u001B[0;34m\u001B[0m\u001B[0m\n\u001B[0;32m-> 2566\u001B[0;31m             \u001B[0mres\u001B[0m\u001B[0;34m.\u001B[0m\u001B[0mcov_params_default\u001B[0m \u001B[0;34m=\u001B[0m \u001B[0mgetattr\u001B[0m\u001B[0;34m(\u001B[0m\u001B[0mself\u001B[0m\u001B[0;34m,\u001B[0m \u001B[0;34m'cov_'\u001B[0m \u001B[0;34m+\u001B[0m \u001B[0mcov_type\u001B[0m\u001B[0;34m.\u001B[0m\u001B[0mupper\u001B[0m\u001B[0;34m(\u001B[0m\u001B[0;34m)\u001B[0m\u001B[0;34m)\u001B[0m\u001B[0;34m\u001B[0m\u001B[0;34m\u001B[0m\u001B[0m\n\u001B[0m\u001B[1;32m   2567\u001B[0m         \u001B[0;32melif\u001B[0m \u001B[0mcov_type\u001B[0m\u001B[0;34m.\u001B[0m\u001B[0mlower\u001B[0m\u001B[0;34m(\u001B[0m\u001B[0;34m)\u001B[0m \u001B[0;34m==\u001B[0m \u001B[0;34m'hac'\u001B[0m\u001B[0;34m:\u001B[0m\u001B[0;34m\u001B[0m\u001B[0;34m\u001B[0m\u001B[0m\n\u001B[1;32m   2568\u001B[0m             \u001B[0;31m# TODO: check if required, default in cov_hac_simple\u001B[0m\u001B[0;34m\u001B[0m\u001B[0;34m\u001B[0m\u001B[0;34m\u001B[0m\u001B[0m\n",
      "\u001B[0;32m~/opt/anaconda3/lib/python3.8/site-packages/pandas/_libs/properties.pyx\u001B[0m in \u001B[0;36mpandas._libs.properties.CachedProperty.__get__\u001B[0;34m()\u001B[0m\n",
      "\u001B[0;32m~/opt/anaconda3/lib/python3.8/site-packages/statsmodels/regression/linear_model.py\u001B[0m in \u001B[0;36mcov_HC0\u001B[0;34m(self)\u001B[0m\n\u001B[1;32m   1981\u001B[0m         \"\"\"\n\u001B[1;32m   1982\u001B[0m         \u001B[0mself\u001B[0m\u001B[0;34m.\u001B[0m\u001B[0mhet_scale\u001B[0m \u001B[0;34m=\u001B[0m \u001B[0mself\u001B[0m\u001B[0;34m.\u001B[0m\u001B[0mwresid\u001B[0m\u001B[0;34m**\u001B[0m\u001B[0;36m2\u001B[0m\u001B[0;34m\u001B[0m\u001B[0;34m\u001B[0m\u001B[0m\n\u001B[0;32m-> 1983\u001B[0;31m         \u001B[0mcov_HC0\u001B[0m \u001B[0;34m=\u001B[0m \u001B[0mself\u001B[0m\u001B[0;34m.\u001B[0m\u001B[0m_HCCM\u001B[0m\u001B[0;34m(\u001B[0m\u001B[0mself\u001B[0m\u001B[0;34m.\u001B[0m\u001B[0mhet_scale\u001B[0m\u001B[0;34m)\u001B[0m\u001B[0;34m\u001B[0m\u001B[0;34m\u001B[0m\u001B[0m\n\u001B[0m\u001B[1;32m   1984\u001B[0m         \u001B[0;32mreturn\u001B[0m \u001B[0mcov_HC0\u001B[0m\u001B[0;34m\u001B[0m\u001B[0;34m\u001B[0m\u001B[0m\n\u001B[1;32m   1985\u001B[0m \u001B[0;34m\u001B[0m\u001B[0m\n",
      "\u001B[0;32m~/opt/anaconda3/lib/python3.8/site-packages/statsmodels/regression/linear_model.py\u001B[0m in \u001B[0;36m_HCCM\u001B[0;34m(self, scale)\u001B[0m\n\u001B[1;32m   1967\u001B[0m     \u001B[0;31m# TODO: make these properties reset bse\u001B[0m\u001B[0;34m\u001B[0m\u001B[0;34m\u001B[0m\u001B[0;34m\u001B[0m\u001B[0m\n\u001B[1;32m   1968\u001B[0m     \u001B[0;32mdef\u001B[0m \u001B[0m_HCCM\u001B[0m\u001B[0;34m(\u001B[0m\u001B[0mself\u001B[0m\u001B[0;34m,\u001B[0m \u001B[0mscale\u001B[0m\u001B[0;34m)\u001B[0m\u001B[0;34m:\u001B[0m\u001B[0;34m\u001B[0m\u001B[0;34m\u001B[0m\u001B[0m\n\u001B[0;32m-> 1969\u001B[0;31m         H = np.dot(self.model.pinv_wexog,\n\u001B[0m\u001B[1;32m   1970\u001B[0m                    scale[:, None] * self.model.pinv_wexog.T)\n\u001B[1;32m   1971\u001B[0m         \u001B[0;32mreturn\u001B[0m \u001B[0mH\u001B[0m\u001B[0;34m\u001B[0m\u001B[0;34m\u001B[0m\u001B[0m\n",
      "\u001B[0;31mAttributeError\u001B[0m: 'IV2SLS' object has no attribute 'pinv_wexog'"
     ]
    }
   ],
   "source": [],
   "metadata": {
    "collapsed": false,
    "ExecuteTime": {
     "end_time": "2024-01-05T00:23:53.436145Z",
     "start_time": "2024-01-05T00:23:53.419553Z"
    }
   },
   "id": "7a96cbf35ee8c0b8"
  },
  {
   "cell_type": "code",
   "execution_count": 13,
   "outputs": [
    {
     "data": {
      "text/plain": "     wage  hours   IQ  KWW  educ  exper  tenure  age  married  black  south  \\\n0     769     40   93   35    12     11       2   31        1      0      0   \n2     825     40  108   46    14     11       9   33        1      0      0   \n3     650     40   96   32    12     13       7   32        1      0      0   \n4     562     40   74   27    11     14       5   34        1      0      0   \n6     600     40   91   24    10     13       0   30        0      0      0   \n..    ...    ...  ...  ...   ...    ...     ...  ...      ...    ...    ...   \n924  1442     40  113   45    16      8      10   35        1      0      1   \n925   645     45   93   39    12     11       3   35        1      0      1   \n928   477     45  100   33    12      9       3   31        1      0      1   \n929   664     60   82   30    16     10       9   34        1      1      1   \n931  1202     40  102   32    13     10       3   31        1      0      1   \n\n     urban  sibs  brthord  meduc  feduc     lwage  \n0        1     1      2.0    8.0    8.0  6.645091  \n2        1     1      2.0   14.0   14.0  6.715384  \n3        1     4      3.0   12.0   12.0  6.476973  \n4        1    10      6.0    6.0   11.0  6.331502  \n6        1     1      2.0    8.0    8.0  6.396930  \n..     ...   ...      ...    ...    ...       ...  \n924      1     2      2.0    8.0    8.0  7.273787  \n925      0     7      7.0    7.0    8.0  6.469250  \n928      0     3      3.0    7.0    7.0  6.167517  \n929      1     3      4.0   16.0   16.0  6.498282  \n931      1     7      7.0    8.0    6.0  7.091742  \n\n[663 rows x 17 columns]",
      "text/html": "<div>\n<style scoped>\n    .dataframe tbody tr th:only-of-type {\n        vertical-align: middle;\n    }\n\n    .dataframe tbody tr th {\n        vertical-align: top;\n    }\n\n    .dataframe thead th {\n        text-align: right;\n    }\n</style>\n<table border=\"1\" class=\"dataframe\">\n  <thead>\n    <tr style=\"text-align: right;\">\n      <th></th>\n      <th>wage</th>\n      <th>hours</th>\n      <th>IQ</th>\n      <th>KWW</th>\n      <th>educ</th>\n      <th>exper</th>\n      <th>tenure</th>\n      <th>age</th>\n      <th>married</th>\n      <th>black</th>\n      <th>south</th>\n      <th>urban</th>\n      <th>sibs</th>\n      <th>brthord</th>\n      <th>meduc</th>\n      <th>feduc</th>\n      <th>lwage</th>\n    </tr>\n  </thead>\n  <tbody>\n    <tr>\n      <th>0</th>\n      <td>769</td>\n      <td>40</td>\n      <td>93</td>\n      <td>35</td>\n      <td>12</td>\n      <td>11</td>\n      <td>2</td>\n      <td>31</td>\n      <td>1</td>\n      <td>0</td>\n      <td>0</td>\n      <td>1</td>\n      <td>1</td>\n      <td>2.0</td>\n      <td>8.0</td>\n      <td>8.0</td>\n      <td>6.645091</td>\n    </tr>\n    <tr>\n      <th>2</th>\n      <td>825</td>\n      <td>40</td>\n      <td>108</td>\n      <td>46</td>\n      <td>14</td>\n      <td>11</td>\n      <td>9</td>\n      <td>33</td>\n      <td>1</td>\n      <td>0</td>\n      <td>0</td>\n      <td>1</td>\n      <td>1</td>\n      <td>2.0</td>\n      <td>14.0</td>\n      <td>14.0</td>\n      <td>6.715384</td>\n    </tr>\n    <tr>\n      <th>3</th>\n      <td>650</td>\n      <td>40</td>\n      <td>96</td>\n      <td>32</td>\n      <td>12</td>\n      <td>13</td>\n      <td>7</td>\n      <td>32</td>\n      <td>1</td>\n      <td>0</td>\n      <td>0</td>\n      <td>1</td>\n      <td>4</td>\n      <td>3.0</td>\n      <td>12.0</td>\n      <td>12.0</td>\n      <td>6.476973</td>\n    </tr>\n    <tr>\n      <th>4</th>\n      <td>562</td>\n      <td>40</td>\n      <td>74</td>\n      <td>27</td>\n      <td>11</td>\n      <td>14</td>\n      <td>5</td>\n      <td>34</td>\n      <td>1</td>\n      <td>0</td>\n      <td>0</td>\n      <td>1</td>\n      <td>10</td>\n      <td>6.0</td>\n      <td>6.0</td>\n      <td>11.0</td>\n      <td>6.331502</td>\n    </tr>\n    <tr>\n      <th>6</th>\n      <td>600</td>\n      <td>40</td>\n      <td>91</td>\n      <td>24</td>\n      <td>10</td>\n      <td>13</td>\n      <td>0</td>\n      <td>30</td>\n      <td>0</td>\n      <td>0</td>\n      <td>0</td>\n      <td>1</td>\n      <td>1</td>\n      <td>2.0</td>\n      <td>8.0</td>\n      <td>8.0</td>\n      <td>6.396930</td>\n    </tr>\n    <tr>\n      <th>...</th>\n      <td>...</td>\n      <td>...</td>\n      <td>...</td>\n      <td>...</td>\n      <td>...</td>\n      <td>...</td>\n      <td>...</td>\n      <td>...</td>\n      <td>...</td>\n      <td>...</td>\n      <td>...</td>\n      <td>...</td>\n      <td>...</td>\n      <td>...</td>\n      <td>...</td>\n      <td>...</td>\n      <td>...</td>\n    </tr>\n    <tr>\n      <th>924</th>\n      <td>1442</td>\n      <td>40</td>\n      <td>113</td>\n      <td>45</td>\n      <td>16</td>\n      <td>8</td>\n      <td>10</td>\n      <td>35</td>\n      <td>1</td>\n      <td>0</td>\n      <td>1</td>\n      <td>1</td>\n      <td>2</td>\n      <td>2.0</td>\n      <td>8.0</td>\n      <td>8.0</td>\n      <td>7.273787</td>\n    </tr>\n    <tr>\n      <th>925</th>\n      <td>645</td>\n      <td>45</td>\n      <td>93</td>\n      <td>39</td>\n      <td>12</td>\n      <td>11</td>\n      <td>3</td>\n      <td>35</td>\n      <td>1</td>\n      <td>0</td>\n      <td>1</td>\n      <td>0</td>\n      <td>7</td>\n      <td>7.0</td>\n      <td>7.0</td>\n      <td>8.0</td>\n      <td>6.469250</td>\n    </tr>\n    <tr>\n      <th>928</th>\n      <td>477</td>\n      <td>45</td>\n      <td>100</td>\n      <td>33</td>\n      <td>12</td>\n      <td>9</td>\n      <td>3</td>\n      <td>31</td>\n      <td>1</td>\n      <td>0</td>\n      <td>1</td>\n      <td>0</td>\n      <td>3</td>\n      <td>3.0</td>\n      <td>7.0</td>\n      <td>7.0</td>\n      <td>6.167517</td>\n    </tr>\n    <tr>\n      <th>929</th>\n      <td>664</td>\n      <td>60</td>\n      <td>82</td>\n      <td>30</td>\n      <td>16</td>\n      <td>10</td>\n      <td>9</td>\n      <td>34</td>\n      <td>1</td>\n      <td>1</td>\n      <td>1</td>\n      <td>1</td>\n      <td>3</td>\n      <td>4.0</td>\n      <td>16.0</td>\n      <td>16.0</td>\n      <td>6.498282</td>\n    </tr>\n    <tr>\n      <th>931</th>\n      <td>1202</td>\n      <td>40</td>\n      <td>102</td>\n      <td>32</td>\n      <td>13</td>\n      <td>10</td>\n      <td>3</td>\n      <td>31</td>\n      <td>1</td>\n      <td>0</td>\n      <td>1</td>\n      <td>1</td>\n      <td>7</td>\n      <td>7.0</td>\n      <td>8.0</td>\n      <td>6.0</td>\n      <td>7.091742</td>\n    </tr>\n  </tbody>\n</table>\n<p>663 rows × 17 columns</p>\n</div>"
     },
     "execution_count": 13,
     "metadata": {},
     "output_type": "execute_result"
    }
   ],
   "source": [
    "\"\"\"Lets practice on some real data\"\"\"\n",
    "\n",
    "wage = pd.read_csv('../data/wage.csv')\n",
    "\n",
    "wage.dropna(inplace=True)\n",
    "\n",
    "wage"
   ],
   "metadata": {
    "collapsed": false,
    "ExecuteTime": {
     "end_time": "2024-01-04T23:35:44.005524Z",
     "start_time": "2024-01-04T23:35:43.927443Z"
    }
   },
   "id": "d09cb49c700423df"
  },
  {
   "cell_type": "code",
   "execution_count": 14,
   "outputs": [
    {
     "data": {
      "text/plain": "<IPython.core.display.HTML object>",
      "text/html": "<h1 style='text-align:center;'>Regression Results</h1><pre style='text-align:center; font-family:monospace;'>Dep. Variable:             wage    AIC:                    9775.95\nObservations:               663    BIC:                   9784.944\nStandard Error Type: non-robust    Adj. AIC:              9775.969\nR-squared:                0.106    Adj. BIC:              9785.003\nAdj. R-squared:           0.105    F-statistic:             78.786\nLog-Likelihood:       -4885.975    Prob (F-statistic):         0.0\n\n            Variable Coefficient Std-Error T-Statistic P>|t|  Conf. Interval           \n           ------------------------------------------------------------------          \n           Intercept    175.16     92.839     1.887     0.06 -7.134 - 357.454          \n              educ      59.452     6.698      8.876     0.0   46.3 - 72.604            \n</pre>"
     },
     "metadata": {},
     "output_type": "display_data"
    }
   ],
   "source": [
    "naive_model = LinReg(df = wage,\n",
    "                     outcome='wage',\n",
    "                     independent=['educ'])\n",
    "\n",
    "naive_model.summary(content_type='html')"
   ],
   "metadata": {
    "collapsed": false,
    "ExecuteTime": {
     "end_time": "2024-01-04T23:35:45.173691Z",
     "start_time": "2024-01-04T23:35:45.158801Z"
    }
   },
   "id": "6c87071a71ada496"
  },
  {
   "cell_type": "code",
   "execution_count": 15,
   "outputs": [
    {
     "data": {
      "text/plain": "<IPython.core.display.HTML object>",
      "text/html": "<h1 style='text-align:center;'>Regression Results</h1><pre style='text-align:center; font-family:monospace;'>Dep. Variable:             educ    AIC:                    2801.59\nObservations:               663    BIC:                   2815.081\nStandard Error Type: non-robust    Adj. AIC:              2801.627\nR-squared:                0.202    Adj. BIC:              2815.199\nAdj. R-squared:           0.199    F-statistic:             83.293\nLog-Likelihood:       -1397.795    Prob (F-statistic):         0.0\n\n            Variable Coefficient Std-Error T-Statistic P>|t| Conf. Interval          \n           ----------------------------------------------------------------          \n           Intercept    9.913       0.32      31.019    0.0  9.286 - 10.541          \n             meduc       0.14      0.034      4.165     0.0  0.074 - 0.206           \n             feduc      0.219      0.029      7.578     0.0  0.162 - 0.276           \n</pre>"
     },
     "metadata": {},
     "output_type": "display_data"
    }
   ],
   "source": [
    "\"\"\"Check for relevence of either parents education\"\"\"\n",
    "\n",
    "relevence = LinReg(df = wage,\n",
    "                     outcome='educ',\n",
    "                     independent=['meduc', 'feduc'])\n",
    "\n",
    "relevence.summary(content_type='html')\n"
   ],
   "metadata": {
    "collapsed": false,
    "ExecuteTime": {
     "end_time": "2024-01-04T23:35:46.423796Z",
     "start_time": "2024-01-04T23:35:46.411662Z"
    }
   },
   "id": "5e38f1a4f500f7af"
  },
  {
   "cell_type": "code",
   "execution_count": 16,
   "outputs": [
    {
     "data": {
      "text/plain": "<IPython.core.display.HTML object>",
      "text/html": "<div style='text-align: center; font-family: monospace;'><span style='display: inline-block; width: 100px;'>Variable</span><span style='display: inline-block; width: 70px;'>Model 1</span><span style='display: inline-block; width: 70px;'>Model 2</span><span style='display: inline-block; width: 70px;'>Model 3</span></div><div style='text-align: center; font-family: monospace;'><span style='display: inline-block; width: 310px; border-bottom: 1px dotted;'>&nbsp;</span></div><div style='text-align: center; font-family: monospace;'><span style='display: inline-block; width: 100px;'>Intercept</span><span style='display: inline-block; width: 70px; text-align: center;'>175.16*<br><span style='font-size: 0.8em;'>(92.839)</span></span><span style='display: inline-block; width: 70px; text-align: center;'>-537.712**<br><span style='font-size: 0.8em;'>(208.164)</span></span><span style='display: inline-block; width: 70px; text-align: center;'>-537.712**<br><span style='font-size: 0.8em;'>(212.386)</span></span></div><div style='text-align: center; font-family: monospace;'><span style='display: inline-block; width: 100px;'>educ</span><span style='display: inline-block; width: 70px; text-align: center;'>59.452***<br><span style='font-size: 0.8em;'>(6.698)</span></span><span style='display: inline-block; width: 70px; text-align: center;'>-<br><span style='font-size: 0.8em;'></span></span><span style='display: inline-block; width: 70px; text-align: center;'>-<br><span style='font-size: 0.8em;'></span></span></div><div style='text-align: center; font-family: monospace;'><span style='display: inline-block; width: 100px;'>independent_hat</span><span style='display: inline-block; width: 70px; text-align: center;'>-<br><span style='font-size: 0.8em;'></span></span><span style='display: inline-block; width: 70px; text-align: center;'>111.561***<br><span style='font-size: 0.8em;'>(15.176)</span></span><span style='display: inline-block; width: 70px; text-align: center;'>111.561***<br><span style='font-size: 0.8em;'>(15.779)</span></span></div><div style='text-align: center; font-family: monospace;'><span style='display: inline-block; width: 310px; border-bottom: 1px dotted;'>&nbsp;</span></div><div style='text-align: center; font-family: monospace;'><span style='display: inline-block; width: 100px;'>Outcome</span><span style='display: inline-block; width: 70px; text-align: center;'>wage</span><span style='display: inline-block; width: 70px; text-align: center;'>wage</span><span style='display: inline-block; width: 70px; text-align: center;'>wage</span></div><div style='text-align: center; font-family: monospace;'><span style='display: inline-block; width: 310px; border-bottom: 1px dotted;'>&nbsp;</span></div><div style='text-align: center; font-family: monospace;'><span style='display: inline-block; width: 100px;'>Observations</span><span style='display: inline-block; width: 70px; text-align: center;'>663</span><span style='display: inline-block; width: 70px; text-align: center;'>663</span><span style='display: inline-block; width: 70px; text-align: center;'>663</span></div><div style='text-align: center; font-family: monospace;'><span style='display: inline-block; width: 100px;'>R^2</span><span style='display: inline-block; width: 70px; text-align: center;'>0.106</span><span style='display: inline-block; width: 70px; text-align: center;'>0.076</span><span style='display: inline-block; width: 70px; text-align: center;'>0.076</span></div><div style='text-align: center; font-family: monospace;'><span style='display: inline-block; width: 100px;'>Adj. R^2</span><span style='display: inline-block; width: 70px; text-align: center;'>0.105</span><span style='display: inline-block; width: 70px; text-align: center;'>0.074</span><span style='display: inline-block; width: 70px; text-align: center;'>0.074</span></div><div style='text-align: center; font-family: monospace;'><span style='display: inline-block; width: 100px;'>F-statistic</span><span style='display: inline-block; width: 70px; text-align: center;'>78.786</span><span style='display: inline-block; width: 70px; text-align: center;'>54.041</span><span style='display: inline-block; width: 70px; text-align: center;'>54.041</span></div><div style='text-align: center; font-family: monospace;'><span style='display: inline-block; width: 100px;'>Prob (F)</span><span style='display: inline-block; width: 70px; text-align: center;'>0.0</span><span style='display: inline-block; width: 70px; text-align: center;'>0.0</span><span style='display: inline-block; width: 70px; text-align: center;'>0.0</span></div><div style='text-align: center; font-family: monospace;'><span style='display: inline-block; width: 310px; border-bottom: 1px dotted;'>&nbsp;</span></div><div style='text-align: center; font-family: monospace; font-size: 0.8em;'>* p < 0.1, ** p < 0.05, *** p < 0.01</div>"
     },
     "metadata": {},
     "output_type": "display_data"
    }
   ],
   "source": [
    "iv = IV(df = wage,\n",
    "        outcome='wage',\n",
    "        independent=['educ'],\n",
    "        controls=[],\n",
    "        instruments=['meduc', 'feduc'])\n",
    "\n",
    "iv_robust = IV(df = wage,\n",
    "        outcome='wage',\n",
    "        independent=['educ'],\n",
    "        controls=[],\n",
    "        instruments=['meduc', 'feduc'],\n",
    "               standard_error_type='hc0')\n",
    "\n",
    "display_models([naive_model, iv, iv_robust])"
   ],
   "metadata": {
    "collapsed": false,
    "ExecuteTime": {
     "end_time": "2024-01-04T23:36:04.804386Z",
     "start_time": "2024-01-04T23:36:04.740012Z"
    }
   },
   "id": "e39acdedb410c4b9"
  },
  {
   "cell_type": "code",
   "execution_count": 6,
   "outputs": [
    {
     "data": {
      "text/plain": "        id  nearc2  nearc4  educ  age  fatheduc  motheduc  weight  momdad14  \\\n0        2       0       0     7   29       NaN       NaN  158413         1   \n1        3       0       0    12   27       8.0       8.0  380166         1   \n2        4       0       0    12   34      14.0      12.0  367470         1   \n3        5       1       1    11   27      11.0      12.0  380166         1   \n4        6       1       1    12   34       8.0       7.0  367470         1   \n...    ...     ...     ...   ...  ...       ...       ...     ...       ...   \n3005  5218       0       1    12   25       8.0      12.0   82135         1   \n3006  5219       0       1    13   34       NaN       NaN   88765         1   \n3007  5220       0       1    12   24      11.0       NaN   89271         0   \n3008  5221       0       1    12   31       NaN       NaN  110376         1   \n3009  5225       0       1    13   26       NaN       NaN   81081         0   \n\n      sinmom14  ...  smsa66  wage  enroll   KWW     IQ  married  libcrd14  \\\n0            0  ...       1   548       0  15.0    NaN      1.0       0.0   \n1            0  ...       1   481       0  35.0   93.0      1.0       1.0   \n2            0  ...       1   721       0  42.0  103.0      1.0       1.0   \n3            0  ...       1   250       0  25.0   88.0      1.0       1.0   \n4            0  ...       1   729       0  34.0  108.0      1.0       0.0   \n...        ...  ...     ...   ...     ...   ...    ...      ...       ...   \n3005         0  ...       0   335       0  15.0    NaN      1.0       0.0   \n3006         0  ...       0   481       0  43.0    NaN      1.0       1.0   \n3007         0  ...       0   500       0  25.0  109.0      1.0       0.0   \n3008         0  ...       0   713       0  32.0  107.0      1.0       1.0   \n3009         0  ...       0   525       1  27.0    NaN      1.0       0.0   \n\n      exper     lwage  expersq  \n0        16  6.306275      256  \n1         9  6.175867       81  \n2        16  6.580639      256  \n3        10  5.521461      100  \n4        16  6.591674      256  \n...     ...       ...      ...  \n3005      7  5.814130       49  \n3006     15  6.175867      225  \n3007      6  6.214608       36  \n3008     13  6.569481      169  \n3009      7  6.263398       49  \n\n[3010 rows x 34 columns]",
      "text/html": "<div>\n<style scoped>\n    .dataframe tbody tr th:only-of-type {\n        vertical-align: middle;\n    }\n\n    .dataframe tbody tr th {\n        vertical-align: top;\n    }\n\n    .dataframe thead th {\n        text-align: right;\n    }\n</style>\n<table border=\"1\" class=\"dataframe\">\n  <thead>\n    <tr style=\"text-align: right;\">\n      <th></th>\n      <th>id</th>\n      <th>nearc2</th>\n      <th>nearc4</th>\n      <th>educ</th>\n      <th>age</th>\n      <th>fatheduc</th>\n      <th>motheduc</th>\n      <th>weight</th>\n      <th>momdad14</th>\n      <th>sinmom14</th>\n      <th>...</th>\n      <th>smsa66</th>\n      <th>wage</th>\n      <th>enroll</th>\n      <th>KWW</th>\n      <th>IQ</th>\n      <th>married</th>\n      <th>libcrd14</th>\n      <th>exper</th>\n      <th>lwage</th>\n      <th>expersq</th>\n    </tr>\n  </thead>\n  <tbody>\n    <tr>\n      <th>0</th>\n      <td>2</td>\n      <td>0</td>\n      <td>0</td>\n      <td>7</td>\n      <td>29</td>\n      <td>NaN</td>\n      <td>NaN</td>\n      <td>158413</td>\n      <td>1</td>\n      <td>0</td>\n      <td>...</td>\n      <td>1</td>\n      <td>548</td>\n      <td>0</td>\n      <td>15.0</td>\n      <td>NaN</td>\n      <td>1.0</td>\n      <td>0.0</td>\n      <td>16</td>\n      <td>6.306275</td>\n      <td>256</td>\n    </tr>\n    <tr>\n      <th>1</th>\n      <td>3</td>\n      <td>0</td>\n      <td>0</td>\n      <td>12</td>\n      <td>27</td>\n      <td>8.0</td>\n      <td>8.0</td>\n      <td>380166</td>\n      <td>1</td>\n      <td>0</td>\n      <td>...</td>\n      <td>1</td>\n      <td>481</td>\n      <td>0</td>\n      <td>35.0</td>\n      <td>93.0</td>\n      <td>1.0</td>\n      <td>1.0</td>\n      <td>9</td>\n      <td>6.175867</td>\n      <td>81</td>\n    </tr>\n    <tr>\n      <th>2</th>\n      <td>4</td>\n      <td>0</td>\n      <td>0</td>\n      <td>12</td>\n      <td>34</td>\n      <td>14.0</td>\n      <td>12.0</td>\n      <td>367470</td>\n      <td>1</td>\n      <td>0</td>\n      <td>...</td>\n      <td>1</td>\n      <td>721</td>\n      <td>0</td>\n      <td>42.0</td>\n      <td>103.0</td>\n      <td>1.0</td>\n      <td>1.0</td>\n      <td>16</td>\n      <td>6.580639</td>\n      <td>256</td>\n    </tr>\n    <tr>\n      <th>3</th>\n      <td>5</td>\n      <td>1</td>\n      <td>1</td>\n      <td>11</td>\n      <td>27</td>\n      <td>11.0</td>\n      <td>12.0</td>\n      <td>380166</td>\n      <td>1</td>\n      <td>0</td>\n      <td>...</td>\n      <td>1</td>\n      <td>250</td>\n      <td>0</td>\n      <td>25.0</td>\n      <td>88.0</td>\n      <td>1.0</td>\n      <td>1.0</td>\n      <td>10</td>\n      <td>5.521461</td>\n      <td>100</td>\n    </tr>\n    <tr>\n      <th>4</th>\n      <td>6</td>\n      <td>1</td>\n      <td>1</td>\n      <td>12</td>\n      <td>34</td>\n      <td>8.0</td>\n      <td>7.0</td>\n      <td>367470</td>\n      <td>1</td>\n      <td>0</td>\n      <td>...</td>\n      <td>1</td>\n      <td>729</td>\n      <td>0</td>\n      <td>34.0</td>\n      <td>108.0</td>\n      <td>1.0</td>\n      <td>0.0</td>\n      <td>16</td>\n      <td>6.591674</td>\n      <td>256</td>\n    </tr>\n    <tr>\n      <th>...</th>\n      <td>...</td>\n      <td>...</td>\n      <td>...</td>\n      <td>...</td>\n      <td>...</td>\n      <td>...</td>\n      <td>...</td>\n      <td>...</td>\n      <td>...</td>\n      <td>...</td>\n      <td>...</td>\n      <td>...</td>\n      <td>...</td>\n      <td>...</td>\n      <td>...</td>\n      <td>...</td>\n      <td>...</td>\n      <td>...</td>\n      <td>...</td>\n      <td>...</td>\n      <td>...</td>\n    </tr>\n    <tr>\n      <th>3005</th>\n      <td>5218</td>\n      <td>0</td>\n      <td>1</td>\n      <td>12</td>\n      <td>25</td>\n      <td>8.0</td>\n      <td>12.0</td>\n      <td>82135</td>\n      <td>1</td>\n      <td>0</td>\n      <td>...</td>\n      <td>0</td>\n      <td>335</td>\n      <td>0</td>\n      <td>15.0</td>\n      <td>NaN</td>\n      <td>1.0</td>\n      <td>0.0</td>\n      <td>7</td>\n      <td>5.814130</td>\n      <td>49</td>\n    </tr>\n    <tr>\n      <th>3006</th>\n      <td>5219</td>\n      <td>0</td>\n      <td>1</td>\n      <td>13</td>\n      <td>34</td>\n      <td>NaN</td>\n      <td>NaN</td>\n      <td>88765</td>\n      <td>1</td>\n      <td>0</td>\n      <td>...</td>\n      <td>0</td>\n      <td>481</td>\n      <td>0</td>\n      <td>43.0</td>\n      <td>NaN</td>\n      <td>1.0</td>\n      <td>1.0</td>\n      <td>15</td>\n      <td>6.175867</td>\n      <td>225</td>\n    </tr>\n    <tr>\n      <th>3007</th>\n      <td>5220</td>\n      <td>0</td>\n      <td>1</td>\n      <td>12</td>\n      <td>24</td>\n      <td>11.0</td>\n      <td>NaN</td>\n      <td>89271</td>\n      <td>0</td>\n      <td>0</td>\n      <td>...</td>\n      <td>0</td>\n      <td>500</td>\n      <td>0</td>\n      <td>25.0</td>\n      <td>109.0</td>\n      <td>1.0</td>\n      <td>0.0</td>\n      <td>6</td>\n      <td>6.214608</td>\n      <td>36</td>\n    </tr>\n    <tr>\n      <th>3008</th>\n      <td>5221</td>\n      <td>0</td>\n      <td>1</td>\n      <td>12</td>\n      <td>31</td>\n      <td>NaN</td>\n      <td>NaN</td>\n      <td>110376</td>\n      <td>1</td>\n      <td>0</td>\n      <td>...</td>\n      <td>0</td>\n      <td>713</td>\n      <td>0</td>\n      <td>32.0</td>\n      <td>107.0</td>\n      <td>1.0</td>\n      <td>1.0</td>\n      <td>13</td>\n      <td>6.569481</td>\n      <td>169</td>\n    </tr>\n    <tr>\n      <th>3009</th>\n      <td>5225</td>\n      <td>0</td>\n      <td>1</td>\n      <td>13</td>\n      <td>26</td>\n      <td>NaN</td>\n      <td>NaN</td>\n      <td>81081</td>\n      <td>0</td>\n      <td>0</td>\n      <td>...</td>\n      <td>0</td>\n      <td>525</td>\n      <td>1</td>\n      <td>27.0</td>\n      <td>NaN</td>\n      <td>1.0</td>\n      <td>0.0</td>\n      <td>7</td>\n      <td>6.263398</td>\n      <td>49</td>\n    </tr>\n  </tbody>\n</table>\n<p>3010 rows × 34 columns</p>\n</div>"
     },
     "execution_count": 6,
     "metadata": {},
     "output_type": "execute_result"
    }
   ],
   "source": [
    "\"\"\"Lets now look at instrumental variables with controls\"\"\"\n",
    "\n",
    "card = pd.read_csv('../data/card.csv')\n",
    "card.dropna(subset=['lwage','educ', 'smsa66', 'exper', 'expersq', 'black', 'south66'],inplace=True)\n",
    "card"
   ],
   "metadata": {
    "collapsed": false,
    "ExecuteTime": {
     "end_time": "2024-01-04T23:55:59.377155Z",
     "start_time": "2024-01-04T23:55:59.333231Z"
    }
   },
   "id": "c896912a5c6466e"
  },
  {
   "cell_type": "code",
   "execution_count": 7,
   "outputs": [
    {
     "data": {
      "text/plain": "<IPython.core.display.HTML object>",
      "text/html": "<h1 style='text-align:center;'>Regression Results</h1><pre style='text-align:center; font-family:monospace;'>Dep. Variable:            lwage    AIC:                   2719.414\nObservations:              3010    BIC:                   2761.482\nStandard Error Type: non-robust    Adj. AIC:              2719.451\nR-squared:                0.269    Adj. BIC:              2761.631\nAdj. R-squared:           0.268    F-statistic:            184.606\nLog-Likelihood:       -1352.707    Prob (F-statistic):         0.0\n\n           Variable Coefficient Std-Error T-Statistic P>|t|  Conf. Interval           \n          -----------------------------------------------------------------           \n          Intercept    4.731      0.069      68.927    0.0   4.597 - 4.866            \n             educ      0.076      0.004      21.459    0.0   0.069 - 0.083            \n            smsa66     0.113      0.015      7.468     0.0   0.083 - 0.142            \n            exper      0.085      0.007      12.639    0.0   0.072 - 0.098            \n           expersq     -0.002      0.0       -7.388    0.0  -0.003 - -0.002           \n            black      -0.177     0.018      -9.578    0.0  -0.213 - -0.141           \n           south66     -0.096     0.016      -5.97     0.0  -0.128 - -0.064           \n</pre>"
     },
     "metadata": {},
     "output_type": "display_data"
    }
   ],
   "source": [
    "naive_model = LinReg(df = card,\n",
    "                     outcome='lwage',\n",
    "                     independent=['educ', 'smsa66', 'exper', 'expersq', 'black', 'south66'])\n",
    "\n",
    "naive_model.summary(content_type='html')"
   ],
   "metadata": {
    "collapsed": false,
    "ExecuteTime": {
     "end_time": "2024-01-04T23:56:02.497868Z",
     "start_time": "2024-01-04T23:56:02.468562Z"
    }
   },
   "id": "2ac008cee76e98cd"
  },
  {
   "cell_type": "code",
   "execution_count": 9,
   "outputs": [
    {
     "data": {
      "text/plain": "<IPython.core.display.HTML object>",
      "text/html": "<div style='text-align: center; font-family: monospace;'><span style='display: inline-block; width: 100px;'>Variable</span><span style='display: inline-block; width: 70px;'>Model 1</span><span style='display: inline-block; width: 70px;'>Model 2</span><span style='display: inline-block; width: 70px;'>Model 3</span></div><div style='text-align: center; font-family: monospace;'><span style='display: inline-block; width: 310px; border-bottom: 1px dotted;'>&nbsp;</span></div><div style='text-align: center; font-family: monospace;'><span style='display: inline-block; width: 100px;'>Intercept</span><span style='display: inline-block; width: 70px; text-align: center;'>4.731***<br><span style='font-size: 0.8em;'>(0.069)</span></span><span style='display: inline-block; width: 70px; text-align: center;'>3.357***<br><span style='font-size: 0.8em;'>(0.926)</span></span><span style='display: inline-block; width: 70px; text-align: center;'>3.357***<br><span style='font-size: 0.8em;'>(0.905)</span></span></div><div style='text-align: center; font-family: monospace;'><span style='display: inline-block; width: 100px;'>black</span><span style='display: inline-block; width: 70px; text-align: center;'>-0.177***<br><span style='font-size: 0.8em;'>(0.018)</span></span><span style='display: inline-block; width: 70px; text-align: center;'>-0.104*<br><span style='font-size: 0.8em;'>(0.053)</span></span><span style='display: inline-block; width: 70px; text-align: center;'>-0.104**<br><span style='font-size: 0.8em;'>(0.052)</span></span></div><div style='text-align: center; font-family: monospace;'><span style='display: inline-block; width: 100px;'>educ</span><span style='display: inline-block; width: 70px; text-align: center;'>0.076***<br><span style='font-size: 0.8em;'>(0.004)</span></span><span style='display: inline-block; width: 70px; text-align: center;'>-<br><span style='font-size: 0.8em;'></span></span><span style='display: inline-block; width: 70px; text-align: center;'>-<br><span style='font-size: 0.8em;'></span></span></div><div style='text-align: center; font-family: monospace;'><span style='display: inline-block; width: 100px;'>exper</span><span style='display: inline-block; width: 70px; text-align: center;'>0.085***<br><span style='font-size: 0.8em;'>(0.007)</span></span><span style='display: inline-block; width: 70px; text-align: center;'>0.118***<br><span style='font-size: 0.8em;'>(0.023)</span></span><span style='display: inline-block; width: 70px; text-align: center;'>0.118***<br><span style='font-size: 0.8em;'>(0.023)</span></span></div><div style='text-align: center; font-family: monospace;'><span style='display: inline-block; width: 100px;'>expersq</span><span style='display: inline-block; width: 70px; text-align: center;'>-0.002***<br><span style='font-size: 0.8em;'>(0.0)</span></span><span style='display: inline-block; width: 70px; text-align: center;'>-0.002***<br><span style='font-size: 0.8em;'>(0.0)</span></span><span style='display: inline-block; width: 70px; text-align: center;'>-0.002***<br><span style='font-size: 0.8em;'>(0.0)</span></span></div><div style='text-align: center; font-family: monospace;'><span style='display: inline-block; width: 100px;'>independent_hat</span><span style='display: inline-block; width: 70px; text-align: center;'>-<br><span style='font-size: 0.8em;'></span></span><span style='display: inline-block; width: 70px; text-align: center;'>0.157***<br><span style='font-size: 0.8em;'>(0.055)</span></span><span style='display: inline-block; width: 70px; text-align: center;'>0.157***<br><span style='font-size: 0.8em;'>(0.053)</span></span></div><div style='text-align: center; font-family: monospace;'><span style='display: inline-block; width: 100px;'>smsa66</span><span style='display: inline-block; width: 70px; text-align: center;'>0.113***<br><span style='font-size: 0.8em;'>(0.015)</span></span><span style='display: inline-block; width: 70px; text-align: center;'>0.081***<br><span style='font-size: 0.8em;'>(0.027)</span></span><span style='display: inline-block; width: 70px; text-align: center;'>0.081***<br><span style='font-size: 0.8em;'>(0.026)</span></span></div><div style='text-align: center; font-family: monospace;'><span style='display: inline-block; width: 100px;'>south66</span><span style='display: inline-block; width: 70px; text-align: center;'>-0.096***<br><span style='font-size: 0.8em;'>(0.016)</span></span><span style='display: inline-block; width: 70px; text-align: center;'>-0.064**<br><span style='font-size: 0.8em;'>(0.028)</span></span><span style='display: inline-block; width: 70px; text-align: center;'>-0.064**<br><span style='font-size: 0.8em;'>(0.027)</span></span></div><div style='text-align: center; font-family: monospace;'><span style='display: inline-block; width: 310px; border-bottom: 1px dotted;'>&nbsp;</span></div><div style='text-align: center; font-family: monospace;'><span style='display: inline-block; width: 100px;'>Outcome</span><span style='display: inline-block; width: 70px; text-align: center;'>lwage</span><span style='display: inline-block; width: 70px; text-align: center;'>lwage</span><span style='display: inline-block; width: 70px; text-align: center;'>lwage</span></div><div style='text-align: center; font-family: monospace;'><span style='display: inline-block; width: 310px; border-bottom: 1px dotted;'>&nbsp;</span></div><div style='text-align: center; font-family: monospace;'><span style='display: inline-block; width: 100px;'>Observations</span><span style='display: inline-block; width: 70px; text-align: center;'>3010</span><span style='display: inline-block; width: 70px; text-align: center;'>3010</span><span style='display: inline-block; width: 70px; text-align: center;'>3010</span></div><div style='text-align: center; font-family: monospace;'><span style='display: inline-block; width: 100px;'>R^2</span><span style='display: inline-block; width: 70px; text-align: center;'>0.269</span><span style='display: inline-block; width: 70px; text-align: center;'>0.16</span><span style='display: inline-block; width: 70px; text-align: center;'>0.16</span></div><div style='text-align: center; font-family: monospace;'><span style='display: inline-block; width: 100px;'>Adj. R^2</span><span style='display: inline-block; width: 70px; text-align: center;'>0.268</span><span style='display: inline-block; width: 70px; text-align: center;'>0.158</span><span style='display: inline-block; width: 70px; text-align: center;'>0.158</span></div><div style='text-align: center; font-family: monospace;'><span style='display: inline-block; width: 100px;'>F-statistic</span><span style='display: inline-block; width: 70px; text-align: center;'>184.606</span><span style='display: inline-block; width: 70px; text-align: center;'>95.157</span><span style='display: inline-block; width: 70px; text-align: center;'>95.157</span></div><div style='text-align: center; font-family: monospace;'><span style='display: inline-block; width: 100px;'>Prob (F)</span><span style='display: inline-block; width: 70px; text-align: center;'>0.0</span><span style='display: inline-block; width: 70px; text-align: center;'>0.0</span><span style='display: inline-block; width: 70px; text-align: center;'>0.0</span></div><div style='text-align: center; font-family: monospace;'><span style='display: inline-block; width: 310px; border-bottom: 1px dotted;'>&nbsp;</span></div><div style='text-align: center; font-family: monospace; font-size: 0.8em;'>* p < 0.1, ** p < 0.05, *** p < 0.01</div>"
     },
     "metadata": {},
     "output_type": "display_data"
    }
   ],
   "source": [
    "iv = IV(df = card,\n",
    "        outcome='lwage',\n",
    "        independent=['educ'],\n",
    "        controls=['smsa66', 'exper', 'expersq', 'black', 'south66'],\n",
    "        instruments=['nearc4'])\n",
    "\n",
    "iv_robust = IV(df = card,\n",
    "        outcome='lwage',\n",
    "        independent=['educ'],\n",
    "        controls=['smsa66', 'exper', 'expersq', 'black', 'south66'],\n",
    "        instruments=['nearc4'],\n",
    "        standard_error_type='hc0')\n",
    "\n",
    "display_models([naive_model, iv, iv_robust])"
   ],
   "metadata": {
    "collapsed": false,
    "ExecuteTime": {
     "end_time": "2024-01-04T23:56:48.898757Z",
     "start_time": "2024-01-04T23:56:48.708533Z"
    }
   },
   "id": "ae32765b0893327"
  },
  {
   "cell_type": "code",
   "execution_count": 10,
   "outputs": [],
   "source": [],
   "metadata": {
    "collapsed": false,
    "ExecuteTime": {
     "end_time": "2024-01-05T00:20:05.989867Z",
     "start_time": "2024-01-05T00:20:05.931415Z"
    }
   },
   "id": "e1296d648e2f4f70"
  },
  {
   "cell_type": "code",
   "execution_count": null,
   "outputs": [],
   "source": [],
   "metadata": {
    "collapsed": false
   },
   "id": "5edcc272bfb6c207"
  }
 ],
 "metadata": {
  "kernelspec": {
   "display_name": "Python 3",
   "language": "python",
   "name": "python3"
  },
  "language_info": {
   "codemirror_mode": {
    "name": "ipython",
    "version": 2
   },
   "file_extension": ".py",
   "mimetype": "text/x-python",
   "name": "python",
   "nbconvert_exporter": "python",
   "pygments_lexer": "ipython2",
   "version": "2.7.6"
  }
 },
 "nbformat": 4,
 "nbformat_minor": 5
}
