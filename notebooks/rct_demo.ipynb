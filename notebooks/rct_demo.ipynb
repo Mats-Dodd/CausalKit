{
 "cells": [
  {
   "cell_type": "code",
   "execution_count": 1,
   "id": "initial_id",
   "metadata": {
    "collapsed": true,
    "ExecuteTime": {
     "end_time": "2024-01-04T18:31:57.742885Z",
     "start_time": "2024-01-04T18:31:56.939676Z"
    }
   },
   "outputs": [],
   "source": [
    "from src.models.linreg import LinReg\n",
    "from src.displays.display_linear import display_models\n",
    "\n",
    "import pandas as pd"
   ]
  },
  {
   "cell_type": "markdown",
   "source": [
    "## Example with Real Data"
   ],
   "metadata": {
    "collapsed": false
   },
   "id": "38f0682aaa49d9fd"
  },
  {
   "cell_type": "code",
   "execution_count": 3,
   "outputs": [
    {
     "name": "stdout",
     "output_type": "stream",
     "text": [
      "The data has 1616 rows and 6 columns.\n"
     ]
    },
    {
     "data": {
      "text/plain": "   assist  age  educ  female   housing   mhealth\n0       0   21     1       1  0.387853 -0.348691\n1       0   54     1       1  0.274780  1.262136\n2       0   33     1       1  0.600904 -0.026526\n3       0   40     1       1  0.312471 -0.026526\n4       0   75     0       0  1.426678  0.939971",
      "text/html": "<div>\n<style scoped>\n    .dataframe tbody tr th:only-of-type {\n        vertical-align: middle;\n    }\n\n    .dataframe tbody tr th {\n        vertical-align: top;\n    }\n\n    .dataframe thead th {\n        text-align: right;\n    }\n</style>\n<table border=\"1\" class=\"dataframe\">\n  <thead>\n    <tr style=\"text-align: right;\">\n      <th></th>\n      <th>assist</th>\n      <th>age</th>\n      <th>educ</th>\n      <th>female</th>\n      <th>housing</th>\n      <th>mhealth</th>\n    </tr>\n  </thead>\n  <tbody>\n    <tr>\n      <th>0</th>\n      <td>0</td>\n      <td>21</td>\n      <td>1</td>\n      <td>1</td>\n      <td>0.387853</td>\n      <td>-0.348691</td>\n    </tr>\n    <tr>\n      <th>1</th>\n      <td>0</td>\n      <td>54</td>\n      <td>1</td>\n      <td>1</td>\n      <td>0.274780</td>\n      <td>1.262136</td>\n    </tr>\n    <tr>\n      <th>2</th>\n      <td>0</td>\n      <td>33</td>\n      <td>1</td>\n      <td>1</td>\n      <td>0.600904</td>\n      <td>-0.026526</td>\n    </tr>\n    <tr>\n      <th>3</th>\n      <td>0</td>\n      <td>40</td>\n      <td>1</td>\n      <td>1</td>\n      <td>0.312471</td>\n      <td>-0.026526</td>\n    </tr>\n    <tr>\n      <th>4</th>\n      <td>0</td>\n      <td>75</td>\n      <td>0</td>\n      <td>0</td>\n      <td>1.426678</td>\n      <td>0.939971</td>\n    </tr>\n  </tbody>\n</table>\n</div>"
     },
     "execution_count": 3,
     "metadata": {},
     "output_type": "execute_result"
    }
   ],
   "source": [
    "\"\"\"Load the data\"\"\"\n",
    "df = pd.read_csv('../data/housing_health_mock.csv')\n",
    "print(f'The data has {df.shape[0]} rows and {df.shape[1]} columns.')\n",
    "df.head()\n"
   ],
   "metadata": {
    "collapsed": false,
    "ExecuteTime": {
     "end_time": "2023-12-29T11:36:00.068961Z",
     "start_time": "2023-12-29T11:36:00.041849Z"
    }
   },
   "id": "2cd760f2d10f99eb"
  },
  {
   "cell_type": "markdown",
   "source": [
    "The Data shows the results for a randomized control trial of a government intervention program.  Specifically, it measured covariates pre assistance on age, education and gender.  It then split the population into a treatment and control group.  The treatment group received the government assistance and the control group did not.  The dataset has two outcome variables, housing qualty and meantal health score.  These are both scaled to have mean zero and standard deviation one.  The data is simulated, but the results are based on real data.\n"
   ],
   "metadata": {
    "collapsed": false
   },
   "id": "53f412719000a062"
  },
  {
   "cell_type": "code",
   "execution_count": 4,
   "outputs": [
    {
     "data": {
      "text/plain": "<IPython.core.display.HTML object>",
      "text/html": "<div style='text-align: center; font-family: monospace;'><span style='display: inline-block; width: 100px;'>Variable</span><span style='display: inline-block; width: 70px;'>Model 1</span><span style='display: inline-block; width: 70px;'>Model 2</span><span style='display: inline-block; width: 70px;'>Model 3</span></div><div style='text-align: center; font-family: monospace;'><span style='display: inline-block; width: 310px; border-bottom: 1px dotted;'>&nbsp;</span></div><div style='text-align: center; font-family: monospace;'><span style='display: inline-block; width: 100px;'>Intercept</span><span style='display: inline-block; width: 70px; text-align: center;'>38.938***<br><span style='font-size: 0.8em;'>(0.389)</span></span><span style='display: inline-block; width: 70px; text-align: center;'>0.576***<br><span style='font-size: 0.8em;'>(0.018)</span></span><span style='display: inline-block; width: 70px; text-align: center;'>0.515***<br><span style='font-size: 0.8em;'>(0.018)</span></span></div><div style='text-align: center; font-family: monospace;'><span style='display: inline-block; width: 100px;'>assist</span><span style='display: inline-block; width: 70px; text-align: center;'>-0.183<br><span style='font-size: 0.8em;'>(0.552)</span></span><span style='display: inline-block; width: 70px; text-align: center;'>-0.008<br><span style='font-size: 0.8em;'>(0.025)</span></span><span style='display: inline-block; width: 70px; text-align: center;'>-0.053**<br><span style='font-size: 0.8em;'>(0.025)</span></span></div><div style='text-align: center; font-family: monospace;'><span style='display: inline-block; width: 310px; border-bottom: 1px dotted;'>&nbsp;</span></div><div style='text-align: center; font-family: monospace;'><span style='display: inline-block; width: 100px;'>Outcome</span><span style='display: inline-block; width: 70px; text-align: center;'>age</span><span style='display: inline-block; width: 70px; text-align: center;'>educ</span><span style='display: inline-block; width: 70px; text-align: center;'>female</span></div><div style='text-align: center; font-family: monospace;'><span style='display: inline-block; width: 310px; border-bottom: 1px dotted;'>&nbsp;</span></div><div style='text-align: center; font-family: monospace;'><span style='display: inline-block; width: 100px;'>Observations</span><span style='display: inline-block; width: 70px; text-align: center;'>1616</span><span style='display: inline-block; width: 70px; text-align: center;'>1616</span><span style='display: inline-block; width: 70px; text-align: center;'>1616</span></div><div style='text-align: center; font-family: monospace;'><span style='display: inline-block; width: 100px;'>R^2</span><span style='display: inline-block; width: 70px; text-align: center;'>0.0</span><span style='display: inline-block; width: 70px; text-align: center;'>0.0</span><span style='display: inline-block; width: 70px; text-align: center;'>0.003</span></div><div style='text-align: center; font-family: monospace;'><span style='display: inline-block; width: 100px;'>Adj. R^2</span><span style='display: inline-block; width: 70px; text-align: center;'>-0.001</span><span style='display: inline-block; width: 70px; text-align: center;'>-0.001</span><span style='display: inline-block; width: 70px; text-align: center;'>0.002</span></div><div style='text-align: center; font-family: monospace;'><span style='display: inline-block; width: 100px;'>F-statistic</span><span style='display: inline-block; width: 70px; text-align: center;'>0.11</span><span style='display: inline-block; width: 70px; text-align: center;'>0.105</span><span style='display: inline-block; width: 70px; text-align: center;'>4.499</span></div><div style='text-align: center; font-family: monospace;'><span style='display: inline-block; width: 100px;'>Prob (F)</span><span style='display: inline-block; width: 70px; text-align: center;'>0.741</span><span style='display: inline-block; width: 70px; text-align: center;'>0.745</span><span style='display: inline-block; width: 70px; text-align: center;'>0.034</span></div><div style='text-align: center; font-family: monospace;'><span style='display: inline-block; width: 310px; border-bottom: 1px dotted;'>&nbsp;</span></div><div style='text-align: center; font-family: monospace; font-size: 0.8em;'>* p < 0.1, ** p < 0.05, *** p < 0.01</div>"
     },
     "metadata": {},
     "output_type": "display_data"
    }
   ],
   "source": [
    "\"\"\"Do a randomization check\"\"\"\n",
    "age_check = LinReg(df=df, outcome=\"age\", independent=[\"assist\"], standard_error_type='robust')\n",
    "educ_check = LinReg(df=df, outcome=\"educ\", independent=[\"assist\"], standard_error_type='robust')\n",
    "gender_check = LinReg(df=df, outcome=\"female\", independent=[\"assist\"], standard_error_type='robust')\n",
    "display_models([age_check,educ_check,gender_check])\n"
   ],
   "metadata": {
    "collapsed": false,
    "ExecuteTime": {
     "end_time": "2023-12-29T11:36:17.597307Z",
     "start_time": "2023-12-29T11:36:17.564188Z"
    }
   },
   "id": "9e822b40eadc39bd"
  },
  {
   "cell_type": "markdown",
   "source": [
    "We see from this quick analysis that there is no statistically significant difference between the mean age or education between treatment or control groups.  However, we do see a difference in the gender breakdown as the assist group has a slightly lower percentage of men, about 5% of a standard deviation. Lets take a deeper look at this gender difference. \n"
   ],
   "metadata": {
    "collapsed": false
   },
   "id": "126eaa15067f9400"
  },
  {
   "cell_type": "code",
   "execution_count": 5,
   "outputs": [
    {
     "name": "stdout",
     "output_type": "stream",
     "text": [
      "The data has 788 rows and 6 columns.\n"
     ]
    },
    {
     "data": {
      "text/plain": "   assist  age  educ  female   housing   mhealth\n0       0   21     1       1  0.387853 -0.348691\n1       0   54     1       1  0.274780  1.262136\n2       0   33     1       1  0.600904 -0.026526\n3       0   40     1       1  0.312471 -0.026526\n5       1   51     1       1  1.068612 -0.993022",
      "text/html": "<div>\n<style scoped>\n    .dataframe tbody tr th:only-of-type {\n        vertical-align: middle;\n    }\n\n    .dataframe tbody tr th {\n        vertical-align: top;\n    }\n\n    .dataframe thead th {\n        text-align: right;\n    }\n</style>\n<table border=\"1\" class=\"dataframe\">\n  <thead>\n    <tr style=\"text-align: right;\">\n      <th></th>\n      <th>assist</th>\n      <th>age</th>\n      <th>educ</th>\n      <th>female</th>\n      <th>housing</th>\n      <th>mhealth</th>\n    </tr>\n  </thead>\n  <tbody>\n    <tr>\n      <th>0</th>\n      <td>0</td>\n      <td>21</td>\n      <td>1</td>\n      <td>1</td>\n      <td>0.387853</td>\n      <td>-0.348691</td>\n    </tr>\n    <tr>\n      <th>1</th>\n      <td>0</td>\n      <td>54</td>\n      <td>1</td>\n      <td>1</td>\n      <td>0.274780</td>\n      <td>1.262136</td>\n    </tr>\n    <tr>\n      <th>2</th>\n      <td>0</td>\n      <td>33</td>\n      <td>1</td>\n      <td>1</td>\n      <td>0.600904</td>\n      <td>-0.026526</td>\n    </tr>\n    <tr>\n      <th>3</th>\n      <td>0</td>\n      <td>40</td>\n      <td>1</td>\n      <td>1</td>\n      <td>0.312471</td>\n      <td>-0.026526</td>\n    </tr>\n    <tr>\n      <th>5</th>\n      <td>1</td>\n      <td>51</td>\n      <td>1</td>\n      <td>1</td>\n      <td>1.068612</td>\n      <td>-0.993022</td>\n    </tr>\n  </tbody>\n</table>\n</div>"
     },
     "execution_count": 5,
     "metadata": {},
     "output_type": "execute_result"
    }
   ],
   "source": [
    "female = df[df['female'] == 1]\n",
    "print(f'The data has {female.shape[0]} rows and {female.shape[1]} columns.')\n",
    "female.head()"
   ],
   "metadata": {
    "collapsed": false,
    "ExecuteTime": {
     "end_time": "2023-12-29T11:36:35.869663Z",
     "start_time": "2023-12-29T11:36:35.850990Z"
    }
   },
   "id": "851cfa9529bbacf"
  },
  {
   "cell_type": "code",
   "execution_count": 6,
   "outputs": [
    {
     "data": {
      "text/plain": "<IPython.core.display.HTML object>",
      "text/html": "<div style='text-align: center; font-family: monospace;'><span style='display: inline-block; width: 100px;'>Variable</span><span style='display: inline-block; width: 70px;'>Model 1</span><span style='display: inline-block; width: 70px;'>Model 2</span></div><div style='text-align: center; font-family: monospace;'><span style='display: inline-block; width: 240px; border-bottom: 1px dotted;'>&nbsp;</span></div><div style='text-align: center; font-family: monospace;'><span style='display: inline-block; width: 100px;'>Intercept</span><span style='display: inline-block; width: 70px; text-align: center;'>38.496***<br><span style='font-size: 0.8em;'>(0.533)</span></span><span style='display: inline-block; width: 70px; text-align: center;'>0.747***<br><span style='font-size: 0.8em;'>(0.022)</span></span></div><div style='text-align: center; font-family: monospace;'><span style='display: inline-block; width: 100px;'>assist</span><span style='display: inline-block; width: 70px; text-align: center;'>-1.446*<br><span style='font-size: 0.8em;'>(0.769)</span></span><span style='display: inline-block; width: 70px; text-align: center;'>0.014<br><span style='font-size: 0.8em;'>(0.031)</span></span></div><div style='text-align: center; font-family: monospace;'><span style='display: inline-block; width: 240px; border-bottom: 1px dotted;'>&nbsp;</span></div><div style='text-align: center; font-family: monospace;'><span style='display: inline-block; width: 100px;'>Outcome</span><span style='display: inline-block; width: 70px; text-align: center;'>age</span><span style='display: inline-block; width: 70px; text-align: center;'>educ</span></div><div style='text-align: center; font-family: monospace;'><span style='display: inline-block; width: 240px; border-bottom: 1px dotted;'>&nbsp;</span></div><div style='text-align: center; font-family: monospace;'><span style='display: inline-block; width: 100px;'>Observations</span><span style='display: inline-block; width: 70px; text-align: center;'>788</span><span style='display: inline-block; width: 70px; text-align: center;'>788</span></div><div style='text-align: center; font-family: monospace;'><span style='display: inline-block; width: 100px;'>R^2</span><span style='display: inline-block; width: 70px; text-align: center;'>0.004</span><span style='display: inline-block; width: 70px; text-align: center;'>0.0</span></div><div style='text-align: center; font-family: monospace;'><span style='display: inline-block; width: 100px;'>Adj. R^2</span><span style='display: inline-block; width: 70px; text-align: center;'>0.003</span><span style='display: inline-block; width: 70px; text-align: center;'>-0.001</span></div><div style='text-align: center; font-family: monospace;'><span style='display: inline-block; width: 100px;'>F-statistic</span><span style='display: inline-block; width: 70px; text-align: center;'>3.528</span><span style='display: inline-block; width: 70px; text-align: center;'>0.214</span></div><div style='text-align: center; font-family: monospace;'><span style='display: inline-block; width: 100px;'>Prob (F)</span><span style='display: inline-block; width: 70px; text-align: center;'>0.061</span><span style='display: inline-block; width: 70px; text-align: center;'>0.644</span></div><div style='text-align: center; font-family: monospace;'><span style='display: inline-block; width: 240px; border-bottom: 1px dotted;'>&nbsp;</span></div><div style='text-align: center; font-family: monospace; font-size: 0.8em;'>* p < 0.1, ** p < 0.05, *** p < 0.01</div>"
     },
     "metadata": {},
     "output_type": "display_data"
    }
   ],
   "source": [
    "female_age_check = LinReg(df=female, outcome=\"age\", independent=[\"assist\"], standard_error_type='robust')\n",
    "female_educ_check = LinReg(df=female, outcome=\"educ\", independent=[\"assist\"], standard_error_type='robust')\n",
    "display_models([female_age_check,female_educ_check])"
   ],
   "metadata": {
    "collapsed": false,
    "ExecuteTime": {
     "end_time": "2023-12-29T11:36:43.274983Z",
     "start_time": "2023-12-29T11:36:43.254160Z"
    }
   },
   "id": "a7cf1638e9bcc58f"
  },
  {
   "cell_type": "markdown",
   "source": [
    "Looking at these results we do not see any statistically significant differences between the treatment and control groups.  This is good as it means that the randomization was successful.  Now lets look at the outcomes.\n"
   ],
   "metadata": {
    "collapsed": false
   },
   "id": "37e6510dfb7a9eec"
  },
  {
   "cell_type": "code",
   "execution_count": 7,
   "outputs": [
    {
     "data": {
      "text/plain": "<IPython.core.display.HTML object>",
      "text/html": "<div style='text-align: center; font-family: monospace;'><span style='display: inline-block; width: 100px;'>Variable</span><span style='display: inline-block; width: 70px;'>Model 1</span><span style='display: inline-block; width: 70px;'>Model 2</span></div><div style='text-align: center; font-family: monospace;'><span style='display: inline-block; width: 240px; border-bottom: 1px dotted;'>&nbsp;</span></div><div style='text-align: center; font-family: monospace;'><span style='display: inline-block; width: 100px;'>Intercept</span><span style='display: inline-block; width: 70px; text-align: center;'>-0.104***<br><span style='font-size: 0.8em;'>(0.037)</span></span><span style='display: inline-block; width: 70px; text-align: center;'>-0.03<br><span style='font-size: 0.8em;'>(0.036)</span></span></div><div style='text-align: center; font-family: monospace;'><span style='display: inline-block; width: 100px;'>assist</span><span style='display: inline-block; width: 70px; text-align: center;'>0.203***<br><span style='font-size: 0.8em;'>(0.05)</span></span><span style='display: inline-block; width: 70px; text-align: center;'>0.059<br><span style='font-size: 0.8em;'>(0.05)</span></span></div><div style='text-align: center; font-family: monospace;'><span style='display: inline-block; width: 240px; border-bottom: 1px dotted;'>&nbsp;</span></div><div style='text-align: center; font-family: monospace;'><span style='display: inline-block; width: 100px;'>Outcome</span><span style='display: inline-block; width: 70px; text-align: center;'>housing</span><span style='display: inline-block; width: 70px; text-align: center;'>mhealth</span></div><div style='text-align: center; font-family: monospace;'><span style='display: inline-block; width: 240px; border-bottom: 1px dotted;'>&nbsp;</span></div><div style='text-align: center; font-family: monospace;'><span style='display: inline-block; width: 100px;'>Observations</span><span style='display: inline-block; width: 70px; text-align: center;'>1616</span><span style='display: inline-block; width: 70px; text-align: center;'>1616</span></div><div style='text-align: center; font-family: monospace;'><span style='display: inline-block; width: 100px;'>R^2</span><span style='display: inline-block; width: 70px; text-align: center;'>0.01</span><span style='display: inline-block; width: 70px; text-align: center;'>0.001</span></div><div style='text-align: center; font-family: monospace;'><span style='display: inline-block; width: 100px;'>Adj. R^2</span><span style='display: inline-block; width: 70px; text-align: center;'>0.01</span><span style='display: inline-block; width: 70px; text-align: center;'>0.0</span></div><div style='text-align: center; font-family: monospace;'><span style='display: inline-block; width: 100px;'>F-statistic</span><span style='display: inline-block; width: 70px; text-align: center;'>16.777</span><span style='display: inline-block; width: 70px; text-align: center;'>1.398</span></div><div style='text-align: center; font-family: monospace;'><span style='display: inline-block; width: 100px;'>Prob (F)</span><span style='display: inline-block; width: 70px; text-align: center;'>0.0</span><span style='display: inline-block; width: 70px; text-align: center;'>0.237</span></div><div style='text-align: center; font-family: monospace;'><span style='display: inline-block; width: 240px; border-bottom: 1px dotted;'>&nbsp;</span></div><div style='text-align: center; font-family: monospace; font-size: 0.8em;'>* p < 0.1, ** p < 0.05, *** p < 0.01</div>"
     },
     "metadata": {},
     "output_type": "display_data"
    }
   ],
   "source": [
    "housing_assist = LinReg(df=df, outcome=\"housing\", independent=[\"assist\"], standard_error_type='robust')\n",
    "health_assist = LinReg(df=df, outcome=\"mhealth\", independent=[\"assist\"], standard_error_type='robust')\n",
    "display_models([housing_assist,health_assist])"
   ],
   "metadata": {
    "collapsed": false,
    "ExecuteTime": {
     "end_time": "2023-12-29T11:37:04.093612Z",
     "start_time": "2023-12-29T11:37:04.058759Z"
    }
   },
   "id": "1c5ee74f629822af"
  },
  {
   "cell_type": "markdown",
   "source": [
    "Looking at the results above we find that there is a statistically significant difference between the treatment and control groups for  housing quality.  The treatment group has a higher housing quality.  This is good news as it seems that the government assistance program was successful to some degree.  The impact is somewhat significant listing at 0.2 standard deviations.  However, the impact on mental health is not statistically significant.  This is not good news as it means that the government assistance program did not have a significant impact on mental health. Lets see if these results generalize to women as well give we saw the imbalance above.\n"
   ],
   "metadata": {
    "collapsed": false
   },
   "id": "1e41bd5997e759f6"
  },
  {
   "cell_type": "code",
   "execution_count": 9,
   "outputs": [
    {
     "data": {
      "text/plain": "<IPython.core.display.HTML object>",
      "text/html": "<div style='text-align: center; font-family: monospace;'><span style='display: inline-block; width: 100px;'>Variable</span><span style='display: inline-block; width: 70px;'>Model 1</span><span style='display: inline-block; width: 70px;'>Model 2</span></div><div style='text-align: center; font-family: monospace;'><span style='display: inline-block; width: 240px; border-bottom: 1px dotted;'>&nbsp;</span></div><div style='text-align: center; font-family: monospace;'><span style='display: inline-block; width: 100px;'>Intercept</span><span style='display: inline-block; width: 70px; text-align: center;'>-0.032<br><span style='font-size: 0.8em;'>(0.05)</span></span><span style='display: inline-block; width: 70px; text-align: center;'>-0.204***<br><span style='font-size: 0.8em;'>(0.05)</span></span></div><div style='text-align: center; font-family: monospace;'><span style='display: inline-block; width: 100px;'>assist</span><span style='display: inline-block; width: 70px; text-align: center;'>0.151**<br><span style='font-size: 0.8em;'>(0.068)</span></span><span style='display: inline-block; width: 70px; text-align: center;'>0.027<br><span style='font-size: 0.8em;'>(0.072)</span></span></div><div style='text-align: center; font-family: monospace;'><span style='display: inline-block; width: 240px; border-bottom: 1px dotted;'>&nbsp;</span></div><div style='text-align: center; font-family: monospace;'><span style='display: inline-block; width: 100px;'>Outcome</span><span style='display: inline-block; width: 70px; text-align: center;'>housing</span><span style='display: inline-block; width: 70px; text-align: center;'>mhealth</span></div><div style='text-align: center; font-family: monospace;'><span style='display: inline-block; width: 240px; border-bottom: 1px dotted;'>&nbsp;</span></div><div style='text-align: center; font-family: monospace;'><span style='display: inline-block; width: 100px;'>Observations</span><span style='display: inline-block; width: 70px; text-align: center;'>788</span><span style='display: inline-block; width: 70px; text-align: center;'>788</span></div><div style='text-align: center; font-family: monospace;'><span style='display: inline-block; width: 100px;'>R^2</span><span style='display: inline-block; width: 70px; text-align: center;'>0.006</span><span style='display: inline-block; width: 70px; text-align: center;'>0.0</span></div><div style='text-align: center; font-family: monospace;'><span style='display: inline-block; width: 100px;'>Adj. R^2</span><span style='display: inline-block; width: 70px; text-align: center;'>0.005</span><span style='display: inline-block; width: 70px; text-align: center;'>-0.001</span></div><div style='text-align: center; font-family: monospace;'><span style='display: inline-block; width: 100px;'>F-statistic</span><span style='display: inline-block; width: 70px; text-align: center;'>4.913</span><span style='display: inline-block; width: 70px; text-align: center;'>0.142</span></div><div style='text-align: center; font-family: monospace;'><span style='display: inline-block; width: 100px;'>Prob (F)</span><span style='display: inline-block; width: 70px; text-align: center;'>0.027</span><span style='display: inline-block; width: 70px; text-align: center;'>0.706</span></div><div style='text-align: center; font-family: monospace;'><span style='display: inline-block; width: 240px; border-bottom: 1px dotted;'>&nbsp;</span></div><div style='text-align: center; font-family: monospace; font-size: 0.8em;'>* p < 0.1, ** p < 0.05, *** p < 0.01</div>"
     },
     "metadata": {},
     "output_type": "display_data"
    }
   ],
   "source": [
    "female_housing_assist = LinReg(df=female, outcome=\"housing\", independent=[\"assist\"], standard_error_type='robust')\n",
    "female_health_assist = LinReg(df=female, outcome=\"mhealth\", independent=[\"assist\"], standard_error_type='robust')\n",
    "display_models([female_housing_assist, female_health_assist])"
   ],
   "metadata": {
    "collapsed": false,
    "ExecuteTime": {
     "end_time": "2023-12-29T11:37:24.775437Z",
     "start_time": "2023-12-29T11:37:24.754139Z"
    }
   },
   "id": "7fdbb13550d9b6bd"
  },
  {
   "cell_type": "markdown",
   "source": [
    "Looking at these results we see that there doesnt seem to be any difference between treatment and control in mental health scores.  However, we do see as we did above that assistance leads to better housing outcomes. Finally, lets add our control covariates. "
   ],
   "metadata": {
    "collapsed": false
   },
   "id": "5f2ba91899cc22ea"
  },
  {
   "cell_type": "code",
   "execution_count": 12,
   "outputs": [
    {
     "data": {
      "text/plain": "<IPython.core.display.HTML object>",
      "text/html": "<div style='text-align: center; font-family: monospace;'><span style='display: inline-block; width: 100px;'>Variable</span><span style='display: inline-block; width: 70px;'>Model 1</span><span style='display: inline-block; width: 70px;'>Model 2</span><span style='display: inline-block; width: 70px;'>Model 3</span><span style='display: inline-block; width: 70px;'>Model 4</span></div><div style='text-align: center; font-family: monospace;'><span style='display: inline-block; width: 380px; border-bottom: 1px dotted;'>&nbsp;</span></div><div style='text-align: center; font-family: monospace;'><span style='display: inline-block; width: 100px;'>Intercept</span><span style='display: inline-block; width: 70px; text-align: center;'>-0.104***<br><span style='font-size: 0.8em;'>(0.037)</span></span><span style='display: inline-block; width: 70px; text-align: center;'>-0.03<br><span style='font-size: 0.8em;'>(0.036)</span></span><span style='display: inline-block; width: 70px; text-align: center;'>-0.393***<br><span style='font-size: 0.8em;'>(0.097)</span></span><span style='display: inline-block; width: 70px; text-align: center;'>-0.195**<br><span style='font-size: 0.8em;'>(0.095)</span></span></div><div style='text-align: center; font-family: monospace;'><span style='display: inline-block; width: 100px;'>age</span><span style='display: inline-block; width: 70px; text-align: center;'>-<br><span style='font-size: 0.8em;'></span></span><span style='display: inline-block; width: 70px; text-align: center;'>-<br><span style='font-size: 0.8em;'></span></span><span style='display: inline-block; width: 70px; text-align: center;'>0.006**<br><span style='font-size: 0.8em;'>(0.002)</span></span><span style='display: inline-block; width: 70px; text-align: center;'>0.005**<br><span style='font-size: 0.8em;'>(0.002)</span></span></div><div style='text-align: center; font-family: monospace;'><span style='display: inline-block; width: 100px;'>assist</span><span style='display: inline-block; width: 70px; text-align: center;'>0.203***<br><span style='font-size: 0.8em;'>(0.05)</span></span><span style='display: inline-block; width: 70px; text-align: center;'>0.059<br><span style='font-size: 0.8em;'>(0.05)</span></span><span style='display: inline-block; width: 70px; text-align: center;'>0.205***<br><span style='font-size: 0.8em;'>(0.049)</span></span><span style='display: inline-block; width: 70px; text-align: center;'>0.059<br><span style='font-size: 0.8em;'>(0.05)</span></span></div><div style='text-align: center; font-family: monospace;'><span style='display: inline-block; width: 100px;'>educ</span><span style='display: inline-block; width: 70px; text-align: center;'>-<br><span style='font-size: 0.8em;'></span></span><span style='display: inline-block; width: 70px; text-align: center;'>-<br><span style='font-size: 0.8em;'></span></span><span style='display: inline-block; width: 70px; text-align: center;'>0.123**<br><span style='font-size: 0.8em;'>(0.051)</span></span><span style='display: inline-block; width: 70px; text-align: center;'>-0.057<br><span style='font-size: 0.8em;'>(0.05)</span></span></div><div style='text-align: center; font-family: monospace;'><span style='display: inline-block; width: 380px; border-bottom: 1px dotted;'>&nbsp;</span></div><div style='text-align: center; font-family: monospace;'><span style='display: inline-block; width: 100px;'>Outcome</span><span style='display: inline-block; width: 70px; text-align: center;'>housing</span><span style='display: inline-block; width: 70px; text-align: center;'>mhealth</span><span style='display: inline-block; width: 70px; text-align: center;'>housing</span><span style='display: inline-block; width: 70px; text-align: center;'>mhealth</span></div><div style='text-align: center; font-family: monospace;'><span style='display: inline-block; width: 380px; border-bottom: 1px dotted;'>&nbsp;</span></div><div style='text-align: center; font-family: monospace;'><span style='display: inline-block; width: 100px;'>Observations</span><span style='display: inline-block; width: 70px; text-align: center;'>1616</span><span style='display: inline-block; width: 70px; text-align: center;'>1616</span><span style='display: inline-block; width: 70px; text-align: center;'>1616</span><span style='display: inline-block; width: 70px; text-align: center;'>1616</span></div><div style='text-align: center; font-family: monospace;'><span style='display: inline-block; width: 100px;'>R^2</span><span style='display: inline-block; width: 70px; text-align: center;'>0.01</span><span style='display: inline-block; width: 70px; text-align: center;'>0.001</span><span style='display: inline-block; width: 70px; text-align: center;'>0.019</span><span style='display: inline-block; width: 70px; text-align: center;'>0.005</span></div><div style='text-align: center; font-family: monospace;'><span style='display: inline-block; width: 100px;'>Adj. R^2</span><span style='display: inline-block; width: 70px; text-align: center;'>0.01</span><span style='display: inline-block; width: 70px; text-align: center;'>0.0</span><span style='display: inline-block; width: 70px; text-align: center;'>0.017</span><span style='display: inline-block; width: 70px; text-align: center;'>0.003</span></div><div style='text-align: center; font-family: monospace;'><span style='display: inline-block; width: 100px;'>F-statistic</span><span style='display: inline-block; width: 70px; text-align: center;'>16.777</span><span style='display: inline-block; width: 70px; text-align: center;'>1.398</span><span style='display: inline-block; width: 70px; text-align: center;'>10.205</span><span style='display: inline-block; width: 70px; text-align: center;'>2.452</span></div><div style='text-align: center; font-family: monospace;'><span style='display: inline-block; width: 100px;'>Prob (F)</span><span style='display: inline-block; width: 70px; text-align: center;'>0.0</span><span style='display: inline-block; width: 70px; text-align: center;'>0.237</span><span style='display: inline-block; width: 70px; text-align: center;'>0.0</span><span style='display: inline-block; width: 70px; text-align: center;'>0.062</span></div><div style='text-align: center; font-family: monospace;'><span style='display: inline-block; width: 380px; border-bottom: 1px dotted;'>&nbsp;</span></div><div style='text-align: center; font-family: monospace; font-size: 0.8em;'>* p < 0.1, ** p < 0.05, *** p < 0.01</div>"
     },
     "metadata": {},
     "output_type": "display_data"
    }
   ],
   "source": [
    "housing_full = LinReg(df=df, outcome=\"housing\",\n",
    "                      independent=[\"assist\", \"educ\", 'age'],\n",
    "                      standard_error_type='robust')\n",
    "\n",
    "health_full = LinReg(df=df, outcome=\"mhealth\",\n",
    "                     independent=[\"assist\", \"educ\", 'age'],\n",
    "                     standard_error_type='robust')\n",
    "\n",
    "display_models([\n",
    "                housing_assist,\n",
    "                health_assist,\n",
    "                housing_full,\n",
    "                health_full])"
   ],
   "metadata": {
    "collapsed": false,
    "ExecuteTime": {
     "end_time": "2023-12-29T11:39:13.425816Z",
     "start_time": "2023-12-29T11:39:13.378484Z"
    }
   },
   "id": "a5b80ad40a2285b3"
  },
  {
   "cell_type": "markdown",
   "source": [
    "From the results above we see that even when controlling for the effects of age and education, the treatment group still has a statistically significant higher housing quality.  However, the treatment group still does not have a statistically significant difference in mental health scores.  This is not good news as it means that the government assistance program did not have a significant impact on mental health.  This is a good example of how randomization can be used to determine the impact of a program.  It is also a good example of how randomization can be used to determine if a program is effective.  In this case, the program was effective at improving housing quality, but not mental health.  This is important to know as it means that the program should be continued, but that it should be modified to improve mental health outcomes."
   ],
   "metadata": {
    "collapsed": false
   },
   "id": "6731f334b96be125"
  },
  {
   "cell_type": "code",
   "execution_count": null,
   "outputs": [],
   "source": [],
   "metadata": {
    "collapsed": false
   },
   "id": "bcc0b32669a806d5"
  }
 ],
 "metadata": {
  "kernelspec": {
   "display_name": "Python 3",
   "language": "python",
   "name": "python3"
  },
  "language_info": {
   "codemirror_mode": {
    "name": "ipython",
    "version": 2
   },
   "file_extension": ".py",
   "mimetype": "text/x-python",
   "name": "python",
   "nbconvert_exporter": "python",
   "pygments_lexer": "ipython2",
   "version": "2.7.6"
  }
 },
 "nbformat": 4,
 "nbformat_minor": 5
}
