{
 "cells": [
  {
   "cell_type": "code",
   "execution_count": 1,
   "id": "initial_id",
   "metadata": {
    "collapsed": true,
    "ExecuteTime": {
     "end_time": "2023-12-31T10:21:16.541946Z",
     "start_time": "2023-12-31T10:21:15.743930Z"
    }
   },
   "outputs": [],
   "source": [
    "from src.models.linreg import LinReg\n",
    "import numpy as np\n",
    "import pandas as pd"
   ]
  },
  {
   "cell_type": "code",
   "execution_count": 2,
   "outputs": [],
   "source": [
    "np.random.seed(69)\n",
    "x = np.linspace(0, 5, 50)\n",
    "z = np.linspace(3, 8, 50)\n",
    "a = np.random.normal(0, 1, 50)\n",
    "y = 1 + 3 * x + 5*z + 4*a + np.random.normal(0, 2, 50)\n",
    "data = pd.DataFrame({'outcome': y,\n",
    "                     'x': x,\n",
    "                     'z': z,\n",
    "                     'a': a})"
   ],
   "metadata": {
    "collapsed": false,
    "ExecuteTime": {
     "end_time": "2023-12-31T10:21:17.027755Z",
     "start_time": "2023-12-31T10:21:17.021131Z"
    }
   },
   "id": "5fd9f34d81c5937b"
  },
  {
   "cell_type": "code",
   "execution_count": 3,
   "outputs": [
    {
     "data": {
      "text/plain": "<IPython.core.display.HTML object>",
      "text/html": "<h1 style='text-align:center;'>Regression Results</h1><pre style='text-align:center; font-family:monospace;'>Dep. Variable:          outcome    AIC:                    231.411\nObservations:                50    BIC:                    239.059\nStandard Error Type: non-robust    Adj. AIC:               232.299\nR-squared:                0.968    Adj. BIC:               240.797\nAdj. R-squared:           0.966    F-statistic:            463.694\nLog-Likelihood:        -111.705    Prob (F-statistic):         0.0\n\n            Variable Coefficient Std-Error T-Statistic P>|t| Conf. Interval          \n           ----------------------------------------------------------------          \n           Intercept    0.581      0.175      3.319    0.002 0.229 - 0.934           \n               x        3.275      0.371      8.826     0.0  2.528 - 4.022           \n               z        5.019      0.162      31.068    0.0  4.694 - 5.344           \n               a        3.982      0.327      12.19     0.0   3.324 - 4.64           \n</pre>"
     },
     "metadata": {},
     "output_type": "display_data"
    }
   ],
   "source": [
    "\"\"\"Regression with full Dataset\"\"\"\n",
    "\n",
    "linreg = LinReg(df=data, outcome=\"outcome\", independent=[\".\"])\n",
    "linreg.summary(content_type=\"html\")"
   ],
   "metadata": {
    "collapsed": false,
    "ExecuteTime": {
     "end_time": "2023-12-31T10:21:17.414371Z",
     "start_time": "2023-12-31T10:21:17.407468Z"
    }
   },
   "id": "478ae99a244edbb8"
  },
  {
   "cell_type": "code",
   "execution_count": 4,
   "outputs": [
    {
     "data": {
      "text/plain": "<IPython.core.display.HTML object>",
      "text/html": "<h1 style='text-align:center;'>Regression Results</h1><pre style='text-align:center; font-family:monospace;'>Dep. Variable:          outcome    AIC:                    301.452\nObservations:                50    BIC:                    307.188\nStandard Error Type: non-robust    Adj. AIC:               301.974\nR-squared:                0.865    Adj. BIC:               308.209\nAdj. R-squared:           0.859    F-statistic:            150.037\nLog-Likelihood:        -147.726    Prob (F-statistic):         0.0\n\n            Variable Coefficient Std-Error T-Statistic P>|t| Conf. Interval          \n           ----------------------------------------------------------------          \n           Intercept    0.631      0.356      1.771    0.083 -0.086 - 1.347          \n               x        3.035      0.754      4.024     0.0  1.518 - 4.552           \n               z        4.927      0.328      15.004    0.0  4.266 - 5.587           \n</pre>"
     },
     "metadata": {},
     "output_type": "display_data"
    }
   ],
   "source": [
    "\"\"\"Regression with only x and z\"\"\"\n",
    "\n",
    "linreg = LinReg(df=data, outcome=\"outcome\", independent=[\"!a\"])\n",
    "linreg.summary(content_type=\"html\")"
   ],
   "metadata": {
    "collapsed": false,
    "ExecuteTime": {
     "end_time": "2023-12-31T10:21:17.922546Z",
     "start_time": "2023-12-31T10:21:17.918817Z"
    }
   },
   "id": "ee8abe11450d754f"
  },
  {
   "cell_type": "code",
   "execution_count": 7,
   "outputs": [
    {
     "data": {
      "text/plain": "<IPython.core.display.HTML object>",
      "text/html": "<h1 style='text-align:center;'>Regression Results</h1><pre style='text-align:center; font-family:monospace;'>Dep. Variable:          outcome    AIC:                    301.837\nObservations:                50    BIC:                    309.485\nStandard Error Type: non-robust    Adj. AIC:               302.726\nR-squared:                0.869    Adj. BIC:               311.224\nAdj. R-squared:           0.861    F-statistic:             101.79\nLog-Likelihood:        -146.918    Prob (F-statistic):         0.0\n\n           Variable Coefficient Std-Error T-Statistic P>|t|  Conf. Interval           \n          -----------------------------------------------------------------           \n          Intercept    18.03      2.501       7.21     0.0  12.996 - 23.063           \n             x^1        3.19      4.375      0.729     0.47 -5.617 - 11.997           \n             x^3       -0.204     0.269      -0.76    0.451  -0.745 - 0.337           \n             x^2        1.88      2.045      0.919    0.363  -2.237 - 5.996           \n</pre>"
     },
     "metadata": {},
     "output_type": "display_data"
    }
   ],
   "source": [
    "\"\"\"Polynomial Regression of degree 3\"\"\"\n",
    "\n",
    "linreg = LinReg(df=data, outcome=\"outcome\", independent=[\"x^3\"])\n",
    "linreg.summary(content_type=\"html\")"
   ],
   "metadata": {
    "collapsed": false,
    "ExecuteTime": {
     "end_time": "2023-12-31T10:21:29.529076Z",
     "start_time": "2023-12-31T10:21:29.518278Z"
    }
   },
   "id": "fe46b33eb08eec6a"
  },
  {
   "cell_type": "code",
   "execution_count": 10,
   "outputs": [
    {
     "data": {
      "text/plain": "<IPython.core.display.HTML object>",
      "text/html": "<h1 style='text-align:center;'>Regression Results</h1><pre style='text-align:center; font-family:monospace;'>Dep. Variable:          outcome    AIC:                    234.354\nObservations:                50    BIC:                    247.738\nStandard Error Type: non-robust    Adj. AIC:               237.021\nR-squared:                 0.97    Adj. BIC:               252.954\nAdj. R-squared:           0.966    F-statistic:            232.617\nLog-Likelihood:        -110.177    Prob (F-statistic):         0.0\n\n            Variable Coefficient Std-Error T-Statistic P>|t| Conf. Interval          \n           ----------------------------------------------------------------          \n           Intercept    1.202      0.796       1.51    0.138 -0.403 - 2.806          \n              z^2       1.009      0.278      3.629    0.001 0.448 - 1.571           \n              x^1       -1.677     1.443      -1.162   0.251 -4.588 - 1.233          \n              x^3       -0.192     0.133      -1.448   0.155 -0.46 - 0.076           \n              z^1       1.927      0.948      2.032    0.048 0.015 - 3.839           \n               a        4.059      0.337      12.056    0.0   3.38 - 4.738           \n              x^2       0.261      1.279      0.204     0.84 -2.319 - 2.84           \n</pre>"
     },
     "metadata": {},
     "output_type": "display_data"
    }
   ],
   "source": [
    "\"\"\"Polynomial Regression of degree 3\"\"\"\n",
    "\n",
    "linreg = LinReg(df=data, outcome=\"outcome\", independent=[\"x^3\", \"z^2\", \"a\"])\n",
    "linreg.summary(content_type=\"html\")"
   ],
   "metadata": {
    "collapsed": false,
    "ExecuteTime": {
     "end_time": "2023-12-31T10:22:06.506442Z",
     "start_time": "2023-12-31T10:22:06.495571Z"
    }
   },
   "id": "18856665ba607a79"
  },
  {
   "cell_type": "code",
   "execution_count": 12,
   "outputs": [
    {
     "data": {
      "text/plain": "<IPython.core.display.HTML object>",
      "text/html": "<h1 style='text-align:center;'>Regression Results</h1><pre style='text-align:center; font-family:monospace;'>Dep. Variable:          outcome    AIC:                    263.026\nObservations:                50    BIC:                    268.762\nStandard Error Type: non-robust    Adj. AIC:               263.548\nR-squared:                0.937    Adj. BIC:               269.783\nAdj. R-squared:           0.935    F-statistic:            350.746\nLog-Likelihood:        -128.513    Prob (F-statistic):         0.0\n\n           Variable Coefficient Std-Error T-Statistic P>|t|  Conf. Interval           \n          -----------------------------------------------------------------           \n          Intercept    20.293     0.771      26.307    0.0  18.741 - 21.845           \n              a        3.475      0.451       7.71     0.0   2.568 - 4.382            \n             x:z       1.002      0.039      25.869    0.0    0.924 - 1.08            \n</pre>"
     },
     "metadata": {},
     "output_type": "display_data"
    }
   ],
   "source": [
    "\"\"\"Regression with basic interaction between x and z\"\"\"\n",
    "\n",
    "linreg = LinReg(df=data, outcome=\"outcome\", independent=[\"x:z\", \"a\"])\n",
    "linreg.summary(content_type=\"html\")"
   ],
   "metadata": {
    "collapsed": false,
    "ExecuteTime": {
     "end_time": "2023-12-31T10:22:57.619151Z",
     "start_time": "2023-12-31T10:22:57.609311Z"
    }
   },
   "id": "8791d7807df95c97"
  },
  {
   "cell_type": "code",
   "execution_count": 15,
   "outputs": [
    {
     "data": {
      "text/plain": "<IPython.core.display.HTML object>",
      "text/html": "<h1 style='text-align:center;'>Regression Results</h1><pre style='text-align:center; font-family:monospace;'>Dep. Variable:          outcome    AIC:                    232.462\nObservations:                50    BIC:                    242.022\nStandard Error Type: non-robust    Adj. AIC:               233.825\nR-squared:                0.969    Adj. BIC:               244.689\nAdj. R-squared:           0.966    F-statistic:            347.653\nLog-Likelihood:        -111.231    Prob (F-statistic):         0.0\n\n            Variable Coefficient Std-Error T-Statistic P>|t| Conf. Interval          \n           ----------------------------------------------------------------          \n           Intercept    0.075      0.547      0.137    0.892 -1.028 - 1.177          \n               a        4.062      0.337      12.054    0.0  3.383 - 4.741           \n              x*z       -0.173     0.177      -0.976   0.334 -0.529 - 0.184          \n               z        4.954      0.175      28.351    0.0  4.602 - 5.306           \n               x        4.729      1.535      3.081    0.004 1.638 - 7.821           \n</pre>"
     },
     "metadata": {},
     "output_type": "display_data"
    }
   ],
   "source": [
    "\"\"\"Regression with advanced interaction between x and z\"\"\"\n",
    "\n",
    "linreg = LinReg(df=data, outcome=\"outcome\", independent=[\"x*z\", \"a\"])\n",
    "linreg.summary(content_type=\"html\")"
   ],
   "metadata": {
    "collapsed": false,
    "ExecuteTime": {
     "end_time": "2023-12-31T10:23:21.968415Z",
     "start_time": "2023-12-31T10:23:21.952924Z"
    }
   },
   "id": "946b19a589a34a2f"
  },
  {
   "cell_type": "code",
   "execution_count": 16,
   "outputs": [
    {
     "data": {
      "text/plain": "<IPython.core.display.HTML object>",
      "text/html": "<h1 style='text-align:center;'>Regression Results</h1><pre style='text-align:center; font-family:monospace;'>Dep. Variable:          outcome    AIC:                    227.999\nObservations:                50    BIC:                    235.647\nStandard Error Type: non-robust    Adj. AIC:               228.888\nR-squared:                 0.97    Adj. BIC:               237.386\nAdj. R-squared:           0.968    F-statistic:            497.518\nLog-Likelihood:          -110.0    Prob (F-statistic):         0.0\n\n           Variable Coefficient Std-Error T-Statistic P>|t|  Conf. Interval           \n          -----------------------------------------------------------------           \n          Intercept    16.182      0.79      20.496    0.0  14.593 - 17.771           \n            x:z^1       2.64      0.232      11.386    0.0   2.173 - 3.107            \n            x:z^2      -0.208     0.029      -7.114    0.0  -0.267 - -0.149           \n              a        4.056      0.325      12.487    0.0    3.402 - 4.71            \n</pre>"
     },
     "metadata": {},
     "output_type": "display_data"
    }
   ],
   "source": [
    "\"\"\"Basic interaction with polynomial regression\"\"\"\n",
    "\n",
    "linreg = LinReg(df=data, outcome=\"outcome\", independent=[\"x:z^2\", \"a\"])\n",
    "linreg.summary(content_type=\"html\")\n"
   ],
   "metadata": {
    "collapsed": false,
    "ExecuteTime": {
     "end_time": "2023-12-31T10:24:13.978555Z",
     "start_time": "2023-12-31T10:24:13.968495Z"
    }
   },
   "id": "685b7e65be7fd88e"
  },
  {
   "cell_type": "code",
   "execution_count": 17,
   "outputs": [
    {
     "data": {
      "text/plain": "<IPython.core.display.HTML object>",
      "text/html": "<h1 style='text-align:center;'>Regression Results</h1><pre style='text-align:center; font-family:monospace;'>Dep. Variable:          outcome    AIC:                    232.205\nObservations:                50    BIC:                    243.677\nStandard Error Type: non-robust    Adj. AIC:               234.158\nR-squared:                 0.97    Adj. BIC:               247.498\nAdj. R-squared:           0.967    F-statistic:            285.632\nLog-Likelihood:        -110.102    Prob (F-statistic):         0.0\n\n           Variable Coefficient Std-Error T-Statistic P>|t|  Conf. Interval           \n          -----------------------------------------------------------------           \n          Intercept    2.713       1.88      1.443    0.156  -1.077 - 6.502           \n            x*z^2      -0.192     0.131      -1.465    0.15  -0.457 - 0.072           \n              z        4.452      0.384      11.598    0.0   3.678 - 5.225            \n              a        4.059      0.333      12.195    0.0   3.388 - 4.729            \n              x        -3.686     5.942      -0.62    0.538 -15.662 - 8.289           \n            x*z^1      2.424      1.781      1.361    0.181  -1.166 - 6.014           \n</pre>"
     },
     "metadata": {},
     "output_type": "display_data"
    }
   ],
   "source": [
    "\"\"\"Advanced interaction with polynomial regression\"\"\"\n",
    "\n",
    "linreg = LinReg(df=data, outcome=\"outcome\", independent=[\"x*z^2\", \"a\"])\n",
    "linreg.summary(content_type=\"html\")"
   ],
   "metadata": {
    "collapsed": false,
    "ExecuteTime": {
     "end_time": "2023-12-31T10:24:25.510990Z",
     "start_time": "2023-12-31T10:24:25.490327Z"
    }
   },
   "id": "b6ea6dbf57aa4bdc"
  },
  {
   "cell_type": "code",
   "execution_count": null,
   "outputs": [],
   "source": [],
   "metadata": {
    "collapsed": false
   },
   "id": "22cebc21f094b99e"
  }
 ],
 "metadata": {
  "kernelspec": {
   "display_name": "Python 3",
   "language": "python",
   "name": "python3"
  },
  "language_info": {
   "codemirror_mode": {
    "name": "ipython",
    "version": 2
   },
   "file_extension": ".py",
   "mimetype": "text/x-python",
   "name": "python",
   "nbconvert_exporter": "python",
   "pygments_lexer": "ipython2",
   "version": "2.7.6"
  }
 },
 "nbformat": 4,
 "nbformat_minor": 5
}
