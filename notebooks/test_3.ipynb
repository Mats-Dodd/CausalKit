{
 "cells": [
  {
   "cell_type": "code",
   "execution_count": 1,
   "id": "initial_id",
   "metadata": {
    "collapsed": true,
    "ExecuteTime": {
     "end_time": "2024-01-05T00:48:40.498Z",
     "start_time": "2024-01-05T00:48:39.613538Z"
    }
   },
   "outputs": [
    {
     "data": {
      "text/plain": "      outcome  independent  instrument\n0   -1.415371      0.00000    0.496714\n1   -0.117615      0.10101   -0.037254\n2    0.263346      0.20202    0.849709\n3    0.106814      0.30303    1.826060\n4    1.050836      0.40404    0.169887\n..        ...          ...         ...\n95  29.173196      9.59596    8.132445\n96  28.207052      9.69697    9.993090\n97  29.547664      9.79798   10.059035\n98  29.755178      9.89899    9.904103\n99  28.857030     10.00000    9.765413\n\n[100 rows x 3 columns]",
      "text/html": "<div>\n<style scoped>\n    .dataframe tbody tr th:only-of-type {\n        vertical-align: middle;\n    }\n\n    .dataframe tbody tr th {\n        vertical-align: top;\n    }\n\n    .dataframe thead th {\n        text-align: right;\n    }\n</style>\n<table border=\"1\" class=\"dataframe\">\n  <thead>\n    <tr style=\"text-align: right;\">\n      <th></th>\n      <th>outcome</th>\n      <th>independent</th>\n      <th>instrument</th>\n    </tr>\n  </thead>\n  <tbody>\n    <tr>\n      <th>0</th>\n      <td>-1.415371</td>\n      <td>0.00000</td>\n      <td>0.496714</td>\n    </tr>\n    <tr>\n      <th>1</th>\n      <td>-0.117615</td>\n      <td>0.10101</td>\n      <td>-0.037254</td>\n    </tr>\n    <tr>\n      <th>2</th>\n      <td>0.263346</td>\n      <td>0.20202</td>\n      <td>0.849709</td>\n    </tr>\n    <tr>\n      <th>3</th>\n      <td>0.106814</td>\n      <td>0.30303</td>\n      <td>1.826060</td>\n    </tr>\n    <tr>\n      <th>4</th>\n      <td>1.050836</td>\n      <td>0.40404</td>\n      <td>0.169887</td>\n    </tr>\n    <tr>\n      <th>...</th>\n      <td>...</td>\n      <td>...</td>\n      <td>...</td>\n    </tr>\n    <tr>\n      <th>95</th>\n      <td>29.173196</td>\n      <td>9.59596</td>\n      <td>8.132445</td>\n    </tr>\n    <tr>\n      <th>96</th>\n      <td>28.207052</td>\n      <td>9.69697</td>\n      <td>9.993090</td>\n    </tr>\n    <tr>\n      <th>97</th>\n      <td>29.547664</td>\n      <td>9.79798</td>\n      <td>10.059035</td>\n    </tr>\n    <tr>\n      <th>98</th>\n      <td>29.755178</td>\n      <td>9.89899</td>\n      <td>9.904103</td>\n    </tr>\n    <tr>\n      <th>99</th>\n      <td>28.857030</td>\n      <td>10.00000</td>\n      <td>9.765413</td>\n    </tr>\n  </tbody>\n</table>\n<p>100 rows × 3 columns</p>\n</div>"
     },
     "execution_count": 1,
     "metadata": {},
     "output_type": "execute_result"
    }
   ],
   "source": [
    "\n",
    "import numpy as np\n",
    "import pandas as pd\n",
    "import pytest\n",
    "\n",
    "from src.models.linreg import LinReg\n",
    "from src.models.iv import IV\n",
    "\n",
    "np.random.seed(42)\n",
    "x = np.linspace(0, 10, 100)\n",
    "z = x + np.random.normal(0, 1, 100)\n",
    "y = 3 * x + np.random.normal(0, 1, 100)\n",
    "data = pd.DataFrame({'outcome': y, 'independent': x, 'instrument': z})\n",
    "data\n"
   ]
  },
  {
   "cell_type": "code",
   "execution_count": 2,
   "outputs": [
    {
     "data": {
      "text/plain": "<IPython.core.display.HTML object>",
      "text/html": "<p style='text-align:center; font-size:20px;'><strong>Instrumental Variables Regression Results</strong></p><p style='text-align:center;'>First Stage Equation: independent ~ instrument</p><p style='text-align:center;'>Second Stage Equation: outcome ~ predicted_independent</p><pre style='text-align:center; font-family:monospace;'>Dep. Variable:          outcome    AIC:                    496.621\nObservations:               100    BIC:                    501.832\nStandard Error Type: non-robust    Adj. AIC:               496.745\nR-squared:                0.896    Adj. BIC:               502.116\nAdj. R-squared:           0.895    F-statistic:            843.384\nLog-Likelihood:        -246.311    Prob (F-statistic):         0.0\n\n               Variable    Coefficient Std-Error T-Statistic P>|t| Conf. Interval          \n           ----------------------------------------------------------------------          \n              Intercept        0.08      0.589      0.136    0.892 -1.089 - 1.249          \n           independent_hat    2.988      0.103      29.041    0.0  2.784 - 3.193           \n</pre>"
     },
     "metadata": {},
     "output_type": "display_data"
    },
    {
     "data": {
      "text/plain": "array([0.08021449, 2.98841802])"
     },
     "execution_count": 2,
     "metadata": {},
     "output_type": "execute_result"
    }
   ],
   "source": [
    "m = IV(df=data,\n",
    "       outcome='outcome',\n",
    "       independent=['independent'],\n",
    "       controls=[],\n",
    "       instruments=['instrument'])\n",
    "\n",
    "m.summary()\n",
    "m.coefficients"
   ],
   "metadata": {
    "collapsed": false,
    "ExecuteTime": {
     "end_time": "2024-01-05T00:48:40.517145Z",
     "start_time": "2024-01-05T00:48:40.498848Z"
    }
   },
   "id": "4ecfb3d4387b3b1f"
  },
  {
   "cell_type": "code",
   "execution_count": 12,
   "outputs": [],
   "source": [
    "m.standard_errors"
   ],
   "metadata": {
    "collapsed": false,
    "ExecuteTime": {
     "end_time": "2024-01-05T00:45:26.877192Z",
     "start_time": "2024-01-05T00:45:26.868949Z"
    }
   },
   "id": "43a0a8dabc32c3d6"
  },
  {
   "cell_type": "code",
   "execution_count": 4,
   "outputs": [
    {
     "data": {
      "text/plain": "<IPython.core.display.HTML object>",
      "text/html": "<h1 style='text-align:center;'>Regression Results</h1><pre style='text-align:center; font-family:monospace;'>Dep. Variable:          outcome    AIC:                    496.621\nObservations:               100    BIC:                    501.832\nStandard Error Type: non-robust    Adj. AIC:               496.745\nR-squared:                0.896    Adj. BIC:               502.116\nAdj. R-squared:           0.895    F-statistic:            843.384\nLog-Likelihood:        -246.311    Prob (F-statistic):         0.0\n\n               Variable    Coefficient Std-Error T-Statistic P>|t| Conf. Interval          \n           ----------------------------------------------------------------------          \n              Intercept        0.08      0.589      0.136    0.892 -1.089 - 1.249          \n           independent_hat    2.988      0.103      29.041    0.0  2.784 - 3.193           \n</pre>"
     },
     "metadata": {},
     "output_type": "display_data"
    }
   ],
   "source": [
    "first_stage = LinReg(df=data,\n",
    "                     outcome='independent',\n",
    "                     independent=['instrument'])\n",
    "\n",
    "predicted = first_stage.predict(data['instrument'].values)\n",
    "df = data.copy().assign(independent_hat=predicted)\n",
    "\n",
    "\n",
    "second_stage = LinReg(df=df,\n",
    "                      outcome='outcome',\n",
    "                      independent=['independent_hat'])\n",
    "\n",
    "second_stage.summary(content_type='html')"
   ],
   "metadata": {
    "collapsed": false,
    "ExecuteTime": {
     "end_time": "2024-01-05T00:39:02.813643Z",
     "start_time": "2024-01-05T00:39:02.808934Z"
    }
   },
   "id": "8a9ff55c5fb66fbf"
  },
  {
   "cell_type": "code",
   "execution_count": 5,
   "outputs": [
    {
     "data": {
      "text/plain": "array([0.08021449, 2.98841802])"
     },
     "execution_count": 5,
     "metadata": {},
     "output_type": "execute_result"
    }
   ],
   "source": [
    "second_stage.coefficients"
   ],
   "metadata": {
    "collapsed": false,
    "ExecuteTime": {
     "end_time": "2024-01-05T00:44:37.396339Z",
     "start_time": "2024-01-05T00:44:37.381597Z"
    }
   },
   "id": "414a329452215de4"
  },
  {
   "cell_type": "code",
   "execution_count": null,
   "outputs": [],
   "source": [],
   "metadata": {
    "collapsed": false
   },
   "id": "ee364178db40e1c8"
  }
 ],
 "metadata": {
  "kernelspec": {
   "display_name": "Python 3",
   "language": "python",
   "name": "python3"
  },
  "language_info": {
   "codemirror_mode": {
    "name": "ipython",
    "version": 2
   },
   "file_extension": ".py",
   "mimetype": "text/x-python",
   "name": "python",
   "nbconvert_exporter": "python",
   "pygments_lexer": "ipython2",
   "version": "2.7.6"
  }
 },
 "nbformat": 4,
 "nbformat_minor": 5
}
