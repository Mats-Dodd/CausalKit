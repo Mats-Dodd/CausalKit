{
 "cells": [
  {
   "cell_type": "code",
   "execution_count": 1,
   "id": "initial_id",
   "metadata": {
    "collapsed": true,
    "ExecuteTime": {
     "end_time": "2024-01-04T21:33:44.176175Z",
     "start_time": "2024-01-04T21:33:43.192027Z"
    }
   },
   "outputs": [
    {
     "data": {
      "text/plain": "      outcome  independent1  independent2\n0   20.831014      0.000000      3.000000\n1   18.711283      0.102041      3.102041\n2   23.161325      0.204082      3.204082\n3   20.552302      0.306122      3.306122\n4   19.478498      0.408163      3.408163\n5   24.387289      0.510204      3.510204\n6   26.921935      0.612245      3.612245\n7   27.541170      0.714286      3.714286\n8   28.052027      0.816327      3.816327\n9   28.644089      0.918367      3.918367\n10  27.734199      1.020408      4.020408\n11  28.057676      1.122449      4.122449\n12  28.340265      1.224490      4.224490\n13  33.299942      1.326531      4.326531\n14  29.199461      1.428571      4.428571\n15  32.526717      1.530612      4.530612\n16  32.698915      1.632653      4.632653\n17  30.717998      1.734694      4.734694\n18  31.833302      1.836735      4.836735\n19  36.978300      1.938776      4.938776\n20  39.236491      2.040816      5.040816\n21  35.945786      2.142857      5.142857\n22  40.683292      2.244898      5.244898\n23  37.898140      2.346939      5.346939\n24  37.076962      2.448980      5.448980\n25  39.571440      2.551020      5.551020\n26  43.214804      2.653061      5.653061\n27  39.598693      2.755102      5.755102\n28  44.752596      2.857143      5.857143\n29  46.237024      2.959184      5.959184\n30  44.630256      3.061224      6.061224\n31  50.652914      3.163265      6.163265\n32  49.092421      3.265306      6.265306\n33  48.002231      3.367347      6.367347\n34  47.900487      3.469388      6.469388\n35  46.576782      3.571429      6.571429\n36  50.735754      3.673469      6.673469\n37  52.431351      3.775510      6.775510\n38  56.649492      3.877551      6.877551\n39  54.435860      3.979592      6.979592\n40  55.419556      4.081633      7.081633\n41  53.891190      4.183673      7.183673\n42  57.202083      4.285714      7.285714\n43  58.281455      4.387755      7.387755\n44  59.577069      4.489796      7.489796\n45  61.874051      4.591837      7.591837\n46  58.095088      4.693878      7.693878\n47  59.332528      4.795918      7.795918\n48  64.942924      4.897959      7.897959\n49  64.791864      5.000000      8.000000",
      "text/html": "<div>\n<style scoped>\n    .dataframe tbody tr th:only-of-type {\n        vertical-align: middle;\n    }\n\n    .dataframe tbody tr th {\n        vertical-align: top;\n    }\n\n    .dataframe thead th {\n        text-align: right;\n    }\n</style>\n<table border=\"1\" class=\"dataframe\">\n  <thead>\n    <tr style=\"text-align: right;\">\n      <th></th>\n      <th>outcome</th>\n      <th>independent1</th>\n      <th>independent2</th>\n    </tr>\n  </thead>\n  <tbody>\n    <tr>\n      <th>0</th>\n      <td>20.831014</td>\n      <td>0.000000</td>\n      <td>3.000000</td>\n    </tr>\n    <tr>\n      <th>1</th>\n      <td>18.711283</td>\n      <td>0.102041</td>\n      <td>3.102041</td>\n    </tr>\n    <tr>\n      <th>2</th>\n      <td>23.161325</td>\n      <td>0.204082</td>\n      <td>3.204082</td>\n    </tr>\n    <tr>\n      <th>3</th>\n      <td>20.552302</td>\n      <td>0.306122</td>\n      <td>3.306122</td>\n    </tr>\n    <tr>\n      <th>4</th>\n      <td>19.478498</td>\n      <td>0.408163</td>\n      <td>3.408163</td>\n    </tr>\n    <tr>\n      <th>5</th>\n      <td>24.387289</td>\n      <td>0.510204</td>\n      <td>3.510204</td>\n    </tr>\n    <tr>\n      <th>6</th>\n      <td>26.921935</td>\n      <td>0.612245</td>\n      <td>3.612245</td>\n    </tr>\n    <tr>\n      <th>7</th>\n      <td>27.541170</td>\n      <td>0.714286</td>\n      <td>3.714286</td>\n    </tr>\n    <tr>\n      <th>8</th>\n      <td>28.052027</td>\n      <td>0.816327</td>\n      <td>3.816327</td>\n    </tr>\n    <tr>\n      <th>9</th>\n      <td>28.644089</td>\n      <td>0.918367</td>\n      <td>3.918367</td>\n    </tr>\n    <tr>\n      <th>10</th>\n      <td>27.734199</td>\n      <td>1.020408</td>\n      <td>4.020408</td>\n    </tr>\n    <tr>\n      <th>11</th>\n      <td>28.057676</td>\n      <td>1.122449</td>\n      <td>4.122449</td>\n    </tr>\n    <tr>\n      <th>12</th>\n      <td>28.340265</td>\n      <td>1.224490</td>\n      <td>4.224490</td>\n    </tr>\n    <tr>\n      <th>13</th>\n      <td>33.299942</td>\n      <td>1.326531</td>\n      <td>4.326531</td>\n    </tr>\n    <tr>\n      <th>14</th>\n      <td>29.199461</td>\n      <td>1.428571</td>\n      <td>4.428571</td>\n    </tr>\n    <tr>\n      <th>15</th>\n      <td>32.526717</td>\n      <td>1.530612</td>\n      <td>4.530612</td>\n    </tr>\n    <tr>\n      <th>16</th>\n      <td>32.698915</td>\n      <td>1.632653</td>\n      <td>4.632653</td>\n    </tr>\n    <tr>\n      <th>17</th>\n      <td>30.717998</td>\n      <td>1.734694</td>\n      <td>4.734694</td>\n    </tr>\n    <tr>\n      <th>18</th>\n      <td>31.833302</td>\n      <td>1.836735</td>\n      <td>4.836735</td>\n    </tr>\n    <tr>\n      <th>19</th>\n      <td>36.978300</td>\n      <td>1.938776</td>\n      <td>4.938776</td>\n    </tr>\n    <tr>\n      <th>20</th>\n      <td>39.236491</td>\n      <td>2.040816</td>\n      <td>5.040816</td>\n    </tr>\n    <tr>\n      <th>21</th>\n      <td>35.945786</td>\n      <td>2.142857</td>\n      <td>5.142857</td>\n    </tr>\n    <tr>\n      <th>22</th>\n      <td>40.683292</td>\n      <td>2.244898</td>\n      <td>5.244898</td>\n    </tr>\n    <tr>\n      <th>23</th>\n      <td>37.898140</td>\n      <td>2.346939</td>\n      <td>5.346939</td>\n    </tr>\n    <tr>\n      <th>24</th>\n      <td>37.076962</td>\n      <td>2.448980</td>\n      <td>5.448980</td>\n    </tr>\n    <tr>\n      <th>25</th>\n      <td>39.571440</td>\n      <td>2.551020</td>\n      <td>5.551020</td>\n    </tr>\n    <tr>\n      <th>26</th>\n      <td>43.214804</td>\n      <td>2.653061</td>\n      <td>5.653061</td>\n    </tr>\n    <tr>\n      <th>27</th>\n      <td>39.598693</td>\n      <td>2.755102</td>\n      <td>5.755102</td>\n    </tr>\n    <tr>\n      <th>28</th>\n      <td>44.752596</td>\n      <td>2.857143</td>\n      <td>5.857143</td>\n    </tr>\n    <tr>\n      <th>29</th>\n      <td>46.237024</td>\n      <td>2.959184</td>\n      <td>5.959184</td>\n    </tr>\n    <tr>\n      <th>30</th>\n      <td>44.630256</td>\n      <td>3.061224</td>\n      <td>6.061224</td>\n    </tr>\n    <tr>\n      <th>31</th>\n      <td>50.652914</td>\n      <td>3.163265</td>\n      <td>6.163265</td>\n    </tr>\n    <tr>\n      <th>32</th>\n      <td>49.092421</td>\n      <td>3.265306</td>\n      <td>6.265306</td>\n    </tr>\n    <tr>\n      <th>33</th>\n      <td>48.002231</td>\n      <td>3.367347</td>\n      <td>6.367347</td>\n    </tr>\n    <tr>\n      <th>34</th>\n      <td>47.900487</td>\n      <td>3.469388</td>\n      <td>6.469388</td>\n    </tr>\n    <tr>\n      <th>35</th>\n      <td>46.576782</td>\n      <td>3.571429</td>\n      <td>6.571429</td>\n    </tr>\n    <tr>\n      <th>36</th>\n      <td>50.735754</td>\n      <td>3.673469</td>\n      <td>6.673469</td>\n    </tr>\n    <tr>\n      <th>37</th>\n      <td>52.431351</td>\n      <td>3.775510</td>\n      <td>6.775510</td>\n    </tr>\n    <tr>\n      <th>38</th>\n      <td>56.649492</td>\n      <td>3.877551</td>\n      <td>6.877551</td>\n    </tr>\n    <tr>\n      <th>39</th>\n      <td>54.435860</td>\n      <td>3.979592</td>\n      <td>6.979592</td>\n    </tr>\n    <tr>\n      <th>40</th>\n      <td>55.419556</td>\n      <td>4.081633</td>\n      <td>7.081633</td>\n    </tr>\n    <tr>\n      <th>41</th>\n      <td>53.891190</td>\n      <td>4.183673</td>\n      <td>7.183673</td>\n    </tr>\n    <tr>\n      <th>42</th>\n      <td>57.202083</td>\n      <td>4.285714</td>\n      <td>7.285714</td>\n    </tr>\n    <tr>\n      <th>43</th>\n      <td>58.281455</td>\n      <td>4.387755</td>\n      <td>7.387755</td>\n    </tr>\n    <tr>\n      <th>44</th>\n      <td>59.577069</td>\n      <td>4.489796</td>\n      <td>7.489796</td>\n    </tr>\n    <tr>\n      <th>45</th>\n      <td>61.874051</td>\n      <td>4.591837</td>\n      <td>7.591837</td>\n    </tr>\n    <tr>\n      <th>46</th>\n      <td>58.095088</td>\n      <td>4.693878</td>\n      <td>7.693878</td>\n    </tr>\n    <tr>\n      <th>47</th>\n      <td>59.332528</td>\n      <td>4.795918</td>\n      <td>7.795918</td>\n    </tr>\n    <tr>\n      <th>48</th>\n      <td>64.942924</td>\n      <td>4.897959</td>\n      <td>7.897959</td>\n    </tr>\n    <tr>\n      <th>49</th>\n      <td>64.791864</td>\n      <td>5.000000</td>\n      <td>8.000000</td>\n    </tr>\n  </tbody>\n</table>\n</div>"
     },
     "execution_count": 1,
     "metadata": {},
     "output_type": "execute_result"
    }
   ],
   "source": [
    "\n",
    "from src.models.linreg import LinReg\n",
    "from src.models.panel import FixedEffects\n",
    "\n",
    "import numpy as np\n",
    "import matplotlib.pyplot as plt\n",
    "import pandas as pd\n",
    "\n",
    "np.random.seed(69)\n",
    "x = np.linspace(0, 5, 50)\n",
    "z = np.linspace(3, 8, 50)\n",
    "y = 1 + 3 * x + 6 * z + np.random.normal(0, 2, 50)\n",
    "data = pd.DataFrame({'outcome': y,\n",
    "                     'independent1': x,\n",
    "                     'independent2': z})\n",
    "\n",
    "data"
   ]
  },
  {
   "cell_type": "code",
   "execution_count": 2,
   "outputs": [
    {
     "data": {
      "text/plain": "<IPython.core.display.HTML object>",
      "text/html": "<h1 style='text-align:center;'>Regression Results</h1><pre style='text-align:center; font-family:monospace;'>Dep. Variable:          outcome    AIC:                    219.105\nObservations:                50    BIC:                    224.841\nStandard Error Type: non-robust    Adj. AIC:               219.627\nR-squared:                0.976    Adj. BIC:               225.862\nAdj. R-squared:           0.975    F-statistic:            958.698\nLog-Likelihood:        -106.552    Prob (F-statistic):         0.0\n\n            Variable   Coefficient Std-Error T-Statistic P>|t| Conf. Interval           \n          -------------------------------------------------------------------           \n           Intercept      1.025      0.156      6.556     0.0   0.71 - 1.339            \n          independent1    2.879      0.331      8.699     0.0  2.213 - 3.545            \n          independent2    5.954      0.144      41.311    0.0  5.664 - 6.244            \n</pre>"
     },
     "metadata": {},
     "output_type": "display_data"
    }
   ],
   "source": [
    "perfect_model =  LinReg(df = data,\n",
    "                        outcome='outcome',\n",
    "                        independent=['independent1', \"independent2\"])\n",
    "\n",
    "perfect_model.summary(content_type='html')"
   ],
   "metadata": {
    "collapsed": false,
    "ExecuteTime": {
     "end_time": "2024-01-04T21:33:44.601248Z",
     "start_time": "2024-01-04T21:33:44.591592Z"
    }
   },
   "id": "67a7226ca739074a"
  },
  {
   "cell_type": "code",
   "execution_count": null,
   "outputs": [],
   "source": [],
   "metadata": {
    "collapsed": false
   },
   "id": "a11efe1e63ad3136"
  }
 ],
 "metadata": {
  "kernelspec": {
   "display_name": "Python 3",
   "language": "python",
   "name": "python3"
  },
  "language_info": {
   "codemirror_mode": {
    "name": "ipython",
    "version": 2
   },
   "file_extension": ".py",
   "mimetype": "text/x-python",
   "name": "python",
   "nbconvert_exporter": "python",
   "pygments_lexer": "ipython2",
   "version": "2.7.6"
  }
 },
 "nbformat": 4,
 "nbformat_minor": 5
}
