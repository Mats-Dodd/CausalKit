{
 "cells": [
  {
   "cell_type": "code",
   "execution_count": 11,
   "id": "initial_id",
   "metadata": {
    "collapsed": true,
    "ExecuteTime": {
     "end_time": "2023-12-29T14:04:07.831530Z",
     "start_time": "2023-12-29T14:04:07.828737Z"
    }
   },
   "outputs": [],
   "source": [
    "from src.models.linreg import LinReg\n",
    "from src.displays.display_linear import display_models\n",
    "\n",
    "import pandas as pd"
   ]
  },
  {
   "cell_type": "code",
   "execution_count": 12,
   "outputs": [
    {
     "data": {
      "text/plain": "          id  time  education  hhh_sex  mem_tot  emp_now  nutrition\n0     101043     0          0        1        3        1          4\n1     101203     0          0        1        6        0          0\n2     101227     0          0        1       10        1          2\n3     101108     0          0        1        9        0          0\n4     101239     0          0        1        8        1          3\n...      ...   ...        ...      ...      ...      ...        ...\n1939  209006     1          1        1        4        0          3\n1940  209019     1          0        1        3        1          2\n1941  209013     1          1        1        3        1          3\n1942  209010     1          1        1        4        1          5\n1943  209001     1          0        1        4        0          5\n\n[1944 rows x 7 columns]",
      "text/html": "<div>\n<style scoped>\n    .dataframe tbody tr th:only-of-type {\n        vertical-align: middle;\n    }\n\n    .dataframe tbody tr th {\n        vertical-align: top;\n    }\n\n    .dataframe thead th {\n        text-align: right;\n    }\n</style>\n<table border=\"1\" class=\"dataframe\">\n  <thead>\n    <tr style=\"text-align: right;\">\n      <th></th>\n      <th>id</th>\n      <th>time</th>\n      <th>education</th>\n      <th>hhh_sex</th>\n      <th>mem_tot</th>\n      <th>emp_now</th>\n      <th>nutrition</th>\n    </tr>\n  </thead>\n  <tbody>\n    <tr>\n      <th>0</th>\n      <td>101043</td>\n      <td>0</td>\n      <td>0</td>\n      <td>1</td>\n      <td>3</td>\n      <td>1</td>\n      <td>4</td>\n    </tr>\n    <tr>\n      <th>1</th>\n      <td>101203</td>\n      <td>0</td>\n      <td>0</td>\n      <td>1</td>\n      <td>6</td>\n      <td>0</td>\n      <td>0</td>\n    </tr>\n    <tr>\n      <th>2</th>\n      <td>101227</td>\n      <td>0</td>\n      <td>0</td>\n      <td>1</td>\n      <td>10</td>\n      <td>1</td>\n      <td>2</td>\n    </tr>\n    <tr>\n      <th>3</th>\n      <td>101108</td>\n      <td>0</td>\n      <td>0</td>\n      <td>1</td>\n      <td>9</td>\n      <td>0</td>\n      <td>0</td>\n    </tr>\n    <tr>\n      <th>4</th>\n      <td>101239</td>\n      <td>0</td>\n      <td>0</td>\n      <td>1</td>\n      <td>8</td>\n      <td>1</td>\n      <td>3</td>\n    </tr>\n    <tr>\n      <th>...</th>\n      <td>...</td>\n      <td>...</td>\n      <td>...</td>\n      <td>...</td>\n      <td>...</td>\n      <td>...</td>\n      <td>...</td>\n    </tr>\n    <tr>\n      <th>1939</th>\n      <td>209006</td>\n      <td>1</td>\n      <td>1</td>\n      <td>1</td>\n      <td>4</td>\n      <td>0</td>\n      <td>3</td>\n    </tr>\n    <tr>\n      <th>1940</th>\n      <td>209019</td>\n      <td>1</td>\n      <td>0</td>\n      <td>1</td>\n      <td>3</td>\n      <td>1</td>\n      <td>2</td>\n    </tr>\n    <tr>\n      <th>1941</th>\n      <td>209013</td>\n      <td>1</td>\n      <td>1</td>\n      <td>1</td>\n      <td>3</td>\n      <td>1</td>\n      <td>3</td>\n    </tr>\n    <tr>\n      <th>1942</th>\n      <td>209010</td>\n      <td>1</td>\n      <td>1</td>\n      <td>1</td>\n      <td>4</td>\n      <td>1</td>\n      <td>5</td>\n    </tr>\n    <tr>\n      <th>1943</th>\n      <td>209001</td>\n      <td>1</td>\n      <td>0</td>\n      <td>1</td>\n      <td>4</td>\n      <td>0</td>\n      <td>5</td>\n    </tr>\n  </tbody>\n</table>\n<p>1944 rows × 7 columns</p>\n</div>"
     },
     "execution_count": 12,
     "metadata": {},
     "output_type": "execute_result"
    }
   ],
   "source": [
    "df = pd.read_csv('../data/kenyan_assist.csv')\n",
    "df"
   ],
   "metadata": {
    "collapsed": false,
    "ExecuteTime": {
     "end_time": "2023-12-29T14:04:08.191441Z",
     "start_time": "2023-12-29T14:04:08.173994Z"
    }
   },
   "id": "e6a0461d9ac2261f"
  },
  {
   "cell_type": "code",
   "execution_count": 14,
   "outputs": [],
   "source": [
    "data_dictionary = {\n",
    "    'id': 'household id',\n",
    "    'time': 'time period, pre or post treatment',\n",
    "    'education': 'Binary indicator of whether the respondent has completed secondary school',\n",
    "    'hhh_sex': 'Household Head sex',\n",
    "    'mem_tot': 'total number of household members',\n",
    "    'emp_now': 'In the last 7 days, did you do any work for pay, do any kind of business?',\n",
    "    'nutrition': 'nutrition score, higher values show better nutrition'\n",
    "}"
   ],
   "metadata": {
    "collapsed": false,
    "ExecuteTime": {
     "end_time": "2023-12-29T14:04:24.168627Z",
     "start_time": "2023-12-29T14:04:24.162757Z"
    }
   },
   "id": "4b9a08bc8263fbe9"
  },
  {
   "cell_type": "markdown",
   "source": [
    "The dataset consists of simulated data motivated by https://microdata.worldbank.org/index.php/catalog/4210/study-description.  The study is a randomized control trial of a nutrition intervention in Kenya.  The data is simulated to have similar properties to the real data.  The outcome variable is a standardized nutrition score.  The treatment variable is a binary indicator of whether the household  received a cash assistance equal to about 12 USD.  The study conducted both pre and pot treatment surveys collecting infomration on household composition, employment and nutrition outcomes. Unfortunately, for the example we have lost the data for the control group, thus in this data we only have access to the treatment groups data.  In order to still study any potential effects we will have to leverage the  causal inference technique of pre/post analysis to work around the issue of not having a control group. Lets look at some assumptions for the technique"
   ],
   "metadata": {
    "collapsed": false
   },
   "id": "ec96de0590777273"
  },
  {
   "cell_type": "markdown",
   "source": [
    "## Key Assumptions of Pre-Post Analysis\n",
    "\n",
    "Pre-Post Analysis relies on several key assumptions for its validity. These include:\n",
    "\n",
    "1. **No External Influences:** The assumption that no external factors other than the treatment influence the outcome variable between the pre- and post-treatment periods.\n",
    "2. **Consistency of Treatment Effect:** The assumption that the treatment effect is consistent across subjects and over time.\n",
    "\n",
    "## Econometric Model Explanation\n",
    "\n",
    "The model equation is given by:\n",
    "\n",
    "`Y_it = α + bT_it + dX_it + e_it`\n",
    "\n",
    "where:\n",
    "- `t = 0` represents the Baseline,\n",
    "- `t = 1` represents the post-event.\n",
    "\n",
    "In this model, the treatment effect is estimated as:\n",
    "\n",
    "`E[Y_i1] - E[Y_i0]`\n",
    "\n",
    "which can be broken down into:\n",
    "\n",
    "`b + d(E[X_i1] - E[X_i0])`\n",
    "\n",
    "Here, `b` is the true effect, and `d(E[X_i1] - E[X_i0])` captures the changes in all other unobserved factors.\n",
    "\n",
    "To derive causality and accurately measure the true effect, we require:\n",
    "\n",
    "`E[X_i1] = E[X_i0]`\n",
    "\n",
    "This implies that the effects of all other variables must remain stable over time.\n",
    "\n"
   ],
   "metadata": {
    "collapsed": false
   },
   "id": "fa91b2746037698b"
  },
  {
   "cell_type": "code",
   "execution_count": 15,
   "outputs": [
    {
     "data": {
      "text/plain": "<IPython.core.display.HTML object>",
      "text/html": "<div style='text-align: center; font-family: monospace;'><span style='display: inline-block; width: 100px;'>Variable</span><span style='display: inline-block; width: 70px;'>Model 1</span><span style='display: inline-block; width: 70px;'>Model 2</span><span style='display: inline-block; width: 70px;'>Model 3</span></div><div style='text-align: center; font-family: monospace;'><span style='display: inline-block; width: 310px; border-bottom: 1px dotted;'>&nbsp;</span></div><div style='text-align: center; font-family: monospace;'><span style='display: inline-block; width: 100px;'>Intercept</span><span style='display: inline-block; width: 70px; text-align: center;'>0.54***<br><span style='font-size: 0.8em;'>(0.016)</span></span><span style='display: inline-block; width: 70px; text-align: center;'>0.971***<br><span style='font-size: 0.8em;'>(0.005)</span></span><span style='display: inline-block; width: 70px; text-align: center;'>4.886***<br><span style='font-size: 0.8em;'>(0.066)</span></span></div><div style='text-align: center; font-family: monospace;'><span style='display: inline-block; width: 100px;'>time</span><span style='display: inline-block; width: 70px; text-align: center;'>-0.002<br><span style='font-size: 0.8em;'>(0.023)</span></span><span style='display: inline-block; width: 70px; text-align: center;'>0.0<br><span style='font-size: 0.8em;'>(0.008)</span></span><span style='display: inline-block; width: 70px; text-align: center;'>0.006<br><span style='font-size: 0.8em;'>(0.095)</span></span></div><div style='text-align: center; font-family: monospace;'><span style='display: inline-block; width: 310px; border-bottom: 1px dotted;'>&nbsp;</span></div><div style='text-align: center; font-family: monospace;'><span style='display: inline-block; width: 100px;'>Outcome</span><span style='display: inline-block; width: 70px; text-align: center;'>education</span><span style='display: inline-block; width: 70px; text-align: center;'>hhh_sex</span><span style='display: inline-block; width: 70px; text-align: center;'>mem_tot</span></div><div style='text-align: center; font-family: monospace;'><span style='display: inline-block; width: 310px; border-bottom: 1px dotted;'>&nbsp;</span></div><div style='text-align: center; font-family: monospace;'><span style='display: inline-block; width: 100px;'>Observations</span><span style='display: inline-block; width: 70px; text-align: center;'>1944</span><span style='display: inline-block; width: 70px; text-align: center;'>1944</span><span style='display: inline-block; width: 70px; text-align: center;'>1944</span></div><div style='text-align: center; font-family: monospace;'><span style='display: inline-block; width: 100px;'>R^2</span><span style='display: inline-block; width: 70px; text-align: center;'>0.0</span><span style='display: inline-block; width: 70px; text-align: center;'>0.0</span><span style='display: inline-block; width: 70px; text-align: center;'>0.0</span></div><div style='text-align: center; font-family: monospace;'><span style='display: inline-block; width: 100px;'>Adj. R^2</span><span style='display: inline-block; width: 70px; text-align: center;'>-0.001</span><span style='display: inline-block; width: 70px; text-align: center;'>-0.001</span><span style='display: inline-block; width: 70px; text-align: center;'>-0.001</span></div><div style='text-align: center; font-family: monospace;'><span style='display: inline-block; width: 100px;'>F-statistic</span><span style='display: inline-block; width: 70px; text-align: center;'>0.005</span><span style='display: inline-block; width: 70px; text-align: center;'>0.001</span><span style='display: inline-block; width: 70px; text-align: center;'>0.004</span></div><div style='text-align: center; font-family: monospace;'><span style='display: inline-block; width: 100px;'>Prob (F)</span><span style='display: inline-block; width: 70px; text-align: center;'>0.944</span><span style='display: inline-block; width: 70px; text-align: center;'>0.977</span><span style='display: inline-block; width: 70px; text-align: center;'>0.947</span></div><div style='text-align: center; font-family: monospace;'><span style='display: inline-block; width: 310px; border-bottom: 1px dotted;'>&nbsp;</span></div><div style='text-align: center; font-family: monospace; font-size: 0.8em;'>* p < 0.1, ** p < 0.05, *** p < 0.01</div>"
     },
     "metadata": {},
     "output_type": "display_data"
    }
   ],
   "source": [
    "\"\"\"Randomization Check of covariates over time\"\"\"\n",
    "education_check = LinReg(df=df, outcome=\"education\", independent=[\"time\"], standard_error_type='robust')\n",
    "hhh_sex_check = LinReg(df=df, outcome=\"hhh_sex\", independent=[\"time\"], standard_error_type='robust')\n",
    "mem_tot_check = LinReg(df=df, outcome=\"mem_tot\", independent=[\"time\"], standard_error_type='robust')\n",
    "display_models([education_check,hhh_sex_check,mem_tot_check])"
   ],
   "metadata": {
    "collapsed": false,
    "ExecuteTime": {
     "end_time": "2023-12-29T14:04:26.337766Z",
     "start_time": "2023-12-29T14:04:26.170895Z"
    }
   },
   "id": "a624ea76f1b9bdaf"
  },
  {
   "cell_type": "markdown",
   "source": [
    "From the randomization check above it seems that our first assumption of no external factors over time is satisfied.  We see that there is no statistically different change in the covariates over time. Additionally, as there is no statistically significant change in the covariates over time, we can assume that the treatment effect is consistent over time.  This satisfies our second assumption.  Thus, we can proceed with the pre/post analysis.  Lets look at the naive regressions first."
   ],
   "metadata": {
    "collapsed": false
   },
   "id": "1e290b26edaff0cb"
  },
  {
   "cell_type": "code",
   "execution_count": 19,
   "outputs": [
    {
     "data": {
      "text/plain": "<IPython.core.display.HTML object>",
      "text/html": "<div style='text-align: center; font-family: monospace;'><span style='display: inline-block; width: 100px;'>Variable</span><span style='display: inline-block; width: 70px;'>Model 1</span><span style='display: inline-block; width: 70px;'>Model 2</span></div><div style='text-align: center; font-family: monospace;'><span style='display: inline-block; width: 240px; border-bottom: 1px dotted;'>&nbsp;</span></div><div style='text-align: center; font-family: monospace;'><span style='display: inline-block; width: 100px;'>Intercept</span><span style='display: inline-block; width: 70px; text-align: center;'>1.682***<br><span style='font-size: 0.8em;'>(0.056)</span></span><span style='display: inline-block; width: 70px; text-align: center;'>0.622***<br><span style='font-size: 0.8em;'>(0.015)</span></span></div><div style='text-align: center; font-family: monospace;'><span style='display: inline-block; width: 100px;'>time</span><span style='display: inline-block; width: 70px; text-align: center;'>2.467***<br><span style='font-size: 0.8em;'>(0.104)</span></span><span style='display: inline-block; width: 70px; text-align: center;'>0.148***<br><span style='font-size: 0.8em;'>(0.021)</span></span></div><div style='text-align: center; font-family: monospace;'><span style='display: inline-block; width: 240px; border-bottom: 1px dotted;'>&nbsp;</span></div><div style='text-align: center; font-family: monospace;'><span style='display: inline-block; width: 100px;'>Outcome</span><span style='display: inline-block; width: 70px; text-align: center;'>nutrition</span><span style='display: inline-block; width: 70px; text-align: center;'>emp_now</span></div><div style='text-align: center; font-family: monospace;'><span style='display: inline-block; width: 240px; border-bottom: 1px dotted;'>&nbsp;</span></div><div style='text-align: center; font-family: monospace;'><span style='display: inline-block; width: 100px;'>Observations</span><span style='display: inline-block; width: 70px; text-align: center;'>1944</span><span style='display: inline-block; width: 70px; text-align: center;'>1944</span></div><div style='text-align: center; font-family: monospace;'><span style='display: inline-block; width: 100px;'>R^2</span><span style='display: inline-block; width: 70px; text-align: center;'>0.23</span><span style='display: inline-block; width: 70px; text-align: center;'>0.026</span></div><div style='text-align: center; font-family: monospace;'><span style='display: inline-block; width: 100px;'>Adj. R^2</span><span style='display: inline-block; width: 70px; text-align: center;'>0.229</span><span style='display: inline-block; width: 70px; text-align: center;'>0.025</span></div><div style='text-align: center; font-family: monospace;'><span style='display: inline-block; width: 100px;'>F-statistic</span><span style='display: inline-block; width: 70px; text-align: center;'>578.448</span><span style='display: inline-block; width: 70px; text-align: center;'>51.572</span></div><div style='text-align: center; font-family: monospace;'><span style='display: inline-block; width: 100px;'>Prob (F)</span><span style='display: inline-block; width: 70px; text-align: center;'>0.0</span><span style='display: inline-block; width: 70px; text-align: center;'>0.0</span></div><div style='text-align: center; font-family: monospace;'><span style='display: inline-block; width: 240px; border-bottom: 1px dotted;'>&nbsp;</span></div><div style='text-align: center; font-family: monospace; font-size: 0.8em;'>* p < 0.1, ** p < 0.05, *** p < 0.01</div>"
     },
     "metadata": {},
     "output_type": "display_data"
    }
   ],
   "source": [
    "\"\"\"Naive regressions\"\"\"\n",
    "nutrition_naive = LinReg(df=df, outcome=\"nutrition\", independent=[\"time\"], standard_error_type='robust')\n",
    "employment_naive = LinReg(df=df, outcome=\"emp_now\", independent=[\"time\"], standard_error_type='robust')\n",
    "\n",
    "display_models([nutrition_naive,employment_naive])"
   ],
   "metadata": {
    "collapsed": false,
    "ExecuteTime": {
     "end_time": "2023-12-29T14:19:11.664468Z",
     "start_time": "2023-12-29T14:19:11.552096Z"
    }
   },
   "id": "56e72ec50da9fb17"
  },
  {
   "cell_type": "markdown",
   "source": [
    "In the above regressions we can see that the cash transfers seemed to have been very succesful.  The nutrition score increased by 2.467 units and employment increased by 0.148 units, both highly statistically significant results.  "
   ],
   "metadata": {
    "collapsed": false
   },
   "id": "79858c4f9f2d465b"
  },
  {
   "cell_type": "code",
   "execution_count": 20,
   "outputs": [
    {
     "data": {
      "text/plain": "<IPython.core.display.HTML object>",
      "text/html": "<div style='text-align: center; font-family: monospace;'><span style='display: inline-block; width: 100px;'>Variable</span><span style='display: inline-block; width: 70px;'>Model 1</span><span style='display: inline-block; width: 70px;'>Model 2</span></div><div style='text-align: center; font-family: monospace;'><span style='display: inline-block; width: 240px; border-bottom: 1px dotted;'>&nbsp;</span></div><div style='text-align: center; font-family: monospace;'><span style='display: inline-block; width: 100px;'>Intercept</span><span style='display: inline-block; width: 70px; text-align: center;'>1.819***<br><span style='font-size: 0.8em;'>(0.347)</span></span><span style='display: inline-block; width: 70px; text-align: center;'>0.565***<br><span style='font-size: 0.8em;'>(0.069)</span></span></div><div style='text-align: center; font-family: monospace;'><span style='display: inline-block; width: 100px;'>education</span><span style='display: inline-block; width: 70px; text-align: center;'>0.226**<br><span style='font-size: 0.8em;'>(0.103)</span></span><span style='display: inline-block; width: 70px; text-align: center;'>-0.023<br><span style='font-size: 0.8em;'>(0.021)</span></span></div><div style='text-align: center; font-family: monospace;'><span style='display: inline-block; width: 100px;'>hhh_sex</span><span style='display: inline-block; width: 70px; text-align: center;'>-0.396<br><span style='font-size: 0.8em;'>(0.308)</span></span><span style='display: inline-block; width: 70px; text-align: center;'>0.063<br><span style='font-size: 0.8em;'>(0.063)</span></span></div><div style='text-align: center; font-family: monospace;'><span style='display: inline-block; width: 100px;'>mem_tot</span><span style='display: inline-block; width: 70px; text-align: center;'>0.026<br><span style='font-size: 0.8em;'>(0.024)</span></span><span style='display: inline-block; width: 70px; text-align: center;'>0.002<br><span style='font-size: 0.8em;'>(0.005)</span></span></div><div style='text-align: center; font-family: monospace;'><span style='display: inline-block; width: 100px;'>time</span><span style='display: inline-block; width: 70px; text-align: center;'>2.467***<br><span style='font-size: 0.8em;'>(0.104)</span></span><span style='display: inline-block; width: 70px; text-align: center;'>0.148***<br><span style='font-size: 0.8em;'>(0.021)</span></span></div><div style='text-align: center; font-family: monospace;'><span style='display: inline-block; width: 240px; border-bottom: 1px dotted;'>&nbsp;</span></div><div style='text-align: center; font-family: monospace;'><span style='display: inline-block; width: 100px;'>Outcome</span><span style='display: inline-block; width: 70px; text-align: center;'>nutrition</span><span style='display: inline-block; width: 70px; text-align: center;'>emp_now</span></div><div style='text-align: center; font-family: monospace;'><span style='display: inline-block; width: 240px; border-bottom: 1px dotted;'>&nbsp;</span></div><div style='text-align: center; font-family: monospace;'><span style='display: inline-block; width: 100px;'>Observations</span><span style='display: inline-block; width: 70px; text-align: center;'>1944</span><span style='display: inline-block; width: 70px; text-align: center;'>1944</span></div><div style='text-align: center; font-family: monospace;'><span style='display: inline-block; width: 100px;'>R^2</span><span style='display: inline-block; width: 70px; text-align: center;'>0.233</span><span style='display: inline-block; width: 70px; text-align: center;'>0.027</span></div><div style='text-align: center; font-family: monospace;'><span style='display: inline-block; width: 100px;'>Adj. R^2</span><span style='display: inline-block; width: 70px; text-align: center;'>0.231</span><span style='display: inline-block; width: 70px; text-align: center;'>0.025</span></div><div style='text-align: center; font-family: monospace;'><span style='display: inline-block; width: 100px;'>F-statistic</span><span style='display: inline-block; width: 70px; text-align: center;'>146.904</span><span style='display: inline-block; width: 70px; text-align: center;'>13.581</span></div><div style='text-align: center; font-family: monospace;'><span style='display: inline-block; width: 100px;'>Prob (F)</span><span style='display: inline-block; width: 70px; text-align: center;'>0.0</span><span style='display: inline-block; width: 70px; text-align: center;'>0.0</span></div><div style='text-align: center; font-family: monospace;'><span style='display: inline-block; width: 240px; border-bottom: 1px dotted;'>&nbsp;</span></div><div style='text-align: center; font-family: monospace; font-size: 0.8em;'>* p < 0.1, ** p < 0.05, *** p < 0.01</div>"
     },
     "metadata": {},
     "output_type": "display_data"
    }
   ],
   "source": [
    "\"\"\"Regression with covariates\"\"\"\n",
    "\n",
    "nutrition_full = LinReg(df=df, outcome=\"nutrition\", independent=[\"time\", \n",
    "                                                                 \"education\",\n",
    "                                                                 \"hhh_sex\",\n",
    "                                                                 \"mem_tot\"], standard_error_type='robust')\n",
    "employment_full = LinReg(df=df, outcome=\"emp_now\", independent=[\"time\",\n",
    "                                                                \"education\",\n",
    "                                                                \"hhh_sex\",\n",
    "                                                                \"mem_tot\"], standard_error_type='robust')\n",
    "\n",
    "display_models([nutrition_full,employment_full])"
   ],
   "metadata": {
    "collapsed": false,
    "ExecuteTime": {
     "end_time": "2023-12-29T14:19:12.101903Z",
     "start_time": "2023-12-29T14:19:12.077115Z"
    }
   },
   "id": "a1589c4581cb0bff"
  },
  {
   "cell_type": "markdown",
   "source": [
    "In the above regressions we can see that the cash transfers seemed to have been very succesful.  The nutrition score increased by 2.467 units and employment increased by 0.148 units, both highly statistically significant results.  Additionally, we dont see any changes in the covariates when adjusting for our controls. This is a good sign that our controls are not absorbing the treatment effect.  However, we still have to worry about the other assumptions of pre/post analysis.  Namely, the SUTVA assumption and the consistency of treatment effect assumption.  Lets look at the SUTVA assumption first."
   ],
   "metadata": {
    "collapsed": false
   },
   "id": "db4ca42194e16df7"
  },
  {
   "cell_type": "code",
   "execution_count": 20,
   "outputs": [],
   "source": [],
   "metadata": {
    "collapsed": false,
    "ExecuteTime": {
     "end_time": "2023-12-29T14:19:12.712450Z",
     "start_time": "2023-12-29T14:19:12.695888Z"
    }
   },
   "id": "20fcc891c63e244a"
  },
  {
   "cell_type": "code",
   "execution_count": null,
   "outputs": [],
   "source": [],
   "metadata": {
    "collapsed": false
   },
   "id": "a03da9defa85177e"
  }
 ],
 "metadata": {
  "kernelspec": {
   "display_name": "Python 3",
   "language": "python",
   "name": "python3"
  },
  "language_info": {
   "codemirror_mode": {
    "name": "ipython",
    "version": 2
   },
   "file_extension": ".py",
   "mimetype": "text/x-python",
   "name": "python",
   "nbconvert_exporter": "python",
   "pygments_lexer": "ipython2",
   "version": "2.7.6"
  }
 },
 "nbformat": 4,
 "nbformat_minor": 5
}
