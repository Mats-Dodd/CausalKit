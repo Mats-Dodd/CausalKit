{
 "cells": [
  {
   "cell_type": "code",
   "execution_count": 1,
   "id": "initial_id",
   "metadata": {
    "collapsed": true,
    "ExecuteTime": {
     "end_time": "2024-01-04T20:13:33.412Z",
     "start_time": "2024-01-04T20:13:32.598276Z"
    }
   },
   "outputs": [],
   "source": [
    "import pandas as pd\n",
    "from src.models.linreg import LinReg\n",
    "\n",
    "from src.displays.display_linear import display_models"
   ]
  },
  {
   "cell_type": "code",
   "execution_count": 2,
   "outputs": [
    {
     "data": {
      "text/plain": "           wage       educ     ability  fathereduc\n0    146.347807  18.053194  348.240021   17.158322\n1    147.599580  15.845486  181.160724   13.988533\n2    161.820228  15.105207  337.367725   15.994311\n3    105.082941  16.458131  106.458032   21.413172\n4    167.562196  18.793815  301.510006   16.457630\n..          ...        ...         ...         ...\n995  157.149509  14.883227  461.290475   11.446059\n996  166.003573  14.542572  292.700272   16.201575\n997  155.693604  18.022844  278.575512   16.739413\n998  199.074623  18.885769  346.645549   15.543786\n999  178.763810  18.889398  385.063904   17.756280\n\n[1000 rows x 4 columns]",
      "text/html": "<div>\n<style scoped>\n    .dataframe tbody tr th:only-of-type {\n        vertical-align: middle;\n    }\n\n    .dataframe tbody tr th {\n        vertical-align: top;\n    }\n\n    .dataframe thead th {\n        text-align: right;\n    }\n</style>\n<table border=\"1\" class=\"dataframe\">\n  <thead>\n    <tr style=\"text-align: right;\">\n      <th></th>\n      <th>wage</th>\n      <th>educ</th>\n      <th>ability</th>\n      <th>fathereduc</th>\n    </tr>\n  </thead>\n  <tbody>\n    <tr>\n      <th>0</th>\n      <td>146.347807</td>\n      <td>18.053194</td>\n      <td>348.240021</td>\n      <td>17.158322</td>\n    </tr>\n    <tr>\n      <th>1</th>\n      <td>147.599580</td>\n      <td>15.845486</td>\n      <td>181.160724</td>\n      <td>13.988533</td>\n    </tr>\n    <tr>\n      <th>2</th>\n      <td>161.820228</td>\n      <td>15.105207</td>\n      <td>337.367725</td>\n      <td>15.994311</td>\n    </tr>\n    <tr>\n      <th>3</th>\n      <td>105.082941</td>\n      <td>16.458131</td>\n      <td>106.458032</td>\n      <td>21.413172</td>\n    </tr>\n    <tr>\n      <th>4</th>\n      <td>167.562196</td>\n      <td>18.793815</td>\n      <td>301.510006</td>\n      <td>16.457630</td>\n    </tr>\n    <tr>\n      <th>...</th>\n      <td>...</td>\n      <td>...</td>\n      <td>...</td>\n      <td>...</td>\n    </tr>\n    <tr>\n      <th>995</th>\n      <td>157.149509</td>\n      <td>14.883227</td>\n      <td>461.290475</td>\n      <td>11.446059</td>\n    </tr>\n    <tr>\n      <th>996</th>\n      <td>166.003573</td>\n      <td>14.542572</td>\n      <td>292.700272</td>\n      <td>16.201575</td>\n    </tr>\n    <tr>\n      <th>997</th>\n      <td>155.693604</td>\n      <td>18.022844</td>\n      <td>278.575512</td>\n      <td>16.739413</td>\n    </tr>\n    <tr>\n      <th>998</th>\n      <td>199.074623</td>\n      <td>18.885769</td>\n      <td>346.645549</td>\n      <td>15.543786</td>\n    </tr>\n    <tr>\n      <th>999</th>\n      <td>178.763810</td>\n      <td>18.889398</td>\n      <td>385.063904</td>\n      <td>17.756280</td>\n    </tr>\n  </tbody>\n</table>\n<p>1000 rows × 4 columns</p>\n</div>"
     },
     "execution_count": 2,
     "metadata": {},
     "output_type": "execute_result"
    }
   ],
   "source": [
    "magic = pd.read_csv('../data/father_education.csv')\n",
    "magic"
   ],
   "metadata": {
    "collapsed": false,
    "ExecuteTime": {
     "end_time": "2024-01-04T20:13:33.430620Z",
     "start_time": "2024-01-04T20:13:33.413691Z"
    }
   },
   "id": "84468c5381309c8"
  },
  {
   "cell_type": "code",
   "execution_count": 3,
   "outputs": [
    {
     "data": {
      "text/plain": "<IPython.core.display.HTML object>",
      "text/html": "<h1 style='text-align:center;'>Regression Results</h1><pre style='text-align:center; font-family:monospace;'>Dep. Variable:             wage    AIC:                   9158.206\nObservations:              1000    BIC:                    9172.93\nStandard Error Type: non-robust    Adj. AIC:               9158.23\nR-squared:                0.726    Adj. BIC:              9173.013\nAdj. R-squared:           0.726    F-statistic:           1323.969\nLog-Likelihood:       -4576.103    Prob (F-statistic):         0.0\n\n           Variable Coefficient Std-Error T-Statistic P>|t|   Conf. Interval            \n          -------------------------------------------------------------------           \n          Intercept   -80.263     5.659     -14.184    0.0  -91.367 - -69.159           \n           ability     0.258      0.007      35.939    0.0    0.244 - 0.272             \n             educ      9.242      0.343      26.972    0.0     8.57 - 9.915             \n</pre>"
     },
     "metadata": {},
     "output_type": "display_data"
    }
   ],
   "source": [
    "\"\"\"Perfect world where we can measure individual ability\"\"\"\n",
    "perfect_model =  LinReg(df = magic,\n",
    "                        outcome='wage',\n",
    "                        independent=['ability', 'educ'])\n",
    "\n",
    "perfect_model.summary(content_type='html')"
   ],
   "metadata": {
    "collapsed": false,
    "ExecuteTime": {
     "end_time": "2024-01-04T20:13:34.235466Z",
     "start_time": "2024-01-04T20:13:34.231192Z"
    }
   },
   "id": "3284f2aa40bda7b1"
  },
  {
   "cell_type": "code",
   "execution_count": 4,
   "outputs": [
    {
     "data": {
      "text/plain": "<IPython.core.display.HTML object>",
      "text/html": "<h1 style='text-align:center;'>Regression Results</h1><pre style='text-align:center; font-family:monospace;'>Dep. Variable:             wage    AIC:                   9987.146\nObservations:              1000    BIC:                   9996.961\nStandard Error Type: non-robust    Adj. AIC:              9987.158\nR-squared:                0.372    Adj. BIC:              9997.003\nAdj. R-squared:           0.371    F-statistic:            591.469\nLog-Likelihood:       -4991.573    Prob (F-statistic):         0.0\n\n            Variable Coefficient Std-Error T-Statistic P>|t|  Conf. Interval           \n           ------------------------------------------------------------------          \n           Intercept   -53.085     8.492      -6.251    0.0  -69.75 - -36.421          \n              educ      12.24      0.503      24.32     0.0  11.253 - 13.228           \n</pre>"
     },
     "metadata": {},
     "output_type": "display_data"
    }
   ],
   "source": [
    "\"\"\"Naive model\"\"\"\n",
    "\n",
    "naive_model = LinReg(df = magic,\n",
    "                     outcome='wage',\n",
    "                     independent=['educ'])\n",
    "\n",
    "naive_model.summary(content_type='html')"
   ],
   "metadata": {
    "collapsed": false,
    "ExecuteTime": {
     "end_time": "2024-01-03T14:18:09.297416Z",
     "start_time": "2024-01-03T14:18:09.287193Z"
    }
   },
   "id": "e5279812cf0fbda2"
  },
  {
   "cell_type": "markdown",
   "source": [
    "To be a valid instrument, it must meet three criteria:\n",
    "\n",
    "Relevance: Instrument is correlated with policy variable\n",
    "Exclusion: Instrument is correlated with outcome only through the policy variable\n",
    "Exogeneity: Instrument isn’t correlated with anything else in the model (i.e. omitted variables)"
   ],
   "metadata": {
    "collapsed": false
   },
   "id": "3623bba61e94de40"
  },
  {
   "cell_type": "code",
   "execution_count": 5,
   "outputs": [
    {
     "data": {
      "text/plain": "<IPython.core.display.HTML object>",
      "text/html": "<h1 style='text-align:center;'>Regression Results</h1><pre style='text-align:center; font-family:monospace;'>Dep. Variable:             educ    AIC:                   3774.512\nObservations:              1000    BIC:                   3784.328\nStandard Error Type: non-robust    Adj. AIC:              3774.524\nR-squared:                0.493    Adj. BIC:              3784.369\nAdj. R-squared:           0.493    F-statistic:            971.956\nLog-Likelihood:       -1885.256    Prob (F-statistic):         0.0\n\n           Variable  Coefficient Std-Error T-Statistic P>|t| Conf. Interval           \n          -----------------------------------------------------------------           \n          Intercept     4.396      0.399      11.027    0.0  3.613 - 5.178            \n          fathereduc    0.757      0.024      31.176    0.0  0.709 - 0.805            \n</pre>"
     },
     "metadata": {},
     "output_type": "display_data"
    }
   ],
   "source": [
    "relevence = LinReg(df = magic,\n",
    "                     outcome='educ',\n",
    "                     independent=['fathereduc'])\n",
    "\n",
    "relevence.summary(content_type='html')"
   ],
   "metadata": {
    "collapsed": false,
    "ExecuteTime": {
     "end_time": "2024-01-03T14:18:10.161988Z",
     "start_time": "2024-01-03T14:18:10.150496Z"
    }
   },
   "id": "1030be158c4d2592"
  },
  {
   "cell_type": "code",
   "execution_count": 6,
   "outputs": [
    {
     "data": {
      "text/plain": "<IPython.core.display.HTML object>",
      "text/html": "<h1 style='text-align:center;'>Regression Results</h1><pre style='text-align:center; font-family:monospace;'>Dep. Variable:             wage    AIC:                  10341.737\nObservations:              1000    BIC:                  10351.553\nStandard Error Type: non-robust    Adj. AIC:              10341.75\nR-squared:                0.105    Adj. BIC:             10351.595\nAdj. R-squared:           0.104    F-statistic:            116.949\nLog-Likelihood:       -5168.869    Prob (F-statistic):         0.0\n\n            Variable  Coefficient Std-Error T-Statistic P>|t|  Conf. Interval          \n           ------------------------------------------------------------------          \n           Intercept     37.559     10.632     3.533     0.0  16.695 - 58.423          \n           fathereduc    7.003      0.648      10.814    0.0   5.732 - 8.274           \n</pre>"
     },
     "metadata": {},
     "output_type": "display_data"
    }
   ],
   "source": [
    "\"\"\"Exclusion\"\"\"\n",
    "\n",
    "exclusion = LinReg(df = magic,\n",
    "                     outcome='wage',\n",
    "                     independent=['fathereduc'])\n",
    "\n",
    "exclusion.summary(content_type='html')"
   ],
   "metadata": {
    "collapsed": false,
    "ExecuteTime": {
     "end_time": "2024-01-03T14:18:10.476610Z",
     "start_time": "2024-01-03T14:18:10.469207Z"
    }
   },
   "id": "2428d82b850d2699"
  },
  {
   "cell_type": "code",
   "execution_count": 7,
   "outputs": [
    {
     "data": {
      "text/plain": "<IPython.core.display.HTML object>",
      "text/html": "<h1 style='text-align:center;'>Regression Results</h1><pre style='text-align:center; font-family:monospace;'>Dep. Variable:          ability    AIC:                  12184.016\nObservations:              1000    BIC:                  12193.832\nStandard Error Type: non-robust    Adj. AIC:             12184.028\nR-squared:                0.001    Adj. BIC:             12193.873\nAdj. R-squared:             0.0    F-statistic:              1.185\nLog-Likelihood:       -6090.008    Prob (F-statistic):       0.277\n\n            Variable  Coefficient Std-Error T-Statistic P>|t|   Conf. Interval           \n           --------------------------------------------------------------------          \n           Intercept    270.735     26.71      10.136    0.0  218.322 - 323.149          \n           fathereduc    1.771      1.627      1.088    0.277   -1.422 - 4.963           \n</pre>"
     },
     "metadata": {},
     "output_type": "display_data"
    }
   ],
   "source": [
    "\"\"\"Luckily in this toy dataset we have ability\"\"\"\n",
    "\n",
    "exclusion = LinReg(df = magic,\n",
    "                     outcome='ability',\n",
    "                     independent=['fathereduc'])\n",
    "\n",
    "exclusion.summary(content_type='html')"
   ],
   "metadata": {
    "collapsed": false,
    "ExecuteTime": {
     "end_time": "2024-01-03T14:18:10.697842Z",
     "start_time": "2024-01-03T14:18:10.687148Z"
    }
   },
   "id": "83034b98d6faa72f"
  },
  {
   "cell_type": "code",
   "execution_count": 8,
   "outputs": [
    {
     "data": {
      "text/plain": "<IPython.core.display.HTML object>",
      "text/html": "<h1 style='text-align:center;'>Regression Results</h1><pre style='text-align:center; font-family:monospace;'>Dep. Variable:             educ    AIC:                   3774.512\nObservations:              1000    BIC:                   3784.328\nStandard Error Type: non-robust    Adj. AIC:              3774.524\nR-squared:                0.493    Adj. BIC:              3784.369\nAdj. R-squared:           0.493    F-statistic:            971.956\nLog-Likelihood:       -1885.256    Prob (F-statistic):         0.0\n\n           Variable  Coefficient Std-Error T-Statistic P>|t| Conf. Interval           \n          -----------------------------------------------------------------           \n          Intercept     4.396      0.399      11.027    0.0  3.613 - 5.178            \n          fathereduc    0.757      0.024      31.176    0.0  0.709 - 0.805            \n</pre>"
     },
     "metadata": {},
     "output_type": "display_data"
    }
   ],
   "source": [
    "\"\"\"first stage\"\"\"\n",
    "\n",
    "first_stage = LinReg(df = magic,\n",
    "                     outcome='educ',\n",
    "                     independent=['fathereduc'])\n",
    "\n",
    "first_stage.summary(content_type='html')    "
   ],
   "metadata": {
    "collapsed": false,
    "ExecuteTime": {
     "end_time": "2024-01-03T14:18:10.931013Z",
     "start_time": "2024-01-03T14:18:10.922729Z"
    }
   },
   "id": "ad2413cccf7be334"
  },
  {
   "cell_type": "code",
   "execution_count": 9,
   "outputs": [
    {
     "data": {
      "text/plain": "           wage       educ     ability  fathereduc  independent_hat\n0    146.347807  18.053194  348.240021   17.158322        17.382994\n1    147.599580  15.845486  181.160724   13.988533        14.983731\n2    161.820228  15.105207  337.367725   15.994311        16.501936\n3    105.082941  16.458131  106.458032   21.413172        20.603558\n4    167.562196  18.793815  301.510006   16.457630        16.852630\n..          ...        ...         ...         ...              ...\n995  157.149509  14.883227  461.290475   11.446059        13.059292\n996  166.003573  14.542572  292.700272   16.201575        16.658818\n997  155.693604  18.022844  278.575512   16.739413        17.065916\n998  199.074623  18.885769  346.645549   15.543786        16.160927\n999  178.763810  18.889398  385.063904   17.756280        17.835598\n\n[1000 rows x 5 columns]",
      "text/html": "<div>\n<style scoped>\n    .dataframe tbody tr th:only-of-type {\n        vertical-align: middle;\n    }\n\n    .dataframe tbody tr th {\n        vertical-align: top;\n    }\n\n    .dataframe thead th {\n        text-align: right;\n    }\n</style>\n<table border=\"1\" class=\"dataframe\">\n  <thead>\n    <tr style=\"text-align: right;\">\n      <th></th>\n      <th>wage</th>\n      <th>educ</th>\n      <th>ability</th>\n      <th>fathereduc</th>\n      <th>independent_hat</th>\n    </tr>\n  </thead>\n  <tbody>\n    <tr>\n      <th>0</th>\n      <td>146.347807</td>\n      <td>18.053194</td>\n      <td>348.240021</td>\n      <td>17.158322</td>\n      <td>17.382994</td>\n    </tr>\n    <tr>\n      <th>1</th>\n      <td>147.599580</td>\n      <td>15.845486</td>\n      <td>181.160724</td>\n      <td>13.988533</td>\n      <td>14.983731</td>\n    </tr>\n    <tr>\n      <th>2</th>\n      <td>161.820228</td>\n      <td>15.105207</td>\n      <td>337.367725</td>\n      <td>15.994311</td>\n      <td>16.501936</td>\n    </tr>\n    <tr>\n      <th>3</th>\n      <td>105.082941</td>\n      <td>16.458131</td>\n      <td>106.458032</td>\n      <td>21.413172</td>\n      <td>20.603558</td>\n    </tr>\n    <tr>\n      <th>4</th>\n      <td>167.562196</td>\n      <td>18.793815</td>\n      <td>301.510006</td>\n      <td>16.457630</td>\n      <td>16.852630</td>\n    </tr>\n    <tr>\n      <th>...</th>\n      <td>...</td>\n      <td>...</td>\n      <td>...</td>\n      <td>...</td>\n      <td>...</td>\n    </tr>\n    <tr>\n      <th>995</th>\n      <td>157.149509</td>\n      <td>14.883227</td>\n      <td>461.290475</td>\n      <td>11.446059</td>\n      <td>13.059292</td>\n    </tr>\n    <tr>\n      <th>996</th>\n      <td>166.003573</td>\n      <td>14.542572</td>\n      <td>292.700272</td>\n      <td>16.201575</td>\n      <td>16.658818</td>\n    </tr>\n    <tr>\n      <th>997</th>\n      <td>155.693604</td>\n      <td>18.022844</td>\n      <td>278.575512</td>\n      <td>16.739413</td>\n      <td>17.065916</td>\n    </tr>\n    <tr>\n      <th>998</th>\n      <td>199.074623</td>\n      <td>18.885769</td>\n      <td>346.645549</td>\n      <td>15.543786</td>\n      <td>16.160927</td>\n    </tr>\n    <tr>\n      <th>999</th>\n      <td>178.763810</td>\n      <td>18.889398</td>\n      <td>385.063904</td>\n      <td>17.756280</td>\n      <td>17.835598</td>\n    </tr>\n  </tbody>\n</table>\n<p>1000 rows × 5 columns</p>\n</div>"
     },
     "execution_count": 9,
     "metadata": {},
     "output_type": "execute_result"
    }
   ],
   "source": [
    "predicted_educ = first_stage.predict(magic['fathereduc'].values)\n",
    "magic = magic.assign(independent_hat = predicted_educ)\n",
    "magic"
   ],
   "metadata": {
    "collapsed": false,
    "ExecuteTime": {
     "end_time": "2024-01-03T14:18:11.106405Z",
     "start_time": "2024-01-03T14:18:11.100197Z"
    }
   },
   "id": "569e933a08a57c10"
  },
  {
   "cell_type": "code",
   "execution_count": 10,
   "outputs": [],
   "source": [
    "second_stage = LinReg(df = magic,\n",
    "                     outcome='wage',\n",
    "                     independent=['independent_hat',])\n",
    "\n",
    "\n",
    "\n"
   ],
   "metadata": {
    "collapsed": false,
    "ExecuteTime": {
     "end_time": "2024-01-03T14:18:11.273648Z",
     "start_time": "2024-01-03T14:18:11.266401Z"
    }
   },
   "id": "caa19b7941ac639a"
  },
  {
   "cell_type": "code",
   "execution_count": 11,
   "outputs": [
    {
     "data": {
      "text/plain": "<IPython.core.display.HTML object>",
      "text/html": "<p style='text-align:center; font-size:20px;'><strong>Instrumental Variables Regression Results</strong></p><p style='text-align:center;'>First Stage Equation: educ ~ fathereduc</p><p style='text-align:center;'>Second Stage Equation: wage ~ predicted_educ</p><pre style='text-align:center; font-family:monospace;'>Dep. Variable:             wage    AIC:                  10341.737\nObservations:              1000    BIC:                  10351.553\nStandard Error Type: non-robust    Adj. AIC:              10341.75\nR-squared:                0.105    Adj. BIC:             10351.595\nAdj. R-squared:           0.104    F-statistic:            116.949\nLog-Likelihood:       -5168.869    Prob (F-statistic):         0.0\n\n               Variable    Coefficient Std-Error T-Statistic P>|t|  Conf. Interval           \n           ------------------------------------------------------------------------          \n              Intercept       -3.108     14.37      -0.216   0.829 -31.307 - 25.092          \n           independent_hat    9.252      0.856      10.814    0.0   7.573 - 10.931           \n</pre>"
     },
     "metadata": {},
     "output_type": "display_data"
    }
   ],
   "source": [
    "iv = IV(df = magic,\n",
    "        outcome='wage',\n",
    "        independent=['educ'],\n",
    "        controls=[],\n",
    "        instruments=['fathereduc'])\n",
    "\n",
    "iv.summary()"
   ],
   "metadata": {
    "collapsed": false,
    "ExecuteTime": {
     "end_time": "2024-01-03T14:18:11.500688Z",
     "start_time": "2024-01-03T14:18:11.481825Z"
    }
   },
   "id": "3e5c9d2d0a2f566f"
  },
  {
   "cell_type": "code",
   "execution_count": 12,
   "outputs": [
    {
     "data": {
      "text/plain": "<IPython.core.display.HTML object>",
      "text/html": "<div style='text-align: center; font-family: monospace;'><span style='display: inline-block; width: 100px;'>Variable</span><span style='display: inline-block; width: 70px;'>Model 1</span><span style='display: inline-block; width: 70px;'>Model 2</span><span style='display: inline-block; width: 70px;'>Model 3</span><span style='display: inline-block; width: 70px;'>Model 4</span></div><div style='text-align: center; font-family: monospace;'><span style='display: inline-block; width: 380px; border-bottom: 1px dotted;'>&nbsp;</span></div><div style='text-align: center; font-family: monospace;'><span style='display: inline-block; width: 100px;'>Intercept</span><span style='display: inline-block; width: 70px; text-align: center;'>-80.263***<br><span style='font-size: 0.8em;'>(5.659)</span></span><span style='display: inline-block; width: 70px; text-align: center;'>-53.085***<br><span style='font-size: 0.8em;'>(8.492)</span></span><span style='display: inline-block; width: 70px; text-align: center;'>-3.108<br><span style='font-size: 0.8em;'>(14.37)</span></span><span style='display: inline-block; width: 70px; text-align: center;'>-3.108<br><span style='font-size: 0.8em;'>(14.37)</span></span></div><div style='text-align: center; font-family: monospace;'><span style='display: inline-block; width: 100px;'>ability</span><span style='display: inline-block; width: 70px; text-align: center;'>9.242***<br><span style='font-size: 0.8em;'>(0.343)</span></span><span style='display: inline-block; width: 70px; text-align: center;'>-<br><span style='font-size: 0.8em;'></span></span><span style='display: inline-block; width: 70px; text-align: center;'>-<br><span style='font-size: 0.8em;'></span></span><span style='display: inline-block; width: 70px; text-align: center;'>-<br><span style='font-size: 0.8em;'></span></span></div><div style='text-align: center; font-family: monospace;'><span style='display: inline-block; width: 100px;'>educ</span><span style='display: inline-block; width: 70px; text-align: center;'>0.258***<br><span style='font-size: 0.8em;'>(0.007)</span></span><span style='display: inline-block; width: 70px; text-align: center;'>12.24***<br><span style='font-size: 0.8em;'>(0.503)</span></span><span style='display: inline-block; width: 70px; text-align: center;'>-<br><span style='font-size: 0.8em;'></span></span><span style='display: inline-block; width: 70px; text-align: center;'>-<br><span style='font-size: 0.8em;'></span></span></div><div style='text-align: center; font-family: monospace;'><span style='display: inline-block; width: 100px;'>independent_hat</span><span style='display: inline-block; width: 70px; text-align: center;'>-<br><span style='font-size: 0.8em;'></span></span><span style='display: inline-block; width: 70px; text-align: center;'>-<br><span style='font-size: 0.8em;'></span></span><span style='display: inline-block; width: 70px; text-align: center;'>9.252***<br><span style='font-size: 0.8em;'>(0.856)</span></span><span style='display: inline-block; width: 70px; text-align: center;'>9.252***<br><span style='font-size: 0.8em;'>(0.856)</span></span></div><div style='text-align: center; font-family: monospace;'><span style='display: inline-block; width: 380px; border-bottom: 1px dotted;'>&nbsp;</span></div><div style='text-align: center; font-family: monospace;'><span style='display: inline-block; width: 100px;'>Outcome</span><span style='display: inline-block; width: 70px; text-align: center;'>wage</span><span style='display: inline-block; width: 70px; text-align: center;'>wage</span><span style='display: inline-block; width: 70px; text-align: center;'>wage</span><span style='display: inline-block; width: 70px; text-align: center;'>wage</span></div><div style='text-align: center; font-family: monospace;'><span style='display: inline-block; width: 380px; border-bottom: 1px dotted;'>&nbsp;</span></div><div style='text-align: center; font-family: monospace;'><span style='display: inline-block; width: 100px;'>Observations</span><span style='display: inline-block; width: 70px; text-align: center;'>1000</span><span style='display: inline-block; width: 70px; text-align: center;'>1000</span><span style='display: inline-block; width: 70px; text-align: center;'>1000</span><span style='display: inline-block; width: 70px; text-align: center;'>1000</span></div><div style='text-align: center; font-family: monospace;'><span style='display: inline-block; width: 100px;'>R^2</span><span style='display: inline-block; width: 70px; text-align: center;'>0.726</span><span style='display: inline-block; width: 70px; text-align: center;'>0.372</span><span style='display: inline-block; width: 70px; text-align: center;'>0.105</span><span style='display: inline-block; width: 70px; text-align: center;'>0.105</span></div><div style='text-align: center; font-family: monospace;'><span style='display: inline-block; width: 100px;'>Adj. R^2</span><span style='display: inline-block; width: 70px; text-align: center;'>0.726</span><span style='display: inline-block; width: 70px; text-align: center;'>0.371</span><span style='display: inline-block; width: 70px; text-align: center;'>0.104</span><span style='display: inline-block; width: 70px; text-align: center;'>0.104</span></div><div style='text-align: center; font-family: monospace;'><span style='display: inline-block; width: 100px;'>F-statistic</span><span style='display: inline-block; width: 70px; text-align: center;'>1323.969</span><span style='display: inline-block; width: 70px; text-align: center;'>591.469</span><span style='display: inline-block; width: 70px; text-align: center;'>116.949</span><span style='display: inline-block; width: 70px; text-align: center;'>116.949</span></div><div style='text-align: center; font-family: monospace;'><span style='display: inline-block; width: 100px;'>Prob (F)</span><span style='display: inline-block; width: 70px; text-align: center;'>0.0</span><span style='display: inline-block; width: 70px; text-align: center;'>0.0</span><span style='display: inline-block; width: 70px; text-align: center;'>0.0</span><span style='display: inline-block; width: 70px; text-align: center;'>0.0</span></div><div style='text-align: center; font-family: monospace;'><span style='display: inline-block; width: 380px; border-bottom: 1px dotted;'>&nbsp;</span></div><div style='text-align: center; font-family: monospace; font-size: 0.8em;'>* p < 0.1, ** p < 0.05, *** p < 0.01</div>"
     },
     "metadata": {},
     "output_type": "display_data"
    }
   ],
   "source": [
    "display_models([perfect_model, naive_model, second_stage, iv.second_stage_model]) "
   ],
   "metadata": {
    "collapsed": false,
    "ExecuteTime": {
     "end_time": "2024-01-03T14:18:11.710560Z",
     "start_time": "2024-01-03T14:18:11.703994Z"
    }
   },
   "id": "60ac9c6ba9046bb7"
  },
  {
   "cell_type": "code",
   "execution_count": 13,
   "outputs": [
    {
     "data": {
      "text/plain": "     wage  hours   IQ  KWW  educ  exper  tenure  age  married  black  south  \\\n0     769     40   93   35    12     11       2   31        1      0      0   \n2     825     40  108   46    14     11       9   33        1      0      0   \n3     650     40   96   32    12     13       7   32        1      0      0   \n4     562     40   74   27    11     14       5   34        1      0      0   \n6     600     40   91   24    10     13       0   30        0      0      0   \n..    ...    ...  ...  ...   ...    ...     ...  ...      ...    ...    ...   \n924  1442     40  113   45    16      8      10   35        1      0      1   \n925   645     45   93   39    12     11       3   35        1      0      1   \n928   477     45  100   33    12      9       3   31        1      0      1   \n929   664     60   82   30    16     10       9   34        1      1      1   \n931  1202     40  102   32    13     10       3   31        1      0      1   \n\n     urban  sibs  brthord  meduc  feduc     lwage  \n0        1     1      2.0    8.0    8.0  6.645091  \n2        1     1      2.0   14.0   14.0  6.715384  \n3        1     4      3.0   12.0   12.0  6.476973  \n4        1    10      6.0    6.0   11.0  6.331502  \n6        1     1      2.0    8.0    8.0  6.396930  \n..     ...   ...      ...    ...    ...       ...  \n924      1     2      2.0    8.0    8.0  7.273787  \n925      0     7      7.0    7.0    8.0  6.469250  \n928      0     3      3.0    7.0    7.0  6.167517  \n929      1     3      4.0   16.0   16.0  6.498282  \n931      1     7      7.0    8.0    6.0  7.091742  \n\n[663 rows x 17 columns]",
      "text/html": "<div>\n<style scoped>\n    .dataframe tbody tr th:only-of-type {\n        vertical-align: middle;\n    }\n\n    .dataframe tbody tr th {\n        vertical-align: top;\n    }\n\n    .dataframe thead th {\n        text-align: right;\n    }\n</style>\n<table border=\"1\" class=\"dataframe\">\n  <thead>\n    <tr style=\"text-align: right;\">\n      <th></th>\n      <th>wage</th>\n      <th>hours</th>\n      <th>IQ</th>\n      <th>KWW</th>\n      <th>educ</th>\n      <th>exper</th>\n      <th>tenure</th>\n      <th>age</th>\n      <th>married</th>\n      <th>black</th>\n      <th>south</th>\n      <th>urban</th>\n      <th>sibs</th>\n      <th>brthord</th>\n      <th>meduc</th>\n      <th>feduc</th>\n      <th>lwage</th>\n    </tr>\n  </thead>\n  <tbody>\n    <tr>\n      <th>0</th>\n      <td>769</td>\n      <td>40</td>\n      <td>93</td>\n      <td>35</td>\n      <td>12</td>\n      <td>11</td>\n      <td>2</td>\n      <td>31</td>\n      <td>1</td>\n      <td>0</td>\n      <td>0</td>\n      <td>1</td>\n      <td>1</td>\n      <td>2.0</td>\n      <td>8.0</td>\n      <td>8.0</td>\n      <td>6.645091</td>\n    </tr>\n    <tr>\n      <th>2</th>\n      <td>825</td>\n      <td>40</td>\n      <td>108</td>\n      <td>46</td>\n      <td>14</td>\n      <td>11</td>\n      <td>9</td>\n      <td>33</td>\n      <td>1</td>\n      <td>0</td>\n      <td>0</td>\n      <td>1</td>\n      <td>1</td>\n      <td>2.0</td>\n      <td>14.0</td>\n      <td>14.0</td>\n      <td>6.715384</td>\n    </tr>\n    <tr>\n      <th>3</th>\n      <td>650</td>\n      <td>40</td>\n      <td>96</td>\n      <td>32</td>\n      <td>12</td>\n      <td>13</td>\n      <td>7</td>\n      <td>32</td>\n      <td>1</td>\n      <td>0</td>\n      <td>0</td>\n      <td>1</td>\n      <td>4</td>\n      <td>3.0</td>\n      <td>12.0</td>\n      <td>12.0</td>\n      <td>6.476973</td>\n    </tr>\n    <tr>\n      <th>4</th>\n      <td>562</td>\n      <td>40</td>\n      <td>74</td>\n      <td>27</td>\n      <td>11</td>\n      <td>14</td>\n      <td>5</td>\n      <td>34</td>\n      <td>1</td>\n      <td>0</td>\n      <td>0</td>\n      <td>1</td>\n      <td>10</td>\n      <td>6.0</td>\n      <td>6.0</td>\n      <td>11.0</td>\n      <td>6.331502</td>\n    </tr>\n    <tr>\n      <th>6</th>\n      <td>600</td>\n      <td>40</td>\n      <td>91</td>\n      <td>24</td>\n      <td>10</td>\n      <td>13</td>\n      <td>0</td>\n      <td>30</td>\n      <td>0</td>\n      <td>0</td>\n      <td>0</td>\n      <td>1</td>\n      <td>1</td>\n      <td>2.0</td>\n      <td>8.0</td>\n      <td>8.0</td>\n      <td>6.396930</td>\n    </tr>\n    <tr>\n      <th>...</th>\n      <td>...</td>\n      <td>...</td>\n      <td>...</td>\n      <td>...</td>\n      <td>...</td>\n      <td>...</td>\n      <td>...</td>\n      <td>...</td>\n      <td>...</td>\n      <td>...</td>\n      <td>...</td>\n      <td>...</td>\n      <td>...</td>\n      <td>...</td>\n      <td>...</td>\n      <td>...</td>\n      <td>...</td>\n    </tr>\n    <tr>\n      <th>924</th>\n      <td>1442</td>\n      <td>40</td>\n      <td>113</td>\n      <td>45</td>\n      <td>16</td>\n      <td>8</td>\n      <td>10</td>\n      <td>35</td>\n      <td>1</td>\n      <td>0</td>\n      <td>1</td>\n      <td>1</td>\n      <td>2</td>\n      <td>2.0</td>\n      <td>8.0</td>\n      <td>8.0</td>\n      <td>7.273787</td>\n    </tr>\n    <tr>\n      <th>925</th>\n      <td>645</td>\n      <td>45</td>\n      <td>93</td>\n      <td>39</td>\n      <td>12</td>\n      <td>11</td>\n      <td>3</td>\n      <td>35</td>\n      <td>1</td>\n      <td>0</td>\n      <td>1</td>\n      <td>0</td>\n      <td>7</td>\n      <td>7.0</td>\n      <td>7.0</td>\n      <td>8.0</td>\n      <td>6.469250</td>\n    </tr>\n    <tr>\n      <th>928</th>\n      <td>477</td>\n      <td>45</td>\n      <td>100</td>\n      <td>33</td>\n      <td>12</td>\n      <td>9</td>\n      <td>3</td>\n      <td>31</td>\n      <td>1</td>\n      <td>0</td>\n      <td>1</td>\n      <td>0</td>\n      <td>3</td>\n      <td>3.0</td>\n      <td>7.0</td>\n      <td>7.0</td>\n      <td>6.167517</td>\n    </tr>\n    <tr>\n      <th>929</th>\n      <td>664</td>\n      <td>60</td>\n      <td>82</td>\n      <td>30</td>\n      <td>16</td>\n      <td>10</td>\n      <td>9</td>\n      <td>34</td>\n      <td>1</td>\n      <td>1</td>\n      <td>1</td>\n      <td>1</td>\n      <td>3</td>\n      <td>4.0</td>\n      <td>16.0</td>\n      <td>16.0</td>\n      <td>6.498282</td>\n    </tr>\n    <tr>\n      <th>931</th>\n      <td>1202</td>\n      <td>40</td>\n      <td>102</td>\n      <td>32</td>\n      <td>13</td>\n      <td>10</td>\n      <td>3</td>\n      <td>31</td>\n      <td>1</td>\n      <td>0</td>\n      <td>1</td>\n      <td>1</td>\n      <td>7</td>\n      <td>7.0</td>\n      <td>8.0</td>\n      <td>6.0</td>\n      <td>7.091742</td>\n    </tr>\n  </tbody>\n</table>\n<p>663 rows × 17 columns</p>\n</div>"
     },
     "execution_count": 13,
     "metadata": {},
     "output_type": "execute_result"
    }
   ],
   "source": [
    "\"\"\"Lets practice on some real data\"\"\"\n",
    "\n",
    "wage = pd.read_csv('../data/wage.csv')\n",
    "\n",
    "wage.dropna(inplace=True)\n",
    "\n",
    "wage"
   ],
   "metadata": {
    "collapsed": false,
    "ExecuteTime": {
     "end_time": "2024-01-03T14:18:11.938490Z",
     "start_time": "2024-01-03T14:18:11.918827Z"
    }
   },
   "id": "d09cb49c700423df"
  },
  {
   "cell_type": "code",
   "execution_count": 14,
   "outputs": [
    {
     "data": {
      "text/plain": "<IPython.core.display.HTML object>",
      "text/html": "<h1 style='text-align:center;'>Regression Results</h1><pre style='text-align:center; font-family:monospace;'>Dep. Variable:             wage    AIC:                    9775.95\nObservations:               663    BIC:                   9784.944\nStandard Error Type: non-robust    Adj. AIC:              9775.969\nR-squared:                0.106    Adj. BIC:              9785.003\nAdj. R-squared:           0.105    F-statistic:             78.786\nLog-Likelihood:       -4885.975    Prob (F-statistic):         0.0\n\n            Variable Coefficient Std-Error T-Statistic P>|t|  Conf. Interval           \n           ------------------------------------------------------------------          \n           Intercept    175.16     92.839     1.887     0.06 -7.134 - 357.454          \n              educ      59.452     6.698      8.876     0.0   46.3 - 72.604            \n</pre>"
     },
     "metadata": {},
     "output_type": "display_data"
    }
   ],
   "source": [
    "naive_model = LinReg(df = wage,\n",
    "                     outcome='wage',\n",
    "                     independent=['educ'])\n",
    "\n",
    "naive_model.summary(content_type='html')"
   ],
   "metadata": {
    "collapsed": false,
    "ExecuteTime": {
     "end_time": "2024-01-03T14:18:12.136494Z",
     "start_time": "2024-01-03T14:18:12.131909Z"
    }
   },
   "id": "6c87071a71ada496"
  },
  {
   "cell_type": "code",
   "execution_count": 15,
   "outputs": [
    {
     "data": {
      "text/plain": "<IPython.core.display.HTML object>",
      "text/html": "<h1 style='text-align:center;'>Regression Results</h1><pre style='text-align:center; font-family:monospace;'>Dep. Variable:             educ    AIC:                    2801.59\nObservations:               663    BIC:                   2815.081\nStandard Error Type: non-robust    Adj. AIC:              2801.627\nR-squared:                0.202    Adj. BIC:              2815.199\nAdj. R-squared:           0.199    F-statistic:             83.293\nLog-Likelihood:       -1397.795    Prob (F-statistic):         0.0\n\n            Variable Coefficient Std-Error T-Statistic P>|t| Conf. Interval          \n           ----------------------------------------------------------------          \n           Intercept    9.913       0.32      31.019    0.0  9.286 - 10.541          \n             feduc       0.14      0.034      4.165     0.0  0.074 - 0.206           \n             meduc      0.219      0.029      7.578     0.0  0.162 - 0.276           \n</pre>"
     },
     "metadata": {},
     "output_type": "display_data"
    }
   ],
   "source": [
    "\"\"\"Check for relevence of either parents education\"\"\"\n",
    "\n",
    "relevence = LinReg(df = wage,\n",
    "                     outcome='educ',\n",
    "                     independent=['meduc', 'feduc'])\n",
    "\n",
    "relevence.summary(content_type='html')\n"
   ],
   "metadata": {
    "collapsed": false,
    "ExecuteTime": {
     "end_time": "2024-01-03T14:18:12.438146Z",
     "start_time": "2024-01-03T14:18:12.427405Z"
    }
   },
   "id": "5e38f1a4f500f7af"
  },
  {
   "cell_type": "code",
   "execution_count": 16,
   "outputs": [
    {
     "data": {
      "text/plain": "<IPython.core.display.HTML object>",
      "text/html": "<div style='text-align: center; font-family: monospace;'><span style='display: inline-block; width: 100px;'>Variable</span><span style='display: inline-block; width: 70px;'>Model 1</span><span style='display: inline-block; width: 70px;'>Model 2</span><span style='display: inline-block; width: 70px;'>Model 3</span></div><div style='text-align: center; font-family: monospace;'><span style='display: inline-block; width: 310px; border-bottom: 1px dotted;'>&nbsp;</span></div><div style='text-align: center; font-family: monospace;'><span style='display: inline-block; width: 100px;'>Intercept</span><span style='display: inline-block; width: 70px; text-align: center;'>175.16*<br><span style='font-size: 0.8em;'>(92.839)</span></span><span style='display: inline-block; width: 70px; text-align: center;'>-537.712**<br><span style='font-size: 0.8em;'>(208.164)</span></span><span style='display: inline-block; width: 70px; text-align: center;'>-537.712**<br><span style='font-size: 0.8em;'>(212.386)</span></span></div><div style='text-align: center; font-family: monospace;'><span style='display: inline-block; width: 100px;'>educ</span><span style='display: inline-block; width: 70px; text-align: center;'>59.452***<br><span style='font-size: 0.8em;'>(6.698)</span></span><span style='display: inline-block; width: 70px; text-align: center;'>-<br><span style='font-size: 0.8em;'></span></span><span style='display: inline-block; width: 70px; text-align: center;'>-<br><span style='font-size: 0.8em;'></span></span></div><div style='text-align: center; font-family: monospace;'><span style='display: inline-block; width: 100px;'>independent_hat</span><span style='display: inline-block; width: 70px; text-align: center;'>-<br><span style='font-size: 0.8em;'></span></span><span style='display: inline-block; width: 70px; text-align: center;'>111.561***<br><span style='font-size: 0.8em;'>(15.176)</span></span><span style='display: inline-block; width: 70px; text-align: center;'>111.561***<br><span style='font-size: 0.8em;'>(15.779)</span></span></div><div style='text-align: center; font-family: monospace;'><span style='display: inline-block; width: 310px; border-bottom: 1px dotted;'>&nbsp;</span></div><div style='text-align: center; font-family: monospace;'><span style='display: inline-block; width: 100px;'>Outcome</span><span style='display: inline-block; width: 70px; text-align: center;'>wage</span><span style='display: inline-block; width: 70px; text-align: center;'>wage</span><span style='display: inline-block; width: 70px; text-align: center;'>wage</span></div><div style='text-align: center; font-family: monospace;'><span style='display: inline-block; width: 310px; border-bottom: 1px dotted;'>&nbsp;</span></div><div style='text-align: center; font-family: monospace;'><span style='display: inline-block; width: 100px;'>Observations</span><span style='display: inline-block; width: 70px; text-align: center;'>663</span><span style='display: inline-block; width: 70px; text-align: center;'>663</span><span style='display: inline-block; width: 70px; text-align: center;'>663</span></div><div style='text-align: center; font-family: monospace;'><span style='display: inline-block; width: 100px;'>R^2</span><span style='display: inline-block; width: 70px; text-align: center;'>0.106</span><span style='display: inline-block; width: 70px; text-align: center;'>0.076</span><span style='display: inline-block; width: 70px; text-align: center;'>0.076</span></div><div style='text-align: center; font-family: monospace;'><span style='display: inline-block; width: 100px;'>Adj. R^2</span><span style='display: inline-block; width: 70px; text-align: center;'>0.105</span><span style='display: inline-block; width: 70px; text-align: center;'>0.074</span><span style='display: inline-block; width: 70px; text-align: center;'>0.074</span></div><div style='text-align: center; font-family: monospace;'><span style='display: inline-block; width: 100px;'>F-statistic</span><span style='display: inline-block; width: 70px; text-align: center;'>78.786</span><span style='display: inline-block; width: 70px; text-align: center;'>54.041</span><span style='display: inline-block; width: 70px; text-align: center;'>54.041</span></div><div style='text-align: center; font-family: monospace;'><span style='display: inline-block; width: 100px;'>Prob (F)</span><span style='display: inline-block; width: 70px; text-align: center;'>0.0</span><span style='display: inline-block; width: 70px; text-align: center;'>0.0</span><span style='display: inline-block; width: 70px; text-align: center;'>0.0</span></div><div style='text-align: center; font-family: monospace;'><span style='display: inline-block; width: 310px; border-bottom: 1px dotted;'>&nbsp;</span></div><div style='text-align: center; font-family: monospace; font-size: 0.8em;'>* p < 0.1, ** p < 0.05, *** p < 0.01</div>"
     },
     "metadata": {},
     "output_type": "display_data"
    }
   ],
   "source": [
    "iv = IV(df = wage,\n",
    "        outcome='wage',\n",
    "        independent=['educ'],\n",
    "        controls=[],\n",
    "        instruments=['meduc', 'feduc'])\n",
    "\n",
    "iv_robust = IV(df = wage,\n",
    "        outcome='wage',\n",
    "        independent=['educ'],\n",
    "        controls=[],\n",
    "        instruments=['meduc', 'feduc'],\n",
    "               standard_error_type='robust')\n",
    "\n",
    "display_models([naive_model, iv, iv_robust])"
   ],
   "metadata": {
    "collapsed": false,
    "ExecuteTime": {
     "end_time": "2024-01-03T14:18:12.771830Z",
     "start_time": "2024-01-03T14:18:12.716478Z"
    }
   },
   "id": "e39acdedb410c4b9"
  },
  {
   "cell_type": "code",
   "execution_count": 21,
   "outputs": [
    {
     "data": {
      "text/plain": "        id  nearc2  nearc4  educ  age  fatheduc  motheduc  weight  momdad14  \\\n1        3       0       0    12   27       8.0       8.0  380166         1   \n2        4       0       0    12   34      14.0      12.0  367470         1   \n3        5       1       1    11   27      11.0      12.0  380166         1   \n4        6       1       1    12   34       8.0       7.0  367470         1   \n5        7       1       1    12   26       9.0      12.0  380166         1   \n...    ...     ...     ...   ...  ...       ...       ...     ...       ...   \n2980  5162       0       0    16   30       5.0       8.0  118905         0   \n2993  5186       0       0    12   27       7.0       7.0   91831         1   \n2994  5187       0       0    14   27       5.0      12.0   91831         1   \n2997  5199       0       1    16   30      16.0      16.0  140524         1   \n3000  5206       0       1    13   27       6.0       8.0   91831         1   \n\n      sinmom14  ...  smsa66  wage  enroll   KWW     IQ  married  libcrd14  \\\n1            0  ...       1   481       0  35.0   93.0      1.0       1.0   \n2            0  ...       1   721       0  42.0  103.0      1.0       1.0   \n3            0  ...       1   250       0  25.0   88.0      1.0       1.0   \n4            0  ...       1   729       0  34.0  108.0      1.0       0.0   \n5            0  ...       1   500       0  38.0   85.0      1.0       1.0   \n...        ...  ...     ...   ...     ...   ...    ...      ...       ...   \n2980         0  ...       0   625       0  35.0   78.0      1.0       1.0   \n2993         0  ...       0   263       0  33.0  100.0      1.0       1.0   \n2994         0  ...       0   432       0  38.0  105.0      1.0       1.0   \n2997         0  ...       0   513       0  30.0   82.0      1.0       0.0   \n3000         0  ...       0   500       0  32.0  102.0      1.0       0.0   \n\n      exper     lwage  expersq  \n1         9  6.175867       81  \n2        16  6.580639      256  \n3        10  5.521461      100  \n4        16  6.591674      256  \n5         8  6.214608       64  \n...     ...       ...      ...  \n2980      8  6.437752       64  \n2993      9  5.572154       81  \n2994      7  6.068426       49  \n2997      8  6.240276       64  \n3000      8  6.214608       64  \n\n[1600 rows x 34 columns]",
      "text/html": "<div>\n<style scoped>\n    .dataframe tbody tr th:only-of-type {\n        vertical-align: middle;\n    }\n\n    .dataframe tbody tr th {\n        vertical-align: top;\n    }\n\n    .dataframe thead th {\n        text-align: right;\n    }\n</style>\n<table border=\"1\" class=\"dataframe\">\n  <thead>\n    <tr style=\"text-align: right;\">\n      <th></th>\n      <th>id</th>\n      <th>nearc2</th>\n      <th>nearc4</th>\n      <th>educ</th>\n      <th>age</th>\n      <th>fatheduc</th>\n      <th>motheduc</th>\n      <th>weight</th>\n      <th>momdad14</th>\n      <th>sinmom14</th>\n      <th>...</th>\n      <th>smsa66</th>\n      <th>wage</th>\n      <th>enroll</th>\n      <th>KWW</th>\n      <th>IQ</th>\n      <th>married</th>\n      <th>libcrd14</th>\n      <th>exper</th>\n      <th>lwage</th>\n      <th>expersq</th>\n    </tr>\n  </thead>\n  <tbody>\n    <tr>\n      <th>1</th>\n      <td>3</td>\n      <td>0</td>\n      <td>0</td>\n      <td>12</td>\n      <td>27</td>\n      <td>8.0</td>\n      <td>8.0</td>\n      <td>380166</td>\n      <td>1</td>\n      <td>0</td>\n      <td>...</td>\n      <td>1</td>\n      <td>481</td>\n      <td>0</td>\n      <td>35.0</td>\n      <td>93.0</td>\n      <td>1.0</td>\n      <td>1.0</td>\n      <td>9</td>\n      <td>6.175867</td>\n      <td>81</td>\n    </tr>\n    <tr>\n      <th>2</th>\n      <td>4</td>\n      <td>0</td>\n      <td>0</td>\n      <td>12</td>\n      <td>34</td>\n      <td>14.0</td>\n      <td>12.0</td>\n      <td>367470</td>\n      <td>1</td>\n      <td>0</td>\n      <td>...</td>\n      <td>1</td>\n      <td>721</td>\n      <td>0</td>\n      <td>42.0</td>\n      <td>103.0</td>\n      <td>1.0</td>\n      <td>1.0</td>\n      <td>16</td>\n      <td>6.580639</td>\n      <td>256</td>\n    </tr>\n    <tr>\n      <th>3</th>\n      <td>5</td>\n      <td>1</td>\n      <td>1</td>\n      <td>11</td>\n      <td>27</td>\n      <td>11.0</td>\n      <td>12.0</td>\n      <td>380166</td>\n      <td>1</td>\n      <td>0</td>\n      <td>...</td>\n      <td>1</td>\n      <td>250</td>\n      <td>0</td>\n      <td>25.0</td>\n      <td>88.0</td>\n      <td>1.0</td>\n      <td>1.0</td>\n      <td>10</td>\n      <td>5.521461</td>\n      <td>100</td>\n    </tr>\n    <tr>\n      <th>4</th>\n      <td>6</td>\n      <td>1</td>\n      <td>1</td>\n      <td>12</td>\n      <td>34</td>\n      <td>8.0</td>\n      <td>7.0</td>\n      <td>367470</td>\n      <td>1</td>\n      <td>0</td>\n      <td>...</td>\n      <td>1</td>\n      <td>729</td>\n      <td>0</td>\n      <td>34.0</td>\n      <td>108.0</td>\n      <td>1.0</td>\n      <td>0.0</td>\n      <td>16</td>\n      <td>6.591674</td>\n      <td>256</td>\n    </tr>\n    <tr>\n      <th>5</th>\n      <td>7</td>\n      <td>1</td>\n      <td>1</td>\n      <td>12</td>\n      <td>26</td>\n      <td>9.0</td>\n      <td>12.0</td>\n      <td>380166</td>\n      <td>1</td>\n      <td>0</td>\n      <td>...</td>\n      <td>1</td>\n      <td>500</td>\n      <td>0</td>\n      <td>38.0</td>\n      <td>85.0</td>\n      <td>1.0</td>\n      <td>1.0</td>\n      <td>8</td>\n      <td>6.214608</td>\n      <td>64</td>\n    </tr>\n    <tr>\n      <th>...</th>\n      <td>...</td>\n      <td>...</td>\n      <td>...</td>\n      <td>...</td>\n      <td>...</td>\n      <td>...</td>\n      <td>...</td>\n      <td>...</td>\n      <td>...</td>\n      <td>...</td>\n      <td>...</td>\n      <td>...</td>\n      <td>...</td>\n      <td>...</td>\n      <td>...</td>\n      <td>...</td>\n      <td>...</td>\n      <td>...</td>\n      <td>...</td>\n      <td>...</td>\n      <td>...</td>\n    </tr>\n    <tr>\n      <th>2980</th>\n      <td>5162</td>\n      <td>0</td>\n      <td>0</td>\n      <td>16</td>\n      <td>30</td>\n      <td>5.0</td>\n      <td>8.0</td>\n      <td>118905</td>\n      <td>0</td>\n      <td>0</td>\n      <td>...</td>\n      <td>0</td>\n      <td>625</td>\n      <td>0</td>\n      <td>35.0</td>\n      <td>78.0</td>\n      <td>1.0</td>\n      <td>1.0</td>\n      <td>8</td>\n      <td>6.437752</td>\n      <td>64</td>\n    </tr>\n    <tr>\n      <th>2993</th>\n      <td>5186</td>\n      <td>0</td>\n      <td>0</td>\n      <td>12</td>\n      <td>27</td>\n      <td>7.0</td>\n      <td>7.0</td>\n      <td>91831</td>\n      <td>1</td>\n      <td>0</td>\n      <td>...</td>\n      <td>0</td>\n      <td>263</td>\n      <td>0</td>\n      <td>33.0</td>\n      <td>100.0</td>\n      <td>1.0</td>\n      <td>1.0</td>\n      <td>9</td>\n      <td>5.572154</td>\n      <td>81</td>\n    </tr>\n    <tr>\n      <th>2994</th>\n      <td>5187</td>\n      <td>0</td>\n      <td>0</td>\n      <td>14</td>\n      <td>27</td>\n      <td>5.0</td>\n      <td>12.0</td>\n      <td>91831</td>\n      <td>1</td>\n      <td>0</td>\n      <td>...</td>\n      <td>0</td>\n      <td>432</td>\n      <td>0</td>\n      <td>38.0</td>\n      <td>105.0</td>\n      <td>1.0</td>\n      <td>1.0</td>\n      <td>7</td>\n      <td>6.068426</td>\n      <td>49</td>\n    </tr>\n    <tr>\n      <th>2997</th>\n      <td>5199</td>\n      <td>0</td>\n      <td>1</td>\n      <td>16</td>\n      <td>30</td>\n      <td>16.0</td>\n      <td>16.0</td>\n      <td>140524</td>\n      <td>1</td>\n      <td>0</td>\n      <td>...</td>\n      <td>0</td>\n      <td>513</td>\n      <td>0</td>\n      <td>30.0</td>\n      <td>82.0</td>\n      <td>1.0</td>\n      <td>0.0</td>\n      <td>8</td>\n      <td>6.240276</td>\n      <td>64</td>\n    </tr>\n    <tr>\n      <th>3000</th>\n      <td>5206</td>\n      <td>0</td>\n      <td>1</td>\n      <td>13</td>\n      <td>27</td>\n      <td>6.0</td>\n      <td>8.0</td>\n      <td>91831</td>\n      <td>1</td>\n      <td>0</td>\n      <td>...</td>\n      <td>0</td>\n      <td>500</td>\n      <td>0</td>\n      <td>32.0</td>\n      <td>102.0</td>\n      <td>1.0</td>\n      <td>0.0</td>\n      <td>8</td>\n      <td>6.214608</td>\n      <td>64</td>\n    </tr>\n  </tbody>\n</table>\n<p>1600 rows × 34 columns</p>\n</div>"
     },
     "execution_count": 21,
     "metadata": {},
     "output_type": "execute_result"
    }
   ],
   "source": [
    "\"\"\"Lets now look at instrumental variables with controls\"\"\"\n",
    "\n",
    "card = pd.read_csv('../data/card.csv')\n",
    "card.dropna(inplace=True)\n",
    "card"
   ],
   "metadata": {
    "collapsed": false,
    "ExecuteTime": {
     "end_time": "2024-01-03T14:56:32.585927Z",
     "start_time": "2024-01-03T14:56:32.521490Z"
    }
   },
   "id": "c896912a5c6466e"
  },
  {
   "cell_type": "code",
   "execution_count": 22,
   "outputs": [
    {
     "data": {
      "text/plain": "<IPython.core.display.HTML object>",
      "text/html": "<h1 style='text-align:center;'>Regression Results</h1><pre style='text-align:center; font-family:monospace;'>Dep. Variable:            lwage    AIC:                   1422.876\nObservations:              1600    BIC:                    1460.52\nStandard Error Type: non-robust    Adj. AIC:              1422.946\nR-squared:                0.195    Adj. BIC:              1460.779\nAdj. R-squared:           0.192    F-statistic:             64.453\nLog-Likelihood:        -704.438    Prob (F-statistic):         0.0\n\n           Variable Coefficient Std-Error T-Statistic P>|t|  Conf. Interval           \n          -----------------------------------------------------------------           \n          Intercept    4.634      0.104      44.76     0.0   4.431 - 4.837            \n             educ      0.079      0.005      15.137    0.0   0.068 - 0.089            \n            smsa66     0.114      0.021      5.469     0.0   0.073 - 0.155            \n           expersq     0.097      0.011      8.783     0.0   0.075 - 0.118            \n            black      -0.003     0.001      -4.841    0.0  -0.004 - -0.002           \n            exper      -0.141     0.033      -4.287    0.0  -0.205 - -0.076           \n           south66     -0.067     0.021      -3.125   0.002 -0.109 - -0.025           \n</pre>"
     },
     "metadata": {},
     "output_type": "display_data"
    }
   ],
   "source": [
    "naive_model = LinReg(df = card,\n",
    "                     outcome='lwage',\n",
    "                     independent=['educ', 'smsa66', 'exper', 'expersq', 'black', 'south66'])\n",
    "\n",
    "naive_model.summary(content_type='html')"
   ],
   "metadata": {
    "collapsed": false,
    "ExecuteTime": {
     "end_time": "2024-01-03T14:56:36.822648Z",
     "start_time": "2024-01-03T14:56:36.797913Z"
    }
   },
   "id": "2ac008cee76e98cd"
  },
  {
   "cell_type": "code",
   "execution_count": 23,
   "outputs": [
    {
     "data": {
      "text/plain": "<IPython.core.display.HTML object>",
      "text/html": "<div style='text-align: center; font-family: monospace;'><span style='display: inline-block; width: 100px;'>Variable</span><span style='display: inline-block; width: 70px;'>Model 1</span><span style='display: inline-block; width: 70px;'>Model 2</span><span style='display: inline-block; width: 70px;'>Model 3</span></div><div style='text-align: center; font-family: monospace;'><span style='display: inline-block; width: 310px; border-bottom: 1px dotted;'>&nbsp;</span></div><div style='text-align: center; font-family: monospace;'><span style='display: inline-block; width: 100px;'>Intercept</span><span style='display: inline-block; width: 70px; text-align: center;'>4.634***<br><span style='font-size: 0.8em;'>(0.104)</span></span><span style='display: inline-block; width: 70px; text-align: center;'>4.722***<br><span style='font-size: 0.8em;'>(1.264)</span></span><span style='display: inline-block; width: 70px; text-align: center;'>4.722***<br><span style='font-size: 0.8em;'>(1.234)</span></span></div><div style='text-align: center; font-family: monospace;'><span style='display: inline-block; width: 100px;'>black</span><span style='display: inline-block; width: 70px; text-align: center;'>-0.003***<br><span style='font-size: 0.8em;'>(0.001)</span></span><span style='display: inline-block; width: 70px; text-align: center;'>-0.003**<br><span style='font-size: 0.8em;'>(0.001)</span></span><span style='display: inline-block; width: 70px; text-align: center;'>-0.003**<br><span style='font-size: 0.8em;'>(0.001)</span></span></div><div style='text-align: center; font-family: monospace;'><span style='display: inline-block; width: 100px;'>educ</span><span style='display: inline-block; width: 70px; text-align: center;'>0.079***<br><span style='font-size: 0.8em;'>(0.005)</span></span><span style='display: inline-block; width: 70px; text-align: center;'>-<br><span style='font-size: 0.8em;'></span></span><span style='display: inline-block; width: 70px; text-align: center;'>-<br><span style='font-size: 0.8em;'></span></span></div><div style='text-align: center; font-family: monospace;'><span style='display: inline-block; width: 100px;'>exper</span><span style='display: inline-block; width: 70px; text-align: center;'>-0.141***<br><span style='font-size: 0.8em;'>(0.033)</span></span><span style='display: inline-block; width: 70px; text-align: center;'>-0.144**<br><span style='font-size: 0.8em;'>(0.056)</span></span><span style='display: inline-block; width: 70px; text-align: center;'>-0.144***<br><span style='font-size: 0.8em;'>(0.055)</span></span></div><div style='text-align: center; font-family: monospace;'><span style='display: inline-block; width: 100px;'>expersq</span><span style='display: inline-block; width: 70px; text-align: center;'>0.097***<br><span style='font-size: 0.8em;'>(0.011)</span></span><span style='display: inline-block; width: 70px; text-align: center;'>0.115***<br><span style='font-size: 0.8em;'>(0.028)</span></span><span style='display: inline-block; width: 70px; text-align: center;'>0.115***<br><span style='font-size: 0.8em;'>(0.028)</span></span></div><div style='text-align: center; font-family: monospace;'><span style='display: inline-block; width: 100px;'>independent_hat</span><span style='display: inline-block; width: 70px; text-align: center;'>-<br><span style='font-size: 0.8em;'></span></span><span style='display: inline-block; width: 70px; text-align: center;'>0.094**<br><span style='font-size: 0.8em;'>(0.043)</span></span><span style='display: inline-block; width: 70px; text-align: center;'>0.094**<br><span style='font-size: 0.8em;'>(0.043)</span></span></div><div style='text-align: center; font-family: monospace;'><span style='display: inline-block; width: 100px;'>smsa66</span><span style='display: inline-block; width: 70px; text-align: center;'>0.114***<br><span style='font-size: 0.8em;'>(0.021)</span></span><span style='display: inline-block; width: 70px; text-align: center;'>0.074<br><span style='font-size: 0.8em;'>(0.071)</span></span><span style='display: inline-block; width: 70px; text-align: center;'>0.074<br><span style='font-size: 0.8em;'>(0.069)</span></span></div><div style='text-align: center; font-family: monospace;'><span style='display: inline-block; width: 100px;'>south66</span><span style='display: inline-block; width: 70px; text-align: center;'>-0.067***<br><span style='font-size: 0.8em;'>(0.021)</span></span><span style='display: inline-block; width: 70px; text-align: center;'>-0.067***<br><span style='font-size: 0.8em;'>(0.023)</span></span><span style='display: inline-block; width: 70px; text-align: center;'>-0.067***<br><span style='font-size: 0.8em;'>(0.023)</span></span></div><div style='text-align: center; font-family: monospace;'><span style='display: inline-block; width: 310px; border-bottom: 1px dotted;'>&nbsp;</span></div><div style='text-align: center; font-family: monospace;'><span style='display: inline-block; width: 100px;'>Outcome</span><span style='display: inline-block; width: 70px; text-align: center;'>lwage</span><span style='display: inline-block; width: 70px; text-align: center;'>lwage</span><span style='display: inline-block; width: 70px; text-align: center;'>lwage</span></div><div style='text-align: center; font-family: monospace;'><span style='display: inline-block; width: 310px; border-bottom: 1px dotted;'>&nbsp;</span></div><div style='text-align: center; font-family: monospace;'><span style='display: inline-block; width: 100px;'>Observations</span><span style='display: inline-block; width: 70px; text-align: center;'>1600</span><span style='display: inline-block; width: 70px; text-align: center;'>1600</span><span style='display: inline-block; width: 70px; text-align: center;'>1600</span></div><div style='text-align: center; font-family: monospace;'><span style='display: inline-block; width: 100px;'>R^2</span><span style='display: inline-block; width: 70px; text-align: center;'>0.195</span><span style='display: inline-block; width: 70px; text-align: center;'>0.08</span><span style='display: inline-block; width: 70px; text-align: center;'>0.08</span></div><div style='text-align: center; font-family: monospace;'><span style='display: inline-block; width: 100px;'>Adj. R^2</span><span style='display: inline-block; width: 70px; text-align: center;'>0.192</span><span style='display: inline-block; width: 70px; text-align: center;'>0.077</span><span style='display: inline-block; width: 70px; text-align: center;'>0.077</span></div><div style='text-align: center; font-family: monospace;'><span style='display: inline-block; width: 100px;'>F-statistic</span><span style='display: inline-block; width: 70px; text-align: center;'>64.453</span><span style='display: inline-block; width: 70px; text-align: center;'>23.156</span><span style='display: inline-block; width: 70px; text-align: center;'>23.156</span></div><div style='text-align: center; font-family: monospace;'><span style='display: inline-block; width: 100px;'>Prob (F)</span><span style='display: inline-block; width: 70px; text-align: center;'>0.0</span><span style='display: inline-block; width: 70px; text-align: center;'>0.0</span><span style='display: inline-block; width: 70px; text-align: center;'>0.0</span></div><div style='text-align: center; font-family: monospace;'><span style='display: inline-block; width: 310px; border-bottom: 1px dotted;'>&nbsp;</span></div><div style='text-align: center; font-family: monospace; font-size: 0.8em;'>* p < 0.1, ** p < 0.05, *** p < 0.01</div>"
     },
     "metadata": {},
     "output_type": "display_data"
    }
   ],
   "source": [
    "iv = IV(df = card,\n",
    "        outcome='lwage',\n",
    "        independent=['educ'],\n",
    "        controls=['smsa66', 'exper', 'expersq', 'black', 'south66'],\n",
    "        instruments=['nearc4'])\n",
    "\n",
    "iv_robust = IV(df = card,\n",
    "        outcome='lwage',\n",
    "        independent=['educ'],\n",
    "        controls=['smsa66', 'exper', 'expersq', 'black', 'south66'],\n",
    "        instruments=['nearc4'],\n",
    "               standard_error_type='robust')\n",
    "\n",
    "display_models([naive_model, iv, iv_robust])"
   ],
   "metadata": {
    "collapsed": false,
    "ExecuteTime": {
     "end_time": "2024-01-03T14:56:39.232936Z",
     "start_time": "2024-01-03T14:56:39.097700Z"
    }
   },
   "id": "ae32765b0893327"
  },
  {
   "cell_type": "code",
   "execution_count": null,
   "outputs": [],
   "source": [],
   "metadata": {
    "collapsed": false
   },
   "id": "e1296d648e2f4f70"
  }
 ],
 "metadata": {
  "kernelspec": {
   "display_name": "Python 3",
   "language": "python",
   "name": "python3"
  },
  "language_info": {
   "codemirror_mode": {
    "name": "ipython",
    "version": 2
   },
   "file_extension": ".py",
   "mimetype": "text/x-python",
   "name": "python",
   "nbconvert_exporter": "python",
   "pygments_lexer": "ipython2",
   "version": "2.7.6"
  }
 },
 "nbformat": 4,
 "nbformat_minor": 5
}
