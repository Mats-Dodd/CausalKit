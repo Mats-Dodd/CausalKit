{
 "cells": [
  {
   "cell_type": "code",
   "execution_count": 1,
   "id": "initial_id",
   "metadata": {
    "collapsed": true,
    "ExecuteTime": {
     "end_time": "2024-01-03T00:45:07.830935Z",
     "start_time": "2024-01-03T00:45:06.857425Z"
    }
   },
   "outputs": [],
   "source": [
    "import pandas as pd\n",
    "import numpy as np\n",
    "\n",
    "from src.models.iv import IV\n",
    "from src.models.linreg import LinReg\n",
    "from src.displays.display_linear import display_models"
   ]
  },
  {
   "cell_type": "code",
   "execution_count": 2,
   "outputs": [
    {
     "data": {
      "text/plain": "           wage       educ     ability  fathereduc\n0    146.347807  18.053194  348.240021   17.158322\n1    147.599580  15.845486  181.160724   13.988533\n2    161.820228  15.105207  337.367725   15.994311\n3    105.082941  16.458131  106.458032   21.413172\n4    167.562196  18.793815  301.510006   16.457630\n..          ...        ...         ...         ...\n995  157.149509  14.883227  461.290475   11.446059\n996  166.003573  14.542572  292.700272   16.201575\n997  155.693604  18.022844  278.575512   16.739413\n998  199.074623  18.885769  346.645549   15.543786\n999  178.763810  18.889398  385.063904   17.756280\n\n[1000 rows x 4 columns]",
      "text/html": "<div>\n<style scoped>\n    .dataframe tbody tr th:only-of-type {\n        vertical-align: middle;\n    }\n\n    .dataframe tbody tr th {\n        vertical-align: top;\n    }\n\n    .dataframe thead th {\n        text-align: right;\n    }\n</style>\n<table border=\"1\" class=\"dataframe\">\n  <thead>\n    <tr style=\"text-align: right;\">\n      <th></th>\n      <th>wage</th>\n      <th>educ</th>\n      <th>ability</th>\n      <th>fathereduc</th>\n    </tr>\n  </thead>\n  <tbody>\n    <tr>\n      <th>0</th>\n      <td>146.347807</td>\n      <td>18.053194</td>\n      <td>348.240021</td>\n      <td>17.158322</td>\n    </tr>\n    <tr>\n      <th>1</th>\n      <td>147.599580</td>\n      <td>15.845486</td>\n      <td>181.160724</td>\n      <td>13.988533</td>\n    </tr>\n    <tr>\n      <th>2</th>\n      <td>161.820228</td>\n      <td>15.105207</td>\n      <td>337.367725</td>\n      <td>15.994311</td>\n    </tr>\n    <tr>\n      <th>3</th>\n      <td>105.082941</td>\n      <td>16.458131</td>\n      <td>106.458032</td>\n      <td>21.413172</td>\n    </tr>\n    <tr>\n      <th>4</th>\n      <td>167.562196</td>\n      <td>18.793815</td>\n      <td>301.510006</td>\n      <td>16.457630</td>\n    </tr>\n    <tr>\n      <th>...</th>\n      <td>...</td>\n      <td>...</td>\n      <td>...</td>\n      <td>...</td>\n    </tr>\n    <tr>\n      <th>995</th>\n      <td>157.149509</td>\n      <td>14.883227</td>\n      <td>461.290475</td>\n      <td>11.446059</td>\n    </tr>\n    <tr>\n      <th>996</th>\n      <td>166.003573</td>\n      <td>14.542572</td>\n      <td>292.700272</td>\n      <td>16.201575</td>\n    </tr>\n    <tr>\n      <th>997</th>\n      <td>155.693604</td>\n      <td>18.022844</td>\n      <td>278.575512</td>\n      <td>16.739413</td>\n    </tr>\n    <tr>\n      <th>998</th>\n      <td>199.074623</td>\n      <td>18.885769</td>\n      <td>346.645549</td>\n      <td>15.543786</td>\n    </tr>\n    <tr>\n      <th>999</th>\n      <td>178.763810</td>\n      <td>18.889398</td>\n      <td>385.063904</td>\n      <td>17.756280</td>\n    </tr>\n  </tbody>\n</table>\n<p>1000 rows × 4 columns</p>\n</div>"
     },
     "execution_count": 2,
     "metadata": {},
     "output_type": "execute_result"
    }
   ],
   "source": [
    "magic = pd.read_csv('../data/father_education.csv')\n",
    "magic"
   ],
   "metadata": {
    "collapsed": false,
    "ExecuteTime": {
     "end_time": "2024-01-03T00:45:07.847491Z",
     "start_time": "2024-01-03T00:45:07.833596Z"
    }
   },
   "id": "84468c5381309c8"
  },
  {
   "cell_type": "code",
   "execution_count": 3,
   "outputs": [
    {
     "data": {
      "text/plain": "<IPython.core.display.HTML object>",
      "text/html": "<p style='text-align:center; font-size:20px;'><strong>Instrumental Variables Regression Results</strong></p><p style='text-align:center;'>First Stage Equation: educ ~ fathereduc</p><p style='text-align:center;'>Second Stage Equation: wage ~ predicted_educ</p><pre style='text-align:center; font-family:monospace;'>Dep. Variable:             wage    AIC:                  10341.737\nObservations:              1000    BIC:                  10351.553\nStandard Error Type: non-robust    Adj. AIC:              10341.75\nR-squared:                0.105    Adj. BIC:             10351.595\nAdj. R-squared:           0.104    F-statistic:            116.949\nLog-Likelihood:       -5168.869    Prob (F-statistic):         0.0\n\n               Variable    Coefficient Std-Error T-Statistic P>|t|  Conf. Interval           \n           ------------------------------------------------------------------------          \n              Intercept       -3.108     14.37      -0.216   0.829 -31.307 - 25.092          \n           independent_hat    9.252      0.856      10.814    0.0   7.573 - 10.931           \n</pre>"
     },
     "metadata": {},
     "output_type": "display_data"
    }
   ],
   "source": [
    "iv = IV(df = magic,\n",
    "        outcome='wage',\n",
    "        independent=['educ'],\n",
    "        controls=[],\n",
    "        instruments=['fathereduc'])\n",
    "\n",
    "iv.summary()"
   ],
   "metadata": {
    "collapsed": false,
    "ExecuteTime": {
     "end_time": "2024-01-03T00:45:07.913423Z",
     "start_time": "2024-01-03T00:45:07.851737Z"
    }
   },
   "id": "a89b6c21e3a3f825"
  },
  {
   "cell_type": "code",
   "execution_count": 10,
   "outputs": [
    {
     "data": {
      "text/plain": "<IPython.core.display.HTML object>",
      "text/html": "<h1 style='text-align:center;'>Regression Results</h1><pre style='text-align:center; font-family:monospace;'>Dep. Variable:             wage    AIC:                   9158.206\nObservations:              1000    BIC:                    9172.93\nStandard Error Type: non-robust    Adj. AIC:               9158.23\nR-squared:                0.726    Adj. BIC:              9173.013\nAdj. R-squared:           0.726    F-statistic:           1323.969\nLog-Likelihood:       -4576.103    Prob (F-statistic):         0.0\n\n           Variable Coefficient Std-Error T-Statistic P>|t|   Conf. Interval            \n          -------------------------------------------------------------------           \n          Intercept   -80.263     5.659     -14.184    0.0  -91.367 - -69.159           \n           ability     0.258      0.007      35.939    0.0    0.244 - 0.272             \n             educ      9.242      0.343      26.972    0.0     8.57 - 9.915             \n</pre>"
     },
     "metadata": {},
     "output_type": "display_data"
    }
   ],
   "source": [
    "\"\"\"Perfect world where we can measure individual ability\"\"\"\n",
    "perfect_model =  LinReg(df = magic,\n",
    "                        outcome='wage',\n",
    "                        independent=['ability', 'educ'])\n",
    "\n",
    "perfect_model.summary(content_type='html')"
   ],
   "metadata": {
    "collapsed": false,
    "ExecuteTime": {
     "end_time": "2024-01-03T00:31:41.626259Z",
     "start_time": "2024-01-03T00:31:41.611431Z"
    }
   },
   "id": "3284f2aa40bda7b1"
  },
  {
   "cell_type": "code",
   "execution_count": 11,
   "outputs": [
    {
     "data": {
      "text/plain": "<IPython.core.display.HTML object>",
      "text/html": "<h1 style='text-align:center;'>Regression Results</h1><pre style='text-align:center; font-family:monospace;'>Dep. Variable:             wage    AIC:                   9987.146\nObservations:              1000    BIC:                   9996.961\nStandard Error Type: non-robust    Adj. AIC:              9987.158\nR-squared:                0.372    Adj. BIC:              9997.003\nAdj. R-squared:           0.371    F-statistic:            591.469\nLog-Likelihood:       -4991.573    Prob (F-statistic):         0.0\n\n            Variable Coefficient Std-Error T-Statistic P>|t|  Conf. Interval           \n           ------------------------------------------------------------------          \n           Intercept   -53.085     8.492      -6.251    0.0  -69.75 - -36.421          \n              educ      12.24      0.503      24.32     0.0  11.253 - 13.228           \n</pre>"
     },
     "metadata": {},
     "output_type": "display_data"
    }
   ],
   "source": [
    "\"\"\"Naive model\"\"\"\n",
    "\n",
    "naive_model = LinReg(df = magic,\n",
    "                     outcome='wage',\n",
    "                     independent=['educ'])\n",
    "\n",
    "naive_model.summary(content_type='html')"
   ],
   "metadata": {
    "collapsed": false,
    "ExecuteTime": {
     "end_time": "2024-01-03T00:31:42.561642Z",
     "start_time": "2024-01-03T00:31:42.527295Z"
    }
   },
   "id": "e5279812cf0fbda2"
  },
  {
   "cell_type": "markdown",
   "source": [
    "To be a valid instrument, it must meet three criteria:\n",
    "\n",
    "Relevance: Instrument is correlated with policy variable\n",
    "Exclusion: Instrument is correlated with outcome only through the policy variable\n",
    "Exogeneity: Instrument isn’t correlated with anything else in the model (i.e. omitted variables)"
   ],
   "metadata": {
    "collapsed": false
   },
   "id": "3623bba61e94de40"
  },
  {
   "cell_type": "code",
   "execution_count": 12,
   "outputs": [
    {
     "data": {
      "text/plain": "<IPython.core.display.HTML object>",
      "text/html": "<h1 style='text-align:center;'>Regression Results</h1><pre style='text-align:center; font-family:monospace;'>Dep. Variable:             educ    AIC:                   3774.512\nObservations:              1000    BIC:                   3784.328\nStandard Error Type: non-robust    Adj. AIC:              3774.524\nR-squared:                0.493    Adj. BIC:              3784.369\nAdj. R-squared:           0.493    F-statistic:            971.956\nLog-Likelihood:       -1885.256    Prob (F-statistic):         0.0\n\n           Variable  Coefficient Std-Error T-Statistic P>|t| Conf. Interval           \n          -----------------------------------------------------------------           \n          Intercept     4.396      0.399      11.027    0.0  3.613 - 5.178            \n          fathereduc    0.757      0.024      31.176    0.0  0.709 - 0.805            \n</pre>"
     },
     "metadata": {},
     "output_type": "display_data"
    }
   ],
   "source": [
    "relevence = LinReg(df = magic,\n",
    "                     outcome='educ',\n",
    "                     independent=['fathereduc'])\n",
    "\n",
    "relevence.summary(content_type='html')"
   ],
   "metadata": {
    "collapsed": false,
    "ExecuteTime": {
     "end_time": "2024-01-03T00:31:43.441832Z",
     "start_time": "2024-01-03T00:31:43.435785Z"
    }
   },
   "id": "1030be158c4d2592"
  },
  {
   "cell_type": "code",
   "execution_count": 13,
   "outputs": [
    {
     "data": {
      "text/plain": "<IPython.core.display.HTML object>",
      "text/html": "<h1 style='text-align:center;'>Regression Results</h1><pre style='text-align:center; font-family:monospace;'>Dep. Variable:             wage    AIC:                  10341.737\nObservations:              1000    BIC:                  10351.553\nStandard Error Type: non-robust    Adj. AIC:              10341.75\nR-squared:                0.105    Adj. BIC:             10351.595\nAdj. R-squared:           0.104    F-statistic:            116.949\nLog-Likelihood:       -5168.869    Prob (F-statistic):         0.0\n\n            Variable  Coefficient Std-Error T-Statistic P>|t|  Conf. Interval          \n           ------------------------------------------------------------------          \n           Intercept     37.559     10.632     3.533     0.0  16.695 - 58.423          \n           fathereduc    7.003      0.648      10.814    0.0   5.732 - 8.274           \n</pre>"
     },
     "metadata": {},
     "output_type": "display_data"
    }
   ],
   "source": [
    "\"\"\"Exclusion\"\"\"\n",
    "\n",
    "exclusion = LinReg(df = magic,\n",
    "                     outcome='wage',\n",
    "                     independent=['fathereduc'])\n",
    "\n",
    "exclusion.summary(content_type='html')"
   ],
   "metadata": {
    "collapsed": false,
    "ExecuteTime": {
     "end_time": "2024-01-03T00:31:43.882411Z",
     "start_time": "2024-01-03T00:31:43.870530Z"
    }
   },
   "id": "2428d82b850d2699"
  },
  {
   "cell_type": "code",
   "execution_count": 14,
   "outputs": [
    {
     "data": {
      "text/plain": "<IPython.core.display.HTML object>",
      "text/html": "<h1 style='text-align:center;'>Regression Results</h1><pre style='text-align:center; font-family:monospace;'>Dep. Variable:          ability    AIC:                  12184.016\nObservations:              1000    BIC:                  12193.832\nStandard Error Type: non-robust    Adj. AIC:             12184.028\nR-squared:                0.001    Adj. BIC:             12193.873\nAdj. R-squared:             0.0    F-statistic:              1.185\nLog-Likelihood:       -6090.008    Prob (F-statistic):       0.277\n\n            Variable  Coefficient Std-Error T-Statistic P>|t|   Conf. Interval           \n           --------------------------------------------------------------------          \n           Intercept    270.735     26.71      10.136    0.0  218.322 - 323.149          \n           fathereduc    1.771      1.627      1.088    0.277   -1.422 - 4.963           \n</pre>"
     },
     "metadata": {},
     "output_type": "display_data"
    }
   ],
   "source": [
    "\"\"\"Luckily in this toy dataset we have ability\"\"\"\n",
    "\n",
    "exclusion = LinReg(df = magic,\n",
    "                     outcome='ability',\n",
    "                     independent=['fathereduc'])\n",
    "\n",
    "exclusion.summary(content_type='html')"
   ],
   "metadata": {
    "collapsed": false,
    "ExecuteTime": {
     "end_time": "2024-01-03T00:31:44.293011Z",
     "start_time": "2024-01-03T00:31:44.277296Z"
    }
   },
   "id": "83034b98d6faa72f"
  },
  {
   "cell_type": "code",
   "execution_count": 15,
   "outputs": [
    {
     "data": {
      "text/plain": "<IPython.core.display.HTML object>",
      "text/html": "<h1 style='text-align:center;'>Regression Results</h1><pre style='text-align:center; font-family:monospace;'>Dep. Variable:             educ    AIC:                   3774.512\nObservations:              1000    BIC:                   3784.328\nStandard Error Type: non-robust    Adj. AIC:              3774.524\nR-squared:                0.493    Adj. BIC:              3784.369\nAdj. R-squared:           0.493    F-statistic:            971.956\nLog-Likelihood:       -1885.256    Prob (F-statistic):         0.0\n\n           Variable  Coefficient Std-Error T-Statistic P>|t| Conf. Interval           \n          -----------------------------------------------------------------           \n          Intercept     4.396      0.399      11.027    0.0  3.613 - 5.178            \n          fathereduc    0.757      0.024      31.176    0.0  0.709 - 0.805            \n</pre>"
     },
     "metadata": {},
     "output_type": "display_data"
    }
   ],
   "source": [
    "\"\"\"first stage\"\"\"\n",
    "\n",
    "first_stage = LinReg(df = magic,\n",
    "                     outcome='educ',\n",
    "                     independent=['fathereduc'])\n",
    "\n",
    "first_stage.summary(content_type='html')    "
   ],
   "metadata": {
    "collapsed": false,
    "ExecuteTime": {
     "end_time": "2024-01-03T00:31:44.707010Z",
     "start_time": "2024-01-03T00:31:44.696222Z"
    }
   },
   "id": "ad2413cccf7be334"
  },
  {
   "cell_type": "code",
   "execution_count": 16,
   "outputs": [
    {
     "data": {
      "text/plain": "           wage       educ     ability  fathereduc  independent_hat\n0    146.347807  18.053194  348.240021   17.158322        17.382994\n1    147.599580  15.845486  181.160724   13.988533        14.983731\n2    161.820228  15.105207  337.367725   15.994311        16.501936\n3    105.082941  16.458131  106.458032   21.413172        20.603558\n4    167.562196  18.793815  301.510006   16.457630        16.852630\n..          ...        ...         ...         ...              ...\n995  157.149509  14.883227  461.290475   11.446059        13.059292\n996  166.003573  14.542572  292.700272   16.201575        16.658818\n997  155.693604  18.022844  278.575512   16.739413        17.065916\n998  199.074623  18.885769  346.645549   15.543786        16.160927\n999  178.763810  18.889398  385.063904   17.756280        17.835598\n\n[1000 rows x 5 columns]",
      "text/html": "<div>\n<style scoped>\n    .dataframe tbody tr th:only-of-type {\n        vertical-align: middle;\n    }\n\n    .dataframe tbody tr th {\n        vertical-align: top;\n    }\n\n    .dataframe thead th {\n        text-align: right;\n    }\n</style>\n<table border=\"1\" class=\"dataframe\">\n  <thead>\n    <tr style=\"text-align: right;\">\n      <th></th>\n      <th>wage</th>\n      <th>educ</th>\n      <th>ability</th>\n      <th>fathereduc</th>\n      <th>independent_hat</th>\n    </tr>\n  </thead>\n  <tbody>\n    <tr>\n      <th>0</th>\n      <td>146.347807</td>\n      <td>18.053194</td>\n      <td>348.240021</td>\n      <td>17.158322</td>\n      <td>17.382994</td>\n    </tr>\n    <tr>\n      <th>1</th>\n      <td>147.599580</td>\n      <td>15.845486</td>\n      <td>181.160724</td>\n      <td>13.988533</td>\n      <td>14.983731</td>\n    </tr>\n    <tr>\n      <th>2</th>\n      <td>161.820228</td>\n      <td>15.105207</td>\n      <td>337.367725</td>\n      <td>15.994311</td>\n      <td>16.501936</td>\n    </tr>\n    <tr>\n      <th>3</th>\n      <td>105.082941</td>\n      <td>16.458131</td>\n      <td>106.458032</td>\n      <td>21.413172</td>\n      <td>20.603558</td>\n    </tr>\n    <tr>\n      <th>4</th>\n      <td>167.562196</td>\n      <td>18.793815</td>\n      <td>301.510006</td>\n      <td>16.457630</td>\n      <td>16.852630</td>\n    </tr>\n    <tr>\n      <th>...</th>\n      <td>...</td>\n      <td>...</td>\n      <td>...</td>\n      <td>...</td>\n      <td>...</td>\n    </tr>\n    <tr>\n      <th>995</th>\n      <td>157.149509</td>\n      <td>14.883227</td>\n      <td>461.290475</td>\n      <td>11.446059</td>\n      <td>13.059292</td>\n    </tr>\n    <tr>\n      <th>996</th>\n      <td>166.003573</td>\n      <td>14.542572</td>\n      <td>292.700272</td>\n      <td>16.201575</td>\n      <td>16.658818</td>\n    </tr>\n    <tr>\n      <th>997</th>\n      <td>155.693604</td>\n      <td>18.022844</td>\n      <td>278.575512</td>\n      <td>16.739413</td>\n      <td>17.065916</td>\n    </tr>\n    <tr>\n      <th>998</th>\n      <td>199.074623</td>\n      <td>18.885769</td>\n      <td>346.645549</td>\n      <td>15.543786</td>\n      <td>16.160927</td>\n    </tr>\n    <tr>\n      <th>999</th>\n      <td>178.763810</td>\n      <td>18.889398</td>\n      <td>385.063904</td>\n      <td>17.756280</td>\n      <td>17.835598</td>\n    </tr>\n  </tbody>\n</table>\n<p>1000 rows × 5 columns</p>\n</div>"
     },
     "execution_count": 16,
     "metadata": {},
     "output_type": "execute_result"
    }
   ],
   "source": [
    "predicted_educ = first_stage.predict(magic['fathereduc'].values)\n",
    "magic = magic.assign(independent_hat = predicted_educ)\n",
    "magic"
   ],
   "metadata": {
    "collapsed": false,
    "ExecuteTime": {
     "end_time": "2024-01-03T00:31:45.185149Z",
     "start_time": "2024-01-03T00:31:45.180754Z"
    }
   },
   "id": "569e933a08a57c10"
  },
  {
   "cell_type": "code",
   "execution_count": 18,
   "outputs": [
    {
     "data": {
      "text/plain": "<IPython.core.display.HTML object>",
      "text/html": "<div style='text-align: center; font-family: monospace;'><span style='display: inline-block; width: 100px;'>Variable</span><span style='display: inline-block; width: 70px;'>Model 1</span><span style='display: inline-block; width: 70px;'>Model 2</span><span style='display: inline-block; width: 70px;'>Model 3</span><span style='display: inline-block; width: 70px;'>Model 4</span></div><div style='text-align: center; font-family: monospace;'><span style='display: inline-block; width: 380px; border-bottom: 1px dotted;'>&nbsp;</span></div><div style='text-align: center; font-family: monospace;'><span style='display: inline-block; width: 100px;'>Intercept</span><span style='display: inline-block; width: 70px; text-align: center;'>-80.263***<br><span style='font-size: 0.8em;'>(5.659)</span></span><span style='display: inline-block; width: 70px; text-align: center;'>-53.085***<br><span style='font-size: 0.8em;'>(8.492)</span></span><span style='display: inline-block; width: 70px; text-align: center;'>-3.108<br><span style='font-size: 0.8em;'>(14.37)</span></span><span style='display: inline-block; width: 70px; text-align: center;'>-3.108<br><span style='font-size: 0.8em;'>(14.37)</span></span></div><div style='text-align: center; font-family: monospace;'><span style='display: inline-block; width: 100px;'>ability</span><span style='display: inline-block; width: 70px; text-align: center;'>0.258***<br><span style='font-size: 0.8em;'>(0.007)</span></span><span style='display: inline-block; width: 70px; text-align: center;'>-<br><span style='font-size: 0.8em;'></span></span><span style='display: inline-block; width: 70px; text-align: center;'>-<br><span style='font-size: 0.8em;'></span></span><span style='display: inline-block; width: 70px; text-align: center;'>-<br><span style='font-size: 0.8em;'></span></span></div><div style='text-align: center; font-family: monospace;'><span style='display: inline-block; width: 100px;'>educ</span><span style='display: inline-block; width: 70px; text-align: center;'>9.242***<br><span style='font-size: 0.8em;'>(0.343)</span></span><span style='display: inline-block; width: 70px; text-align: center;'>12.24***<br><span style='font-size: 0.8em;'>(0.503)</span></span><span style='display: inline-block; width: 70px; text-align: center;'>-<br><span style='font-size: 0.8em;'></span></span><span style='display: inline-block; width: 70px; text-align: center;'>-<br><span style='font-size: 0.8em;'></span></span></div><div style='text-align: center; font-family: monospace;'><span style='display: inline-block; width: 100px;'>independent_hat</span><span style='display: inline-block; width: 70px; text-align: center;'>-<br><span style='font-size: 0.8em;'></span></span><span style='display: inline-block; width: 70px; text-align: center;'>-<br><span style='font-size: 0.8em;'></span></span><span style='display: inline-block; width: 70px; text-align: center;'>9.252***<br><span style='font-size: 0.8em;'>(0.856)</span></span><span style='display: inline-block; width: 70px; text-align: center;'>9.252***<br><span style='font-size: 0.8em;'>(0.856)</span></span></div><div style='text-align: center; font-family: monospace;'><span style='display: inline-block; width: 380px; border-bottom: 1px dotted;'>&nbsp;</span></div><div style='text-align: center; font-family: monospace;'><span style='display: inline-block; width: 100px;'>Outcome</span><span style='display: inline-block; width: 70px; text-align: center;'>wage</span><span style='display: inline-block; width: 70px; text-align: center;'>wage</span><span style='display: inline-block; width: 70px; text-align: center;'>wage</span><span style='display: inline-block; width: 70px; text-align: center;'>wage</span></div><div style='text-align: center; font-family: monospace;'><span style='display: inline-block; width: 380px; border-bottom: 1px dotted;'>&nbsp;</span></div><div style='text-align: center; font-family: monospace;'><span style='display: inline-block; width: 100px;'>Observations</span><span style='display: inline-block; width: 70px; text-align: center;'>1000</span><span style='display: inline-block; width: 70px; text-align: center;'>1000</span><span style='display: inline-block; width: 70px; text-align: center;'>1000</span><span style='display: inline-block; width: 70px; text-align: center;'>1000</span></div><div style='text-align: center; font-family: monospace;'><span style='display: inline-block; width: 100px;'>R^2</span><span style='display: inline-block; width: 70px; text-align: center;'>0.726</span><span style='display: inline-block; width: 70px; text-align: center;'>0.372</span><span style='display: inline-block; width: 70px; text-align: center;'>0.105</span><span style='display: inline-block; width: 70px; text-align: center;'>0.105</span></div><div style='text-align: center; font-family: monospace;'><span style='display: inline-block; width: 100px;'>Adj. R^2</span><span style='display: inline-block; width: 70px; text-align: center;'>0.726</span><span style='display: inline-block; width: 70px; text-align: center;'>0.371</span><span style='display: inline-block; width: 70px; text-align: center;'>0.104</span><span style='display: inline-block; width: 70px; text-align: center;'>0.104</span></div><div style='text-align: center; font-family: monospace;'><span style='display: inline-block; width: 100px;'>F-statistic</span><span style='display: inline-block; width: 70px; text-align: center;'>1323.969</span><span style='display: inline-block; width: 70px; text-align: center;'>591.469</span><span style='display: inline-block; width: 70px; text-align: center;'>116.949</span><span style='display: inline-block; width: 70px; text-align: center;'>116.949</span></div><div style='text-align: center; font-family: monospace;'><span style='display: inline-block; width: 100px;'>Prob (F)</span><span style='display: inline-block; width: 70px; text-align: center;'>0.0</span><span style='display: inline-block; width: 70px; text-align: center;'>0.0</span><span style='display: inline-block; width: 70px; text-align: center;'>0.0</span><span style='display: inline-block; width: 70px; text-align: center;'>0.0</span></div><div style='text-align: center; font-family: monospace;'><span style='display: inline-block; width: 380px; border-bottom: 1px dotted;'>&nbsp;</span></div><div style='text-align: center; font-family: monospace; font-size: 0.8em;'>* p < 0.1, ** p < 0.05, *** p < 0.01</div>"
     },
     "metadata": {},
     "output_type": "display_data"
    }
   ],
   "source": [
    "second_stage = LinReg(df = magic,\n",
    "                     outcome='wage',\n",
    "                     independent=['independent_hat',])\n",
    "\n",
    "display_models([perfect_model, naive_model, second_stage, iv.second_stage_model]) "
   ],
   "metadata": {
    "collapsed": false,
    "ExecuteTime": {
     "end_time": "2024-01-03T00:31:57.651430Z",
     "start_time": "2024-01-03T00:31:57.633294Z"
    }
   },
   "id": "caa19b7941ac639a"
  },
  {
   "cell_type": "code",
   "execution_count": null,
   "outputs": [],
   "source": [],
   "metadata": {
    "collapsed": false
   },
   "id": "60ac9c6ba9046bb7"
  }
 ],
 "metadata": {
  "kernelspec": {
   "display_name": "Python 3",
   "language": "python",
   "name": "python3"
  },
  "language_info": {
   "codemirror_mode": {
    "name": "ipython",
    "version": 2
   },
   "file_extension": ".py",
   "mimetype": "text/x-python",
   "name": "python",
   "nbconvert_exporter": "python",
   "pygments_lexer": "ipython2",
   "version": "2.7.6"
  }
 },
 "nbformat": 4,
 "nbformat_minor": 5
}
