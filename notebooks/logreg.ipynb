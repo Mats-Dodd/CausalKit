{
 "cells": [
  {
   "cell_type": "code",
   "execution_count": 1,
   "id": "initial_id",
   "metadata": {
    "collapsed": true,
    "ExecuteTime": {
     "end_time": "2024-01-05T23:25:21.662427Z",
     "start_time": "2024-01-05T23:25:20.179547Z"
    }
   },
   "outputs": [],
   "source": [
    "import numpy as np\n",
    "\n",
    "from src.models.logreg import LogReg\n",
    "\n",
    "import statsmodels.api as sm\n",
    "import statsmodels.formula.api as smf"
   ]
  },
  {
   "cell_type": "code",
   "execution_count": 2,
   "outputs": [
    {
     "name": "stdout",
     "output_type": "stream",
     "text": [
      "::\n",
      "\n",
      "    Number of Observations - 32\n",
      "\n",
      "    Number of Variables - 4\n",
      "\n",
      "    Variable name definitions::\n",
      "\n",
      "        Grade - binary variable indicating whether or not a student's grade\n",
      "                improved.  1 indicates an improvement.\n",
      "        TUCE  - Test score on economics test\n",
      "        PSI   - participation in program\n",
      "        GPA   - Student's grade point average\n"
     ]
    }
   ],
   "source": [
    "df = sm.datasets.spector.load_pandas().data\n",
    "# Look at info on data\n",
    "print(sm.datasets.spector.NOTE)"
   ],
   "metadata": {
    "collapsed": false,
    "ExecuteTime": {
     "end_time": "2024-01-05T23:25:21.675957Z",
     "start_time": "2024-01-05T23:25:21.664419Z"
    }
   },
   "id": "24d2ef121e0e07ac"
  },
  {
   "cell_type": "code",
   "execution_count": 3,
   "outputs": [
    {
     "data": {
      "text/plain": "     GPA  TUCE  PSI  GRADE\n0   2.66  20.0  0.0    0.0\n1   2.89  22.0  0.0    0.0\n2   3.28  24.0  0.0    0.0\n3   2.92  12.0  0.0    0.0\n4   4.00  21.0  0.0    1.0\n5   2.86  17.0  0.0    0.0\n6   2.76  17.0  0.0    0.0\n7   2.87  21.0  0.0    0.0\n8   3.03  25.0  0.0    0.0\n9   3.92  29.0  0.0    1.0\n10  2.63  20.0  0.0    0.0\n11  3.32  23.0  0.0    0.0\n12  3.57  23.0  0.0    0.0\n13  3.26  25.0  0.0    1.0\n14  3.53  26.0  0.0    0.0\n15  2.74  19.0  0.0    0.0\n16  2.75  25.0  0.0    0.0\n17  2.83  19.0  0.0    0.0\n18  3.12  23.0  1.0    0.0\n19  3.16  25.0  1.0    1.0\n20  2.06  22.0  1.0    0.0\n21  3.62  28.0  1.0    1.0\n22  2.89  14.0  1.0    0.0\n23  3.51  26.0  1.0    0.0\n24  3.54  24.0  1.0    1.0\n25  2.83  27.0  1.0    1.0\n26  3.39  17.0  1.0    1.0\n27  2.67  24.0  1.0    0.0\n28  3.65  21.0  1.0    1.0\n29  4.00  23.0  1.0    1.0\n30  3.10  21.0  1.0    0.0\n31  2.39  19.0  1.0    1.0",
      "text/html": "<div>\n<style scoped>\n    .dataframe tbody tr th:only-of-type {\n        vertical-align: middle;\n    }\n\n    .dataframe tbody tr th {\n        vertical-align: top;\n    }\n\n    .dataframe thead th {\n        text-align: right;\n    }\n</style>\n<table border=\"1\" class=\"dataframe\">\n  <thead>\n    <tr style=\"text-align: right;\">\n      <th></th>\n      <th>GPA</th>\n      <th>TUCE</th>\n      <th>PSI</th>\n      <th>GRADE</th>\n    </tr>\n  </thead>\n  <tbody>\n    <tr>\n      <th>0</th>\n      <td>2.66</td>\n      <td>20.0</td>\n      <td>0.0</td>\n      <td>0.0</td>\n    </tr>\n    <tr>\n      <th>1</th>\n      <td>2.89</td>\n      <td>22.0</td>\n      <td>0.0</td>\n      <td>0.0</td>\n    </tr>\n    <tr>\n      <th>2</th>\n      <td>3.28</td>\n      <td>24.0</td>\n      <td>0.0</td>\n      <td>0.0</td>\n    </tr>\n    <tr>\n      <th>3</th>\n      <td>2.92</td>\n      <td>12.0</td>\n      <td>0.0</td>\n      <td>0.0</td>\n    </tr>\n    <tr>\n      <th>4</th>\n      <td>4.00</td>\n      <td>21.0</td>\n      <td>0.0</td>\n      <td>1.0</td>\n    </tr>\n    <tr>\n      <th>5</th>\n      <td>2.86</td>\n      <td>17.0</td>\n      <td>0.0</td>\n      <td>0.0</td>\n    </tr>\n    <tr>\n      <th>6</th>\n      <td>2.76</td>\n      <td>17.0</td>\n      <td>0.0</td>\n      <td>0.0</td>\n    </tr>\n    <tr>\n      <th>7</th>\n      <td>2.87</td>\n      <td>21.0</td>\n      <td>0.0</td>\n      <td>0.0</td>\n    </tr>\n    <tr>\n      <th>8</th>\n      <td>3.03</td>\n      <td>25.0</td>\n      <td>0.0</td>\n      <td>0.0</td>\n    </tr>\n    <tr>\n      <th>9</th>\n      <td>3.92</td>\n      <td>29.0</td>\n      <td>0.0</td>\n      <td>1.0</td>\n    </tr>\n    <tr>\n      <th>10</th>\n      <td>2.63</td>\n      <td>20.0</td>\n      <td>0.0</td>\n      <td>0.0</td>\n    </tr>\n    <tr>\n      <th>11</th>\n      <td>3.32</td>\n      <td>23.0</td>\n      <td>0.0</td>\n      <td>0.0</td>\n    </tr>\n    <tr>\n      <th>12</th>\n      <td>3.57</td>\n      <td>23.0</td>\n      <td>0.0</td>\n      <td>0.0</td>\n    </tr>\n    <tr>\n      <th>13</th>\n      <td>3.26</td>\n      <td>25.0</td>\n      <td>0.0</td>\n      <td>1.0</td>\n    </tr>\n    <tr>\n      <th>14</th>\n      <td>3.53</td>\n      <td>26.0</td>\n      <td>0.0</td>\n      <td>0.0</td>\n    </tr>\n    <tr>\n      <th>15</th>\n      <td>2.74</td>\n      <td>19.0</td>\n      <td>0.0</td>\n      <td>0.0</td>\n    </tr>\n    <tr>\n      <th>16</th>\n      <td>2.75</td>\n      <td>25.0</td>\n      <td>0.0</td>\n      <td>0.0</td>\n    </tr>\n    <tr>\n      <th>17</th>\n      <td>2.83</td>\n      <td>19.0</td>\n      <td>0.0</td>\n      <td>0.0</td>\n    </tr>\n    <tr>\n      <th>18</th>\n      <td>3.12</td>\n      <td>23.0</td>\n      <td>1.0</td>\n      <td>0.0</td>\n    </tr>\n    <tr>\n      <th>19</th>\n      <td>3.16</td>\n      <td>25.0</td>\n      <td>1.0</td>\n      <td>1.0</td>\n    </tr>\n    <tr>\n      <th>20</th>\n      <td>2.06</td>\n      <td>22.0</td>\n      <td>1.0</td>\n      <td>0.0</td>\n    </tr>\n    <tr>\n      <th>21</th>\n      <td>3.62</td>\n      <td>28.0</td>\n      <td>1.0</td>\n      <td>1.0</td>\n    </tr>\n    <tr>\n      <th>22</th>\n      <td>2.89</td>\n      <td>14.0</td>\n      <td>1.0</td>\n      <td>0.0</td>\n    </tr>\n    <tr>\n      <th>23</th>\n      <td>3.51</td>\n      <td>26.0</td>\n      <td>1.0</td>\n      <td>0.0</td>\n    </tr>\n    <tr>\n      <th>24</th>\n      <td>3.54</td>\n      <td>24.0</td>\n      <td>1.0</td>\n      <td>1.0</td>\n    </tr>\n    <tr>\n      <th>25</th>\n      <td>2.83</td>\n      <td>27.0</td>\n      <td>1.0</td>\n      <td>1.0</td>\n    </tr>\n    <tr>\n      <th>26</th>\n      <td>3.39</td>\n      <td>17.0</td>\n      <td>1.0</td>\n      <td>1.0</td>\n    </tr>\n    <tr>\n      <th>27</th>\n      <td>2.67</td>\n      <td>24.0</td>\n      <td>1.0</td>\n      <td>0.0</td>\n    </tr>\n    <tr>\n      <th>28</th>\n      <td>3.65</td>\n      <td>21.0</td>\n      <td>1.0</td>\n      <td>1.0</td>\n    </tr>\n    <tr>\n      <th>29</th>\n      <td>4.00</td>\n      <td>23.0</td>\n      <td>1.0</td>\n      <td>1.0</td>\n    </tr>\n    <tr>\n      <th>30</th>\n      <td>3.10</td>\n      <td>21.0</td>\n      <td>1.0</td>\n      <td>0.0</td>\n    </tr>\n    <tr>\n      <th>31</th>\n      <td>2.39</td>\n      <td>19.0</td>\n      <td>1.0</td>\n      <td>1.0</td>\n    </tr>\n  </tbody>\n</table>\n</div>"
     },
     "execution_count": 3,
     "metadata": {},
     "output_type": "execute_result"
    }
   ],
   "source": [
    "df"
   ],
   "metadata": {
    "collapsed": false,
    "ExecuteTime": {
     "end_time": "2024-01-05T23:25:21.702516Z",
     "start_time": "2024-01-05T23:25:21.677555Z"
    }
   },
   "id": "5cea52a2c89aea15"
  },
  {
   "cell_type": "code",
   "execution_count": 4,
   "outputs": [
    {
     "name": "stdout",
     "output_type": "stream",
     "text": [
      "Optimization terminated successfully.\n",
      "         Current function value: 0.402801\n",
      "         Iterations 7\n",
      "                           Logit Regression Results                           \n",
      "==============================================================================\n",
      "Dep. Variable:                  GRADE   No. Observations:                   32\n",
      "Model:                          Logit   Df Residuals:                       28\n",
      "Method:                           MLE   Df Model:                            3\n",
      "Date:                Sat, 06 Jan 2024   Pseudo R-squ.:                  0.3740\n",
      "Time:                        00:25:21   Log-Likelihood:                -12.890\n",
      "converged:                       True   LL-Null:                       -20.592\n",
      "Covariance Type:            nonrobust   LLR p-value:                  0.001502\n",
      "==============================================================================\n",
      "                 coef    std err          z      P>|z|      [0.025      0.975]\n",
      "------------------------------------------------------------------------------\n",
      "Intercept    -13.0213      4.931     -2.641      0.008     -22.687      -3.356\n",
      "GPA            2.8261      1.263      2.238      0.025       0.351       5.301\n",
      "TUCE           0.0952      0.142      0.672      0.501      -0.182       0.373\n",
      "PSI            2.3787      1.065      2.234      0.025       0.292       4.465\n",
      "==============================================================================\n"
     ]
    }
   ],
   "source": [
    "\n",
    "\n",
    "res_logit = smf.logit(\"GRADE ~ GPA + TUCE + PSI\", data=df).fit()\n",
    "print(res_logit.summary())"
   ],
   "metadata": {
    "collapsed": false,
    "ExecuteTime": {
     "end_time": "2024-01-05T23:25:21.727007Z",
     "start_time": "2024-01-05T23:25:21.702347Z"
    }
   },
   "id": "71aaf0844bd41961"
  },
  {
   "cell_type": "code",
   "execution_count": 6,
   "outputs": [
    {
     "name": "stdout",
     "output_type": "stream",
     "text": [
      "Converged in 6 iterations.\n"
     ]
    },
    {
     "data": {
      "text/plain": "<IPython.core.display.HTML object>",
      "text/html": "<h1 style='text-align:center;'>Logistic Regression Results</h1><pre style='text-align:center; font-family:monospace;'>Dep. Variable:         GRADE    Df Model:                  3\nObservations:             32    Pseudo R-squared:      0.374\nModel:                 Logit    Log-Likelihood:       -12.89\nMethod:                  MLE    LL-Null:             -20.592\nDf Residuals:             28    LLR p-value:           0.002\n\n          Variable Coefficient Std-Error Wald Z-Statistic P>|t|  Conf. Interval          \n         -----------------------------------------------------------------------         \n         Intercept   -13.021     4.931        -2.641      0.008 -22.687 - -3.356         \n            GPA       2.826      1.263        2.238       0.025  0.351 - 5.301           \n            TUCE      0.095      0.142        0.672       0.501  -0.182 - 0.373          \n            PSI       2.379      1.065        2.234       0.025  0.292 - 4.465           \n</pre>"
     },
     "metadata": {},
     "output_type": "display_data"
    }
   ],
   "source": [
    "m = LogReg(df=df,\n",
    "           outcome=\"GRADE\",\n",
    "           independent=[\"GPA\", \"TUCE\", \"PSI\"])\n",
    "\n",
    "m.summary()"
   ],
   "metadata": {
    "collapsed": false,
    "ExecuteTime": {
     "end_time": "2024-01-05T23:25:30.138193Z",
     "start_time": "2024-01-05T23:25:30.126613Z"
    }
   },
   "id": "d97e2df811965452"
  },
  {
   "cell_type": "code",
   "execution_count": 7,
   "outputs": [
    {
     "data": {
      "text/plain": "array([0.02657799])"
     },
     "execution_count": 7,
     "metadata": {},
     "output_type": "execute_result"
    }
   ],
   "source": [
    "\n",
    "m.predict(np.array([2.66, 20, 0]))"
   ],
   "metadata": {
    "collapsed": false,
    "ExecuteTime": {
     "end_time": "2024-01-05T23:25:32.524348Z",
     "start_time": "2024-01-05T23:25:32.516167Z"
    }
   },
   "id": "846cf631889d6ae3"
  },
  {
   "cell_type": "code",
   "execution_count": 8,
   "outputs": [
    {
     "data": {
      "text/plain": "array([0])"
     },
     "execution_count": 8,
     "metadata": {},
     "output_type": "execute_result"
    }
   ],
   "source": [
    "m.predict_class(np.array([2.66, 20, 0]))"
   ],
   "metadata": {
    "collapsed": false,
    "ExecuteTime": {
     "end_time": "2024-01-05T23:25:33.678638Z",
     "start_time": "2024-01-05T23:25:33.670243Z"
    }
   },
   "id": "f4fa8a70c6a7084"
  },
  {
   "cell_type": "code",
   "execution_count": 9,
   "outputs": [
    {
     "data": {
      "text/plain": "array([0.02657799, 0.05950125, 0.18725993, 0.02590164, 0.56989295,\n       0.03485827, 0.02650406, 0.051559  , 0.11112666, 0.69351131,\n       0.02447037, 0.18999744, 0.32223955, 0.19321116, 0.36098992,\n       0.03018375, 0.05362641, 0.03858834, 0.58987249, 0.66078584,\n       0.06137585, 0.90484727, 0.24177245, 0.85209089, 0.83829051,\n       0.48113304, 0.63542059, 0.30721866, 0.84170413, 0.94534025,\n       0.5291172 , 0.11103084])"
     },
     "execution_count": 9,
     "metadata": {},
     "output_type": "execute_result"
    }
   ],
   "source": [
    "m.fitted_values()"
   ],
   "metadata": {
    "collapsed": false,
    "ExecuteTime": {
     "end_time": "2024-01-05T23:25:34.128469Z",
     "start_time": "2024-01-05T23:25:34.120447Z"
    }
   },
   "id": "e904bfea6977a903"
  },
  {
   "cell_type": "code",
   "execution_count": 10,
   "outputs": [
    {
     "data": {
      "text/plain": "array([-0.16523822, -0.25152662, -0.48000592, -0.16306554, -0.15108757,\n       -0.1900454 , -0.16500196, -0.23315626, -0.35358121, -0.50424836,\n       -0.15837989, -0.48431807, -0.68952706,  0.51063132, -0.75161196,\n       -0.1764176 , -0.23804445, -0.20034261, -1.19927733, -0.39570416,\n       -0.25571305, -2.08373478, -0.56468159, -2.40018928, -1.27682431,\n        0.03704813, -0.32018433, -0.66592558, -1.30592369, -3.15872565,\n       -1.06003334,  0.6465903 ])"
     },
     "execution_count": 10,
     "metadata": {},
     "output_type": "execute_result"
    }
   ],
   "source": [
    "m.residuals()"
   ],
   "metadata": {
    "collapsed": false,
    "ExecuteTime": {
     "end_time": "2024-01-05T23:25:34.799733Z",
     "start_time": "2024-01-05T23:25:34.790743Z"
    }
   },
   "id": "b8b66b5e1b85961d"
  },
  {
   "cell_type": "code",
   "execution_count": null,
   "outputs": [],
   "source": [],
   "metadata": {
    "collapsed": false
   },
   "id": "bef608deb1b26d5b"
  }
 ],
 "metadata": {
  "kernelspec": {
   "display_name": "Python 3",
   "language": "python",
   "name": "python3"
  },
  "language_info": {
   "codemirror_mode": {
    "name": "ipython",
    "version": 2
   },
   "file_extension": ".py",
   "mimetype": "text/x-python",
   "name": "python",
   "nbconvert_exporter": "python",
   "pygments_lexer": "ipython2",
   "version": "2.7.6"
  }
 },
 "nbformat": 4,
 "nbformat_minor": 5
}
