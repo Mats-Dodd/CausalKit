{
 "cells": [
  {
   "cell_type": "code",
   "execution_count": 1,
   "id": "initial_id",
   "metadata": {
    "collapsed": true,
    "ExecuteTime": {
     "end_time": "2024-01-06T00:11:12.519672Z",
     "start_time": "2024-01-06T00:11:11.591566Z"
    }
   },
   "outputs": [],
   "source": [
    "import numpy as np\n",
    "\n",
    "from src.models.logreg import LogReg\n",
    "\n",
    "import statsmodels.api as sm\n",
    "import statsmodels.formula.api as smf"
   ]
  },
  {
   "cell_type": "code",
   "execution_count": 2,
   "outputs": [
    {
     "name": "stdout",
     "output_type": "stream",
     "text": [
      "::\n",
      "\n",
      "    Number of Observations - 32\n",
      "\n",
      "    Number of Variables - 4\n",
      "\n",
      "    Variable name definitions::\n",
      "\n",
      "        Grade - binary variable indicating whether or not a student's grade\n",
      "                improved.  1 indicates an improvement.\n",
      "        TUCE  - Test score on economics test\n",
      "        PSI   - participation in program\n",
      "        GPA   - Student's grade point average\n"
     ]
    }
   ],
   "source": [
    "df = sm.datasets.spector.load_pandas().data\n",
    "# Look at info on data\n",
    "print(sm.datasets.spector.NOTE)"
   ],
   "metadata": {
    "collapsed": false,
    "ExecuteTime": {
     "end_time": "2024-01-06T00:11:12.530681Z",
     "start_time": "2024-01-06T00:11:12.521039Z"
    }
   },
   "id": "24d2ef121e0e07ac"
  },
  {
   "cell_type": "code",
   "execution_count": 3,
   "outputs": [
    {
     "data": {
      "text/plain": "     GPA  TUCE  PSI  GRADE\n0   2.66  20.0  0.0    0.0\n1   2.89  22.0  0.0    0.0\n2   3.28  24.0  0.0    0.0\n3   2.92  12.0  0.0    0.0\n4   4.00  21.0  0.0    1.0\n5   2.86  17.0  0.0    0.0\n6   2.76  17.0  0.0    0.0\n7   2.87  21.0  0.0    0.0\n8   3.03  25.0  0.0    0.0\n9   3.92  29.0  0.0    1.0\n10  2.63  20.0  0.0    0.0\n11  3.32  23.0  0.0    0.0\n12  3.57  23.0  0.0    0.0\n13  3.26  25.0  0.0    1.0\n14  3.53  26.0  0.0    0.0\n15  2.74  19.0  0.0    0.0\n16  2.75  25.0  0.0    0.0\n17  2.83  19.0  0.0    0.0\n18  3.12  23.0  1.0    0.0\n19  3.16  25.0  1.0    1.0\n20  2.06  22.0  1.0    0.0\n21  3.62  28.0  1.0    1.0\n22  2.89  14.0  1.0    0.0\n23  3.51  26.0  1.0    0.0\n24  3.54  24.0  1.0    1.0\n25  2.83  27.0  1.0    1.0\n26  3.39  17.0  1.0    1.0\n27  2.67  24.0  1.0    0.0\n28  3.65  21.0  1.0    1.0\n29  4.00  23.0  1.0    1.0\n30  3.10  21.0  1.0    0.0\n31  2.39  19.0  1.0    1.0",
      "text/html": "<div>\n<style scoped>\n    .dataframe tbody tr th:only-of-type {\n        vertical-align: middle;\n    }\n\n    .dataframe tbody tr th {\n        vertical-align: top;\n    }\n\n    .dataframe thead th {\n        text-align: right;\n    }\n</style>\n<table border=\"1\" class=\"dataframe\">\n  <thead>\n    <tr style=\"text-align: right;\">\n      <th></th>\n      <th>GPA</th>\n      <th>TUCE</th>\n      <th>PSI</th>\n      <th>GRADE</th>\n    </tr>\n  </thead>\n  <tbody>\n    <tr>\n      <th>0</th>\n      <td>2.66</td>\n      <td>20.0</td>\n      <td>0.0</td>\n      <td>0.0</td>\n    </tr>\n    <tr>\n      <th>1</th>\n      <td>2.89</td>\n      <td>22.0</td>\n      <td>0.0</td>\n      <td>0.0</td>\n    </tr>\n    <tr>\n      <th>2</th>\n      <td>3.28</td>\n      <td>24.0</td>\n      <td>0.0</td>\n      <td>0.0</td>\n    </tr>\n    <tr>\n      <th>3</th>\n      <td>2.92</td>\n      <td>12.0</td>\n      <td>0.0</td>\n      <td>0.0</td>\n    </tr>\n    <tr>\n      <th>4</th>\n      <td>4.00</td>\n      <td>21.0</td>\n      <td>0.0</td>\n      <td>1.0</td>\n    </tr>\n    <tr>\n      <th>5</th>\n      <td>2.86</td>\n      <td>17.0</td>\n      <td>0.0</td>\n      <td>0.0</td>\n    </tr>\n    <tr>\n      <th>6</th>\n      <td>2.76</td>\n      <td>17.0</td>\n      <td>0.0</td>\n      <td>0.0</td>\n    </tr>\n    <tr>\n      <th>7</th>\n      <td>2.87</td>\n      <td>21.0</td>\n      <td>0.0</td>\n      <td>0.0</td>\n    </tr>\n    <tr>\n      <th>8</th>\n      <td>3.03</td>\n      <td>25.0</td>\n      <td>0.0</td>\n      <td>0.0</td>\n    </tr>\n    <tr>\n      <th>9</th>\n      <td>3.92</td>\n      <td>29.0</td>\n      <td>0.0</td>\n      <td>1.0</td>\n    </tr>\n    <tr>\n      <th>10</th>\n      <td>2.63</td>\n      <td>20.0</td>\n      <td>0.0</td>\n      <td>0.0</td>\n    </tr>\n    <tr>\n      <th>11</th>\n      <td>3.32</td>\n      <td>23.0</td>\n      <td>0.0</td>\n      <td>0.0</td>\n    </tr>\n    <tr>\n      <th>12</th>\n      <td>3.57</td>\n      <td>23.0</td>\n      <td>0.0</td>\n      <td>0.0</td>\n    </tr>\n    <tr>\n      <th>13</th>\n      <td>3.26</td>\n      <td>25.0</td>\n      <td>0.0</td>\n      <td>1.0</td>\n    </tr>\n    <tr>\n      <th>14</th>\n      <td>3.53</td>\n      <td>26.0</td>\n      <td>0.0</td>\n      <td>0.0</td>\n    </tr>\n    <tr>\n      <th>15</th>\n      <td>2.74</td>\n      <td>19.0</td>\n      <td>0.0</td>\n      <td>0.0</td>\n    </tr>\n    <tr>\n      <th>16</th>\n      <td>2.75</td>\n      <td>25.0</td>\n      <td>0.0</td>\n      <td>0.0</td>\n    </tr>\n    <tr>\n      <th>17</th>\n      <td>2.83</td>\n      <td>19.0</td>\n      <td>0.0</td>\n      <td>0.0</td>\n    </tr>\n    <tr>\n      <th>18</th>\n      <td>3.12</td>\n      <td>23.0</td>\n      <td>1.0</td>\n      <td>0.0</td>\n    </tr>\n    <tr>\n      <th>19</th>\n      <td>3.16</td>\n      <td>25.0</td>\n      <td>1.0</td>\n      <td>1.0</td>\n    </tr>\n    <tr>\n      <th>20</th>\n      <td>2.06</td>\n      <td>22.0</td>\n      <td>1.0</td>\n      <td>0.0</td>\n    </tr>\n    <tr>\n      <th>21</th>\n      <td>3.62</td>\n      <td>28.0</td>\n      <td>1.0</td>\n      <td>1.0</td>\n    </tr>\n    <tr>\n      <th>22</th>\n      <td>2.89</td>\n      <td>14.0</td>\n      <td>1.0</td>\n      <td>0.0</td>\n    </tr>\n    <tr>\n      <th>23</th>\n      <td>3.51</td>\n      <td>26.0</td>\n      <td>1.0</td>\n      <td>0.0</td>\n    </tr>\n    <tr>\n      <th>24</th>\n      <td>3.54</td>\n      <td>24.0</td>\n      <td>1.0</td>\n      <td>1.0</td>\n    </tr>\n    <tr>\n      <th>25</th>\n      <td>2.83</td>\n      <td>27.0</td>\n      <td>1.0</td>\n      <td>1.0</td>\n    </tr>\n    <tr>\n      <th>26</th>\n      <td>3.39</td>\n      <td>17.0</td>\n      <td>1.0</td>\n      <td>1.0</td>\n    </tr>\n    <tr>\n      <th>27</th>\n      <td>2.67</td>\n      <td>24.0</td>\n      <td>1.0</td>\n      <td>0.0</td>\n    </tr>\n    <tr>\n      <th>28</th>\n      <td>3.65</td>\n      <td>21.0</td>\n      <td>1.0</td>\n      <td>1.0</td>\n    </tr>\n    <tr>\n      <th>29</th>\n      <td>4.00</td>\n      <td>23.0</td>\n      <td>1.0</td>\n      <td>1.0</td>\n    </tr>\n    <tr>\n      <th>30</th>\n      <td>3.10</td>\n      <td>21.0</td>\n      <td>1.0</td>\n      <td>0.0</td>\n    </tr>\n    <tr>\n      <th>31</th>\n      <td>2.39</td>\n      <td>19.0</td>\n      <td>1.0</td>\n      <td>1.0</td>\n    </tr>\n  </tbody>\n</table>\n</div>"
     },
     "execution_count": 3,
     "metadata": {},
     "output_type": "execute_result"
    }
   ],
   "source": [
    "df"
   ],
   "metadata": {
    "collapsed": false,
    "ExecuteTime": {
     "end_time": "2024-01-06T00:11:12.563349Z",
     "start_time": "2024-01-06T00:11:12.531508Z"
    }
   },
   "id": "5cea52a2c89aea15"
  },
  {
   "cell_type": "code",
   "execution_count": 4,
   "outputs": [
    {
     "name": "stdout",
     "output_type": "stream",
     "text": [
      "Optimization terminated successfully.\n",
      "         Current function value: 0.402801\n",
      "         Iterations 7\n",
      "                           Logit Regression Results                           \n",
      "==============================================================================\n",
      "Dep. Variable:                  GRADE   No. Observations:                   32\n",
      "Model:                          Logit   Df Residuals:                       28\n",
      "Method:                           MLE   Df Model:                            3\n",
      "Date:                Sat, 06 Jan 2024   Pseudo R-squ.:                  0.3740\n",
      "Time:                        01:11:12   Log-Likelihood:                -12.890\n",
      "converged:                       True   LL-Null:                       -20.592\n",
      "Covariance Type:            nonrobust   LLR p-value:                  0.001502\n",
      "==============================================================================\n",
      "                 coef    std err          z      P>|z|      [0.025      0.975]\n",
      "------------------------------------------------------------------------------\n",
      "Intercept    -13.0213      4.931     -2.641      0.008     -22.687      -3.356\n",
      "GPA            2.8261      1.263      2.238      0.025       0.351       5.301\n",
      "TUCE           0.0952      0.142      0.672      0.501      -0.182       0.373\n",
      "PSI            2.3787      1.065      2.234      0.025       0.292       4.465\n",
      "==============================================================================\n"
     ]
    }
   ],
   "source": [
    "\n",
    "\n",
    "res_logit = smf.logit(\"GRADE ~ GPA + TUCE + PSI\", data=df).fit()\n",
    "print(res_logit.summary())"
   ],
   "metadata": {
    "collapsed": false,
    "ExecuteTime": {
     "end_time": "2024-01-06T00:11:12.564130Z",
     "start_time": "2024-01-06T00:11:12.550021Z"
    }
   },
   "id": "71aaf0844bd41961"
  },
  {
   "cell_type": "code",
   "execution_count": 5,
   "outputs": [
    {
     "name": "stdout",
     "output_type": "stream",
     "text": [
      "        Logit Marginal Effects       \n",
      "=====================================\n",
      "Dep. Variable:                  GRADE\n",
      "Method:                          dydx\n",
      "At:                              mean\n",
      "==============================================================================\n",
      "                dy/dx    std err          z      P>|z|      [0.025      0.975]\n",
      "------------------------------------------------------------------------------\n",
      "GPA            0.5339      0.237      2.252      0.024       0.069       0.998\n",
      "TUCE           0.0180      0.026      0.685      0.493      -0.033       0.069\n",
      "PSI            0.4493      0.197      2.284      0.022       0.064       0.835\n",
      "==============================================================================\n"
     ]
    }
   ],
   "source": [
    "marg_effect = res_logit.get_margeff(at=\"mean\", method=\"dydx\")\n",
    "print(marg_effect.summary())"
   ],
   "metadata": {
    "collapsed": false,
    "ExecuteTime": {
     "end_time": "2024-01-06T00:11:12.579224Z",
     "start_time": "2024-01-06T00:11:12.572659Z"
    }
   },
   "id": "b961bcab39152fd7"
  },
  {
   "cell_type": "code",
   "execution_count": 6,
   "outputs": [
    {
     "name": "stdout",
     "output_type": "stream",
     "text": [
      "Converged in 6 iterations.\n"
     ]
    },
    {
     "data": {
      "text/plain": "   Intercept       GPA      TUCE       PSI\n0  -2.459761  0.533859  0.017975  0.449339",
      "text/html": "<div>\n<style scoped>\n    .dataframe tbody tr th:only-of-type {\n        vertical-align: middle;\n    }\n\n    .dataframe tbody tr th {\n        vertical-align: top;\n    }\n\n    .dataframe thead th {\n        text-align: right;\n    }\n</style>\n<table border=\"1\" class=\"dataframe\">\n  <thead>\n    <tr style=\"text-align: right;\">\n      <th></th>\n      <th>Intercept</th>\n      <th>GPA</th>\n      <th>TUCE</th>\n      <th>PSI</th>\n    </tr>\n  </thead>\n  <tbody>\n    <tr>\n      <th>0</th>\n      <td>-2.459761</td>\n      <td>0.533859</td>\n      <td>0.017975</td>\n      <td>0.449339</td>\n    </tr>\n  </tbody>\n</table>\n</div>"
     },
     "execution_count": 6,
     "metadata": {},
     "output_type": "execute_result"
    }
   ],
   "source": [
    "m = LogReg(df=df,\n",
    "           outcome=\"GRADE\",\n",
    "           independent=[\"GPA\", \"TUCE\", \"PSI\"])\n",
    "\n",
    "m.marginal_effects(at=\"mean\", method=\"dydx\")"
   ],
   "metadata": {
    "collapsed": false,
    "ExecuteTime": {
     "end_time": "2024-01-06T00:11:13.186866Z",
     "start_time": "2024-01-06T00:11:13.173006Z"
    }
   },
   "id": "d97e2df811965452"
  },
  {
   "cell_type": "code",
   "execution_count": 7,
   "outputs": [
    {
     "data": {
      "text/plain": "array([-13.02134686,   2.82611259,   0.09515766,   2.37868766])"
     },
     "execution_count": 7,
     "metadata": {},
     "output_type": "execute_result"
    }
   ],
   "source": [
    "m.coefficients"
   ],
   "metadata": {
    "collapsed": false,
    "ExecuteTime": {
     "end_time": "2024-01-06T00:05:49.976574Z",
     "start_time": "2024-01-06T00:05:49.971658Z"
    }
   },
   "id": "2d67ab195295a853"
  },
  {
   "cell_type": "code",
   "execution_count": 8,
   "outputs": [
    {
     "data": {
      "text/plain": "array([[   4.1054934 ,   13.33167023,   93.81061211,    2.28159465],\n       [  13.33167023,   44.03652826,  306.22633145,    7.10687673],\n       [  93.81061211,  306.22633145, 2197.39964968,   50.82349704],\n       [   2.28159465,    7.10687673,   50.82349704,    2.28159465]])"
     },
     "execution_count": 8,
     "metadata": {},
     "output_type": "execute_result"
    }
   ],
   "source": [
    "m.hessian"
   ],
   "metadata": {
    "collapsed": false,
    "ExecuteTime": {
     "end_time": "2024-01-06T00:05:54.517941Z",
     "start_time": "2024-01-06T00:05:54.499947Z"
    }
   },
   "id": "e31d87fcf48736c2"
  },
  {
   "cell_type": "code",
   "execution_count": 9,
   "outputs": [
    {
     "data": {
      "text/plain": "array([[ 2.43179585e+01, -4.57347866e+00, -3.46255709e-01,\n        -2.35916089e+00],\n       [-4.57347866e+00,  1.59502016e+00, -3.69205768e-02,\n         4.27615656e-01],\n       [-3.46255709e-01, -3.69205768e-02,  2.00375931e-02,\n         1.49126418e-02],\n       [-2.35916089e+00,  4.27615656e-01,  1.49126418e-02,\n         1.13329705e+00]])"
     },
     "execution_count": 9,
     "metadata": {},
     "output_type": "execute_result"
    }
   ],
   "source": [
    "m.hessian_inv"
   ],
   "metadata": {
    "collapsed": false,
    "ExecuteTime": {
     "end_time": "2024-01-06T00:05:57.915806Z",
     "start_time": "2024-01-06T00:05:57.895793Z"
    }
   },
   "id": "130ef8f823ba6f99"
  },
  {
   "cell_type": "code",
   "execution_count": null,
   "outputs": [],
   "source": [],
   "metadata": {
    "collapsed": false
   },
   "id": "37f16e7c500930c3"
  }
 ],
 "metadata": {
  "kernelspec": {
   "display_name": "Python 3",
   "language": "python",
   "name": "python3"
  },
  "language_info": {
   "codemirror_mode": {
    "name": "ipython",
    "version": 2
   },
   "file_extension": ".py",
   "mimetype": "text/x-python",
   "name": "python",
   "nbconvert_exporter": "python",
   "pygments_lexer": "ipython2",
   "version": "2.7.6"
  }
 },
 "nbformat": 4,
 "nbformat_minor": 5
}
