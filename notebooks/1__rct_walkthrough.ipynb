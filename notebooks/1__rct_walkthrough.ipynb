{
 "cells": [
  {
   "cell_type": "code",
   "execution_count": 1,
   "id": "initial_id",
   "metadata": {
    "collapsed": true,
    "ExecuteTime": {
     "end_time": "2024-01-06T17:54:33.198950Z",
     "start_time": "2024-01-06T17:54:32.113439Z"
    }
   },
   "outputs": [],
   "source": [
    "from src.models.linreg import LinReg\n",
    "from src.displays.display_linear import display_models\n",
    "\n",
    "import pandas as pd"
   ]
  },
  {
   "cell_type": "markdown",
   "source": [
    "## Example with Real Data"
   ],
   "metadata": {
    "collapsed": false
   },
   "id": "38f0682aaa49d9fd"
  },
  {
   "cell_type": "code",
   "execution_count": 2,
   "outputs": [
    {
     "name": "stdout",
     "output_type": "stream",
     "text": [
      "The data has 1616 rows and 6 columns.\n"
     ]
    },
    {
     "data": {
      "text/plain": "   assist  age  educ  female   housing   mhealth\n0       0   21     1       1  0.387853 -0.348691\n1       0   54     1       1  0.274780  1.262136\n2       0   33     1       1  0.600904 -0.026526\n3       0   40     1       1  0.312471 -0.026526\n4       0   75     0       0  1.426678  0.939971",
      "text/html": "<div>\n<style scoped>\n    .dataframe tbody tr th:only-of-type {\n        vertical-align: middle;\n    }\n\n    .dataframe tbody tr th {\n        vertical-align: top;\n    }\n\n    .dataframe thead th {\n        text-align: right;\n    }\n</style>\n<table border=\"1\" class=\"dataframe\">\n  <thead>\n    <tr style=\"text-align: right;\">\n      <th></th>\n      <th>assist</th>\n      <th>age</th>\n      <th>educ</th>\n      <th>female</th>\n      <th>housing</th>\n      <th>mhealth</th>\n    </tr>\n  </thead>\n  <tbody>\n    <tr>\n      <th>0</th>\n      <td>0</td>\n      <td>21</td>\n      <td>1</td>\n      <td>1</td>\n      <td>0.387853</td>\n      <td>-0.348691</td>\n    </tr>\n    <tr>\n      <th>1</th>\n      <td>0</td>\n      <td>54</td>\n      <td>1</td>\n      <td>1</td>\n      <td>0.274780</td>\n      <td>1.262136</td>\n    </tr>\n    <tr>\n      <th>2</th>\n      <td>0</td>\n      <td>33</td>\n      <td>1</td>\n      <td>1</td>\n      <td>0.600904</td>\n      <td>-0.026526</td>\n    </tr>\n    <tr>\n      <th>3</th>\n      <td>0</td>\n      <td>40</td>\n      <td>1</td>\n      <td>1</td>\n      <td>0.312471</td>\n      <td>-0.026526</td>\n    </tr>\n    <tr>\n      <th>4</th>\n      <td>0</td>\n      <td>75</td>\n      <td>0</td>\n      <td>0</td>\n      <td>1.426678</td>\n      <td>0.939971</td>\n    </tr>\n  </tbody>\n</table>\n</div>"
     },
     "execution_count": 2,
     "metadata": {},
     "output_type": "execute_result"
    }
   ],
   "source": [
    "\"\"\"Load the data\"\"\"\n",
    "df = pd.read_csv('../data/housing_health_mock.csv')\n",
    "print(f'The data has {df.shape[0]} rows and {df.shape[1]} columns.')\n",
    "df.head()\n"
   ],
   "metadata": {
    "collapsed": false,
    "ExecuteTime": {
     "end_time": "2024-01-06T17:54:33.215203Z",
     "start_time": "2024-01-06T17:54:33.200896Z"
    }
   },
   "id": "2cd760f2d10f99eb"
  },
  {
   "cell_type": "markdown",
   "source": [
    "The Data shows the results for a randomized control trial of a government intervention program.  Specifically, it measured covariates pre assistance on age, education and gender.  It then split the population into a treatment and control group.  The treatment group received the government assistance and the control group did not.  The dataset has two outcome variables, housing qualty and meantal health score.  These are both scaled to have mean zero and standard deviation one.  The data is simulated, but the results are based on real data.\n"
   ],
   "metadata": {
    "collapsed": false
   },
   "id": "53f412719000a062"
  },
  {
   "cell_type": "code",
   "execution_count": 3,
   "outputs": [
    {
     "data": {
      "text/plain": "<IPython.core.display.HTML object>",
      "text/html": "<div style='text-align: center; font-family: monospace;'><span style='display: inline-block; width: 100px;'>Variable</span><span style='display: inline-block; width: 70px;'>Model 1</span><span style='display: inline-block; width: 70px;'>Model 2</span><span style='display: inline-block; width: 70px;'>Model 3</span></div><div style='text-align: center; font-family: monospace;'><span style='display: inline-block; width: 310px; border-bottom: 1px dotted;'>&nbsp;</span></div><div style='text-align: center; font-family: monospace;'><span style='display: inline-block; width: 100px;'>Intercept</span><span style='display: inline-block; width: 70px; text-align: center;'>38.938***<br><span style='font-size: 0.8em;'>(0.389)</span></span><span style='display: inline-block; width: 70px; text-align: center;'>0.576***<br><span style='font-size: 0.8em;'>(0.018)</span></span><span style='display: inline-block; width: 70px; text-align: center;'>0.515***<br><span style='font-size: 0.8em;'>(0.018)</span></span></div><div style='text-align: center; font-family: monospace;'><span style='display: inline-block; width: 100px;'>assist</span><span style='display: inline-block; width: 70px; text-align: center;'>-0.183<br><span style='font-size: 0.8em;'>(0.552)</span></span><span style='display: inline-block; width: 70px; text-align: center;'>-0.008<br><span style='font-size: 0.8em;'>(0.025)</span></span><span style='display: inline-block; width: 70px; text-align: center;'>-0.053**<br><span style='font-size: 0.8em;'>(0.025)</span></span></div><div style='text-align: center; font-family: monospace;'><span style='display: inline-block; width: 310px; border-bottom: 1px dotted;'>&nbsp;</span></div><div style='text-align: center; font-family: monospace;'><span style='display: inline-block; width: 100px;'>Outcome</span><span style='display: inline-block; width: 70px; text-align: center;'>age</span><span style='display: inline-block; width: 70px; text-align: center;'>educ</span><span style='display: inline-block; width: 70px; text-align: center;'>female</span></div><div style='text-align: center; font-family: monospace;'><span style='display: inline-block; width: 310px; border-bottom: 1px dotted;'>&nbsp;</span></div><div style='text-align: center; font-family: monospace;'><span style='display: inline-block; width: 100px;'>Observations</span><span style='display: inline-block; width: 70px; text-align: center;'>1616</span><span style='display: inline-block; width: 70px; text-align: center;'>1616</span><span style='display: inline-block; width: 70px; text-align: center;'>1616</span></div><div style='text-align: center; font-family: monospace;'><span style='display: inline-block; width: 100px;'>R^2</span><span style='display: inline-block; width: 70px; text-align: center;'>0.0</span><span style='display: inline-block; width: 70px; text-align: center;'>0.0</span><span style='display: inline-block; width: 70px; text-align: center;'>0.003</span></div><div style='text-align: center; font-family: monospace;'><span style='display: inline-block; width: 100px;'>Adj. R^2</span><span style='display: inline-block; width: 70px; text-align: center;'>-0.001</span><span style='display: inline-block; width: 70px; text-align: center;'>-0.001</span><span style='display: inline-block; width: 70px; text-align: center;'>0.002</span></div><div style='text-align: center; font-family: monospace;'><span style='display: inline-block; width: 100px;'>F-statistic</span><span style='display: inline-block; width: 70px; text-align: center;'>0.11</span><span style='display: inline-block; width: 70px; text-align: center;'>0.105</span><span style='display: inline-block; width: 70px; text-align: center;'>4.499</span></div><div style='text-align: center; font-family: monospace;'><span style='display: inline-block; width: 100px;'>Prob (F)</span><span style='display: inline-block; width: 70px; text-align: center;'>0.741</span><span style='display: inline-block; width: 70px; text-align: center;'>0.745</span><span style='display: inline-block; width: 70px; text-align: center;'>0.034</span></div><div style='text-align: center; font-family: monospace;'><span style='display: inline-block; width: 310px; border-bottom: 1px dotted;'>&nbsp;</span></div><div style='text-align: center; font-family: monospace; font-size: 0.8em;'>* p < 0.1, ** p < 0.05, *** p < 0.01</div>"
     },
     "metadata": {},
     "output_type": "display_data"
    }
   ],
   "source": [
    "\"\"\"Do a randomization check\"\"\"\n",
    "age_check = LinReg(df=df, outcome=\"age\", independent=[\"assist\"], standard_error_type='hc0')\n",
    "educ_check = LinReg(df=df, outcome=\"educ\", independent=[\"assist\"], standard_error_type='hc0')\n",
    "gender_check = LinReg(df=df, outcome=\"female\", independent=[\"assist\"], standard_error_type='hc0')\n",
    "display_models([age_check,educ_check,gender_check])\n"
   ],
   "metadata": {
    "collapsed": false,
    "ExecuteTime": {
     "end_time": "2024-01-05T23:10:36.566128Z",
     "start_time": "2024-01-05T23:10:36.479632Z"
    }
   },
   "id": "9e822b40eadc39bd"
  },
  {
   "cell_type": "code",
   "execution_count": 4,
   "outputs": [
    {
     "data": {
      "text/plain": "<IPython.core.display.HTML object>",
      "text/html": "<h2 style='text-align: center;'>Regression Results</h2><div class='model-container'><div class='model-column'>\n                    <div class='model-row'>\n                        <div class=\"model-header\">\n                            <div class=\"hover-box\">\n                                Dep. Variable:\n                                <div class=\"hover-content\">\n                The dependent variable/outcome is the main variable of interest you are trying to \n                explain or predict. It is the outcome that changes in response to the independent variables. In a \n                regression model, this is what you are modeling as a function of other variables.</div>\n                            </div>\n                        </div>\n                        <div class='model-data'>age</div>\n                    </div>\n                    \n                    <div class='model-row'>\n                        <div class=\"model-header\">\n                            <div class=\"hover-box\">\n                                Observations:\n                                <div class=\"hover-content\">\n                This refers to the number of data points or individual records used in your regression to estimate the \n                model parameters. A higher number of observations can provide more information, but it's also important \n                that these observations are representative of the population.</div>\n                            </div>\n                        </div>\n                        <div class='model-data'>1616</div>\n                    </div>\n                    \n                    <div class='model-row'>\n                        <div class=\"model-header\">\n                            <div class=\"hover-box\">\n                                Standard Error Type:\n                                <div class=\"hover-content\">\n                The standard error type indicates the measurement of variability for coefficient estimates. Different \n                types (like robust standard errors) can be chosen based on data characteristics. In practice, if \n                there's suspicion of heteroskedasticity, using robust standard errors is a common approach</div>\n                            </div>\n                        </div>\n                        <div class='model-data'>hc0</div>\n                    </div>\n                    \n                    <div class='model-row'>\n                        <div class=\"model-header\">\n                            <div class=\"hover-box\">\n                                R-squared:\n                                <div class=\"hover-content\">\n                R-squared is a statistical measure that represents the proportion of the variance in the dependent \n                variable that is predictable from the independent variables. It ranges from 0 to 1, with higher values \n                indicating a better fit of the model. It's a quick way to see how well your model explains the \n                variation in the data.</div>\n                            </div>\n                        </div>\n                        <div class='model-data'>0.0</div>\n                    </div>\n                    \n                    <div class='model-row'>\n                        <div class=\"model-header\">\n                            <div class=\"hover-box\">\n                                Adj. R-squared:\n                                <div class=\"hover-content\">\n                Adjusted for the number of predictors, it provides a more accurate measure of the model's explanatory \n                power. It's lower than R-squared, penalizing excessive use of unhelpful predictors. Ideally,\n                 Adj. R-squared should be close to the R-squared value for a well-specified model.</div>\n                            </div>\n                        </div>\n                        <div class='model-data'>-0.001</div>\n                    </div>\n                    \n                    <div class='model-row'>\n                        <div class=\"model-header\">\n                            <div class=\"hover-box\">\n                                Log-Likelihood:\n                                <div class=\"hover-content\">\n                Reflects the likelihood of observing the given data under the model. Higher values \n                indicate better model fit. In model comparisons, a higher log-likelihood generally signifies a better \n                model, especially when comparing models with a similar number of parameters.</div>\n                            </div>\n                        </div>\n                        <div class='model-data'>-6181.537</div>\n                    </div>\n                    </div><div class='model-column'>\n                    <div class='model-row'>\n                        <div class=\"model-header\">\n                            <div class=\"hover-box\">\n                                AIC:\n                                <div class=\"hover-content\">\n                Balances model fit and complexity, penalizing extra parameters. Lower AIC suggests a better model. \n                A rule of thumb is that a difference in AIC values of more than 2 indicates a noticeable difference in\n                 model quality.</div>\n                            </div>\n                        </div>\n                        <div class='model-data'>12367.074</div>\n                    </div>\n                    \n                    <div class='model-row'>\n                        <div class=\"model-header\">\n                            <div class=\"hover-box\">\n                                BIC:\n                                <div class=\"hover-content\">\n                Similar to AIC, but with a stricter penalty for model complexity. Lower BIC values indicate a \n                better model. BIC is particularly useful in larger datasets and when comparing models with different \n                numbers of parameters.</div>\n                            </div>\n                        </div>\n                        <div class='model-data'>12377.849</div>\n                    </div>\n                    \n                    <div class='model-row'>\n                        <div class=\"model-header\">\n                            <div class=\"hover-box\">\n                                Adj. AIC:\n                                <div class=\"hover-content\">\n            Adjusts AIC for sample size. Like AIC, lower values suggest a better model. This adjustment is especially \n            important in smaller samples or when comparing models with vastly different numbers of observations.</div>\n                            </div>\n                        </div>\n                        <div class='model-data'>12367.081</div>\n                    </div>\n                    \n                    <div class='model-row'>\n                        <div class=\"model-header\">\n                            <div class=\"hover-box\">\n                                Adj. BIC:\n                                <div class=\"hover-content\">\n            Adjusts BIC for sample size, useful in smaller datasets. Lower values indicate a better \n            model. Adjusted BIC is crucial for small sample sizes, providing a more accurate comparison of models.</div>\n                            </div>\n                        </div>\n                        <div class='model-data'>12377.877</div>\n                    </div>\n                    \n                    <div class='model-row'>\n                        <div class=\"model-header\">\n                            <div class=\"hover-box\">\n                                F-statistic:\n                                <div class=\"hover-content\">\n            Tests the overall significance of the model. A higher value indicates a better model. As a rule of thumb,\n             an F-statistic greater than 10 is often considered indicative of a strong relationship between the \n             dependent and independent variables.</div>\n                            </div>\n                        </div>\n                        <div class='model-data'>0.11</div>\n                    </div>\n                    \n                    <div class='model-row'>\n                        <div class=\"model-header\">\n                            <div class=\"hover-box\">\n                                Prob (F-statistic):\n                                <div class=\"hover-content\">Indicates the probability of observing the given F-statistic if no independent \n            variables affect the dependent variable. Lower values suggest significant model fit. Typically, a \n            Prob (F-statistic) less than 0.05 indicates that the model is statistically significant.</div>\n                            </div>\n                        </div>\n                        <div class='model-data'>0.741</div>\n                    </div>\n                    </div></div></div><hr style='border-style: dashed;'>\n            <style>\n                .model-container {\n                    display: flex;\n                    justify-content: center;\n                    margin-bottom: 20px;\n                }\n            \n                .model-column {\n                    display: flex;\n                    flex-direction: column;\n                    margin-right: 10px;\n                }\n            \n                .model-row {\n                    display: flex;\n                    align-items: center;\n                    margin-bottom: 5px;\n                }\n            \n                .model-header {\n                    min-width: 150px; /* Adjust this value as needed for alignment */\n                }\n            \n                .model-header .hover-box {\n                    cursor: pointer;\n                    position: relative;\n                    display: inline-block;\n                }\n            \n                .model-header .hover-content {\n                    display: none;\n                    position: absolute;\n                    background-color: grey;\n                    border: 1px solid black;\n                    padding: 15px;\n                    width: 350px;\n                    z-index: 1;\n                    white-space: wrap;\n                }\n            \n                .model-header:hover .hover-content {\n                    display: block;\n                }\n            \n                .model-data {\n                    text-align: left;\n                }\n            \n                .model-spacer {\n                    width: 20px; /* Adjust this width to increase or decrease the space */\n                }\n            \n                .model-key {\n                    flex: 1;\n                    text-align: right;\n                    margin-right: 10px;\n                }\n            \n                .model-value {\n                    flex: 1;\n                    text-align: left;\n                }\n            \n                .model-header .hover-box {\n                    cursor: pointer;\n                    position: relative;\n                    display: inline-block;\n                }\n            \n                .model-header .hover-content {\n                    display: none;\n                    position: absolute;\n                    background-color: grey;\n                    border: 1px solid black;\n                    padding: 15px;\n                    width: 350px;\n                    z-index: 1;\n                    white-space: wrap;\n                }\n            \n                .model-header:hover .hover-content {\n                    display: block;\n                    }\n            \n            </style>\n            \n                        <style>\n                        .container {\n                            display: flex;\n                            justify-content: center;\n                            align-items: flex-start;\n                        }\n                        \n                        .column {\n                            display: flex;\n                            flex-direction: column;\n                            align-items: center;\n                            margin-right: 10px;\n                        }\n                        \n                        .header .hover-box {\n                            cursor: pointer;\n                            position: relative;\n                            display: inline-block;\n                        }\n                        \n                        .header .hover-content {\n                            display: none;\n                            position: absolute;\n                            background-color: grey;\n                            border: 1px solid black;\n                            padding: 15px;\n                            width: 350px;\n                            z-index: 1;\n                            white-space: wrap;\n                        }\n                        \n                        .header:hover .hover-content {\n                            display: block;\n                        }\n                        \n                        .data-cell {\n                            text-align: center;\n                            margin: 2px 0;\n                        }\n                        \n                        .red-light {\n                            color: red; /* Light shade for P>|t| < 0.05 */\n                        }\n                        \n                        .red-medium {\n                            color: darkred; /* Medium shade for P>|t| < 0.01 */\n                        }\n                        \n                        .red-deep {\n                            color: maroon; /* Deep shade for P>|t| < 0.001 */\n                        }\n                        </style>\n                        <div class='container'><div class='column'>\n                            <div class='header'>\n                                <div class=\"hover-box\">\n                                    Variable\n                                    <div class=\"hover-content\">\n                This is the independent variable in the regression model, which is the factor being manipulated \n                or changed to observe its effect on the dependent variable.\n                </div>\n                                </div>\n                            </div>\n                            <hr style='border-style: dashed; width: 100%;'><div class='data-cell'>Intercept</div><div class='data-cell'>assist</div></div><div class='column'>\n                            <div class='header'>\n                                <div class=\"hover-box\">\n                                    Coefficient\n                                    <div class=\"hover-content\">\n                This represents the coefficient estimate of the variable, indicating how much the dependent variable \n                is expected to change when the independent variable changes by one unit.\n                </div>\n                                </div>\n                            </div>\n                            <hr style='border-style: dashed; width: 100%;'><div class='data-cell'>38.938</div><div class='data-cell'>-0.183</div></div><div class='column'>\n                            <div class='header'>\n                                <div class=\"hover-box\">\n                                    Std-Error\n                                    <div class=\"hover-content\">\n                This stands for the standard error of the coefficient estimate, which measures the average distance that\n                the estimated coefficients are from the actual average value of the coefficients.\n                </div>\n                                </div>\n                            </div>\n                            <hr style='border-style: dashed; width: 100%;'><div class='data-cell'>0.389</div><div class='data-cell'>0.552</div></div><div class='column'>\n                            <div class='header'>\n                                <div class=\"hover-box\">\n                                    T-Statistic\n                                    <div class=\"hover-content\">\n                The T- Statistic helps determining whether there \n                is a significant relationship between the independent and dependent variables by comparing the estimated \n                coefficient to its standard error.\n                </div>\n                                </div>\n                            </div>\n                            <hr style='border-style: dashed; width: 100%;'><div class='data-cell'>99.982</div><div class='data-cell'>-0.332</div></div><div class='column'>\n                            <div class='header'>\n                                <div class=\"hover-box\">\n                                    P>|t|\n                                    <div class=\"hover-content\">\n                This denotes the p-value, which indicates the probability of observing the data, or something more extreme,\n                assuming the null hypothesis is true. \n                </div>\n                                </div>\n                            </div>\n                            <hr style='border-style: dashed; width: 100%;'><div class='data-cell red-deep'>0.0</div><div class='data-cell'>0.74</div></div><div class='column'>\n                            <div class='header'>\n                                <div class=\"hover-box\">\n                                    Conf. Interval\n                                    <div class=\"hover-content\">\n                The 95% CI for the coefficient estimate. If we were to take many samples and build a \n                confidence interval from each of them, 95% of these intervals would contain the true coefficient value.\n                </div>\n                                </div>\n                            </div>\n                            <hr style='border-style: dashed; width: 100%;'><div class='data-cell'>38.174 - 39.702</div><div class='data-cell'>-1.265 - 0.899</div></div></div>"
     },
     "metadata": {},
     "output_type": "display_data"
    }
   ],
   "source": [
    "age_check.summary()"
   ],
   "metadata": {
    "collapsed": false,
    "ExecuteTime": {
     "end_time": "2024-01-05T23:11:03.904760Z",
     "start_time": "2024-01-05T23:11:03.894192Z"
    }
   },
   "id": "51c998cb1c94a3e2"
  },
  {
   "cell_type": "code",
   "execution_count": 5,
   "outputs": [
    {
     "data": {
      "text/plain": "<IPython.core.display.HTML object>",
      "text/html": "<h1 style='text-align:center;'>Regression Results</h1><pre style='text-align:center; font-family:monospace;'>Dep. Variable:              age    AIC:                  12367.074\nObservations:              1616    BIC:                  12377.849\nStandard Error Type:        hc0    Adj. AIC:             12367.081\nR-squared:                  0.0    Adj. BIC:             12377.877\nAdj. R-squared:          -0.001    F-statistic:               0.11\nLog-Likelihood:       -6181.537    Prob (F-statistic):       0.741\n\n           Variable Coefficient Std-Error T-Statistic P>|t|  Conf. Interval           \n          -----------------------------------------------------------------           \n          Intercept    38.938     0.389      99.982    0.0  38.174 - 39.702           \n            assist     -0.183     0.552      -0.332    0.74  -1.265 - 0.899           \n</pre>"
     },
     "metadata": {},
     "output_type": "display_data"
    }
   ],
   "source": [
    "age_check.summary(content_type='static')"
   ],
   "metadata": {
    "collapsed": false,
    "ExecuteTime": {
     "end_time": "2024-01-05T23:12:09.163308Z",
     "start_time": "2024-01-05T23:12:09.146525Z"
    }
   },
   "id": "26d09b8ff4ad541f"
  },
  {
   "cell_type": "markdown",
   "source": [
    "We see from this quick analysis that there is no statistically significant difference between the mean age or education between treatment or control groups.  However, we do see a difference in the gender breakdown as the assist group has a slightly lower percentage of men, about 5% of a standard deviation. Lets take a deeper look at this gender difference. \n"
   ],
   "metadata": {
    "collapsed": false
   },
   "id": "126eaa15067f9400"
  },
  {
   "cell_type": "code",
   "execution_count": 5,
   "outputs": [
    {
     "name": "stdout",
     "output_type": "stream",
     "text": [
      "The data has 788 rows and 6 columns.\n"
     ]
    },
    {
     "data": {
      "text/plain": "   assist  age  educ  female   housing   mhealth\n0       0   21     1       1  0.387853 -0.348691\n1       0   54     1       1  0.274780  1.262136\n2       0   33     1       1  0.600904 -0.026526\n3       0   40     1       1  0.312471 -0.026526\n5       1   51     1       1  1.068612 -0.993022",
      "text/html": "<div>\n<style scoped>\n    .dataframe tbody tr th:only-of-type {\n        vertical-align: middle;\n    }\n\n    .dataframe tbody tr th {\n        vertical-align: top;\n    }\n\n    .dataframe thead th {\n        text-align: right;\n    }\n</style>\n<table border=\"1\" class=\"dataframe\">\n  <thead>\n    <tr style=\"text-align: right;\">\n      <th></th>\n      <th>assist</th>\n      <th>age</th>\n      <th>educ</th>\n      <th>female</th>\n      <th>housing</th>\n      <th>mhealth</th>\n    </tr>\n  </thead>\n  <tbody>\n    <tr>\n      <th>0</th>\n      <td>0</td>\n      <td>21</td>\n      <td>1</td>\n      <td>1</td>\n      <td>0.387853</td>\n      <td>-0.348691</td>\n    </tr>\n    <tr>\n      <th>1</th>\n      <td>0</td>\n      <td>54</td>\n      <td>1</td>\n      <td>1</td>\n      <td>0.274780</td>\n      <td>1.262136</td>\n    </tr>\n    <tr>\n      <th>2</th>\n      <td>0</td>\n      <td>33</td>\n      <td>1</td>\n      <td>1</td>\n      <td>0.600904</td>\n      <td>-0.026526</td>\n    </tr>\n    <tr>\n      <th>3</th>\n      <td>0</td>\n      <td>40</td>\n      <td>1</td>\n      <td>1</td>\n      <td>0.312471</td>\n      <td>-0.026526</td>\n    </tr>\n    <tr>\n      <th>5</th>\n      <td>1</td>\n      <td>51</td>\n      <td>1</td>\n      <td>1</td>\n      <td>1.068612</td>\n      <td>-0.993022</td>\n    </tr>\n  </tbody>\n</table>\n</div>"
     },
     "execution_count": 5,
     "metadata": {},
     "output_type": "execute_result"
    }
   ],
   "source": [
    "female = df[df['female'] == 1]\n",
    "print(f'The data has {female.shape[0]} rows and {female.shape[1]} columns.')\n",
    "female.head()"
   ],
   "metadata": {
    "collapsed": false,
    "ExecuteTime": {
     "end_time": "2023-12-29T11:36:35.869663Z",
     "start_time": "2023-12-29T11:36:35.850990Z"
    }
   },
   "id": "851cfa9529bbacf"
  },
  {
   "cell_type": "code",
   "execution_count": 6,
   "outputs": [
    {
     "data": {
      "text/plain": "<IPython.core.display.HTML object>",
      "text/html": "<div style='text-align: center; font-family: monospace;'><span style='display: inline-block; width: 100px;'>Variable</span><span style='display: inline-block; width: 70px;'>Model 1</span><span style='display: inline-block; width: 70px;'>Model 2</span></div><div style='text-align: center; font-family: monospace;'><span style='display: inline-block; width: 240px; border-bottom: 1px dotted;'>&nbsp;</span></div><div style='text-align: center; font-family: monospace;'><span style='display: inline-block; width: 100px;'>Intercept</span><span style='display: inline-block; width: 70px; text-align: center;'>38.496***<br><span style='font-size: 0.8em;'>(0.533)</span></span><span style='display: inline-block; width: 70px; text-align: center;'>0.747***<br><span style='font-size: 0.8em;'>(0.022)</span></span></div><div style='text-align: center; font-family: monospace;'><span style='display: inline-block; width: 100px;'>assist</span><span style='display: inline-block; width: 70px; text-align: center;'>-1.446*<br><span style='font-size: 0.8em;'>(0.769)</span></span><span style='display: inline-block; width: 70px; text-align: center;'>0.014<br><span style='font-size: 0.8em;'>(0.031)</span></span></div><div style='text-align: center; font-family: monospace;'><span style='display: inline-block; width: 240px; border-bottom: 1px dotted;'>&nbsp;</span></div><div style='text-align: center; font-family: monospace;'><span style='display: inline-block; width: 100px;'>Outcome</span><span style='display: inline-block; width: 70px; text-align: center;'>age</span><span style='display: inline-block; width: 70px; text-align: center;'>educ</span></div><div style='text-align: center; font-family: monospace;'><span style='display: inline-block; width: 240px; border-bottom: 1px dotted;'>&nbsp;</span></div><div style='text-align: center; font-family: monospace;'><span style='display: inline-block; width: 100px;'>Observations</span><span style='display: inline-block; width: 70px; text-align: center;'>788</span><span style='display: inline-block; width: 70px; text-align: center;'>788</span></div><div style='text-align: center; font-family: monospace;'><span style='display: inline-block; width: 100px;'>R^2</span><span style='display: inline-block; width: 70px; text-align: center;'>0.004</span><span style='display: inline-block; width: 70px; text-align: center;'>0.0</span></div><div style='text-align: center; font-family: monospace;'><span style='display: inline-block; width: 100px;'>Adj. R^2</span><span style='display: inline-block; width: 70px; text-align: center;'>0.003</span><span style='display: inline-block; width: 70px; text-align: center;'>-0.001</span></div><div style='text-align: center; font-family: monospace;'><span style='display: inline-block; width: 100px;'>F-statistic</span><span style='display: inline-block; width: 70px; text-align: center;'>3.528</span><span style='display: inline-block; width: 70px; text-align: center;'>0.214</span></div><div style='text-align: center; font-family: monospace;'><span style='display: inline-block; width: 100px;'>Prob (F)</span><span style='display: inline-block; width: 70px; text-align: center;'>0.061</span><span style='display: inline-block; width: 70px; text-align: center;'>0.644</span></div><div style='text-align: center; font-family: monospace;'><span style='display: inline-block; width: 240px; border-bottom: 1px dotted;'>&nbsp;</span></div><div style='text-align: center; font-family: monospace; font-size: 0.8em;'>* p < 0.1, ** p < 0.05, *** p < 0.01</div>"
     },
     "metadata": {},
     "output_type": "display_data"
    }
   ],
   "source": [
    "female_age_check = LinReg(df=female, outcome=\"age\", independent=[\"assist\"], standard_error_type='robust')\n",
    "female_educ_check = LinReg(df=female, outcome=\"educ\", independent=[\"assist\"], standard_error_type='robust')\n",
    "display_models([female_age_check,female_educ_check])"
   ],
   "metadata": {
    "collapsed": false,
    "ExecuteTime": {
     "end_time": "2023-12-29T11:36:43.274983Z",
     "start_time": "2023-12-29T11:36:43.254160Z"
    }
   },
   "id": "a7cf1638e9bcc58f"
  },
  {
   "cell_type": "markdown",
   "source": [
    "Looking at these results we do not see any statistically significant differences between the treatment and control groups.  This is good as it means that the randomization was successful.  Now lets look at the outcomes.\n"
   ],
   "metadata": {
    "collapsed": false
   },
   "id": "37e6510dfb7a9eec"
  },
  {
   "cell_type": "code",
   "execution_count": 7,
   "outputs": [
    {
     "data": {
      "text/plain": "<IPython.core.display.HTML object>",
      "text/html": "<div style='text-align: center; font-family: monospace;'><span style='display: inline-block; width: 100px;'>Variable</span><span style='display: inline-block; width: 70px;'>Model 1</span><span style='display: inline-block; width: 70px;'>Model 2</span></div><div style='text-align: center; font-family: monospace;'><span style='display: inline-block; width: 240px; border-bottom: 1px dotted;'>&nbsp;</span></div><div style='text-align: center; font-family: monospace;'><span style='display: inline-block; width: 100px;'>Intercept</span><span style='display: inline-block; width: 70px; text-align: center;'>-0.104***<br><span style='font-size: 0.8em;'>(0.037)</span></span><span style='display: inline-block; width: 70px; text-align: center;'>-0.03<br><span style='font-size: 0.8em;'>(0.036)</span></span></div><div style='text-align: center; font-family: monospace;'><span style='display: inline-block; width: 100px;'>assist</span><span style='display: inline-block; width: 70px; text-align: center;'>0.203***<br><span style='font-size: 0.8em;'>(0.05)</span></span><span style='display: inline-block; width: 70px; text-align: center;'>0.059<br><span style='font-size: 0.8em;'>(0.05)</span></span></div><div style='text-align: center; font-family: monospace;'><span style='display: inline-block; width: 240px; border-bottom: 1px dotted;'>&nbsp;</span></div><div style='text-align: center; font-family: monospace;'><span style='display: inline-block; width: 100px;'>Outcome</span><span style='display: inline-block; width: 70px; text-align: center;'>housing</span><span style='display: inline-block; width: 70px; text-align: center;'>mhealth</span></div><div style='text-align: center; font-family: monospace;'><span style='display: inline-block; width: 240px; border-bottom: 1px dotted;'>&nbsp;</span></div><div style='text-align: center; font-family: monospace;'><span style='display: inline-block; width: 100px;'>Observations</span><span style='display: inline-block; width: 70px; text-align: center;'>1616</span><span style='display: inline-block; width: 70px; text-align: center;'>1616</span></div><div style='text-align: center; font-family: monospace;'><span style='display: inline-block; width: 100px;'>R^2</span><span style='display: inline-block; width: 70px; text-align: center;'>0.01</span><span style='display: inline-block; width: 70px; text-align: center;'>0.001</span></div><div style='text-align: center; font-family: monospace;'><span style='display: inline-block; width: 100px;'>Adj. R^2</span><span style='display: inline-block; width: 70px; text-align: center;'>0.01</span><span style='display: inline-block; width: 70px; text-align: center;'>0.0</span></div><div style='text-align: center; font-family: monospace;'><span style='display: inline-block; width: 100px;'>F-statistic</span><span style='display: inline-block; width: 70px; text-align: center;'>16.777</span><span style='display: inline-block; width: 70px; text-align: center;'>1.398</span></div><div style='text-align: center; font-family: monospace;'><span style='display: inline-block; width: 100px;'>Prob (F)</span><span style='display: inline-block; width: 70px; text-align: center;'>0.0</span><span style='display: inline-block; width: 70px; text-align: center;'>0.237</span></div><div style='text-align: center; font-family: monospace;'><span style='display: inline-block; width: 240px; border-bottom: 1px dotted;'>&nbsp;</span></div><div style='text-align: center; font-family: monospace; font-size: 0.8em;'>* p < 0.1, ** p < 0.05, *** p < 0.01</div>"
     },
     "metadata": {},
     "output_type": "display_data"
    }
   ],
   "source": [
    "housing_assist = LinReg(df=df, outcome=\"housing\", independent=[\"assist\"], standard_error_type='robust')\n",
    "health_assist = LinReg(df=df, outcome=\"mhealth\", independent=[\"assist\"], standard_error_type='robust')\n",
    "display_models([housing_assist,health_assist])"
   ],
   "metadata": {
    "collapsed": false,
    "ExecuteTime": {
     "end_time": "2023-12-29T11:37:04.093612Z",
     "start_time": "2023-12-29T11:37:04.058759Z"
    }
   },
   "id": "1c5ee74f629822af"
  },
  {
   "cell_type": "markdown",
   "source": [
    "Looking at the results above we find that there is a statistically significant difference between the treatment and control groups for  housing quality.  The treatment group has a higher housing quality.  This is good news as it seems that the government assistance program was successful to some degree.  The impact is somewhat significant listing at 0.2 standard deviations.  However, the impact on mental health is not statistically significant.  This is not good news as it means that the government assistance program did not have a significant impact on mental health. Lets see if these results generalize to women as well give we saw the imbalance above.\n"
   ],
   "metadata": {
    "collapsed": false
   },
   "id": "1e41bd5997e759f6"
  },
  {
   "cell_type": "code",
   "execution_count": 9,
   "outputs": [
    {
     "data": {
      "text/plain": "<IPython.core.display.HTML object>",
      "text/html": "<div style='text-align: center; font-family: monospace;'><span style='display: inline-block; width: 100px;'>Variable</span><span style='display: inline-block; width: 70px;'>Model 1</span><span style='display: inline-block; width: 70px;'>Model 2</span></div><div style='text-align: center; font-family: monospace;'><span style='display: inline-block; width: 240px; border-bottom: 1px dotted;'>&nbsp;</span></div><div style='text-align: center; font-family: monospace;'><span style='display: inline-block; width: 100px;'>Intercept</span><span style='display: inline-block; width: 70px; text-align: center;'>-0.032<br><span style='font-size: 0.8em;'>(0.05)</span></span><span style='display: inline-block; width: 70px; text-align: center;'>-0.204***<br><span style='font-size: 0.8em;'>(0.05)</span></span></div><div style='text-align: center; font-family: monospace;'><span style='display: inline-block; width: 100px;'>assist</span><span style='display: inline-block; width: 70px; text-align: center;'>0.151**<br><span style='font-size: 0.8em;'>(0.068)</span></span><span style='display: inline-block; width: 70px; text-align: center;'>0.027<br><span style='font-size: 0.8em;'>(0.072)</span></span></div><div style='text-align: center; font-family: monospace;'><span style='display: inline-block; width: 240px; border-bottom: 1px dotted;'>&nbsp;</span></div><div style='text-align: center; font-family: monospace;'><span style='display: inline-block; width: 100px;'>Outcome</span><span style='display: inline-block; width: 70px; text-align: center;'>housing</span><span style='display: inline-block; width: 70px; text-align: center;'>mhealth</span></div><div style='text-align: center; font-family: monospace;'><span style='display: inline-block; width: 240px; border-bottom: 1px dotted;'>&nbsp;</span></div><div style='text-align: center; font-family: monospace;'><span style='display: inline-block; width: 100px;'>Observations</span><span style='display: inline-block; width: 70px; text-align: center;'>788</span><span style='display: inline-block; width: 70px; text-align: center;'>788</span></div><div style='text-align: center; font-family: monospace;'><span style='display: inline-block; width: 100px;'>R^2</span><span style='display: inline-block; width: 70px; text-align: center;'>0.006</span><span style='display: inline-block; width: 70px; text-align: center;'>0.0</span></div><div style='text-align: center; font-family: monospace;'><span style='display: inline-block; width: 100px;'>Adj. R^2</span><span style='display: inline-block; width: 70px; text-align: center;'>0.005</span><span style='display: inline-block; width: 70px; text-align: center;'>-0.001</span></div><div style='text-align: center; font-family: monospace;'><span style='display: inline-block; width: 100px;'>F-statistic</span><span style='display: inline-block; width: 70px; text-align: center;'>4.913</span><span style='display: inline-block; width: 70px; text-align: center;'>0.142</span></div><div style='text-align: center; font-family: monospace;'><span style='display: inline-block; width: 100px;'>Prob (F)</span><span style='display: inline-block; width: 70px; text-align: center;'>0.027</span><span style='display: inline-block; width: 70px; text-align: center;'>0.706</span></div><div style='text-align: center; font-family: monospace;'><span style='display: inline-block; width: 240px; border-bottom: 1px dotted;'>&nbsp;</span></div><div style='text-align: center; font-family: monospace; font-size: 0.8em;'>* p < 0.1, ** p < 0.05, *** p < 0.01</div>"
     },
     "metadata": {},
     "output_type": "display_data"
    }
   ],
   "source": [
    "female_housing_assist = LinReg(df=female, outcome=\"housing\", independent=[\"assist\"], standard_error_type='robust')\n",
    "female_health_assist = LinReg(df=female, outcome=\"mhealth\", independent=[\"assist\"], standard_error_type='robust')\n",
    "display_models([female_housing_assist, female_health_assist])"
   ],
   "metadata": {
    "collapsed": false,
    "ExecuteTime": {
     "end_time": "2023-12-29T11:37:24.775437Z",
     "start_time": "2023-12-29T11:37:24.754139Z"
    }
   },
   "id": "7fdbb13550d9b6bd"
  },
  {
   "cell_type": "markdown",
   "source": [
    "Looking at these results we see that there doesnt seem to be any difference between treatment and control in mental health scores.  However, we do see as we did above that assistance leads to better housing outcomes. Finally, lets add our control covariates. "
   ],
   "metadata": {
    "collapsed": false
   },
   "id": "5f2ba91899cc22ea"
  },
  {
   "cell_type": "code",
   "execution_count": 12,
   "outputs": [
    {
     "data": {
      "text/plain": "<IPython.core.display.HTML object>",
      "text/html": "<div style='text-align: center; font-family: monospace;'><span style='display: inline-block; width: 100px;'>Variable</span><span style='display: inline-block; width: 70px;'>Model 1</span><span style='display: inline-block; width: 70px;'>Model 2</span><span style='display: inline-block; width: 70px;'>Model 3</span><span style='display: inline-block; width: 70px;'>Model 4</span></div><div style='text-align: center; font-family: monospace;'><span style='display: inline-block; width: 380px; border-bottom: 1px dotted;'>&nbsp;</span></div><div style='text-align: center; font-family: monospace;'><span style='display: inline-block; width: 100px;'>Intercept</span><span style='display: inline-block; width: 70px; text-align: center;'>-0.104***<br><span style='font-size: 0.8em;'>(0.037)</span></span><span style='display: inline-block; width: 70px; text-align: center;'>-0.03<br><span style='font-size: 0.8em;'>(0.036)</span></span><span style='display: inline-block; width: 70px; text-align: center;'>-0.393***<br><span style='font-size: 0.8em;'>(0.097)</span></span><span style='display: inline-block; width: 70px; text-align: center;'>-0.195**<br><span style='font-size: 0.8em;'>(0.095)</span></span></div><div style='text-align: center; font-family: monospace;'><span style='display: inline-block; width: 100px;'>age</span><span style='display: inline-block; width: 70px; text-align: center;'>-<br><span style='font-size: 0.8em;'></span></span><span style='display: inline-block; width: 70px; text-align: center;'>-<br><span style='font-size: 0.8em;'></span></span><span style='display: inline-block; width: 70px; text-align: center;'>0.006**<br><span style='font-size: 0.8em;'>(0.002)</span></span><span style='display: inline-block; width: 70px; text-align: center;'>0.005**<br><span style='font-size: 0.8em;'>(0.002)</span></span></div><div style='text-align: center; font-family: monospace;'><span style='display: inline-block; width: 100px;'>assist</span><span style='display: inline-block; width: 70px; text-align: center;'>0.203***<br><span style='font-size: 0.8em;'>(0.05)</span></span><span style='display: inline-block; width: 70px; text-align: center;'>0.059<br><span style='font-size: 0.8em;'>(0.05)</span></span><span style='display: inline-block; width: 70px; text-align: center;'>0.205***<br><span style='font-size: 0.8em;'>(0.049)</span></span><span style='display: inline-block; width: 70px; text-align: center;'>0.059<br><span style='font-size: 0.8em;'>(0.05)</span></span></div><div style='text-align: center; font-family: monospace;'><span style='display: inline-block; width: 100px;'>educ</span><span style='display: inline-block; width: 70px; text-align: center;'>-<br><span style='font-size: 0.8em;'></span></span><span style='display: inline-block; width: 70px; text-align: center;'>-<br><span style='font-size: 0.8em;'></span></span><span style='display: inline-block; width: 70px; text-align: center;'>0.123**<br><span style='font-size: 0.8em;'>(0.051)</span></span><span style='display: inline-block; width: 70px; text-align: center;'>-0.057<br><span style='font-size: 0.8em;'>(0.05)</span></span></div><div style='text-align: center; font-family: monospace;'><span style='display: inline-block; width: 380px; border-bottom: 1px dotted;'>&nbsp;</span></div><div style='text-align: center; font-family: monospace;'><span style='display: inline-block; width: 100px;'>Outcome</span><span style='display: inline-block; width: 70px; text-align: center;'>housing</span><span style='display: inline-block; width: 70px; text-align: center;'>mhealth</span><span style='display: inline-block; width: 70px; text-align: center;'>housing</span><span style='display: inline-block; width: 70px; text-align: center;'>mhealth</span></div><div style='text-align: center; font-family: monospace;'><span style='display: inline-block; width: 380px; border-bottom: 1px dotted;'>&nbsp;</span></div><div style='text-align: center; font-family: monospace;'><span style='display: inline-block; width: 100px;'>Observations</span><span style='display: inline-block; width: 70px; text-align: center;'>1616</span><span style='display: inline-block; width: 70px; text-align: center;'>1616</span><span style='display: inline-block; width: 70px; text-align: center;'>1616</span><span style='display: inline-block; width: 70px; text-align: center;'>1616</span></div><div style='text-align: center; font-family: monospace;'><span style='display: inline-block; width: 100px;'>R^2</span><span style='display: inline-block; width: 70px; text-align: center;'>0.01</span><span style='display: inline-block; width: 70px; text-align: center;'>0.001</span><span style='display: inline-block; width: 70px; text-align: center;'>0.019</span><span style='display: inline-block; width: 70px; text-align: center;'>0.005</span></div><div style='text-align: center; font-family: monospace;'><span style='display: inline-block; width: 100px;'>Adj. R^2</span><span style='display: inline-block; width: 70px; text-align: center;'>0.01</span><span style='display: inline-block; width: 70px; text-align: center;'>0.0</span><span style='display: inline-block; width: 70px; text-align: center;'>0.017</span><span style='display: inline-block; width: 70px; text-align: center;'>0.003</span></div><div style='text-align: center; font-family: monospace;'><span style='display: inline-block; width: 100px;'>F-statistic</span><span style='display: inline-block; width: 70px; text-align: center;'>16.777</span><span style='display: inline-block; width: 70px; text-align: center;'>1.398</span><span style='display: inline-block; width: 70px; text-align: center;'>10.205</span><span style='display: inline-block; width: 70px; text-align: center;'>2.452</span></div><div style='text-align: center; font-family: monospace;'><span style='display: inline-block; width: 100px;'>Prob (F)</span><span style='display: inline-block; width: 70px; text-align: center;'>0.0</span><span style='display: inline-block; width: 70px; text-align: center;'>0.237</span><span style='display: inline-block; width: 70px; text-align: center;'>0.0</span><span style='display: inline-block; width: 70px; text-align: center;'>0.062</span></div><div style='text-align: center; font-family: monospace;'><span style='display: inline-block; width: 380px; border-bottom: 1px dotted;'>&nbsp;</span></div><div style='text-align: center; font-family: monospace; font-size: 0.8em;'>* p < 0.1, ** p < 0.05, *** p < 0.01</div>"
     },
     "metadata": {},
     "output_type": "display_data"
    }
   ],
   "source": [
    "housing_full = LinReg(df=df, outcome=\"housing\",\n",
    "                      independent=[\"assist\", \"educ\", 'age'],\n",
    "                      standard_error_type='robust')\n",
    "\n",
    "health_full = LinReg(df=df, outcome=\"mhealth\",\n",
    "                     independent=[\"assist\", \"educ\", 'age'],\n",
    "                     standard_error_type='robust')\n",
    "\n",
    "display_models([\n",
    "                housing_assist,\n",
    "                health_assist,\n",
    "                housing_full,\n",
    "                health_full])"
   ],
   "metadata": {
    "collapsed": false,
    "ExecuteTime": {
     "end_time": "2023-12-29T11:39:13.425816Z",
     "start_time": "2023-12-29T11:39:13.378484Z"
    }
   },
   "id": "a5b80ad40a2285b3"
  },
  {
   "cell_type": "markdown",
   "source": [
    "From the results above we see that even when controlling for the effects of age and education, the treatment group still has a statistically significant higher housing quality.  However, the treatment group still does not have a statistically significant difference in mental health scores.  This is not good news as it means that the government assistance program did not have a significant impact on mental health.  This is a good example of how randomization can be used to determine the impact of a program.  It is also a good example of how randomization can be used to determine if a program is effective.  In this case, the program was effective at improving housing quality, but not mental health.  This is important to know as it means that the program should be continued, but that it should be modified to improve mental health outcomes."
   ],
   "metadata": {
    "collapsed": false
   },
   "id": "6731f334b96be125"
  },
  {
   "cell_type": "code",
   "execution_count": null,
   "outputs": [],
   "source": [],
   "metadata": {
    "collapsed": false
   },
   "id": "bcc0b32669a806d5"
  }
 ],
 "metadata": {
  "kernelspec": {
   "display_name": "Python 3",
   "language": "python",
   "name": "python3"
  },
  "language_info": {
   "codemirror_mode": {
    "name": "ipython",
    "version": 2
   },
   "file_extension": ".py",
   "mimetype": "text/x-python",
   "name": "python",
   "nbconvert_exporter": "python",
   "pygments_lexer": "ipython2",
   "version": "2.7.6"
  }
 },
 "nbformat": 4,
 "nbformat_minor": 5
}
